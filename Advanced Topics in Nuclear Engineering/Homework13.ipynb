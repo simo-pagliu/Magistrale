{
 "cells": [
  {
   "cell_type": "markdown",
   "metadata": {},
   "source": [
    "## Homework Assignment\n",
    "\n",
    "The USA has approximately 100 GWe of installed nuclear energy generation capability. These LWR plants have been operating at an average capacity factor of 91%. Assume the enrichment of the product assay and tails assay, respectively, is 3.6% and 0.3%.\n",
    "\n",
    "Answer each of the following questions regarding the mass of waste material produced (waste rock, mill tailings solid, enrichment tails, and SNF [in terms of original mass]) at each stage of the nuclear fuel cycle by using the calculational capability found at the following website: http://www.wise-uranium.org/nfcm.html (may employ default values).\n",
    "\n",
    "a) For one year of the operation of the USA fleet of nuclear power plants.\n",
    "\n",
    "b) Over the 60-year lifetime of the operation of the USA fleet of nuclear power plants.\n",
    "\n",
    "c) Repeat calculations a) and b) by assuming the enrichment of the product assay and tails assay is 4.95%."
   ]
  },
  {
   "cell_type": "code",
   "execution_count": null,
   "metadata": {},
   "outputs": [],
   "source": [
    "\n",
    "\n",
    "# %%\n",
    "# Defining constants and given data\n",
    "installed_capacity_gwe = 100  # Installed capacity in GWe\n",
    "capacity_factor = 0.91  # 91% as a fraction\n",
    "enrichment_product_assay_1 = 3.6  # in percent\n",
    "enrichment_tails_assay_1 = 0.3  # in percent\n",
    "enrichment_product_assay_2 = 4.95  # in percent\n",
    "enrichment_tails_assay_2 = 0.3  # in percent\n",
    "lifetime_years = 60  # Lifetime of operation\n",
    "\n",
    "# Conversion factors\n",
    "days_per_year = 365.25  # Account for leap years\n",
    "hours_per_day = 24\n",
    "megawatt_to_watt = 10**6  # MW to W\n",
    "energy_conversion_mwd_to_mwh = 24  # 1 MWD = 24 MWh\n",
    "\n",
    "# Function to calculate annual energy generation\n",
    "def calculate_annual_energy(capacity_gwe, capacity_factor):\n",
    "    # Annual energy generation in GWth\n",
    "    annual_energy_gwth = capacity_gwe * capacity_factor * days_per_year * hours_per_day\n",
    "    return annual_energy_gwth\n",
    "\n",
    "print(f\"Annual energy generation: {calculate_annual_energy(installed_capacity_gwe, capacity_factor):.2f} GWh\")\n",
    "print(f\"60 years energy generation: {calculate_annual_energy(installed_capacity_gwe, capacity_factor) * lifetime_years:.2f} GWh\")"
   ]
  },
  {
   "cell_type": "markdown",
   "metadata": {},
   "source": [
    "From the website calculation we get:  \n",
    "![website calculation](website_1.png)  \n",
    "Obviously for 60 years, multiply the values by 60."
   ]
  },
  {
   "cell_type": "markdown",
   "metadata": {},
   "source": [
    "From putting the product to 4.95% at the same tails assay:  \n",
    "We recomputed the burnup to be 59.4 instead of 42 to reflect the higher enrichment  \n",
    "as we expect:  \n",
    "- Spent fuel is lower\n",
    "- Depleted waste is slightly increased\n",
    "- Waste rock is almost the same  \n",
    "![website calculation](website_second.png)  "
   ]
  }
 ],
 "metadata": {
  "kernelspec": {
   "display_name": "base",
   "language": "python",
   "name": "python3"
  },
  "language_info": {
   "codemirror_mode": {
    "name": "ipython",
    "version": 3
   },
   "file_extension": ".py",
   "mimetype": "text/x-python",
   "name": "python",
   "nbconvert_exporter": "python",
   "pygments_lexer": "ipython3",
   "version": "3.11.5"
  }
 },
 "nbformat": 4,
 "nbformat_minor": 2
}
