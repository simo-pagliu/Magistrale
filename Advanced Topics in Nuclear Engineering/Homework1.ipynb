{
 "cells": [
  {
   "cell_type": "markdown",
   "metadata": {},
   "source": [
    "# Homework 1\n",
    "a) How many 1000-MWe LWRs can the world reserves of uranium serve?  \n",
    "Consider the price category up to $80/kgU and $130/kgU, respectively.  \n",
    "\n",
    "b) Assume that each reactor needs 150 tons of natural uranium per year and has a lifetime of 30 years. \n",
    " \n",
    "Also assume annual refueling of one-third of the core.  \n",
    "Cite the source of additional information used in the solution.\n",
    "\n",
    "##### Considerations:\n",
    "This is how I modeled the fuel requirements:\n",
    "- For the first year: \n",
    "    - Initial load is 3x150 = 450 tons.\n",
    "- For the following years: \n",
    "    - Refueling requires 150 tons.\n",
    "\n",
    "Source for the uranium resources data:  \n",
    "Uranium Resources (2022 Report for IAEA & NEA, \"Uranium 2022 Resources, Production, Demand\")  \n",
    "The identified resources (Total: RAR + Inferred) are:  \n",
    "- **< 260 $/kg U**: 7.9 × 10^6 tons\n",
    "- **< 130 $/kg U**: 6.1 × 10^6 tons\n",
    "- **< 80 $/kg U**: 2.0 × 10^6 tons"
   ]
  },
  {
   "cell_type": "code",
   "execution_count": 1,
   "id": "a5f17ff1",
   "metadata": {},
   "outputs": [
    {
     "data": {
      "text/latex": [
       "$\\displaystyle  \\text{Total needed fuel for one reactor: }4800\\text{ tons of Uranium}$"
      ],
      "text/plain": [
       "<IPython.core.display.Math object>"
      ]
     },
     "metadata": {},
     "output_type": "display_data"
    }
   ],
   "source": [
    "# Output the calculations\n",
    "from IPython.display import display, Math\n",
    "\n",
    "# Initial parameters\n",
    "yearly_refueling = 150  # tons of Uranium (U)\n",
    "initial_fuel = 3*yearly_refueling     # tons of Uranium (U)\n",
    "years_of_operation = 30\n",
    "total_needed_fuel = yearly_refueling * (years_of_operation-1) + initial_fuel  # tons of Uranium (U)\n",
    "\n",
    "# Identified resources according to the cost of Uranium (U)\n",
    "resources_under_260 = 7.9 * 10**6  # tons\n",
    "resources_under_130 = 6.1 * 10**6  # tons\n",
    "resources_under_80 = 2.0 * 10**6   # tons\n",
    "\n",
    "# Display total neeeded fuel for one reactor\n",
    "display(Math(r\" \\text{Total needed fuel for one reactor: }\" + f'{total_needed_fuel}' + r\"\\text{ tons of Uranium}\"))"
   ]
  },
  {
   "cell_type": "code",
   "execution_count": 2,
   "id": "6d638eb0",
   "metadata": {},
   "outputs": [
    {
     "data": {
      "text/latex": [
       "$\\displaystyle \\text{Number of reactors under } \\$130/kgU: 1271$"
      ],
      "text/plain": [
       "<IPython.core.display.Math object>"
      ]
     },
     "metadata": {},
     "output_type": "display_data"
    },
    {
     "data": {
      "text/latex": [
       "$\\displaystyle \\text{Number of reactors under } \\$80/kgU: 417$"
      ],
      "text/plain": [
       "<IPython.core.display.Math object>"
      ]
     },
     "metadata": {},
     "output_type": "display_data"
    }
   ],
   "source": [
    "\n",
    "# Number of reactors\n",
    "reactors_under_130 = resources_under_130 / total_needed_fuel\n",
    "reactors_under_80 = resources_under_80 / total_needed_fuel\n",
    "\n",
    "# Display the results using LaTeX\n",
    "display(Math(r'\\text{Number of reactors under } \\$130/kgU: ' + f'{reactors_under_130:.0f}'))\n",
    "display(Math(r'\\text{Number of reactors under } \\$80/kgU: ' + f'{reactors_under_80:.0f}'))"
   ]
  }
 ],
 "metadata": {
  "kernelspec": {
   "display_name": "base",
   "language": "python",
   "name": "python3"
  },
  "language_info": {
   "codemirror_mode": {
    "name": "ipython",
    "version": 3
   },
   "file_extension": ".py",
   "mimetype": "text/x-python",
   "name": "python",
   "nbconvert_exporter": "python",
   "pygments_lexer": "ipython3",
   "version": "3.11.5"
  }
 },
 "nbformat": 4,
 "nbformat_minor": 2
}
