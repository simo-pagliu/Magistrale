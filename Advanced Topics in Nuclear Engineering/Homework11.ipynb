{
 "cells": [
  {
   "cell_type": "markdown",
   "metadata": {},
   "source": [
    "## Homework Assignment\n",
    "\n",
    "A 3800 MWth rated BWR wishes to operate on an equilibrium 18-month cycle with an expected capacity factor (including refueling outage) of 95%. The total core loading consists of 800 fuel assemblies containing 180 MTU. The fuel region average discharge burnup limit is 44,000 MWD/MTU, and it is determined that a four-region core should be employed.\n",
    "\n",
    "Determine the enrichment of feed fuel assemblies for each of the following approximations to the radial power distribution.\n",
    "\n",
    "a) Flat power distribution.\n",
    "\n",
    "b) Uneven power distribution, where the power distribution is given in the following table.\n",
    "\n",
    "| Number of time batch burned at BOC | Avg. relative power of batch (batch power / avg. power over core) |\n",
    "|------------------------------------|-------------------------------------------------------------------|\n",
    "| 0                                  | 0.80                                                              |\n",
    "| 1                                  | 1.30                                                              |\n",
    "| 2                                  | 1.20                                                              |\n",
    "| 3                                  | 0.70                                                              |\n"
   ]
  },
  {
   "cell_type": "code",
   "execution_count": null,
   "metadata": {},
   "outputs": [],
   "source": [
    "from IPython.display import display, Math\n",
    "import math\n",
    "\n",
    "# Defining the given data\n",
    "thermal_power = 3800  # in MWth\n",
    "refueling_cycle = 18  # in months\n",
    "capacity_factor = 95  # in percent\n",
    "total_core_loading = 800  # number of fuel assemblies\n",
    "fuel_loading_per_assembly = 180  # in MTU\n",
    "burnup_limit = 44000  # in MWD/MTU\n",
    "\n",
    "# Radial power distribution for uneven power distribution\n",
    "power_distribution = {\n",
    "    0: 0.80,\n",
    "    1: 1.30,\n",
    "    2: 1.20,\n",
    "    3: 0.70\n",
    "}\n",
    "\n",
    "# Placeholder function to calculate enrichment for flat power distribution\n",
    "def calculate_enrichment_flat(core_loading, burnup_limit):\n",
    "    # Placeholder for enrichment calculation for flat power distribution\n",
    "    # Implement based on specific requirements\n",
    "    \n",
    "    return enrichment_flat\n",
    "\n",
    "# Placeholder function to calculate enrichment for uneven power distribution\n",
    "def calculate_enrichment_uneven(core_loading, burnup_limit, power_distribution):\n",
    "    # Placeholder for enrichment calculation for uneven power distribution\n",
    "    # Implement based on specific requirements\n",
    "    \n",
    "    return enrichment_uneven\n",
    "\n",
    "# Calculate enrichment for both cases\n",
    "enrichment_flat = calculate_enrichment_flat(total_core_loading, burnup_limit)\n",
    "enrichment_uneven = calculate_enrichment_uneven(total_core_loading, burnup_limit, power_distribution)\n",
    "\n",
    "print(f\"Enrichment for Flat Power Distribution: {enrichment_flat}\")\n",
    "print(f\"Enrichment for Uneven Power Distribution: {enrichment_uneven}\")"
   ]
  }
 ],
 "metadata": {
  "kernelspec": {
   "display_name": "base",
   "language": "python",
   "name": "python3"
  },
  "language_info": {
   "name": "python",
   "version": "3.11.5"
  }
 },
 "nbformat": 4,
 "nbformat_minor": 2
}
