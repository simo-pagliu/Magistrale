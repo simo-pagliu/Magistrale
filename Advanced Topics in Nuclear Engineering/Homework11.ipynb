{
 "cells": [
  {
   "cell_type": "markdown",
   "metadata": {},
   "source": [
    "## Homework Assignment\n",
    "\n",
    "A 3800 MWth rated BWR wishes to operate on an equilibrium 18-month cycle with an expected capacity factor (including refueling outage) of 95%. The total core loading consists of 800 fuel assemblies containing 180 MTU. The fuel region average discharge burnup limit is 44,000 MWD/MTU, and it is determined that a four-region core should be employed.\n",
    "\n",
    "Determine the enrichment of feed fuel assemblies for each of the following approximations to the radial power distribution.\n",
    "\n",
    "a) Flat power distribution.\n",
    "\n",
    "b) Uneven power distribution, where the power distribution is given in the following table.\n",
    "\n",
    "| Number of time batch burned at BOC | Avg. relative power of batch (batch power / avg. power over core) |\n",
    "|------------------------------------|-------------------------------------------------------------------|\n",
    "| 0                                  | 0.80                                                              |\n",
    "| 1                                  | 1.30                                                              |\n",
    "| 2                                  | 1.20                                                              |\n",
    "| 3                                  | 0.70                                                              |\n",
    "---\n",
    "\n",
    "The following table provides reactivity as a function of burnup (BU) and enrichment. Interpolate or extrapolate as needed to determine the batch reactivity as a function of feed enrichment. Utilize a non-leakage probability L = 0.96 and target k_EOC = 1.005.\n",
    "\n",
    "| BU (GWD/MTU) \\ Enrichment (%) | 2.1  | 2.6  | 3.1  | 3.6  | 4.1  | 4.6  |\n",
    "|-------------------------------|-------|-------|-------|-------|-------|-------|\n",
    "| 0                             | 1.120 | 1.170 | 1.220 | 1.270 | 1.320 | 1.370 |\n",
    "| 10                            | 1.000 | 1.050 | 1.100 | 1.150 | 1.200 | 1.250 |\n",
    "| 20                            | 0.900 | 0.950 | 1.000 | 1.050 | 1.100 | 1.150 |\n",
    "| 30                            | 0.840 | 0.890 | 0.940 | 0.990 | 1.040 | 1.090 |\n",
    "| 40                            | 0.790 | 0.840 | 0.890 | 0.940 | 0.990 | 1.040 |\n",
    "| 50                            | 0.720 | 0.773 | 0.825 | 0.878 | 0.930 | 0.983 |\n",
    "| 60                            | 0.640 | 0.690 | 0.740 | 0.790 | 0.840 | 0.890 |\n"
   ]
  },
  {
   "cell_type": "code",
   "execution_count": 2,
   "metadata": {},
   "outputs": [
    {
     "name": "stdout",
     "output_type": "stream",
     "text": [
      "Interpolated reactivity: 0.960\n"
     ]
    }
   ],
   "source": [
    "from IPython.display import display, Math\n",
    "import math\n",
    "import numpy as np\n",
    "\n",
    "# Defining the given data\n",
    "thermal_power = 3800  # in MWth\n",
    "refueling_cycle = 18  # in months\n",
    "capacity_factor = 0.95  # in percent\n",
    "total_core_loading = 800  # number of fuel assemblies\n",
    "core_mass = 180  # in MTU\n",
    "burnup_limit = 44000  # in MWD/MTU\n",
    "num_regions = 4  # number of radial regions\n",
    "\n",
    "# Radial power distribution for uneven power distribution\n",
    "power_distribution = {\n",
    "    0: 0.80,\n",
    "    1: 1.30,\n",
    "    2: 1.20,\n",
    "    3: 0.70\n",
    "}\n",
    "\n",
    "# Burnup and enrichment data from the table\n",
    "burnup_values = [0, 10, 20, 30, 40, 50, 60]  # BU (GWD/MTU)\n",
    "enrichment_levels = [2.1, 2.6, 3.1, 3.6, 4.1, 4.6]  # Enrichment (%)\n",
    "\n",
    "reactivity_table = np.array([\n",
    "    [1.120, 1.170, 1.220, 1.270, 1.320, 1.370],\n",
    "    [1.000, 1.050, 1.100, 1.150, 1.200, 1.250],\n",
    "    [0.900, 0.950, 1.000, 1.050, 1.100, 1.150],\n",
    "    [0.840, 0.890, 0.940, 0.990, 1.040, 1.090],\n",
    "    [0.790, 0.840, 0.890, 0.940, 0.990, 1.040],\n",
    "    [0.720, 0.773, 0.825, 0.878, 0.930, 0.983],\n",
    "    [0.640, 0.690, 0.740, 0.790, 0.840, 0.890],\n",
    "])\n",
    "\n",
    "# Interpolation function for reactivity based on BU and enrichment\n",
    "def interpolate_reactivity(burnup, enrichment):\n",
    "    # Ensure burnup and enrichment are within bounds of the table\n",
    "    if burnup < min(burnup_values) or burnup > max(burnup_values):\n",
    "        raise ValueError(\"Burnup value is out of bounds for interpolation.\")\n",
    "    if enrichment < min(enrichment_levels) or enrichment > max(enrichment_levels):\n",
    "        raise ValueError(\"Enrichment value is out of bounds for interpolation.\")\n",
    "\n",
    "    # Interpolate in two steps: burnup first, then enrichment\n",
    "    burnup_index = np.searchsorted(burnup_values, burnup) - 1\n",
    "    enrichment_index = np.searchsorted(enrichment_levels, enrichment) - 1\n",
    "\n",
    "    # Extract surrounding points for burnup and enrichment\n",
    "    bu1, bu2 = burnup_values[burnup_index], burnup_values[burnup_index + 1]\n",
    "    en1, en2 = enrichment_levels[enrichment_index], enrichment_levels[enrichment_index + 1]\n",
    "\n",
    "    r1 = reactivity_table[burnup_index, enrichment_index]\n",
    "    r2 = reactivity_table[burnup_index + 1, enrichment_index]\n",
    "    r3 = reactivity_table[burnup_index, enrichment_index + 1]\n",
    "    r4 = reactivity_table[burnup_index + 1, enrichment_index + 1]\n",
    "\n",
    "    # Interpolate\n",
    "    r_bu = r1 + (r2 - r1) * (burnup - bu1) / (bu2 - bu1)\n",
    "    r_en = r3 + (r4 - r3) * (burnup - bu1) / (bu2 - bu1)\n",
    "    return r_bu + (r_en - r_bu) * (enrichment - en1) / (en2 - en1)\n",
    "\n",
    "# Example usage\n",
    "try:\n",
    "    reactivity = interpolate_reactivity(25, 3.0)  # Example: burnup=25, enrichment=3.0\n",
    "    print(f\"Interpolated reactivity: {reactivity:.3f}\")\n",
    "except ValueError as e:\n",
    "    print(e)"
   ]
  },
  {
   "cell_type": "code",
   "execution_count": 3,
   "metadata": {},
   "outputs": [
    {
     "data": {
      "text/plain": [
       "'Cycle burnup: 10830.00 MWd/tU'"
      ]
     },
     "metadata": {},
     "output_type": "display_data"
    }
   ],
   "source": [
    "# Total energy production\n",
    "Tot_energy = capacity_factor * thermal_power * refueling_cycle * 30\n",
    "\n",
    "# Cycle burnup\n",
    "Bu_cycle = Tot_energy / core_mass\n",
    "display(f\"Cycle burnup: {Bu_cycle:.2f} MWd/tU\")"
   ]
  },
  {
   "cell_type": "markdown",
   "metadata": {},
   "source": [
    "## Cycle energy production\n",
    "$$\n",
    "\\rho (Bu) = \\frac{1}{N} \\sum _i \\rho _0 \\left(  1 - (i-1) \\frac{BU_{cycle}}{BU_{1}} - \\frac{Bu}{BU_{1}} \\right)\n",
    "$$\n",
    "\n",
    "Where $BU_1$ is the burnup of the core if it was just 1 region and can be computed from\n",
    "$$\n",
    "Bu_{cycle} = \\frac{2}{N+1} BU_1\n",
    "$$"
   ]
  },
  {
   "cell_type": "code",
   "execution_count": 4,
   "metadata": {},
   "outputs": [
    {
     "name": "stdout",
     "output_type": "stream",
     "text": [
      "1-region equivalent core burnup: 27075.00 MWd/tU\n"
     ]
    }
   ],
   "source": [
    "# 1-region equivalent core Burnup\n",
    "Bu_1 = Bu_cycle * (num_regions + 1) / 2\n",
    "print(f\"1-region equivalent core burnup: {Bu_1:.2f} MWd/tU\")"
   ]
  },
  {
   "cell_type": "code",
   "execution_count": 5,
   "metadata": {},
   "outputs": [
    {
     "name": "stdout",
     "output_type": "stream",
     "text": [
      "Initial enrichment of the fuel: 3.70 %\n"
     ]
    }
   ],
   "source": [
    "# We have a numerical correlation to evaluate the initial enrichment of the fuel\n",
    "def calculate_xp(Bu1):\n",
    "    \"\"\"\n",
    "    Calculate xp based on the given formula.\n",
    "    \n",
    "    Parameters:\n",
    "    BUd (float): Value of BUd\n",
    "    Nr (int): Value of Nr\n",
    "    \n",
    "    Returns:\n",
    "    float: The calculated xp\n",
    "    \"\"\"\n",
    "    # Constants\n",
    "    a = 0.41201\n",
    "    b = 0.11508\n",
    "    c = 0.00023937\n",
    "\n",
    "    # Calculate xp\n",
    "    xp = a + b * Bu1 + c * (Bu1 ** 2)\n",
    "    return xp\n",
    "\n",
    "enrichment = calculate_xp(Bu_1/1000) # Convert Bu_1 to GWd/tU\n",
    "print(f\"Initial enrichment of the fuel: {enrichment:.2f} %\")"
   ]
  },
  {
   "cell_type": "code",
   "execution_count": 6,
   "metadata": {},
   "outputs": [
    {
     "name": "stdout",
     "output_type": "stream",
     "text": [
      "Initial enrichment of the fuel for region 0: 3.02 %\n",
      "Initial enrichment of the fuel for region 1: 4.76 %\n",
      "Initial enrichment of the fuel for region 2: 4.40 %\n",
      "Initial enrichment of the fuel for region 3: 2.68 %\n"
     ]
    }
   ],
   "source": [
    "Bu_region_0 = Bu_1 * 0.8\n",
    "Bu_region_1 = Bu_1 * 1.3\n",
    "Bu_region_2 = Bu_1 * 1.2\n",
    "Bu_region_3 = Bu_1 * 0.7\n",
    "\n",
    "enrichment_0 = calculate_xp(Bu_region_0/1000) # Convert Bu_region_0 to GWd/tU\n",
    "enrichment_1 = calculate_xp(Bu_region_1/1000) # Convert Bu_region_1 to GWd/tU\n",
    "enrichment_2 = calculate_xp(Bu_region_2/1000) # Convert Bu_region_2 to GWd/tU\n",
    "enrichment_3 = calculate_xp(Bu_region_3/1000) # Convert Bu_region_3 to GWd/tU\n",
    "\n",
    "print(f\"Initial enrichment of the fuel for region 0: {enrichment_0:.2f} %\")\n",
    "print(f\"Initial enrichment of the fuel for region 1: {enrichment_1:.2f} %\")\n",
    "print(f\"Initial enrichment of the fuel for region 2: {enrichment_2:.2f} %\")\n",
    "print(f\"Initial enrichment of the fuel for region 3: {enrichment_3:.2f} %\")\n"
   ]
  }
 ],
 "metadata": {
  "kernelspec": {
   "display_name": "base",
   "language": "python",
   "name": "python3"
  },
  "language_info": {
   "codemirror_mode": {
    "name": "ipython",
    "version": 3
   },
   "file_extension": ".py",
   "mimetype": "text/x-python",
   "name": "python",
   "nbconvert_exporter": "python",
   "pygments_lexer": "ipython3",
   "version": "3.11.5"
  }
 },
 "nbformat": 4,
 "nbformat_minor": 2
}
