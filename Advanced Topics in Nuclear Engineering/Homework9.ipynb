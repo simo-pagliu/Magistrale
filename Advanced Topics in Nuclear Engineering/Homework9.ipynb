{
 "cells": [
  {
   "cell_type": "markdown",
   "metadata": {},
   "source": [
    "## Homework Assignment\n",
    "\n",
    "Using the same data provided in the last problem:\n",
    "\n",
    "a. Develop the cycling scheme with a warranted discharge burnup limit of 50,000 MWD/MTU.\n",
    "\n",
    "b. Determine the End-of-Cycle (EOC) core average burnup for the cycling schemes developed for the last problem and part a. Assuming a uniform power distribution at all times.\n",
    "\n",
    "c. Indicate how one would expect fuel cycle costs to behave as a function of the discharge burnup limit and why.\n"
   ]
  },
  {
   "cell_type": "code",
   "execution_count": null,
   "metadata": {},
   "outputs": [],
   "source": [
    "from IPython.display import display, Math\n",
    "import math\n",
    "\n",
    "# Defining the additional data\n",
    "discharge_burnup_limit = 50000  # in MWD/MTU\n",
    "\n",
    "# Data from the previous problem\n",
    "cycle_lengths = [4.5, 10.5, 16.5]  # in months\n",
    "fuel_cycle_costs = [4.5, 5.0, 5.6]  # in mills/kWHe\n",
    "capacity_factors = [98, 94, 90]  # in percent\n",
    "\n",
    "# Placeholder function to calculate the cycling scheme based on burnup limit\n",
    "def develop_cycling_scheme(cycle_length, burnup_limit):\n",
    "    # Placeholder for cycling scheme calculation\n",
    "    # Implement based on specific requirements\n",
    "    \n",
    "    return cycling_scheme\n",
    "\n",
    "# Placeholder function to calculate EOC core average burnup\n",
    "def calculate_eoc_burnup(cycle_length, capacity_factor):\n",
    "    # Placeholder for burnup calculation\n",
    "    # Implement based on specific requirements\n",
    "    \n",
    "    return eoc_burnup\n",
    "\n",
    "# Example loop to calculate cycling schemes and EOC burnup for each cycle length\n",
    "for i in range(len(cycle_lengths)):\n",
    "    cycle_length = cycle_lengths[i]\n",
    "    capacity_factor = capacity_factors[i]\n",
    "    \n",
    "    cycling_scheme = develop_cycling_scheme(cycle_length, discharge_burnup_limit)\n",
    "    eoc_burnup = calculate_eoc_burnup(cycle_length, capacity_factor)\n",
    "    \n",
    "    print(f\"Cycle length: {cycle_length} months\")\n",
    "    print(f\"  Cycling Scheme: {cycling_scheme}\")\n",
    "    print(f\"  EOC Core Average Burnup: {eoc_burnup} MWD/MTU\")\n"
   ]
  }
 ],
 "metadata": {
  "kernelspec": {
   "display_name": "base",
   "language": "python",
   "name": "python3"
  },
  "language_info": {
   "name": "python",
   "version": "3.11.5"
  }
 },
 "nbformat": 4,
 "nbformat_minor": 2
}
