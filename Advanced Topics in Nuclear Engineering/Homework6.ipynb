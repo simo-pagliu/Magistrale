{
 "cells": [
  {
   "cell_type": "markdown",
   "metadata": {},
   "source": [
    "## Homework Assignment\n",
    "\n",
    "A 2500 MWth PWR unit is to be operated in an equilibrium reload cycle fashion employing an 18-month refueling cycle with an anticipated 90% capacity factor. Use the following data to determine:\n",
    "\n",
    "a) Beginning-of-cycle (BOC) core average reactivity required  \n",
    "b) Number of burnable poison (BP) rods, if any, required\n",
    "\n",
    "Assume total core loading of 65 MTU and no control rods are inserted at full power.\n",
    "\n",
    "- The rate of change of core reactivity with core burnup (BU) without BP rods is  \n",
    "  \\begin{equation*}\n",
    "  \\frac{d\\rho}{dBU} = -0.0012 \\, \\frac{\\% \\Delta \\rho}{\\text{MWD/T}}\n",
    "  \\end{equation*}\n",
    "\n",
    "- BP reactivity worth at BOC: $ \\rho_{BP} = 0.004\\% \\Delta \\rho $ per BP rod\n",
    "- Rate of change of BP reactivity with core BU  \n",
    "  \\begin{equation*}\n",
    "  \\frac{d\\rho}{dBU} = -0.000085 \\rho_{BP} \\, \\frac{\\% \\Delta \\rho}{\\text{MWD/T}}\n",
    "  \\end{equation*}\n",
    "\n",
    "- Soluble boron reactivity worth = 0.01% $ \\Delta \\rho $ / ppm\n",
    "- Moderator temperature coefficient (MTC) = 0 at 1800 ppm soluble boron\n"
   ]
  },
  {
   "cell_type": "code",
   "execution_count": null,
   "metadata": {},
   "outputs": [],
   "source": [
    "from IPython.display import display, Math\n",
    "import math\n",
    "\n",
    "# Defining the constants and parameters\n",
    "thermal_power = 2500  # in MWth\n",
    "refueling_cycle = 18  # in months\n",
    "capacity_factor = 90  # in percent\n",
    "core_loading = 65  # in MTU\n",
    "d_rho_d_burnup_no_bp = -0.0012  # in %Δρ per MWD/T without BP rods\n",
    "bp_reactivity_worth = 0.004  # %Δρ per BP rod at BOC\n",
    "d_rho_d_burnup_bp = -0.000085  # %Δρ per MWD/T per BP rod\n",
    "boron_reactivity_worth = 0.01  # %Δρ per ppm soluble boron\n",
    "mtc_at_1800_ppm = 0  # Moderator temperature coefficient at 1800 ppm\n",
    "\n",
    "# Placeholder function to calculate BOC core average reactivity\n",
    "def calculate_boc_reactivity(core_loading, d_rho_d_burnup_no_bp, burnup_limit):\n",
    "    # Placeholder for reactivity calculation\n",
    "    # Implement based on specific requirements\n",
    "    \n",
    "    return boc_reactivity\n",
    "\n",
    "# Placeholder function to determine the number of BP rods needed\n",
    "def calculate_bp_rods(boc_reactivity, bp_reactivity_worth):\n",
    "    # Placeholder for BP rod calculation\n",
    "    # Implement based on specific requirements\n",
    "    \n",
    "    return num_bp_rods\n",
    "\n",
    "# Calculate BOC reactivity and BP rods required\n",
    "boc_reactivity = calculate_boc_reactivity(core_loading, d_rho_d_burnup_no_bp, refueling_cycle)\n",
    "num_bp_rods = calculate_bp_rods(boc_reactivity, bp_reactivity_worth)\n",
    "\n",
    "print(f\"BOC Core Average Reactivity Required: {boc_reactivity} %Δρ\")\n",
    "print(f\"Number of BP rods required: {num_bp_rods}\")\n"
   ]
  }
 ],
 "metadata": {
  "language_info": {
   "name": "python"
  }
 },
 "nbformat": 4,
 "nbformat_minor": 2
}
