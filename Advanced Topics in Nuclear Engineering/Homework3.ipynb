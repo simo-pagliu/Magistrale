{
 "cells": [
  {
   "cell_type": "markdown",
   "id": "bca348a6",
   "metadata": {},
   "source": [
    "\n",
    "## Homework Problem\n",
    "\n",
    "Answer each of the following questions for an ideal cascade gaseous diffusion enrichment plant for two tail assay enrichment, 0.2 wt.% and 0.3 wt.% separately. You can ignore U losses during various process steps.\n",
    "\n",
    "a) What are the required number of enriching and stripping sections? What is the total number of stages?  \n",
    "b) How many SWUs are required?  \n",
    "c) What is the energy consumption in producing the enriched material?  \n",
    "d) How much does it cost (ore + conversion + enrichment) per year to produce the enriched material?\n",
    "\n",
    "### Data\n",
    "- One 1000 MWe PWR requires 22 MTU of 5.0 wt.% per year.\n",
    "- Heads Separation Factor: $ \\beta = 1.003 $\n",
    "- Enrichment plant energy consumption feed material = 1.8 MWh/kg-SWU\n",
    "- Feed material = 0.71 wt.%\n",
    "\n",
    "### Cost estimate\n",
    "- Ore: $ \\$ 25 / \\text{lb-U}_3\\text{O}_8 $ (yellowcake)\n",
    "- Conversion: $ \\$ 8 / \\text{kg-U} $ Produced as UF6\n",
    "- Enrichment: $ \\$ 50 / \\text{SWU} $\n"
   ]
  },
  {
   "cell_type": "code",
   "execution_count": 49,
   "id": "a1f0d49e",
   "metadata": {},
   "outputs": [
    {
     "name": "stdout",
     "output_type": "stream",
     "text": [
      "0.05329681904360649 0.007242070486800092 0.00203412928244336\n",
      "0.05329681904360649 0.007242070486800092 0.0030492697801316\n"
     ]
    },
    {
     "data": {
      "text/latex": [
       "$\\displaystyle \\text{For the case in which the waste has enrichment }0.20\\% \\\\ \\text{Number of enriching stages: }666\\text{ Number of stripping stages: }423\\text{ Total number of stages: }1089$"
      ],
      "text/plain": [
       "<IPython.core.display.Math object>"
      ]
     },
     "metadata": {},
     "output_type": "display_data"
    },
    {
     "data": {
      "text/latex": [
       "$\\displaystyle \\text{For the case in which the waste has enrichment }0.30\\% \\\\ \\text{Number of enriching stages: }666\\text{ Number of stripping stages: }288\\text{ Total number of stages: }954$"
      ],
      "text/plain": [
       "<IPython.core.display.Math object>"
      ]
     },
     "metadata": {},
     "output_type": "display_data"
    }
   ],
   "source": [
    "from IPython.display import display, Math\n",
    "import math\n",
    "\n",
    "# Constants - enrichment has to be converted to molar fractions !!!\n",
    "beta = 1.003  # Heads Separation Factor\n",
    "x_p = 5.06 / 100  # Product enrichment (5.0 mol%)\n",
    "x_t_1 = 0.203 / 100  # Tails enrichment 1 (0.2 mol%)\n",
    "x_t_2 = 0.304 / 100  # Tails enrichment 2 (0.3 mol%)\n",
    "x_f = 0.719 / 100  # Feed enrichment (0.71 mol%)\n",
    "P = 22000  # Production amount in kg\n",
    "\n",
    "# Calculate Abundance Ratios N_p (enriching stages) and N_w (stripping stages) for both tail enrichments\n",
    "def calculate_stages(x_t):\n",
    "    R_p = x_p / (1 - x_p)\n",
    "    R_f = x_f / (1 - x_f)\n",
    "    R_w = x_t / (1 - x_t)\n",
    "    print(R_p, R_f, R_w)\n",
    "    \n",
    "    # Number of enriching sections Np\n",
    "    N_p = math.log(R_p / R_f) / math.log(beta)\n",
    "    \n",
    "    # Number of stripping sections Nw\n",
    "    N_w = math.log(R_f / R_w) / math.log(beta) - 1\n",
    "    \n",
    "    # Total number of stages\n",
    "    N_total = N_p + N_w\n",
    "    \n",
    "    return N_p, N_w, N_total\n",
    "\n",
    "# Calculate for both tail enrichments\n",
    "N_p_1, N_w_1, N_total_1 = calculate_stages(x_t_1)\n",
    "N_p_2, N_w_2, N_total_2 = calculate_stages(x_t_2)\n",
    "\n",
    "N_p_1, N_w_1, N_total_1, N_p_2, N_w_2, N_total_2\n",
    "\n",
    "\n",
    "# Display results\n",
    "display(Math(r'\\text{For the case in which the waste has enrichment }' + f'{x_t_1*100:.2f}' + r'\\% \\\\ \\text{Number of enriching stages: }' + f'{N_p_1:.0f}' + r'\\text{ Number of stripping stages: }' + f'{N_w_1:.0f}' + r'\\text{ Total number of stages: }' + f'{N_total_1:.0f}'))\n",
    "display(Math(r'\\text{For the case in which the waste has enrichment }' + f'{x_t_2*100:.2f}' + r'\\% \\\\ \\text{Number of enriching stages: }' + f'{N_p_2:.0f}' + r'\\text{ Number of stripping stages: }' + f'{N_w_2:.0f}' + r'\\text{ Total number of stages: }' + f'{N_total_2:.0f}'))\n"
   ]
  },
  {
   "cell_type": "code",
   "execution_count": 50,
   "id": "16bb2736",
   "metadata": {},
   "outputs": [
    {
     "data": {
      "text/latex": [
       "$\\displaystyle \\text{For the case in which the waste has enrichment }0.20\\% \\\\ \\text{SWU: }194602\\\\ \\text{ Energy consumption: }350283\\text{ MWh}$"
      ],
      "text/plain": [
       "<IPython.core.display.Math object>"
      ]
     },
     "metadata": {},
     "output_type": "display_data"
    },
    {
     "data": {
      "text/latex": [
       "$\\displaystyle \\text{For the case in which the waste has enrichment }0.30\\% \\\\ \\text{SWU: }158382\\\\ \\text{ Energy consumption: }285087\\text{ MWh}$"
      ],
      "text/plain": [
       "<IPython.core.display.Math object>"
      ]
     },
     "metadata": {},
     "output_type": "display_data"
    }
   ],
   "source": [
    "# Function for V(x)\n",
    "def V(x):\n",
    "    return (2 * x - 1) * math.log(x / (1 - x))\n",
    "V_p = V(x_p)\n",
    "V_f = V(x_f)\n",
    "\n",
    "def SWU(x_t):\n",
    "    W = P * ((x_p - x_f) / (x_f - x_t)) # U235 Conservation\n",
    "    F = W + P # Total mass conservation\n",
    "    return [P * V_p + W * V(x_t) - F * V_f, F]\n",
    "\n",
    "SWU_1 = SWU(x_t_1)[0]\n",
    "SWU_2 = SWU(x_t_2)[0]\n",
    "SWU_1, SWU_2\n",
    "\n",
    "# Energy consumption per SWU\n",
    "energy_per_swu = 1.8  # MWh per SWU\n",
    "\n",
    "# Calculate energy consumption for each case\n",
    "energy_consumption_1 = SWU_1 * energy_per_swu\n",
    "energy_consumption_2 = SWU_2 * energy_per_swu\n",
    "\n",
    "energy_consumption_1, energy_consumption_2\n",
    "\n",
    "# Display results\n",
    "display(Math(r'\\text{For the case in which the waste has enrichment }' + f'{x_t_1*100:.2f}' + r'\\% \\\\ \\text{SWU: }' + f'{SWU_1:.0f}' + r'\\\\ \\text{ Energy consumption: }' + f'{energy_consumption_1:.0f}' + r'\\text{ MWh}'))\n",
    "display(Math(r'\\text{For the case in which the waste has enrichment }' + f'{x_t_2*100:.2f}' + r'\\% \\\\ \\text{SWU: }' + f'{SWU_2:.0f}' + r'\\\\ \\text{ Energy consumption: }' + f'{energy_consumption_2:.0f}' + r'\\text{ MWh}'))\n"
   ]
  },
  {
   "cell_type": "code",
   "execution_count": 51,
   "id": "f9cf27f1",
   "metadata": {},
   "outputs": [
    {
     "data": {
      "text/latex": [
       "$\\displaystyle \\text{For the case in which the waste has enrichment }0.20\\% \\\\ \\text{Total cost: }25.6\\text{MLN USD}$"
      ],
      "text/plain": [
       "<IPython.core.display.Math object>"
      ]
     },
     "metadata": {},
     "output_type": "display_data"
    },
    {
     "data": {
      "text/latex": [
       "$\\displaystyle \\text{For the case in which the waste has enrichment }0.30\\% \\\\ \\text{Total cost: }27.3\\text{MLN USD}$"
      ],
      "text/plain": [
       "<IPython.core.display.Math object>"
      ]
     },
     "metadata": {},
     "output_type": "display_data"
    }
   ],
   "source": [
    "\n",
    "# Constants\n",
    "cost_ore_per_lb = 25  # $/lb for U3O8\n",
    "conversion_cost_per_kg = 8  # $/kg for UF6 conversion\n",
    "enrichment_cost_per_swu = 50  # $/SWU\n",
    "\n",
    "# Convert ore cost to $/kg (1 kg = 2.20462 lb)\n",
    "cost_ore_per_kg = cost_ore_per_lb * 2.20462\n",
    "\n",
    "def cost(x_t):\n",
    "    # Compute moles of Uranium\n",
    "    moles_U = SWU(x_t)[1] / 238 # Approximate molar mass of U\n",
    "\n",
    "    # Kg of U3O8\n",
    "    kg_U3O8 = moles_U* (238*3 + 16*8)/3\n",
    "\n",
    "    # Kg of UF6\n",
    "    kg_UF6 = moles_U * (238 + 6*19)\n",
    "\n",
    "    cost = kg_U3O8 * cost_ore_per_kg + kg_UF6 * conversion_cost_per_kg + SWU(x_t)[0] * enrichment_cost_per_swu\n",
    "    return cost\n",
    "\n",
    "tot_cost_1 = cost(x_t_1)\n",
    "tot_cost_2 = cost(x_t_2)\n",
    "\n",
    "# Display results\n",
    "display(Math(r'\\text{For the case in which the waste has enrichment }' + f'{x_t_1*100:.2f}' + r'\\% \\\\ \\text{Total cost: }' + f'{tot_cost_1*1e-6:.1f}' + r'\\text{MLN USD}')) \n",
    "display(Math(r'\\text{For the case in which the waste has enrichment }' + f'{x_t_2*100:.2f}' + r'\\% \\\\ \\text{Total cost: }' + f'{tot_cost_2*1e-6:.1f}' + r'\\text{MLN USD}')) \n",
    "\n"
   ]
  }
 ],
 "metadata": {
  "kernelspec": {
   "display_name": "base",
   "language": "python",
   "name": "python3"
  },
  "language_info": {
   "codemirror_mode": {
    "name": "ipython",
    "version": 3
   },
   "file_extension": ".py",
   "mimetype": "text/x-python",
   "name": "python",
   "nbconvert_exporter": "python",
   "pygments_lexer": "ipython3",
   "version": "3.11.5"
  }
 },
 "nbformat": 4,
 "nbformat_minor": 5
}
