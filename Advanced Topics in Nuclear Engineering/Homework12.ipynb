{
 "cells": [
  {
   "cell_type": "markdown",
   "metadata": {},
   "source": [
    "## Homework Assignment\n",
    "\n",
    "Which is more dangerous, 10 Ci of 90Sr or 50 mCi of 239Pu? \n",
    "The maximum permissible concentration in air for these two isotopes are \n",
    "3×10^-10 µCi/cm^3 and 5×10^-12 µCi/cm^3, respectively."
   ]
  },
  {
   "cell_type": "code",
   "execution_count": null,
   "metadata": {},
   "outputs": [],
   "source": [
    "# %%\n",
    "# Defining the data\n",
    "activity_sr90 = 10  # in Ci\n",
    "activity_pu239 = 50 * 10**-3  # in Ci (converted from mCi)\n",
    "\n",
    "max_concentration_sr90 = 3 * 10**-10  # in µCi/cm^3\n",
    "max_concentration_pu239 = 5 * 10**-12  # in µCi/cm^3\n",
    "\n",
    "# Conversion factor from Ci to µCi\n",
    "ci_to_uci = 10**6\n",
    "\n",
    "# Function to calculate the volume of air needed to dilute the activity\n",
    "def calculate_danger(activity, max_concentration):\n",
    "    # Convert activity from Ci to µCi\n",
    "    activity_uci = activity * ci_to_uci  # in µCi\n",
    "    \n",
    "    # Calculate the volume of air required to dilute the activity\n",
    "    required_volume = activity_uci / max_concentration  # in cm^3\n",
    "    return required_volume\n",
    "\n",
    "# Calculate the volume of air required for each isotope\n",
    "volume_sr90 = calculate_danger(activity_sr90, max_concentration_sr90)\n",
    "volume_pu239 = calculate_danger(activity_pu239, max_concentration_pu239)\n",
    "\n",
    "# Print the results\n",
    "print(f\"Volume of air required to dilute 90Sr (10 Ci) to permissible levels: {volume_sr90:.2e} cm³\")\n",
    "print(f\"Volume of air required to dilute 239Pu (50 mCi) to permissible levels: {volume_pu239:.2e} cm³\")\n",
    "\n",
    "# Determine which is more dangerous\n",
    "if volume_sr90 > volume_pu239:\n",
    "    print(\"90Sr is more dangerous as it requires more air for dilution.\")\n",
    "else:\n",
    "    print(\"239Pu is more dangerous as it requires more air for dilution.\")\n"
   ]
  }
 ],
 "metadata": {
  "language_info": {
   "name": "python"
  }
 },
 "nbformat": 4,
 "nbformat_minor": 2
}
