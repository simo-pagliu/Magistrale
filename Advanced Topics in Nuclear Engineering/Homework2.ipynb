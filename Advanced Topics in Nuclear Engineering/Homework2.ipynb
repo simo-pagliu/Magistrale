{
 "cells": [
  {
   "cell_type": "markdown",
   "id": "1b63b07c",
   "metadata": {},
   "source": [
    "# Homework 2\n",
    "\n",
    "Several natural nuclear fission reactors were discovered in Oklo, Gabon, which dated back to 1.8 billion years ago.\n",
    "\n",
    "a) What was the enrichment of U235 at that time?  \n",
    "b) Calculate the SWU factor assuming tails of 0.2% and 4.75% enriched product.  \n",
    "c) Compare the SWU factor calculated in b) with that obtained at present time.\n"
   ]
  },
  {
   "cell_type": "code",
   "execution_count": 5,
   "id": "529ce2a9",
   "metadata": {},
   "outputs": [],
   "source": [
    "from IPython.display import display, Math\n",
    "import math\n",
    "\n",
    "# Constants based on the user's notes\n",
    "E_today = 0.711  # [%] Enrichment today in percent\n",
    "\n",
    "# Time variables\n",
    "T = 1.8 * 10**9  # Years ago\n",
    "lambda_235 = 9.72 * 10**-10  # Decay constant for U-238\n",
    "lambda_238 = 1.54 * 10**-10  # Decay constant for U-235"
   ]
  },
  {
   "cell_type": "markdown",
   "id": "1dc9c28a",
   "metadata": {},
   "source": [
    "\\begin{equation}\n",
    "N = N_0 e^{-\\lambda t} \\\\\n",
    "\\end{equation}\n",
    "\n",
    "\\begin{equation}\n",
    "    \\frac{N}{N_0} = e^{-\\lambda t}\n",
    "\\end{equation}\n",
    "\n",
    "From which we can get the ratios $R_{235}$ and $R_{238}$.\n",
    "\n",
    "\\begin{equation}\n",
    "    E = \\frac{N_{235}}{N_{235} + N_{238}}\\\\\n",
    "\\end{equation}\n",
    "\n",
    "By substituting the ratios\n",
    "\\begin{equation}\n",
    "    E = \\frac{R_{235}N_{235}}{R_{235}N_{235} + R_{238}N_{238}}\n",
    "\\end{equation}\n",
    "    \n",
    "But given that\n",
    "\\begin{equation}\n",
    "    N_{238} = \\frac{1 - E}{E} N_{235}\n",
    "\\end{equation}\n",
    "\n",
    "So we can get rid of $N_{238}$ and simplify $N_{235}$\n",
    "\\begin{equation}\n",
    "    E_{old} = \\frac{R_{235}}{R_{235} + R_{238} \\frac{1 - E_{today}}{E_{today}}}\n",
    "\\end{equation}\n",
    "\n"
   ]
  },
  {
   "cell_type": "code",
   "execution_count": 6,
   "id": "5965455b",
   "metadata": {},
   "outputs": [
    {
     "data": {
      "text/latex": [
       "$\\displaystyle \\text{Enrichment 1.8 Billon years ago: }3.09 \\%$"
      ],
      "text/plain": [
       "<IPython.core.display.Math object>"
      ]
     },
     "metadata": {},
     "output_type": "display_data"
    }
   ],
   "source": [
    "\n",
    "# Calculate decay over time\n",
    "N_235 = math.exp(-lambda_235 * T)\n",
    "N_238 = math.exp(-lambda_238 * T)\n",
    "\n",
    "# Initial N ratios based on decay over time\n",
    "W_N235_N0_ratio = 1 / N_235\n",
    "W_N238_N0_ratio = 1 / N_238\n",
    "\n",
    "# Calculate initial enrichment E_Old\n",
    "E_Old = (W_N235_N0_ratio / (W_N235_N0_ratio + W_N238_N0_ratio * (100 - E_today)/E_today))*100\n",
    "\n",
    "# Print the result with latex formatting\n",
    "display(Math(r'\\text{Enrichment 1.8 Billon years ago: }' + f'{E_Old:.2f}' + r' \\%'))\n"
   ]
  },
  {
   "cell_type": "code",
   "execution_count": 7,
   "id": "805bd3aa",
   "metadata": {},
   "outputs": [],
   "source": [
    "# Given values for SWU calculations\n",
    "x_tails = 0.2 / 100  # Tails\n",
    "x_product = 4.75 / 100  # Enriched product\n",
    "\n",
    "# Compute V(x) based on the formula V(x) = (2x - 1) * ln(x / (1 - x))\n",
    "def V(x):\n",
    "    return (2 * x - 1) * math.log(x / (1 - x))\n",
    "\n",
    "# Calculate SWU factor for Old's enrichment and today's enrichment\n",
    "V_w = V(x_tails)\n",
    "V_p = V(x_product)\n",
    "\n",
    "# Today's enrichment and Old enrichment comparison (x_f here represents Old and current times)\n",
    "V_f_today = V(E_today / 100)\n",
    "V_f_Old = V(E_Old / 100)"
   ]
  },
  {
   "cell_type": "markdown",
   "id": "2d64efbe",
   "metadata": {},
   "source": [
    "Given these two relationships we can get rid of the mass fluxes in the SWU equation\n",
    "\\begin{equation}\n",
    " F = \\frac{x_p - x_w}{x_f - x_w} P\n",
    "\\end{equation}\n",
    "\n",
    "\\begin{equation}\n",
    "W = F - P\n",
    "\\end{equation}"
   ]
  },
  {
   "cell_type": "code",
   "execution_count": 8,
   "id": "ec0bd08a",
   "metadata": {},
   "outputs": [
    {
     "data": {
      "text/latex": [
       "$\\displaystyle \\text{SWU Today: }8.27\\text{ SWU}$"
      ],
      "text/plain": [
       "<IPython.core.display.Math object>"
      ]
     },
     "metadata": {},
     "output_type": "display_data"
    },
    {
     "data": {
      "text/latex": [
       "$\\displaystyle \\text{SWU 1.8 Billion years ago: }1.18\\text{ SWU}$"
      ],
      "text/plain": [
       "<IPython.core.display.Math object>"
      ]
     },
     "metadata": {},
     "output_type": "display_data"
    }
   ],
   "source": [
    "# SWU Equation\n",
    "def SWU(V_p, V_w, V_f, feed):\n",
    "    return V_p + (feed-1)*V_w - feed*V_f\n",
    "\n",
    "# Calculate SWU today and at Old time\n",
    "feed_today = (x_product - x_tails) / (E_today/100 - x_tails)\n",
    "SWU_today = SWU(V_p, V_w, V_f_today, feed_today)\n",
    "\n",
    "feed_old = (x_product - x_tails) / (E_Old/100 - x_tails)\n",
    "SWU_Old = SWU(V_p, V_w, V_f_Old, feed_old)\n",
    "\n",
    "# Display with latex\n",
    "display(Math(r'\\text{SWU Today: }' + f'{SWU_today:.2f}' + r'\\text{ SWU}'))\n",
    "display(Math(r'\\text{SWU 1.8 Billion years ago: }' + f'{SWU_Old:.2f}' + r'\\text{ SWU}'))\n"
   ]
  },
  {
   "cell_type": "markdown",
   "id": "fbb20886",
   "metadata": {},
   "source": [
    "\n",
    "### Comparison\n",
    "The computed SWU values for today and for the enrichment 1.8 million years ago provide insight into the efficiency and requirements for uranium enrichment.\n",
    "\n",
    "The SWU factor at Old's time should be lower due to higher enrichment levels at that time compared to the present enrichment.\n"
   ]
  }
 ],
 "metadata": {
  "kernelspec": {
   "display_name": "base",
   "language": "python",
   "name": "python3"
  },
  "language_info": {
   "codemirror_mode": {
    "name": "ipython",
    "version": 3
   },
   "file_extension": ".py",
   "mimetype": "text/x-python",
   "name": "python",
   "nbconvert_exporter": "python",
   "pygments_lexer": "ipython3",
   "version": "3.11.5"
  }
 },
 "nbformat": 4,
 "nbformat_minor": 5
}
