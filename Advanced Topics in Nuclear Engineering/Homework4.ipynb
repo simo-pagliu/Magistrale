{
 "cells": [
  {
   "cell_type": "markdown",
   "id": "095734a3",
   "metadata": {},
   "source": [
    "\n",
    "## Homework Assignment\n",
    "\n",
    "Using the following data, determine the minimum number of total stages required for an ideal cascade based on the gas centrifuge enrichment process. \n",
    "Assume the centrifuge operates at its maximum allowed peripheral speed.\n",
    "\n",
    "### Data\n",
    "- Feed: UF6 composed of 0.71 wt% U-235\n",
    "- Product: UF6 composed 4.8 wt% U-235\n",
    "- Tails: UF6 composed of 0.3 wt% U-235\n",
    "- UF6 temperature = 300 K\n",
    "- Centrifuge material: glass fiber\n",
    "- Density ρ = 1.8 g/cm³\n",
    "- Tensile strength σ_s = 50,000 N/cm²\n",
    "- Product extraction radius: 85% of centrifuge radius\n"
   ]
  },
  {
   "cell_type": "markdown",
   "id": "1d079208",
   "metadata": {},
   "source": [
    "For a gas centrifuge we can compute $\\alpha$ with the following relation.  \n",
    "Here $v_a$ and $r_a$ denote the velocity and the radius at the wall of the cylindrical centrifuge.\n",
    "\\begin{equation}\n",
    "    \\alpha = e^{\\frac{1}{2}\\frac{v_a^2}{RT}\\Delta MM (1 - r_{extraction}^2 / r_a)}\n",
    "\\end{equation}\n",
    "\n",
    "Given that we know that $r_{extraction} = 0.85 r_a$ we can get rid of the dependecy on $r_a$  \n",
    "$\\Delta MM$ is the difference in molar mass between U238 and U235, note that it has to be written in kg/mol to be consistent with the other quantities.  \n",
    "\n",
    "\\begin{equation}\n",
    "    \\alpha = e^{\\frac{1}{2}\\frac{v_a^2}{8.134T} \\frac{\\Delta MM}{1000} (1 - 0.85^2)}\n",
    "\\end{equation}"
   ]
  },
  {
   "cell_type": "code",
   "execution_count": 3,
   "id": "a55abb58",
   "metadata": {},
   "outputs": [
    {
     "data": {
      "text/latex": [
       "$\\displaystyle \\alpha = 1.0463$"
      ],
      "text/plain": [
       "<IPython.core.display.Math object>"
      ]
     },
     "metadata": {},
     "output_type": "display_data"
    }
   ],
   "source": [
    "from IPython.display import display, Math\n",
    "import math\n",
    "\n",
    "# Molar masses\n",
    "U_238 = 238.05078826\n",
    "U_235 = 235.0439299\n",
    "delta_MM = U_238 - U_235\n",
    "\n",
    "# Max speed\n",
    "v_a = 520  # m/s given that it is glass fiber, datum from the slides\n",
    "\n",
    "# Product extraction radius (85% of r)\n",
    "r_p = 0.85\n",
    "\n",
    "# Alpha: sepration factor\n",
    "alpha = math.exp(0.5 * v_a**2 / (8.314 * 300) * delta_MM/1000 * (1 - r_p**2)) \n",
    "\n",
    "# Display the result\n",
    "display(Math(r'\\alpha = ' + f'{alpha:.4f}'))             "
   ]
  },
  {
   "cell_type": "markdown",
   "id": "2838509a",
   "metadata": {},
   "source": [
    "Given that is an ideal cascade:\n",
    "\\begin{equation}\n",
    "    \\alpha = \\beta ^ 2\n",
    "\\end{equation}\n",
    "\n",
    "So by computing the values of $R_p$, $R_f$ and $R_w$  \n",
    "We can easily compute the required number of stages"
   ]
  },
  {
   "cell_type": "code",
   "execution_count": 8,
   "id": "86bb36c1",
   "metadata": {},
   "outputs": [
    {
     "data": {
      "text/latex": [
       "$\\displaystyle \\text{Number of enriching stages } N_p = 86$"
      ],
      "text/plain": [
       "<IPython.core.display.Math object>"
      ]
     },
     "metadata": {},
     "output_type": "display_data"
    },
    {
     "data": {
      "text/latex": [
       "$\\displaystyle \\text{Number of stripping stages } N_w = 37$"
      ],
      "text/plain": [
       "<IPython.core.display.Math object>"
      ]
     },
     "metadata": {},
     "output_type": "display_data"
    },
    {
     "data": {
      "text/latex": [
       "$\\displaystyle \\text{Total number of stages } N_{tot} = 124$"
      ],
      "text/plain": [
       "<IPython.core.display.Math object>"
      ]
     },
     "metadata": {},
     "output_type": "display_data"
    }
   ],
   "source": [
    "\n",
    "# Initial data for enriching stages calculation\n",
    "x_p = 4.8 / 100  # Product enrichment (4.8 wt%)\n",
    "x_f = 0.71 / 100  # Feed enrichment (0.71 wt%)\n",
    "x_t = 0.3 / 100  # Tails enrichment (0.3 wt%)\n",
    "\n",
    "# Number of stages N_p (enriching) and N_w (stripping)\n",
    "beta = math.sqrt(alpha)  # Head Separation Factor from earlier notes\n",
    "\n",
    "def R(x):\n",
    "    return x / (1 - x)\n",
    "\n",
    "R_p = R(x_p)\n",
    "R_f = R(x_f)\n",
    "R_w = R(x_t)\n",
    "\n",
    "# Enriching sections Np and stripping sections Nw\n",
    "N_p = math.log(R_p / R_f) / math.log(beta)\n",
    "N_w = math.log(R_f / R_w) / math.log(beta) - 1\n",
    "\n",
    "# Display the result\n",
    "display(Math(r'\\text{Number of enriching stages } N_p = ' + f'{N_p:.0f}'))\n",
    "display(Math(r'\\text{Number of stripping stages } N_w = ' + f'{N_w:.0f}'))\n",
    "display(Math(r'\\text{Total number of stages } N_{tot} = ' + f'{N_p + N_w:.0f}'))"
   ]
  }
 ],
 "metadata": {
  "kernelspec": {
   "display_name": "base",
   "language": "python",
   "name": "python3"
  },
  "language_info": {
   "codemirror_mode": {
    "name": "ipython",
    "version": 3
   },
   "file_extension": ".py",
   "mimetype": "text/x-python",
   "name": "python",
   "nbconvert_exporter": "python",
   "pygments_lexer": "ipython3",
   "version": "3.11.5"
  }
 },
 "nbformat": 4,
 "nbformat_minor": 5
}
