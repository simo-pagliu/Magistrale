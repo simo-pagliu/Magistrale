{
 "cells": [
  {
   "cell_type": "markdown",
   "metadata": {},
   "source": [
    "## Homework Assignment\n",
    "\n",
    "A 1000 MWe LWR unit’s fuel cycle cost and operating capacity factor (CF) as a function of cycle length are as follows:\n",
    "\n",
    "| Cycle length* (month) | Fuel Cycle Cost (mills/kWHe) | Operating CF (%) |\n",
    "|-----------------------|-----------------------------|------------------|\n",
    "| 4.5                   | 4.5                         | 98               |\n",
    "| 10.5                  | 5.0                         | 94               |\n",
    "| 16.5                  | 5.6                         | 90               |\n",
    "\n",
    "\\* Cycle length does not include refueling outages. Refueling outage lasts 1.5 months in all cases.\n",
    "\n",
    "---\n",
    "\n",
    "While the LWR unit is down for refueling or operating below a CF of 98%, replacement power is provided by coal-fired units with an associated fuel cost of 10.2 mills/kWHe. Assuming a constant grid demand throughout the year of 980 MWe from the LWR unit plus associated replacement power, determine the optimum cycle length for the LWR unit based upon the cycle length choices shown in the table above.\n"
   ]
  },
  {
   "cell_type": "code",
   "execution_count": 13,
   "metadata": {},
   "outputs": [
    {
     "name": "stdout",
     "output_type": "stream",
     "text": [
      "Annual cost for cycle length 4.5 months, with CF=98%: 50.75 MLN $\n",
      "Annual cost for cycle length 10.5 months, with CF=94%: 52.17 MLN $\n",
      "Annual cost for cycle length 16.5 months, with CF=90%: 58.70 MLN $\n"
     ]
    }
   ],
   "source": [
    "from IPython.display import display, Math\n",
    "import math\n",
    "\n",
    "# Defining the data\n",
    "cycle_lengths = [4.5, 10.5, 16.5]  # in months\n",
    "fuel_cycle_costs = [4.5, 5.0, 5.6]  # in mills/kWHe\n",
    "capacity_factors = [98, 94, 90]  # in percent\n",
    "\n",
    "# Additional data\n",
    "replacement_power_cost = 10.2  # in mills/kWHe\n",
    "reactor_power = 1000*1000  # in kW\n",
    "grid_demand = 980*1000  # in kW\n",
    "refueling_outage_duration = 1.5  # in months\n",
    "\n",
    "# Function to calculate annual cost for a given cycle length\n",
    "def calculate_annual_cost(cycle_length, cycle_cost, capacity_factor):\n",
    "    # Compute number of cycles in a year\n",
    "    cycles = 12 / (cycle_length + 1.5)  # Add refueling outage duration\n",
    "\n",
    "    # Uptime\n",
    "    uptime = cycles * cycle_length * 30 * 24 # operational time in hours\n",
    "    uptime_power = uptime * reactor_power # in MWh\n",
    "\n",
    "    # Downtime due to refuelling\n",
    "    downtime = cycles * 1.5 * 30 * 24 # tot downtime due to refueling in hours\n",
    "    downtime_power = downtime * grid_demand # in MWh\n",
    "\n",
    "    # Additional Power To satisfy demand\n",
    "    underproduction = grid_demand - reactor_power * capacity_factor / 100 # MW\n",
    "    underproduction = underproduction * 365 * 24 # in MWh, for the whole year, in hours\n",
    "\n",
    "    # Cost\n",
    "    operational_cost = uptime_power * cycle_cost\n",
    "    replacement_cost = (downtime_power + underproduction) * replacement_power_cost\n",
    "\n",
    "    annual_cost = (operational_cost + replacement_cost)\n",
    "    # If i understood correctly, the cost is in mills = 1/1000 of a dollar\n",
    "    # So, to convert it to dollars, we divide by 1000\n",
    "    annual_cost = annual_cost / 1000\n",
    "    # Since it's quite large, let's convert it to Millions of dollars\n",
    "    annual_cost = annual_cost / 1000000\n",
    "    \n",
    "    return annual_cost\n",
    "\n",
    "# Example loop to calculate and compare costs for each cycle length\n",
    "for i in range(len(cycle_lengths)):\n",
    "    cycle_length = cycle_lengths[i]\n",
    "    fuel_cost = fuel_cycle_costs[i]\n",
    "    capacity_factor = capacity_factors[i]\n",
    "    \n",
    "    annual_cost = calculate_annual_cost(cycle_length, fuel_cost, capacity_factor)\n",
    "    print(f\"Annual cost for cycle length {cycle_length} months, with CF={capacity_factor}%: {annual_cost:.2f} MLN $\")\n"
   ]
  }
 ],
 "metadata": {
  "kernelspec": {
   "display_name": "base",
   "language": "python",
   "name": "python3"
  },
  "language_info": {
   "codemirror_mode": {
    "name": "ipython",
    "version": 3
   },
   "file_extension": ".py",
   "mimetype": "text/x-python",
   "name": "python",
   "nbconvert_exporter": "python",
   "pygments_lexer": "ipython3",
   "version": "3.11.5"
  }
 },
 "nbformat": 4,
 "nbformat_minor": 2
}
