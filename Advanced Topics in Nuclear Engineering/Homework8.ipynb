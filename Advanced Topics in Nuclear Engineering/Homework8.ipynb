{
 "cells": [
  {
   "cell_type": "markdown",
   "metadata": {},
   "source": [
    "## Homework Assignment\n",
    "\n",
    "A 2436 MWth BWR unit is to be operated in an equilibrium reload cycle fashion employing a 24-month refueling cycle with an anticipated 90% capacity factor. Utilizing the following data, develop the complete cycling scheme table for this BWR unit. Assume the core is loaded symmetrically with quarter core symmetry.\n",
    "\n",
    "- **Number of assemblies**: 560\n",
    "- **Assembly loading**: 190 kg U\n",
    "- **Warranted discharge burnup limit**: 40,000 MWD/MTU\n"
   ]
  },
  {
   "cell_type": "code",
   "execution_count": null,
   "metadata": {},
   "outputs": [],
   "source": [
    "from IPython.display import display, Math\n",
    "import math\n",
    "\n",
    "# Defining the additional data\n",
    "thermal_power = 2436  # in MWth\n",
    "refueling_cycle = 24  # in months\n",
    "capacity_factor = 90  # in percent\n",
    "num_assemblies = 560  # total assemblies\n",
    "assembly_loading = 190  # kg U per assembly\n",
    "discharge_burnup_limit = 40000  # MWD/MTU\n",
    "\n",
    "# Placeholder function to calculate the cycling scheme for the BWR unit\n",
    "def develop_cycling_scheme(num_assemblies, assembly_loading, burnup_limit, refueling_cycle, capacity_factor):\n",
    "    # Placeholder for cycling scheme calculation\n",
    "    # Implement based on specific requirements\n",
    "    \n",
    "    return cycling_scheme_table\n",
    "\n",
    "# Calculate and display the cycling scheme table\n",
    "cycling_scheme_table = develop_cycling_scheme(num_assemblies, assembly_loading, discharge_burnup_limit, refueling_cycle, capacity_factor)\n",
    "print(\"Cycling Scheme Table:\")\n",
    "print(cycling_scheme_table)"
   ]
  }
 ],
 "metadata": {
  "kernelspec": {
   "display_name": "base",
   "language": "python",
   "name": "python3"
  },
  "language_info": {
   "name": "python",
   "version": "3.11.5"
  }
 },
 "nbformat": 4,
 "nbformat_minor": 2
}
