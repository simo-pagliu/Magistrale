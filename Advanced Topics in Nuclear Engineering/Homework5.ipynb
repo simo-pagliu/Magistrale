{
 "cells": [
  {
   "cell_type": "markdown",
   "id": "dbd4557c",
   "metadata": {},
   "source": [
    "\n",
    "## Homework Assignment\n",
    "\n",
    "Laser isotope enrichment employing the atomic excitation process is used to enrich uranium. A two-photon absorption process is used to selectively ionize U-235. \n",
    "A tuned laser beam of visible light at 502.73 nm selectively excites the U-235 atom, followed by a UV laser beam to ionize the excited atoms. \n",
    "The ionization potential of U is 6.194 eV. What is the desired wavelength of the UV laser beam?\n"
   ]
  },
  {
   "cell_type": "code",
   "execution_count": 14,
   "id": "cade7567",
   "metadata": {},
   "outputs": [
    {
     "data": {
      "text/latex": [
       "$\\displaystyle \\lambda_{UV} =333\\text{ nm}$"
      ],
      "text/plain": [
       "<IPython.core.display.Math object>"
      ]
     },
     "metadata": {},
     "output_type": "display_data"
    }
   ],
   "source": [
    "from IPython.display import display, Math\n",
    "import math\n",
    "\n",
    "# Constants\n",
    "c = 3.0 * 10**8  # Speed of light in m/s\n",
    "h = 6.626 * 10**-34  # Planck's constant in J*s\n",
    "wavelength_step1 = 502.73 * 10**-9  # Wavelength of first laser in meters\n",
    "\n",
    "# Calculate the frequency of the first step laser\n",
    "frequency_step1 = c / wavelength_step1\n",
    "\n",
    "# Calculate the energy of the first step in Joules and then convert to eV\n",
    "energy_step1_joules = h * frequency_step1\n",
    "energy_step1_eV = energy_step1_joules / 1.60218e-19  # Conversion factor from Joules to eV\n",
    "\n",
    "# Given ionization potential\n",
    "ionization_potential_U = 6.194  # eV\n",
    "\n",
    "# Energy needed from UV laser in eV\n",
    "energy_needed_uv = ionization_potential_U - energy_step1_eV\n",
    "\n",
    "# Calculate the frequency and wavelength of the UV laser\n",
    "frequency_uv = energy_needed_uv * 1.60218e-19 / h # Conversion factor from Joules to eV\n",
    "wavelength_uv = c / frequency_uv  # Wavelength in meters\n",
    "\n",
    "# Display the results\n",
    "display(Math(r'\\lambda_{UV} =' + f'{wavelength_uv*1e9:.0f}' + r'\\text{ nm}' ))"
   ]
  }
 ],
 "metadata": {
  "kernelspec": {
   "display_name": "base",
   "language": "python",
   "name": "python3"
  },
  "language_info": {
   "codemirror_mode": {
    "name": "ipython",
    "version": 3
   },
   "file_extension": ".py",
   "mimetype": "text/x-python",
   "name": "python",
   "nbconvert_exporter": "python",
   "pygments_lexer": "ipython3",
   "version": "3.11.5"
  }
 },
 "nbformat": 4,
 "nbformat_minor": 5
}
