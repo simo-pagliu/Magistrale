{
 "cells": [
  {
   "cell_type": "markdown",
   "metadata": {},
   "source": [
    "## Homework Assignment\n",
    "\n",
    "Determine the maximum allowed core thermal output for a PWR unit given the following data:\n",
    "\n",
    "- Total number of fuel assemblies = 193\n",
    "- Fuel length = 3.66 meters\n",
    "- Number of fuel rods per assembly = 264\n",
    "- LOCA limit (normal operation) = 49.21 kW/m\n",
    "- CHFR limit (normal operation) = 26.24 kW/m\n",
    "- Peaking factors obtainable: Fq = 2.2, FdH = 1.4\n"
   ]
  },
  {
   "cell_type": "code",
   "execution_count": null,
   "metadata": {},
   "outputs": [],
   "source": [
    "from IPython.display import display, Math\n",
    "import math\n",
    "\n",
    "# Defining the given data\n",
    "num_fuel_assemblies = 193  # Total number of fuel assemblies\n",
    "fuel_length = 3.66  # in meters\n",
    "fuel_rods_per_assembly = 264  # Number of fuel rods per assembly\n",
    "loca_limit = 49.21  # kW/m, LOCA limit for normal operation\n",
    "chfr_limit = 26.24  # kW/m, CHFR limit for normal operation\n",
    "fq = 2.2  # Peaking factor Fq\n",
    "fdh = 1.4  # Peaking factor FdH\n",
    "\n",
    "# Placeholder function to calculate the maximum allowed core thermal output\n",
    "def calculate_max_core_output(num_assemblies, fuel_length, loca_limit, chfr_limit, fq, fdh):\n",
    "    # Placeholder for core thermal output calculation\n",
    "    # Implement based on specific requirements\n",
    "    \n",
    "    return max_core_output\n",
    "\n",
    "# Calculate the maximum core output\n",
    "max_core_output = calculate_max_core_output(num_fuel_assemblies, fuel_length, loca_limit, chfr_limit, fq, fdh)\n",
    "print(f\"Maximum Allowed Core Thermal Output: {max_core_output} kW\")"
   ]
  }
 ],
 "metadata": {
  "kernelspec": {
   "display_name": "base",
   "language": "python",
   "name": "python3"
  },
  "language_info": {
   "name": "python",
   "version": "3.11.5"
  }
 },
 "nbformat": 4,
 "nbformat_minor": 2
}
