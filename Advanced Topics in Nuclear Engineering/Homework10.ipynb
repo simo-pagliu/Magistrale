{
 "cells": [
  {
   "cell_type": "markdown",
   "metadata": {},
   "source": [
    "## Homework Assignment\n",
    "\n",
    "Determine the maximum allowed core thermal output for a PWR unit given the following data:\n",
    "\n",
    "- Total number of fuel assemblies = 193\n",
    "- Fuel length = 3.66 meters\n",
    "- Number of fuel rods per assembly = 264\n",
    "- LOCA limit (normal operation) = 49.21 kW/m\n",
    "- CHFR limit (normal operation) = 26.24 kW/m\n",
    "- Peaking factors obtainable: Fq = 2.2, FdH = 1.4\n"
   ]
  },
  {
   "cell_type": "code",
   "execution_count": 3,
   "metadata": {},
   "outputs": [
    {
     "name": "stdout",
     "output_type": "stream",
     "text": [
      "CHFR limit is the limiting factor\n",
      "Maximum Allowed Core Thermal Output: 3495 MWth\n"
     ]
    }
   ],
   "source": [
    "from IPython.display import display, Math\n",
    "import math\n",
    "\n",
    "# Defining the given data\n",
    "num_fuel_assemblies = 193  # Total number of fuel assemblies\n",
    "fuel_length = 3.66  # in meters\n",
    "fuel_rods_per_assembly = 264  # Number of fuel rods per assembly\n",
    "loca_limit = 49.21  # kW/m, LOCA limit for normal operation\n",
    "chfr_limit = 26.24  # kW/m, CHFR limit for normal operation\n",
    "fq = 2.2  # Peaking factor Fq\n",
    "fdh = 1.4  # Peaking factor FdH\n",
    "\n",
    "# Calculate the total number of fuel rods\n",
    "total_fuel_rods = num_fuel_assemblies * fuel_rods_per_assembly\n",
    "\n",
    "# f_q = q'_max_pellet / (q'_avg * power_fraction) \n",
    "# (the maximum power between the pellets)\n",
    "# power fraction = 1 since we are considering the maximum power\n",
    "# f_q is not useful for evaluating the CHF so we use the LOCA limit on this one\n",
    "q_avg_fq = loca_limit / fq\n",
    "\n",
    "# f_delta_h = q'_max_rod / (q'_avg * power_fraction) \n",
    "# (the maximum power between the rods)\n",
    "# power fraction = 1 since we are considering the maximum power\n",
    "# this one takes into accout the CHF so we use the CHFR limit\n",
    "q_avg_fdh = chfr_limit / fdh\n",
    "\n",
    "# for design purposes we take the lower limit\n",
    "q_avg = min(q_avg_fq, q_avg_fdh)\n",
    "# print which is the limiting\n",
    "if q_avg == q_avg_fq:\n",
    "    print(\"LOCA limit is the limiting factor\")\n",
    "else:\n",
    "    print(\"CHFR limit is the limiting factor\")\n",
    "\n",
    "# Calculate the maximum core output\n",
    "max_core_output = q_avg * total_fuel_rods * fuel_length * 1e-3  # in MWth\n",
    "print(f\"Maximum Allowed Core Thermal Output: {max_core_output:.0f} MWth\")"
   ]
  }
 ],
 "metadata": {
  "kernelspec": {
   "display_name": "base",
   "language": "python",
   "name": "python3"
  },
  "language_info": {
   "codemirror_mode": {
    "name": "ipython",
    "version": 3
   },
   "file_extension": ".py",
   "mimetype": "text/x-python",
   "name": "python",
   "nbconvert_exporter": "python",
   "pygments_lexer": "ipython3",
   "version": "3.11.5"
  }
 },
 "nbformat": 4,
 "nbformat_minor": 2
}
