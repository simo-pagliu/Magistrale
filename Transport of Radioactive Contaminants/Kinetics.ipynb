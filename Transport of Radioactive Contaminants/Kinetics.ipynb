{
 "cells": [
  {
   "cell_type": "markdown",
   "id": "552bc861",
   "metadata": {},
   "source": [
    "# Kinetics of Fenol adsorption in activated carbon\n",
    "For this experiment we prepared a set of solutions with **the same** mass of activated carbon in the same volume ($\\sim 40$ mL) of phenol at $200$ ppm.  \n",
    "(Note that in this context ppm = mg/L)  \n",
    "The measurments of the residual phenol where obtained at different points in time.\n"
   ]
  },
  {
   "cell_type": "markdown",
   "id": "126e2d1d",
   "metadata": {},
   "source": [
    "## Task 0: Prepare Solutions\n",
    "For this experiment we just preperaed the samples of $70mg$ of activated carbon and $40mL$ of phenol at $200ppm$.  \n",
    "The measurment was then performed by the laboratory at the requested hours\n",
    "We then got the data as follows"
   ]
  },
  {
   "cell_type": "code",
   "execution_count": 28,
   "id": "32e9f8a9",
   "metadata": {},
   "outputs": [
    {
     "name": "stdout",
     "output_type": "stream",
     "text": [
      "+--------+----------------+--------------------+---------------------------+---------+\n",
      "| name   |    mass_carbon |    solution_volume |    residual_concentration |    time |\n",
      "+========+================+====================+===========================+=========+\n",
      "| B      |          0.066 |           0.0402   |                    187.1  |     2   |\n",
      "+--------+----------------+--------------------+---------------------------+---------+\n",
      "| A      |          0.07  |           0.04     |                    146    |     4   |\n",
      "+--------+----------------+--------------------+---------------------------+---------+\n",
      "| F      |          0.067 |           0.04     |                    130.81 |     6   |\n",
      "+--------+----------------+--------------------+---------------------------+---------+\n",
      "| E      |          0.075 |           0.0401   |                    123.08 |     7.5 |\n",
      "+--------+----------------+--------------------+---------------------------+---------+\n",
      "| D      |          0.072 |           0.039923 |                    103.7  |    10   |\n",
      "+--------+----------------+--------------------+---------------------------+---------+\n",
      "| G      |          0.07  |           0.040195 |                     89.75 |    14   |\n",
      "+--------+----------------+--------------------+---------------------------+---------+\n",
      "| H      |          0.07  |           0.039887 |                     62.92 |    17   |\n",
      "+--------+----------------+--------------------+---------------------------+---------+\n",
      "| C      |          0.073 |           0.04     |                     56.79 |    19   |\n",
      "+--------+----------------+--------------------+---------------------------+---------+\n",
      "| K      |          0.07  |           0.04     |                     54.08 |    24   |\n",
      "+--------+----------------+--------------------+---------------------------+---------+\n",
      "| L      |          0.068 |           0.039968 |                     49.7  |    24   |\n",
      "+--------+----------------+--------------------+---------------------------+---------+\n",
      "| J      |          0.07  |           0.04     |                     49.15 |    27   |\n",
      "+--------+----------------+--------------------+---------------------------+---------+\n",
      "| I      |          0.069 |           0.04     |                     67.38 |    29   |\n",
      "+--------+----------------+--------------------+---------------------------+---------+\n"
     ]
    }
   ],
   "source": [
    "import csv\n",
    "import numpy as np\n",
    "from tabulate import tabulate\n",
    "\n",
    "# Read CSV\n",
    "file_path = './Lab 2 Data/kinetics_samples.csv'\n",
    "with open(file_path, mode='r') as file:\n",
    "    reader = csv.reader(file)\n",
    "    rows = list(reader)\n",
    "\n",
    "# Process header (skip first column)\n",
    "header_raw = rows[0][1:]\n",
    "header = [h.strip() for h in header_raw]\n",
    "\n",
    "# Clean variable names (up to the first bracket)\n",
    "var_names = []\n",
    "for h in header:\n",
    "    base = h.split('[')[0].strip().replace('-', '_')\n",
    "    if base and base.isidentifier():\n",
    "        var_names.append(base)\n",
    "    else:\n",
    "        raise ValueError(f\"Invalid header: '{h}'\")\n",
    "\n",
    "# Convert the data block (excluding first column) to float NumPy array\n",
    "data = np.array([[float(val) for val in row[1:len(var_names)+1]] for row in rows[1:]])\n",
    "\n",
    "# Assign each column to a variable\n",
    "for i, name in enumerate(var_names):\n",
    "    globals()[name] = data[:, i]\n",
    "\n",
    "# Print table for reference\n",
    "print(tabulate(rows[1:], headers=rows[0], tablefmt=\"grid\"))\n"
   ]
  },
  {
   "cell_type": "code",
   "execution_count": 29,
   "id": "85786aa0",
   "metadata": {},
   "outputs": [
    {
     "name": "stdout",
     "output_type": "stream",
     "text": [
      "[0.0402   0.04     0.04     0.0401   0.039923 0.040195 0.039887 0.04\n",
      " 0.04     0.039968 0.04     0.04    ]\n"
     ]
    }
   ],
   "source": [
    "print(solution_volume)"
   ]
  },
  {
   "cell_type": "markdown",
   "id": "8d4482b9",
   "metadata": {},
   "source": [
    "## Task 1: Data Analysis"
   ]
  },
  {
   "cell_type": "markdown",
   "id": "3896b77d",
   "metadata": {},
   "source": [
    "#### Evaluate the mass of absorbed phenol per mass of carbon\n",
    "Exactly as it was done in the Adsorption-Desorption experiment in which we changed the mass of carbon:\n",
    "$$\n",
    "F_{abs} = (C_i - C_f) \\cdot \\frac{V}{m_c}\n",
    "$$\n",
    "where:  \n",
    "- $C_i$: Initial concentration [ppm]\n",
    "- $C_f$: Final concentration measured [ppm]\n",
    "- $V$: Volume of the solution [L]\n",
    "- $m_c$: Mass of carbon [mg]"
   ]
  },
  {
   "cell_type": "code",
   "execution_count": 30,
   "id": "d05d4293",
   "metadata": {},
   "outputs": [
    {
     "name": "stdout",
     "output_type": "stream",
     "text": [
      "\n",
      "Results:\n",
      "+--------+----------------+--------------------+---------------------------+---------+------------+\n",
      "| name   |    mass_carbon |    solution_volume |    residual_concentration |    time |      F_abs |\n",
      "+========+================+====================+===========================+=========+============+\n",
      "| B      |          0.066 |           0.0402   |                    187.1  |     2   | 0.00785727 |\n",
      "+--------+----------------+--------------------+---------------------------+---------+------------+\n",
      "| A      |          0.07  |           0.04     |                    146    |     4   | 0.0308571  |\n",
      "+--------+----------------+--------------------+---------------------------+---------+------------+\n",
      "| F      |          0.067 |           0.04     |                    130.81 |     6   | 0.0413075  |\n",
      "+--------+----------------+--------------------+---------------------------+---------+------------+\n",
      "| E      |          0.075 |           0.0401   |                    123.08 |     7.5 | 0.0411266  |\n",
      "+--------+----------------+--------------------+---------------------------+---------+------------+\n",
      "| D      |          0.072 |           0.039923 |                    103.7  |    10   | 0.053397   |\n",
      "+--------+----------------+--------------------+---------------------------+---------+------------+\n",
      "| G      |          0.07  |           0.040195 |                     89.75 |    14   | 0.0633071  |\n",
      "+--------+----------------+--------------------+---------------------------+---------+------------+\n",
      "| H      |          0.07  |           0.039887 |                     62.92 |    17   | 0.0781101  |\n",
      "+--------+----------------+--------------------+---------------------------+---------+------------+\n",
      "| C      |          0.073 |           0.04     |                     56.79 |    19   | 0.0784712  |\n",
      "+--------+----------------+--------------------+---------------------------+---------+------------+\n",
      "| K      |          0.07  |           0.04     |                     54.08 |    24   | 0.0833829  |\n",
      "+--------+----------------+--------------------+---------------------------+---------+------------+\n",
      "| L      |          0.068 |           0.039968 |                     49.7  |    24   | 0.088341   |\n",
      "+--------+----------------+--------------------+---------------------------+---------+------------+\n",
      "| J      |          0.07  |           0.04     |                     49.15 |    27   | 0.0862     |\n",
      "+--------+----------------+--------------------+---------------------------+---------+------------+\n",
      "| I      |          0.069 |           0.04     |                     67.38 |    29   | 0.0768812  |\n",
      "+--------+----------------+--------------------+---------------------------+---------+------------+\n"
     ]
    }
   ],
   "source": [
    "volumes = solution_volume\n",
    "mass_carbon_mg = mass_carbon * 1000 # convert to mg\n",
    "F_abs = (200 - residual_concentration ) * volumes / (mass_carbon_mg)\n",
    "\n",
    "# Show a table of the results\n",
    "print(\"\\nResults:\")\n",
    "results = np.column_stack((rows[1:], F_abs))\n",
    "rows[0].append(\"F_abs\")\n",
    "print(tabulate(results, headers=rows[0], tablefmt=\"grid\"))\n"
   ]
  },
  {
   "cell_type": "markdown",
   "id": "0960be25",
   "metadata": {},
   "source": [
    "#### Plot and fit\n",
    "In this case there was no weird result to exclude"
   ]
  },
  {
   "cell_type": "code",
   "execution_count": 31,
   "id": "0319bbf0",
   "metadata": {},
   "outputs": [],
   "source": [
    "# Remove the discarded point from the arrays\n",
    "measurement_g = residual_concentration  / 1000 # mg/L --> g/L\n",
    "# measurement_clean = np.delete(measurement_g, i_discard)\n",
    "# F_abs_clean = np.delete(F_abs, i_discard)"
   ]
  },
  {
   "cell_type": "code",
   "execution_count": 32,
   "id": "679a4ef9",
   "metadata": {},
   "outputs": [
    {
     "data": {
      "image/png": "[encoded data removed]",
      "text/plain": [
       "<Figure size 640x480 with 1 Axes>"
      ]
     },
     "metadata": {},
     "output_type": "display_data"
    }
   ],
   "source": [
    "import matplotlib.pyplot as plt\n",
    "\n",
    "# Plot all valid points \n",
    "plt.plot(time, F_abs, 'bo', label='Valid data')\n",
    "\n",
    "\n",
    "# Fit to a power law\n",
    "from scipy.optimize import curve_fit\n",
    "\n",
    "# --- Fit to power law ---\n",
    "def power_law(x, a, b):\n",
    "    return a * x ** b\n",
    "\n",
    "# Perform the fit\n",
    "params, covariance = curve_fit(power_law, time , F_abs)\n",
    "a, b = params\n",
    "\n",
    "# Predict fitted values\n",
    "F_abs_pred = power_law(F_abs , a, b)\n",
    "\n",
    "# Compute R² manually\n",
    "ss_res = np.sum((F_abs   - F_abs_pred) ** 2)\n",
    "ss_tot = np.sum((F_abs   - np.mean(F_abs)) ** 2)\n",
    "r_squared = 1 - (ss_res / ss_tot)\n",
    "\n",
    "# Generate fitted curve\n",
    "x_fit = np.linspace(min(time), max(time), 100)\n",
    "y_fit = power_law(x_fit, a, b)\n",
    "\n",
    "# Plot the fitted curve\n",
    "plt.plot(x_fit, y_fit, 'b--', label='Fitted curve')\n",
    "\n",
    "# Annotate equation and R² on the plot\n",
    "eq_text = f\"$F_{{abs}} = {a:.4g} \\cdot x^{{{b:.4f}}}$\\n$R^2 = {r_squared:.4f}$\"\n",
    "plt.text(0.05, 0.95, eq_text, transform=plt.gca().transAxes,\n",
    "         fontsize=12, verticalalignment='top')\n",
    "\n",
    "# Labels and legend\n",
    "plt.xlabel(\"Time [hours]\")\n",
    "plt.ylabel(\"F_abs\")\n",
    "plt.legend(loc='lower right')\n",
    "plt.grid(True)\n",
    "plt.show()\n"
   ]
  }
 ],
 "metadata": {
  "kernelspec": {
   "display_name": "base",
   "language": "python",
   "name": "python3"
  },
  "language_info": {
   "codemirror_mode": {
    "name": "ipython",
    "version": 3
   },
   "file_extension": ".py",
   "mimetype": "text/x-python",
   "name": "python",
   "nbconvert_exporter": "python",
   "pygments_lexer": "ipython3",
   "version": "3.11.5"
  }
 },
 "nbformat": 4,
 "nbformat_minor": 5
}
