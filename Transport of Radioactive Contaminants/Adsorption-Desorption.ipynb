{
 "cells": [
  {
   "cell_type": "markdown",
   "id": "552bc861",
   "metadata": {},
   "source": [
    "# Adsorption Desorption process of Fenol solution in activated carbon"
   ]
  },
  {
   "cell_type": "code",
   "execution_count": 1,
   "id": "32e9f8a9",
   "metadata": {},
   "outputs": [
    {
     "data": {
      "application/vnd.microsoft.datawrangler.viewer.v0+json": {
       "columns": [
        {
         "name": "index",
         "rawType": "int64",
         "type": "integer"
        },
        {
         "name": "name",
         "rawType": "int64",
         "type": "integer"
        },
        {
         "name": "mass_empty",
         "rawType": "float64",
         "type": "float"
        },
        {
         "name": "mass_carbon",
         "rawType": "float64",
         "type": "float"
        },
        {
         "name": "mass_liquid",
         "rawType": "float64",
         "type": "float"
        },
        {
         "name": "measurement",
         "rawType": "int64",
         "type": "integer"
        }
       ],
       "conversionMethod": "pd.DataFrame",
       "ref": "f770ccb8-b7b8-47c6-a213-2cc556331595",
       "rows": [
        [
         "0",
         "120",
         "11.518",
         "0.115",
         "40.041",
         "0"
        ],
        [
         "1",
         "110",
         "11.604",
         "0.113",
         "40.757",
         "0"
        ],
        [
         "2",
         "90",
         "11.593",
         "0.092",
         "40.426",
         "0"
        ],
        [
         "3",
         "80",
         "11.473",
         "0.085",
         "39.981",
         "0"
        ],
        [
         "4",
         "70",
         "11.455",
         "0.068",
         "39.943",
         "0"
        ],
        [
         "5",
         "60",
         "11.569",
         "0.058",
         "40.071",
         "0"
        ],
        [
         "6",
         "50",
         "11.571",
         "0.043",
         "39.911",
         "0"
        ]
       ],
       "shape": {
        "columns": 5,
        "rows": 7
       }
      },
      "text/html": [
       "<div>\n",
       "<style scoped>\n",
       "    .dataframe tbody tr th:only-of-type {\n",
       "        vertical-align: middle;\n",
       "    }\n",
       "\n",
       "    .dataframe tbody tr th {\n",
       "        vertical-align: top;\n",
       "    }\n",
       "\n",
       "    .dataframe thead th {\n",
       "        text-align: right;\n",
       "    }\n",
       "</style>\n",
       "<table border=\"1\" class=\"dataframe\">\n",
       "  <thead>\n",
       "    <tr style=\"text-align: right;\">\n",
       "      <th></th>\n",
       "      <th>name</th>\n",
       "      <th>mass_empty</th>\n",
       "      <th>mass_carbon</th>\n",
       "      <th>mass_liquid</th>\n",
       "      <th>measurement</th>\n",
       "    </tr>\n",
       "  </thead>\n",
       "  <tbody>\n",
       "    <tr>\n",
       "      <th>0</th>\n",
       "      <td>120</td>\n",
       "      <td>11.518</td>\n",
       "      <td>0.115</td>\n",
       "      <td>40.041</td>\n",
       "      <td>0</td>\n",
       "    </tr>\n",
       "    <tr>\n",
       "      <th>1</th>\n",
       "      <td>110</td>\n",
       "      <td>11.604</td>\n",
       "      <td>0.113</td>\n",
       "      <td>40.757</td>\n",
       "      <td>0</td>\n",
       "    </tr>\n",
       "    <tr>\n",
       "      <th>2</th>\n",
       "      <td>90</td>\n",
       "      <td>11.593</td>\n",
       "      <td>0.092</td>\n",
       "      <td>40.426</td>\n",
       "      <td>0</td>\n",
       "    </tr>\n",
       "    <tr>\n",
       "      <th>3</th>\n",
       "      <td>80</td>\n",
       "      <td>11.473</td>\n",
       "      <td>0.085</td>\n",
       "      <td>39.981</td>\n",
       "      <td>0</td>\n",
       "    </tr>\n",
       "    <tr>\n",
       "      <th>4</th>\n",
       "      <td>70</td>\n",
       "      <td>11.455</td>\n",
       "      <td>0.068</td>\n",
       "      <td>39.943</td>\n",
       "      <td>0</td>\n",
       "    </tr>\n",
       "    <tr>\n",
       "      <th>5</th>\n",
       "      <td>60</td>\n",
       "      <td>11.569</td>\n",
       "      <td>0.058</td>\n",
       "      <td>40.071</td>\n",
       "      <td>0</td>\n",
       "    </tr>\n",
       "    <tr>\n",
       "      <th>6</th>\n",
       "      <td>50</td>\n",
       "      <td>11.571</td>\n",
       "      <td>0.043</td>\n",
       "      <td>39.911</td>\n",
       "      <td>0</td>\n",
       "    </tr>\n",
       "  </tbody>\n",
       "</table>\n",
       "</div>"
      ],
      "text/plain": [
       "   name  mass_empty  mass_carbon  mass_liquid  measurement\n",
       "0   120      11.518        0.115       40.041            0\n",
       "1   110      11.604        0.113       40.757            0\n",
       "2    90      11.593        0.092       40.426            0\n",
       "3    80      11.473        0.085       39.981            0\n",
       "4    70      11.455        0.068       39.943            0\n",
       "5    60      11.569        0.058       40.071            0\n",
       "6    50      11.571        0.043       39.911            0"
      ]
     },
     "execution_count": 1,
     "metadata": {},
     "output_type": "execute_result"
    }
   ],
   "source": [
    "import pandas as pd\n",
    "\n",
    "# Read the CSV file\n",
    "file_path = './Lab 2 Data/batch_samples.csv'\n",
    "data_pd = pd.read_csv(file_path, header=0, names=[\"name\", \"mass_empty\", \"mass_carbon\", \"mass_liquid\", \"measurement\"])\n",
    "\n",
    "# Display the whole table \n",
    "data_pd"
   ]
  },
  {
   "cell_type": "code",
   "execution_count": 2,
   "id": "333b7c95",
   "metadata": {},
   "outputs": [
    {
     "data": {
      "text/plain": [
       "11.518"
      ]
     },
     "execution_count": 2,
     "metadata": {},
     "output_type": "execute_result"
    }
   ],
   "source": [
    "# Extract data into dictionaries using the \"name\"\n",
    "data = data_pd.set_index(\"name\").T\n",
    "\n",
    "# Example to address the data\n",
    "data[120].mass_empty"
   ]
  }
 ],
 "metadata": {
  "kernelspec": {
   "display_name": "base",
   "language": "python",
   "name": "python3"
  },
  "language_info": {
   "codemirror_mode": {
    "name": "ipython",
    "version": 3
   },
   "file_extension": ".py",
   "mimetype": "text/x-python",
   "name": "python",
   "nbconvert_exporter": "python",
   "pygments_lexer": "ipython3",
   "version": "3.11.5"
  }
 },
 "nbformat": 4,
 "nbformat_minor": 5
}
