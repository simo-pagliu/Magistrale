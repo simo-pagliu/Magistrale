{
 "cells": [
  {
   "cell_type": "markdown",
   "id": "552bc861",
   "metadata": {},
   "source": [
    "# Adsorption Desorption process of Fenol solution in activated carbon\n",
    "For this experiment we prepared a set of solutions with different mass of activated carbon in the same volume ($\\sim 40$ mL) of phenol at $200$ ppm.  \n",
    "(Note that in this context ppm = mg/L)  \n",
    "From this samples we where given a solution with the carbon filtered out to be measured.  \n",
    "We will use the spectrophotometer.  \n"
   ]
  },
  {
   "cell_type": "markdown",
   "id": "126e2d1d",
   "metadata": {},
   "source": [
    "## Task 1: Prepare Standard Solutions\n",
    "\n",
    "First of all we prepare some standard solutions of known phenol concentration by dilution of the $200$ ppm solution with demineralized water.  \n",
    "These solutions are used to get a calibration curve, in our case a linear relationship is sufficient, between concentration and the measurment of the spectrophotometer (absorbance).  \n",
    "To prepare the solutions all standard solutions are of $20$ mL, with varying shares of phenol solution and water.  \n",
    "Very simple math behind dilution:\n",
    "$$\n",
    "\\text{Desired concentration} = \\frac{\\text{initial concentration} \\cdot \\text{Volume of Phenol}}{\\text{Total Solution Volume}}\n",
    "$$\n",
    "Which means that:\n",
    "$$\n",
    "\\text{Volume of Phenol} = \\frac{20mL}{200 ppm}\\cdot \\text{Desired C}\n",
    "$$\n",
    "And subsequently \n",
    "$$\n",
    "V_\\text{water} = 20 - V_\\text{phenol}\n",
    "$$  \n",
    "So for istance the $10$ ppm solution will be made with $1$ mL of phenol solution and $19$ mL of water.  \n",
    "\n",
    "\n",
    "Quando ce lo manda metto i dati delle standard  "
   ]
  },
  {
   "cell_type": "markdown",
   "id": "aeaf78da",
   "metadata": {},
   "source": [
    "## Task 2: Set up the spectrophotometer\n"
   ]
  },
  {
   "cell_type": "markdown",
   "id": "b4330718",
   "metadata": {},
   "source": [
    "### Phenol Spectra\n",
    "First of all we use a cople of water samples to align detectors and zero the spectrophotometer.  \n",
    "We then put in the measuring place one with a phenol solution and we start a *wavelength scan*. This provides the emission spectra of the phenol and is used to get the peak, which is $\\sim 270 nm$. All the following measures will be done on this wavelength."
   ]
  },
  {
   "cell_type": "markdown",
   "id": "42d64c33",
   "metadata": {},
   "source": [
    "### Calibration and Measurment\n",
    "The software of the spectrophotometer is programmed to get a certain number of standard solutions to get a calibration curve and then take some other samples and automatically applies the calibration.  \n",
    "The system is zeroed with a water sample in.\n",
    "We therefore had to, one by one, transfer the solution into plastic vials and load them into the spectrophotometer for measurment.  \n",
    "First the standard: 0, 10, 25, 50, 70 and 100 ppm of phenol,  \n",
    "then the samples: 50, 60, 70, 80, 90, 110, 120 mg of carbon  \n",
    "We automaticcaly obtain the concentrations."
   ]
  },
  {
   "cell_type": "code",
   "execution_count": 95,
   "id": "32e9f8a9",
   "metadata": {},
   "outputs": [
    {
     "name": "stdout",
     "output_type": "stream",
     "text": [
      "+---------+-------------------+--------------------+--------------------+-----------------------------+\n",
      "|   name  |    mass_empty [g] |    mass_carbon [g] |    mass_liquid [g] |    measurement [ppm = mg/L] |\n",
      "+=========+===================+====================+====================+=============================+\n",
      "|     120 |            11.518 |              0.115 |             40.041 |                        18.7 |\n",
      "+---------+-------------------+--------------------+--------------------+-----------------------------+\n",
      "|     110 |            11.604 |              0.113 |             40.757 |                        25.7 |\n",
      "+---------+-------------------+--------------------+--------------------+-----------------------------+\n",
      "|      90 |            11.593 |              0.092 |             40.426 |                        46.1 |\n",
      "+---------+-------------------+--------------------+--------------------+-----------------------------+\n",
      "|      80 |            11.473 |              0.085 |             39.981 |                        31.2 |\n",
      "+---------+-------------------+--------------------+--------------------+-----------------------------+\n",
      "|      70 |            11.455 |              0.068 |             39.943 |                        44.6 |\n",
      "+---------+-------------------+--------------------+--------------------+-----------------------------+\n",
      "|      60 |            11.569 |              0.058 |             40.071 |                        59.6 |\n",
      "+---------+-------------------+--------------------+--------------------+-----------------------------+\n",
      "|      50 |            11.571 |              0.043 |             39.911 |                        79.9 |\n",
      "+---------+-------------------+--------------------+--------------------+-----------------------------+\n"
     ]
    }
   ],
   "source": [
    "import csv\n",
    "import numpy as np\n",
    "from tabulate import tabulate\n",
    "\n",
    "# Read CSV\n",
    "file_path = './Lab 2 Data/batch_samples.csv'\n",
    "with open(file_path, mode='r') as file:\n",
    "    reader = csv.reader(file)\n",
    "    rows = list(reader)\n",
    "\n",
    "# Process header (skip first column)\n",
    "header_raw = rows[0][1:]\n",
    "header = [h.strip() for h in header_raw]\n",
    "\n",
    "# Clean variable names (up to the first bracket)\n",
    "var_names = []\n",
    "for h in header:\n",
    "    base = h.split('[')[0].strip().replace('-', '_')\n",
    "    if base and base.isidentifier():\n",
    "        var_names.append(base)\n",
    "    else:\n",
    "        raise ValueError(f\"Invalid header: '{h}'\")\n",
    "\n",
    "# Convert the data block (excluding first column) to float NumPy array\n",
    "data = np.array([[float(val) for val in row[1:len(var_names)+1]] for row in rows[1:]])\n",
    "\n",
    "# Assign each column to a variable\n",
    "for i, name in enumerate(var_names):\n",
    "    globals()[name] = data[:, i]\n",
    "\n",
    "# Print table for reference\n",
    "print(tabulate(rows[1:], headers=rows[0], tablefmt=\"grid\"))\n"
   ]
  },
  {
   "cell_type": "markdown",
   "id": "8d4482b9",
   "metadata": {},
   "source": [
    "### Task 3: Data Analysis"
   ]
  },
  {
   "cell_type": "markdown",
   "id": "3896b77d",
   "metadata": {},
   "source": [
    "#### Evaluate the mass of absorbed phenol per mass of carbon\n",
    "This can be done by using:\n",
    "$$\n",
    "F_{abs} = (C_i - C_f) \\cdot \\frac{V}{m_c}\n",
    "$$\n",
    "where:  \n",
    "- $C_i$: Initial concentration [ppm]\n",
    "- $C_f$: Final concentration measured [ppm]\n",
    "- $V$: Volume of the solution [L]\n",
    "- $m_c$: Mass of carbon [mg]"
   ]
  },
  {
   "cell_type": "code",
   "execution_count": 96,
   "id": "d05d4293",
   "metadata": {},
   "outputs": [
    {
     "name": "stdout",
     "output_type": "stream",
     "text": [
      "\n",
      "Results:\n",
      "+---------+-------------------+--------------------+--------------------+-----------------------------+-----------+\n",
      "|   name  |    mass_empty [g] |    mass_carbon [g] |    mass_liquid [g] |    measurement [ppm = mg/L] |     F_abs |\n",
      "+=========+===================+====================+====================+=============================+===========+\n",
      "|     120 |            11.518 |              0.115 |             40.041 |                        18.7 | 0.0638922 |\n",
      "+---------+-------------------+--------------------+--------------------+-----------------------------+-----------+\n",
      "|     110 |            11.604 |              0.113 |             40.757 |                        25.7 | 0.0636303 |\n",
      "+---------+-------------------+--------------------+--------------------+-----------------------------+-----------+\n",
      "|      90 |            11.593 |              0.092 |             40.426 |                        46.1 | 0.068447  |\n",
      "+---------+-------------------+--------------------+--------------------+-----------------------------+-----------+\n",
      "|      80 |            11.473 |              0.085 |             39.981 |                        31.2 | 0.0803619 |\n",
      "+---------+-------------------+--------------------+--------------------+-----------------------------+-----------+\n",
      "|      70 |            11.455 |              0.068 |             39.943 |                        44.6 | 0.0923902 |\n",
      "+---------+-------------------+--------------------+--------------------+-----------------------------+-----------+\n",
      "|      60 |            11.569 |              0.058 |             40.071 |                        59.6 | 0.0981776 |\n",
      "+---------+-------------------+--------------------+--------------------+-----------------------------+-----------+\n",
      "|      50 |            11.571 |              0.043 |             39.911 |                        79.9 | 0.112826  |\n",
      "+---------+-------------------+--------------------+--------------------+-----------------------------+-----------+\n"
     ]
    }
   ],
   "source": [
    "density = 988 #g/L\n",
    "volumes = mass_liquid/density\n",
    "mass_carbon_mg = mass_carbon * 1000 # convert to mg\n",
    "F_abs = (200 - measurement) * volumes / (mass_carbon_mg)\n",
    "\n",
    "# Show a table of the results\n",
    "print(\"\\nResults:\")\n",
    "results = np.column_stack((rows[1:], F_abs))\n",
    "rows[0].append(\"F_abs\")\n",
    "print(tabulate(results, headers=rows[0], tablefmt=\"grid\"))\n"
   ]
  },
  {
   "cell_type": "markdown",
   "id": "0960be25",
   "metadata": {},
   "source": [
    "#### Plot and fit\n",
    "We then plotted the results and seen that there is a value that swkes the results (the \"90\").  \n",
    "It was therefore discarted"
   ]
  },
  {
   "cell_type": "code",
   "execution_count": 97,
   "id": "0319bbf0",
   "metadata": {},
   "outputs": [],
   "source": [
    "# Remove the discarded point from the arrays\n",
    "measurement_g = measurement / 1000 # mg/L --> g/L\n",
    "measurement_clean = np.delete(measurement_g, i_discard)\n",
    "F_abs_clean = np.delete(F_abs, i_discard)"
   ]
  },
  {
   "cell_type": "code",
   "execution_count": 99,
   "id": "679a4ef9",
   "metadata": {},
   "outputs": [
    {
     "data": {
      "image/png": "[encoded data removed]",
      "text/plain": [
       "<Figure size 640x480 with 1 Axes>"
      ]
     },
     "metadata": {},
     "output_type": "display_data"
    }
   ],
   "source": [
    "import matplotlib.pyplot as plt\n",
    "\n",
    "# Index of the discarded point\n",
    "i_discard = 2  # example\n",
    "\n",
    "# Plot all valid points except the discarded one\n",
    "plt.plot(np.delete(measurement_g, i_discard), np.delete(F_abs, i_discard), 'bo', label='Valid data')\n",
    "\n",
    "# Plot the discarded point as a red cross\n",
    "plt.plot(measurement_g[i_discard], F_abs[i_discard], 'rx', markersize=10, linestyle='', label='Discarded')\n",
    "\n",
    "# Fit to a power law\n",
    "from scipy.optimize import curve_fit\n",
    "\n",
    "# --- Fit to power law ---\n",
    "def power_law(x, a, b):\n",
    "    return a * x ** b\n",
    "\n",
    "# Perform the fit\n",
    "params, covariance = curve_fit(power_law, measurement_clean, F_abs_clean)\n",
    "a, b = params\n",
    "\n",
    "# Predict fitted values\n",
    "F_abs_pred = power_law(measurement_clean, a, b)\n",
    "\n",
    "# Compute R² manually\n",
    "ss_res = np.sum((F_abs_clean - F_abs_pred) ** 2)\n",
    "ss_tot = np.sum((F_abs_clean - np.mean(F_abs_clean)) ** 2)\n",
    "r_squared = 1 - (ss_res / ss_tot)\n",
    "\n",
    "# Generate fitted curve\n",
    "x_fit = np.linspace(min(measurement_clean), max(measurement_clean), 100)\n",
    "y_fit = power_law(x_fit, a, b)\n",
    "\n",
    "# Plot the fitted curve\n",
    "plt.plot(x_fit, y_fit, 'b--', label='Fitted curve')\n",
    "\n",
    "# Annotate equation and R² on the plot\n",
    "eq_text = f\"$F_{{abs}} = {a:.4g} \\cdot x^{{{b:.4f}}}$\\n$R^2 = {r_squared:.4f}$\"\n",
    "plt.text(0.05, 0.95, eq_text, transform=plt.gca().transAxes,\n",
    "         fontsize=12, verticalalignment='top')\n",
    "\n",
    "# Labels and legend\n",
    "plt.xlabel(\"mass_carbon [g]\")\n",
    "plt.ylabel(\"F_abs\")\n",
    "plt.legend(loc='lower right')\n",
    "plt.grid(True)\n",
    "plt.show()\n"
   ]
  }
 ],
 "metadata": {
  "kernelspec": {
   "display_name": "base",
   "language": "python",
   "name": "python3"
  },
  "language_info": {
   "codemirror_mode": {
    "name": "ipython",
    "version": 3
   },
   "file_extension": ".py",
   "mimetype": "text/x-python",
   "name": "python",
   "nbconvert_exporter": "python",
   "pygments_lexer": "ipython3",
   "version": "3.11.5"
  }
 },
 "nbformat": 4,
 "nbformat_minor": 5
}
