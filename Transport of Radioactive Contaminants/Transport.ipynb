{
 "cells": [
  {
   "cell_type": "markdown",
   "id": "d1f7eb97",
   "metadata": {},
   "source": [
    "# Transport of NaNO3 in a sand matrix"
   ]
  },
  {
   "cell_type": "markdown",
   "id": "d3ca47c1",
   "metadata": {},
   "source": [
    "First of all we did an estimation of what $\\dot{Q}$ and $\\Delta t$ to set in order to observe the whole process in a relativly short time.\n",
    "For the $\\Delta t$ we settled on 480 seconds  \n",
    "Measurment time (and therfore measurment points): 1200 seconds"
   ]
  },
  {
   "cell_type": "code",
   "execution_count": 6,
   "id": "5e30c202",
   "metadata": {},
   "outputs": [
    {
     "name": "stdout",
     "output_type": "stream",
     "text": [
      "Required velocity: 0.065 m/s\n"
     ]
    }
   ],
   "source": [
    "length_column = 19.5\n",
    "diameter_column = 1\n",
    "time_before_breakthrough = 5*60 # 5 minutes\n",
    "\n",
    "required_velocity = length_column / time_before_breakthrough\n",
    "print(f\"Required velocity: {required_velocity} m/s\")"
   ]
  },
  {
   "cell_type": "code",
   "execution_count": 7,
   "id": "ffa7551c",
   "metadata": {},
   "outputs": [
    {
     "name": "stdout",
     "output_type": "stream",
     "text": [
      "Column volume: 15.307500000000001 m^3\n"
     ]
    }
   ],
   "source": [
    "flow_area = 3.14 * (diameter_column / 2)**2\n",
    "column_volume = length_column * flow_area\n",
    "print(f\"Column volume: {column_volume} m^3\")"
   ]
  },
  {
   "cell_type": "code",
   "execution_count": 8,
   "id": "c4f5d6fd",
   "metadata": {},
   "outputs": [
    {
     "name": "stdout",
     "output_type": "stream",
     "text": [
      "Porosity: 0.42619630899885674\n"
     ]
    }
   ],
   "source": [
    "water_mass = 6.524 #grams\n",
    "water_density = 1 #grams/cm^3\n",
    "water_volume = water_mass / water_density # cm^3\n",
    "porosity = water_volume / column_volume # cm^3/cm^3\n",
    "print(f\"Porosity: {porosity}\")"
   ]
  },
  {
   "cell_type": "code",
   "execution_count": 10,
   "id": "83ab1c26",
   "metadata": {},
   "outputs": [
    {
     "name": "stdout",
     "output_type": "stream",
     "text": [
      "Real volume flow rate: 1.3047999999999997 cm^3/min = mL/min\n"
     ]
    }
   ],
   "source": [
    "real_volume_flow_rate = required_velocity * porosity * flow_area * 60\n",
    "print(f\"Real volume flow rate: {real_volume_flow_rate} cm^3/min = mL/min\")"
   ]
  },
  {
   "cell_type": "markdown",
   "id": "2d529da2",
   "metadata": {},
   "source": [
    "From this lower limit wr choose to set it to $2 \\frac{mL}{min}$ considering that the real flow rate qill be lower than the one the pump is trying to impose since the column and the pipes have some resistance!"
   ]
  }
 ],
 "metadata": {
  "kernelspec": {
   "display_name": "base",
   "language": "python",
   "name": "python3"
  },
  "language_info": {
   "codemirror_mode": {
    "name": "ipython",
    "version": 3
   },
   "file_extension": ".py",
   "mimetype": "text/x-python",
   "name": "python",
   "nbconvert_exporter": "python",
   "pygments_lexer": "ipython3",
   "version": "3.11.5"
  }
 },
 "nbformat": 4,
 "nbformat_minor": 5
}
