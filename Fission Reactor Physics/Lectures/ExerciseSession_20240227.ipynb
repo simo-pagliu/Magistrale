{
  "nbformat": 4,
  "nbformat_minor": 0,
  "metadata": {
    "colab": {
      "provenance": [],
      "collapsed_sections": [
        "FiDPRm4ZvHRG"
      ]
    },
    "kernelspec": {
      "name": "python3",
      "display_name": "Python 3"
    },
    "language_info": {
      "name": "python"
    }
  },
  "cells": [
    {
      "cell_type": "markdown",
      "source": [
        "# Exercise 1: Decay Chain\n",
        "\n",
        "Study the evolution of the numbers, expressed with respect to their initial values, for the nuclei $X$, $Y$ and $Z$ with decay constants $\\lambda$ and $\\mu$ for $X$ and $Y$ respectively, and where $Z$ is assumed to be stable. Apply the previous results to the Xe-135 chain:\n",
        "\\begin{equation}\n",
        "    ^{135}I \\rightarrow ^{135}Xe \\rightarrow ^{135}Cs\n",
        "\\end{equation}\n",
        "Radioactive half-lives:\n",
        "* Iodine: 6.53 h\n",
        "* Xenon: 9.17 h\n",
        "* Caesium: 2.6 $\\times$ 10$^6$ h (effectively infinite)"
      ],
      "metadata": {
        "id": "MWEY_F26vohb"
      }
    },
    {
      "cell_type": "markdown",
      "source": [
        "## Direct Solution"
      ],
      "metadata": {
        "id": "3R0UOwJ9vuNU"
      }
    },
    {
      "cell_type": "code",
      "source": [
        "## Package import\n",
        "\n",
        "import numpy as np\n",
        "import matplotlib.pyplot as plt\n",
        "\n",
        "## Variable definition\n",
        "\n",
        "TauI = 6.57 # hours\n",
        "TauXe = 9.14 # hours\n",
        "\n",
        "## Initial conditions\n",
        "I0 = 1\n",
        "Xe0 = 0\n",
        "Cs0 = 0\n",
        "\n",
        "## Decay constants / SI conversion\n",
        "\n",
        "LambdaI = np.log(2)/(TauI * 60 * 60)\n",
        "LambdaXe = np.log(2)/(TauXe * 60 * 60)\n",
        "\n",
        "## Define the time intervals\n",
        "\n",
        "t0 = 0\n",
        "tf = 3 * 24 * 3600 # 1 day\n",
        "k = 5000\n",
        "\n",
        "t_s = np.linspace(t0,tf,k)\n",
        "\n",
        "## Analytical functions (Lambda approach)\n",
        "\n",
        "IConc = lambda t,I0: I0*np.exp(-LambdaI*t)\n",
        "XeConc = lambda t,I0,Xe0: (\n",
        "    Xe0*np.exp(-(LambdaXe)*t)) + (\n",
        "        (LambdaI*I0)/(LambdaI - LambdaXe) * (\n",
        "        -np.exp(-LambdaI*t)+np.exp(-(LambdaXe)*t)))\n",
        "CsConc = lambda t,Xe0,Cs0: Cs0+(\n",
        "    Xe0*(1-np.exp(-LambdaXe*t)))+(\n",
        "        I0*(1-(LambdaXe)/(LambdaXe-LambdaI)*np.exp(-LambdaI*t)+(LambdaI)/(\n",
        "            LambdaXe-LambdaI)*np.exp(-LambdaXe*t)))\n",
        "\n",
        "# Short-time evolution (3 days)\n",
        "\n",
        "I_s = IConc(t_s,I0)\n",
        "Xe_s = XeConc(t_s,I0,Xe0)\n",
        "Cs_s = CsConc(t_s,Xe0,Cs0)\n",
        "\n",
        "plt.plot(t_s/(24*3600),I_s, color = 'darkblue', label='Iodine')\n",
        "plt.plot(t_s/(24*3600),Xe_s, color = 'darkred', label='Xenon')\n",
        "plt.plot(t_s/(24*3600),Cs_s, color = 'forestgreen', label='Caesium')\n",
        "plt.xlabel('Time (days)')\n",
        "plt.ylabel('Normalised concentration (-)')\n",
        "plt.legend(loc = 'best')\n",
        "plt.grid()\n"
      ],
      "metadata": {
        "id": "pBt6CV-DvrDK"
      },
      "execution_count": null,
      "outputs": []
    },
    {
      "cell_type": "code",
      "source": [
        "# Compute the rate of change (derivatives)\n",
        "\n",
        "dI = -LambdaI*I_s\n",
        "dXe = LambdaI*I_s - LambdaXe*Xe_s\n",
        "dCs = LambdaXe*Xe_s\n",
        "\n",
        "plt.plot(t_s/(24*3600),dI,'b',label=r'$\\frac{dI}{dt}$')\n",
        "plt.plot(t_s/(24*3600),dXe,'r',label=r'$\\frac{dXe}{dt}$')\n",
        "plt.plot(t_s/(24*3600),dCs,'g',label=r'$\\frac{dCs}{dt}$')\n",
        "\n",
        "plt.grid('g--',linewidth = 0.5)\n",
        "plt.ylabel('Rate of Change')\n",
        "plt.xlabel('Time (days)')\n",
        "plt.title('I-Xe-Cs Decay Chain')\n",
        "plt.legend();"
      ],
      "metadata": {
        "id": "tUUMN0rq4knl"
      },
      "execution_count": null,
      "outputs": []
    },
    {
      "cell_type": "code",
      "source": [
        "# Find the half-life point\n",
        "\n",
        "tf_long = 365*24*3600\n",
        "k_long = 10000\n",
        "\n",
        "t_long = np.linspace(t0,tf_long,k_long)\n",
        "\n",
        "I_Long = IConc(t_long,I0)\n",
        "Xe_Long = XeConc(t_long,I0,Xe0)\n",
        "Cs_Long = CsConc(t_long,Xe0,Cs0)\n",
        "\n",
        "I_halflife = I_Long[np.where(t_long/(24*3600) >= TauI)][0]\n",
        "Xe_halflife = Xe_Long[np.where(t_long/(24*3600) >= TauXe)][0]\n",
        "Cs_halflife = Cs_Long[np.where(t_long/(24*3600) >= TauXe)][0]\n",
        "\n",
        "print(f'I concentration after half-life ({(round(TauI,2))} days): {I_halflife}')\n",
        "print(f'Xe concentration after half-life ({(round(TauXe,2))} days): {Xe_halflife}')\n",
        "print(f'Cs concentration after Xe half-life ({(round(TauXe,2))} days): {Cs_halflife}')\n",
        "\n"
      ],
      "metadata": {
        "colab": {
          "base_uri": "https://localhost:8080/",
          "height": 0
        },
        "id": "mW-7_ky85Y5h",
        "outputId": "9e2016e9-da17-4da7-f234-7abab7a23eed"
      },
      "execution_count": 3,
      "outputs": [
        {
          "output_type": "stream",
          "name": "stdout",
          "text": [
            "I concentration after half-life (6.57 days): 5.9505561805305695e-08\n",
            "Xe concentration after half-life (9.14 days): 2.0320569886978895e-07\n",
            "Cs concentration after Xe half-life (9.14 days): 0.9999997967102541\n"
          ]
        }
      ]
    },
    {
      "cell_type": "code",
      "source": [
        "# Asymptotic behaviour\n",
        "\n",
        "Cs_Inf = 0\n",
        "t_new = 0\n",
        "t_increment = 60\n",
        "\n",
        "while Cs_Inf < I0:\n",
        "  t_new += t_increment\n",
        "  Cs_Inf = CsConc(t_new,Xe0,Cs0)\n",
        "\n",
        "print(f\"The asymptotic concentration for Cs ({(Cs_Inf)}) is reached after {(round(t_new/(3600*24)))} days\")"
      ],
      "metadata": {
        "colab": {
          "base_uri": "https://localhost:8080/",
          "height": 0
        },
        "id": "-DZwmEAt66ag",
        "outputId": "dc2eff2d-4406-44cf-f61d-77b46c019029"
      },
      "execution_count": 4,
      "outputs": [
        {
          "output_type": "stream",
          "name": "stdout",
          "text": [
            "The asymptotic concentration for Cs (1.0) is reached after 21 days\n"
          ]
        }
      ]
    },
    {
      "cell_type": "markdown",
      "source": [
        "## Symbolic w/ Laplace\n",
        "\n",
        "Study the evolution of the numbers, expressed with respect to their initial values, for the nuclei $X$, $Y$ and $Z$ with decay constants $\\lambda$ and $\\mu$ for $X$ and $Y$ respectively, and where $Z$ is assumed to be stable. Apply the previous results to the Xe-135 chain:\n",
        "\\begin{equation}\n",
        "    ^{135}I \\rightarrow ^{135}Xe \\rightarrow ^{135}Cs\n",
        "\\end{equation}\n",
        "Radioactive half-lives:\n",
        "* Iodine: 6.53 h\n",
        "* Xenon: 9.17 h\n",
        "* Caesium: 2.6 $\\times$ 10$^6$ h (effectively infinite)"
      ],
      "metadata": {
        "id": "FiDPRm4ZvHRG"
      }
    },
    {
      "cell_type": "code",
      "execution_count": 5,
      "metadata": {
        "colab": {
          "base_uri": "https://localhost:8080/",
          "height": 472
        },
        "id": "RuBKPLM5vFx_",
        "outputId": "194a8b5c-474e-45aa-8c33-6b292f5c5cad"
      },
      "outputs": [
        {
          "output_type": "display_data",
          "data": {
            "text/plain": [
              "<Figure size 640x480 with 1 Axes>"
            ],
            "image/png": "[encoded data removed]"
          },
          "metadata": {}
        }
      ],
      "source": [
        "import sympy as sym\n",
        "import numpy as num\n",
        "from sympy import laplace_transform as Laplace\n",
        "from sympy import inverse_laplace_transform as InvLaplace\n",
        "import matplotlib.pyplot as plt\n",
        "\n",
        "symLambda = sym.symbols('lambda')\n",
        "symMu = sym.symbols('mu')\n",
        "symt = sym.symbols('t', positive = True)\n",
        "syms = sym.symbols('s')\n",
        "\n",
        "symX = sym.Function('X')(symt)\n",
        "symY = sym.Function('Y')(symt)\n",
        "symZ = sym.Function('Z')(symt)\n",
        "\n",
        "Bateman = [\n",
        "    sym.Eq(sym.diff(symX),-symLambda*symX),\n",
        "    sym.Eq(sym.diff(symY),symLambda*symX - symMu*symY),\n",
        "    sym.Eq(sym.diff(symZ),symMu*symY),\n",
        "]\n",
        "\n",
        "# LAPLACE TRANSFORM\n",
        "\n",
        "BatemanLaplace = [\n",
        "    sym.Eq(\n",
        "        Laplace(Bateman[0].lhs,symt,syms, noconds = True),\n",
        "        Laplace(Bateman[0].rhs,symt,syms, noconds = True)\n",
        "    ),\n",
        "    sym.Eq(\n",
        "        Laplace(Bateman[1].lhs,symt,syms, noconds = True),\n",
        "        Laplace(Bateman[1].rhs,symt,syms, noconds = True)\n",
        "    ),\n",
        "    sym.Eq(\n",
        "        Laplace(Bateman[2].lhs,symt,syms, noconds = True),\n",
        "        Laplace(Bateman[2].rhs,symt,syms, noconds = True)\n",
        "    )\n",
        "]\n",
        "\n",
        "LaplaceX = sym.solve(BatemanLaplace[0],sym.LaplaceTransform(symX,symt,syms))[0]\n",
        "\n",
        "LaplaceY = sym.solve(\n",
        "    BatemanLaplace[1].subs(sym.LaplaceTransform(symX,symt,syms),LaplaceX),sym.LaplaceTransform(symY,symt,syms))[0]\n",
        "\n",
        "LaplaceZ = sym.solve(\n",
        "    BatemanLaplace[2].subs(sym.LaplaceTransform(symY,symt,syms),LaplaceY),sym.LaplaceTransform(symZ,symt,syms))[0]\n",
        "\n",
        "# DIRECT ANTITRANSFORMATION\n",
        "\n",
        "X = InvLaplace(LaplaceX,syms,symt)\n",
        "Y = InvLaplace(LaplaceY,syms,symt)\n",
        "Z = InvLaplace(LaplaceZ,syms,symt)\n",
        "\n",
        "numLambda = num.log(2)/6.53\n",
        "numMu = num.log(2)/9.17\n",
        "\n",
        "X = X.subs({\n",
        "    symLambda:numLambda,\n",
        "    symX.subs(symt,0):1\n",
        "})\n",
        "Y = Y.subs({\n",
        "    symLambda:numLambda,\n",
        "    symMu:numMu,\n",
        "    symX.subs(symt,0):1,\n",
        "    symY.subs(symt,0):0,\n",
        "})\n",
        "Z = Z.subs({\n",
        "    symMu:numMu,\n",
        "    symX.subs(symt,0):1,\n",
        "    symY.subs(symt,0):0,\n",
        "    symZ.subs(symt,0):0,\n",
        "    symLambda:numLambda,\n",
        "})\n",
        "\n",
        "# NUMERICAL SOLUTION\n",
        "\n",
        "numX = sym.lambdify(symt,X)\n",
        "numY = sym.lambdify(symt,Y)\n",
        "numZ = sym.lambdify(symt,Z)\n",
        "\n",
        "t = num.linspace(0,72,1000)\n",
        "\n",
        "plt.plot(t,numX(t), color = 'darkblue', label = 'Iodine')\n",
        "plt.plot(t,numY(t), color = 'darkred', label = 'Xenon')\n",
        "plt.plot(t,numZ(t), color = 'forestgreen', label = 'Caesium')\n",
        "plt.title('Decay Chain (3 days)')\n",
        "plt.grid(which = 'major')\n",
        "plt.xlabel('Time (h)')\n",
        "plt.ylabel('C/C0')\n",
        "plt.legend(loc = 'best');"
      ]
    },
    {
      "cell_type": "markdown",
      "source": [
        "## Direct Solution (In-Core)"
      ],
      "metadata": {
        "id": "reHLD0o5vlOd"
      }
    },
    {
      "cell_type": "markdown",
      "source": [
        "\\begin{equation}\n",
        "    I(t) = I_0\\cdot e^{-\\lambda_It} + \\frac{y_I\\cdot R_{I}}{\\lambda_I}(1-e^{-\\lambda_It})\n",
        "\\end{equation}\n",
        "\n",
        "\\begin{equation}\n",
        "    Xe(t) = Xe_0\\cdot e^{-(\\lambda_{Xe}+R_{Xe})t} + \\frac{I_0\\cdot \\lambda_I-y_I\\cdot R_F}{\\lambda_I-\\lambda_{Xe}-R_{Xe}}(-e^{\\lambda_It}+e^{-(\\lambda_{Xe}+R_{Xe})}) + \\frac{(y_I+y_{Xe})R_F}{\\lambda_{Xe}+R_{Xe}}(1-e^{-(\\lambda_{Xe}+R_{Xe})t})\n",
        "\\end{equation}\n",
        "\n",
        "\\begin{equation}\n",
        "    Cs(t) = Cs_0 + Xe_0\\cdot(1-e^{-\\lambda_{Xe}t})+I_0\\left(\\frac{\n",
        "    1-\\lambda_{Xe}}{\\lambda_{Xe}-\\lambda_I}e^{-\\lambda_It}+\\frac{\\lambda_I}{\\lambda_{Xe}-\\lambda_I}e^{-\\lambda_{Xe}t}\\right)\n",
        "\\end{equation}"
      ],
      "metadata": {
        "id": "lCtndJw6Ptlh"
      }
    },
    {
      "cell_type": "code",
      "source": [
        "## Package import\n",
        "\n",
        "import numpy as np\n",
        "import matplotlib.pyplot as plt\n",
        "\n",
        "## Variable definition\n",
        "\n",
        "RateF = 9.34 * 10 ** (19) # fission/seconds\n",
        "RateXe = 8.1 * 10 ** (-5) # captures/seconds\n",
        "YieldI = 0.0639\n",
        "TauI = 6.57 # hours\n",
        "YieldXe = 0.00237\n",
        "TauXe = 9.14 # hours\n",
        "\n",
        "## Initial conditions\n",
        "I0 = 1\n",
        "Xe0 = 0\n",
        "Cs0 = 0\n",
        "\n",
        "## Decay constants / SI conversion\n",
        "\n",
        "TauConv = lambda Tau: np.log(2)/Tau\n",
        "\n",
        "LambdaI = TauConv(TauI * 3600)\n",
        "LambdaXe = TauConv(TauXe * 3600)\n",
        "\n",
        "## Define the time intervals\n",
        "\n",
        "t0 = 0\n",
        "tf = 3 * 24 * 3600 # 3 days\n",
        "k = 5000\n",
        "\n",
        "t_s = np.linspace(t0,tf,k)\n",
        "\n",
        "## Analytical functions (Lambda approach)\n",
        "\n",
        "IConc = lambda t,I0: I0*np.exp(-LambdaI*t) + (YieldI*RateF)/(LambdaI) * (\n",
        "    1 - np.exp(-LambdaI*t))\n",
        "XeConc = lambda t,I0,Xe0: Xe0*np.exp(-(LambdaXe+RateXe)*t) + (\n",
        "    LambdaI*I0 - YieldI*RateF)/(LambdaI - LambdaXe - RateXe) * (\n",
        "        -np.exp(-LambdaI*t)+np.exp(-(LambdaXe+RateXe)*t)) + ((\n",
        "            YieldI+YieldXe)*RateF)/(LambdaXe+RateXe) * (1 - np.exp(-(\n",
        "                LambdaXe+RateXe)*t))\n",
        "CsConc = lambda t,Xe0,Cs0: Cs0+Xe0*(1-np.exp(-LambdaXe*t))+I0*(\n",
        "    1-(LambdaXe)/(LambdaXe-LambdaI)*np.exp(-LambdaI*t)+(LambdaI)/(\n",
        "        LambdaXe-LambdaI)*np.exp(-LambdaXe*t))\n",
        "\n",
        "# Short-time evolution (3 days)\n",
        "\n",
        "I_s = IConc(t_s,I0)\n",
        "Xe_s = XeConc(t_s,I0,Xe0)\n",
        "Cs_s = XeConc(t_s,Xe0,Cs0)\n",
        "\n",
        "plt.plot(t_s/(24*3600),I_s, color = 'darkblue', label='Iodine')\n",
        "plt.plot(t_s/(24*3600),Xe_s, color = 'darkred', label='Xenon')\n",
        "plt.xlabel('Time (days)')\n",
        "plt.ylabel('Normalised concentration (-)')\n",
        "plt.legend(loc = 'best')\n",
        "plt.grid()\n",
        "\n",
        "# Steady-state\n",
        "\n",
        "I_S = (YieldI*RateF)/(LambdaI)\n",
        "Xe_S = (YieldI+YieldXe)*RateF/(LambdaXe+RateXe)\n",
        "\n",
        "print(\"Steady-state I concentration: \" + str(I_S))\n",
        "print(\"Steady-state Xe concentration: \" + str(Xe_S))\n",
        "\n"
      ],
      "metadata": {
        "id": "GGOdXk3U0HMF"
      },
      "execution_count": null,
      "outputs": []
    },
    {
      "cell_type": "code",
      "source": [
        "# Assumption: shut-down after 3 days for 3 days\n",
        "\n",
        "RateXe = 0\n",
        "RateF = 0\n",
        "\n",
        "I0 = I_S\n",
        "Xe0 = Xe_S\n",
        "\n",
        "tf_l = 3 * 24 * 3600 # 1 days\n",
        "k_l = 5000\n",
        "\n",
        "t_l = np.linspace(t0,tf_l,k_l)\n",
        "\n",
        "I_l = IConc(t_l,I_s[-1])\n",
        "Xe_l = XeConc(t_l,I_s[-1],Xe_s[-1])\n",
        "\n",
        "plt.plot(t_l/(3600),I_l/I0, color = 'darkblue', label='Iodine')\n",
        "plt.plot(t_l/(3600),Xe_l/Xe0, color = 'darkred', label='Xenon')\n",
        "plt.xlabel('Time (hours)')\n",
        "plt.ylabel('Normalised concentration (-)')\n",
        "plt.legend(loc = 'best')\n",
        "plt.grid()\n"
      ],
      "metadata": {
        "id": "4OepGW5Q1bBd"
      },
      "execution_count": null,
      "outputs": []
    },
    {
      "cell_type": "code",
      "source": [
        "## Reactor restart after 3 days\n",
        "\n",
        "RateF = 2 * 9.34 * 10 ** (19)  # fission/seconds\n",
        "RateXe = 8.1 * 10 ** (-5)  # captures/seconds\n",
        "\n",
        "tf_r = 3 * 24 * 3600 # 3 days\n",
        "k_r = 5000\n",
        "\n",
        "t_r = np.linspace(t0,tf_r,k_r)\n",
        "\n",
        "I_r = IConc(t_r,I_l[-1])\n",
        "Xe_r = XeConc(t_r,I_l[-1],Xe_l[-1])\n",
        "\n",
        "plt.plot(t_r/(24*3600),I_r/I_S,color = 'darkblue', label='Iodine')\n",
        "plt.plot(t_r/(24*3600),Xe_r/Xe_S, color = 'darkred', label='Xenon')\n",
        "plt.xlabel('Time (hours)')\n",
        "plt.ylabel('Normalised concentration (-)')\n",
        "plt.legend(loc = 'best')\n",
        "plt.grid()"
      ],
      "metadata": {
        "id": "76PGAnhd1srK"
      },
      "execution_count": null,
      "outputs": []
    },
    {
      "cell_type": "code",
      "source": [
        "## Plot combine (30 days on - 1 day shut - 7 days half power)\n",
        "\n",
        "t0 = 0\n",
        "t1 = t_s[-1]\n",
        "t2 = t1 + t_l[-1]\n",
        "t3 = t2 + t_r[-1]\n",
        "\n",
        "I = np.concatenate((I_s, I_l, I_r), axis=None)\n",
        "Xe = np.concatenate((Xe_s, Xe_l, Xe_r), axis=None)\n",
        "t = np.concatenate((t_s,(t1+t_l),(t2+t_r)),axis=None)\n",
        "\n",
        "plt.plot(t/(24*3600),I, color = 'darkblue', label='Iodine')\n",
        "plt.plot(t/(24*3600),Xe, color = 'darkred', label='Xenon')\n",
        "plt.axvline(x=t_s[-1]/(24*3600),color='black',linestyle='--')\n",
        "plt.axvline(x=(t_s[-1]+t_l[-1])/(24*3600),color='black',linestyle='--')\n",
        "plt.xlabel('Time (days)')\n",
        "plt.ylabel('Normalised concentration')\n",
        "plt.grid()\n",
        "plt.legend()\n",
        "plt.axvspan(t0,t1/(24*3600),color = 'forestgreen',alpha = 0.15)\n",
        "plt.axvspan(t1/(24*3600), t2/(24*3600),color = 'orange',alpha = 0.15)\n",
        "plt.axvspan(t2/(24*3600),t3/(24*3600),color = 'forestgreen',alpha = 0.15)"
      ],
      "metadata": {
        "id": "qeLCfMSM2tBj"
      },
      "execution_count": null,
      "outputs": []
    },
    {
      "cell_type": "markdown",
      "source": [
        "## Lead-Bismuth Decay Chain"
      ],
      "metadata": {
        "id": "--byKTAy_Joy"
      }
    },
    {
      "cell_type": "code",
      "source": [
        "import numpy as np\n",
        "import matplotlib.pyplot as plt\n",
        "\n",
        "# Define the problem data\n",
        "\n",
        "TauBismuth = 5.012\n",
        "TauPolonium = 138.376\n",
        "\n",
        "InitialBismuth = 2 * 10 ** -10\n",
        "InitialPolonium = 0\n",
        "InitialLead = 0\n",
        "\n",
        "LambdaBismuth = np.log(2)/(TauBismuth*24*3600)\n",
        "LambdaPolonium = np.log(2)/(TauPolonium*24*3600)\n",
        "\n",
        "print(f'Bismuth decay constant = {LambdaBismuth}')\n",
        "print(f'Polonium decay constant = {LambdaPolonium}')\n",
        "\n",
        "# Define the time discretisation vector\n",
        "\n",
        "EndTime = 30 * 24 * 3600\n",
        "Time = np.linspace(0,EndTime,1000)\n",
        "\n",
        "# Write down the analytical solutions\n",
        "\n",
        "BiConcentration = lambda t: InitialBismuth * np.exp(-LambdaBismuth*t)\n",
        "PoConcentration = lambda t: LambdaBismuth*InitialBismuth * ((\n",
        "    np.exp(-LambdaBismuth*t))/(LambdaPolonium-LambdaBismuth) + np.exp(\n",
        "        -LambdaPolonium*t)/(LambdaBismuth-LambdaPolonium))\n",
        "PbConcentration = lambda t: InitialBismuth*(1-(LambdaPolonium*np.exp(\n",
        "    -LambdaBismuth*t))/(LambdaPolonium-LambdaBismuth)-(\n",
        "        LambdaBismuth*np.exp(-LambdaPolonium*t)/(LambdaBismuth-LambdaPolonium)))\n",
        "\n",
        "# Compute and plot the solution\n",
        "\n",
        "Bi = BiConcentration(Time)\n",
        "Po = PoConcentration(Time)\n",
        "Pb = PbConcentration(Time)\n",
        "\n",
        "plt.figure(figsize=(14,6))\n",
        "plt.subplot(1,3,1)\n",
        "plt.plot(Time,Bi, color = 'darkred',label = 'Bismuth')\n",
        "plt.plot(Time,Po, color = 'forestgreen',label = 'Polonium')\n",
        "plt.plot(Time,Pb, color = 'darkblue',label = 'Lead')\n",
        "plt.ylabel('Concentration')\n",
        "plt.xlabel('Time (sec)')\n",
        "plt.title(f'Bismuth-Lead decay chain ({EndTime/(24*3600)} days)')\n",
        "plt.grid()\n",
        "plt.legend(loc = 'best')\n",
        "\n",
        "# Compute the derivatives (rate of change)\n",
        "\n",
        "dBi = -LambdaBismuth*Bi\n",
        "dPo = -LambdaPolonium*Po + LambdaBismuth*Bi\n",
        "dPb = LambdaPolonium*Po\n",
        "\n",
        "plt.subplot(1,3,2)\n",
        "plt.plot(Time,dBi, color = 'darkred',label = 'Bismuth')\n",
        "plt.plot(Time,dPo, color = 'forestgreen',label = 'Polonium')\n",
        "plt.plot(Time,dPb, color = 'darkblue',label = 'Lead')\n",
        "plt.ylabel('Concentration')\n",
        "plt.xlabel('Time (sec)')\n",
        "plt.title(f'Rate of change')\n",
        "plt.grid()\n",
        "plt.legend(loc = 'best')\n",
        "\n",
        "# Long-term solution (1 year)\n",
        "\n",
        "EndTime = 365 * 24 * 3600\n",
        "Time = np.linspace(0,EndTime,1000)\n",
        "\n",
        "Bi = BiConcentration(Time)\n",
        "Po = PoConcentration(Time)\n",
        "Pb = PbConcentration(Time)\n",
        "\n",
        "plt.subplot(1,3,3)\n",
        "plt.plot(Time,Bi, color = 'darkred',label = 'Bismuth')\n",
        "plt.plot(Time,Po, color = 'forestgreen',label = 'Polonium')\n",
        "plt.plot(Time,Pb, color = 'darkblue',label = 'Lead')\n",
        "plt.ylabel('Concentration')\n",
        "plt.xlabel('Time (sec)')\n",
        "plt.title(f'Bismuth-Lead decay chain ({EndTime/(24*3600)} days)')\n",
        "plt.grid()\n",
        "plt.legend(loc = 'best')\n",
        "\n",
        "# Find the half-life point\n",
        "\n",
        "BiHalved = Bi[np.where(Time/(24*3600) >= TauBismuth)][0]\n",
        "PoHalved = Po[np.where(Time/(24*3600) >= TauPolonium)][0]\n",
        "\n",
        "plt.subplot(1,3,3)\n",
        "plt.scatter(TauBismuth*(24*3600),BiHalved, color = 'darkred', s = 50, label = 'Half-life concentration (Bismuth)')\n",
        "plt.scatter(TauPolonium*(24*3600),PoHalved, color = 'forestgreen', s = 50, label = 'Half-life concentration (Polonium)')\n",
        "plt.legend(loc = 'best')\n",
        "\n",
        "plt.tight_layout()\n",
        "\n",
        "# Asymptotic behaviour\n",
        "\n",
        "PbStable = Pb[-1]\n",
        "StabilityTime = Time[-1]\n",
        "Increase = 365 * 24 * 3600\n",
        "while PbStable < InitialBismuth:\n",
        "    StabilityTime += Increase\n",
        "    PbStable = PbConcentration(StabilityTime)\n",
        "\n",
        "print(f'The asymptotic concentration of lead is reached after {StabilityTime/(365*24*3600)} years')"
      ],
      "metadata": {
        "id": "4HEccbEu_JPT"
      },
      "execution_count": null,
      "outputs": []
    },
    {
      "cell_type": "markdown",
      "source": [
        "# Fissile And Fissionable Nuclei"
      ],
      "metadata": {
        "id": "t0UoeMSEDw44"
      }
    },
    {
      "cell_type": "code",
      "source": [
        "import numpy as np\n",
        "import matplotlib.pyplot as plt\n",
        "from matplotlib import cm\n",
        "import matplotlib.patches as mpatches\n",
        "\n",
        "Nuclides = ['Th-232','Th-233','U-233','234-U','235-U','236-U','238-U','239-U','239-Pu','240-Pu']\n",
        "Z = np.array([90,90,92,92,92,92,92,92,94,94])\n",
        "AtomicMass = np.array([\n",
        "    232.03805, 233.04158, 233.03963, 234.04095, 235.04393, 236.04557, 238.05079, 239.05629, 239.05216, 240.05381])\n",
        "NucleonEnergy = 931.5 #MeV\n",
        "\n",
        "A = np.round(AtomicMass)\n",
        "N = A - Z\n",
        "\n",
        "ProtonMass = 1.007276\n",
        "NeutronMass = 1.008665\n",
        "\n",
        "BindingEnergy = (Z*ProtonMass + N*NeutronMass) - A #AMU\n",
        "BENucleon = BindingEnergy*NucleonEnergy/A\n",
        "\n",
        "# REACTIONS\n",
        "\n",
        "Reactions = [\n",
        "    '232-Th + n',\n",
        "    '233-Th',\n",
        "    '233-U + n',\n",
        "    '234-U',\n",
        "    '235-U + n',\n",
        "    '236-U',\n",
        "    '238-U + n',\n",
        "    '239-U',\n",
        "    '239-Pu + n',\n",
        "    '240-Pu'\n",
        "]\n",
        "\n",
        "CriticalEnergies = [5.9,6.5,5.5,4.6,5.75,5.3,5.85,5.5,5.5,4]\n",
        "\n",
        "AddingN = AtomicMass\n",
        "AddingN[0::2] = AtomicMass[0::2]+NeutronMass\n",
        "\n",
        "DeltaEnergy = []\n",
        "\n",
        "KBlue = cm.winter(np.linspace(0,1,3))\n",
        "KRed = cm.autumn(np.linspace(0,1,5))\n",
        "\n",
        "for ii in range(0,len(AddingN),2):\n",
        "    DeltaEnergy.append((AddingN[ii]-AddingN[ii+1])*NucleonEnergy)\n",
        "\n",
        "kk = 0\n",
        "jj = 0\n",
        "shift = 1\n",
        "W = 0.5\n",
        "\n",
        "for ii in range(len(DeltaEnergy)):\n",
        "    if DeltaEnergy[ii] > CriticalEnergies[2*ii]:\n",
        "        print(f'The nuclide {Nuclides[ii*2]} is fissile')\n",
        "        B = plt.bar(Nuclides[ii*2],DeltaEnergy[ii], color = KRed[kk],width=W)\n",
        "        plt.hlines(CriticalEnergies[2*ii],(shift*ii)+(-W/2),(shift*ii)+(W/2),color = 'black')\n",
        "        kk += 1\n",
        "    else:\n",
        "        print(f'The nuclide {Nuclides[ii*2]} is fissionable')\n",
        "        B = plt.bar(Nuclides[ii*2],DeltaEnergy[ii], color = KBlue[jj],width=W)\n",
        "        plt.hlines(CriticalEnergies[2*ii],(shift*ii)+(-W/2),(shift*ii)+(W/2),color = 'black')\n",
        "        jj += 1\n",
        "\n",
        "RedPatch = mpatches.Patch(color='red', label='Fissile')\n",
        "BluePatch = mpatches.Patch(color='blue', label='Fissionable')\n",
        "\n",
        "plt.grid()\n",
        "plt.ylabel(r'$\\Delta$ E')\n",
        "plt.legend(ncols = 2, handles = [RedPatch,BluePatch]);"
      ],
      "metadata": {
        "colab": {
          "base_uri": "https://localhost:8080/",
          "height": 521
        },
        "id": "Rdnk0gTtDxNP",
        "outputId": "3d0216d2-b3af-4563-87d3-e48d7897bf6d"
      },
      "execution_count": 101,
      "outputs": [
        {
          "output_type": "stream",
          "name": "stdout",
          "text": [
            "The nuclide Th-232 is fissionable\n",
            "The nuclide U-233 is fissile\n",
            "The nuclide 235-U is fissile\n",
            "The nuclide 238-U is fissionable\n",
            "The nuclide 239-Pu is fissile\n"
          ]
        },
        {
          "output_type": "display_data",
          "data": {
            "text/plain": [
              "<Figure size 640x480 with 1 Axes>"
            ],
            "image/png": "[encoded data removed]"
          },
          "metadata": {}
        }
      ]
    }
  ]
}