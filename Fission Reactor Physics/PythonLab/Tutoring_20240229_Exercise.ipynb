{
  "nbformat": 4,
  "nbformat_minor": 0,
  "metadata": {
    "colab": {
      "provenance": []
    },
    "kernelspec": {
      "name": "python3",
      "display_name": "Python 3"
    },
    "language_info": {
      "name": "python"
    }
  },
  "cells": [
    {
      "cell_type": "markdown",
      "source": [
        "**Radioactive decay chain Bismuth-Lead**\n",
        "\n",
        "\\begin{equation}\n",
        "_{83}^{210}\\text{Bi} \\;\\; ^{\\beta^{-}} \\rightarrow \\; _{84}^{210}\\text{Po} \\;\\; ^{\\alpha}\\rightarrow \\; _{82}^{206}\\text{Pb}\n",
        "\\end{equation}\n",
        "\n",
        "System of Ordinary Differential Equations (ODE)\n",
        "\n",
        "\\begin{aligned}\n",
        "\\frac{d \\text{Bi}}{d t} &= -\\lambda_{\\text{Bi}}\\text{Bi} \\\\\n",
        "\\frac{d \\text{Po}}{d t} &= -\\lambda_{\\text{Po}}\\text{Po} + \\lambda_{\\text{Bi}}\\text{Bi} \\\\\n",
        "\\frac{d \\text{Pb}}{d t} &= \\lambda_{\\text{Po}}\\text{Po} \\\\\n",
        "\\end{aligned}\n",
        "\n",
        "Analytical solution:\n",
        "\n",
        "\\begin{aligned}\n",
        "\\text{Bi}(t) &= \\text{Bi}_{0}\\exp(-\\lambda_{Bi}t) \\\\\n",
        "\\text{Po}(t) &= \\lambda_{\\text{Bi}}\\text{Bi}_{0}\\left(\\frac{\\exp(-\\lambda_{Bi}t)}{\\lambda_{\\text{Po}}-\\lambda_{\\text{Bi}}} + \\frac{\\exp(-\\lambda_{Po}t)}{\\lambda_{\\text{Bi}}-\\lambda_{\\text{Po}}} \\right) \\\\\n",
        "\\text{Pb}(t) &= \\text{Bi}_{0}\\left(1 - \\frac{\\lambda_{\\text{Po}}\\exp(-\\lambda_{Bi}t)}{\\lambda_{\\text{Po}}-\\lambda_{\\text{Bi}}} - \\frac{\\lambda_{\\text{Bi}}\\exp(-\\lambda_{Po}t)}{\\lambda_{\\text{Bi}}-\\lambda_{\\text{Po}}} \\right)\n",
        "\\end{aligned}"
      ],
      "metadata": {
        "id": "U71cvfHLY1cT"
      }
    },
    {
      "cell_type": "code",
      "execution_count": null,
      "metadata": {
        "id": "oOWCukHgYt7n"
      },
      "outputs": [],
      "source": [
        "# Import the module\n",
        "\n",
        "import sympy as sp\n",
        "import numpy as np\n",
        "\n",
        "# Define the variables and the functions\n",
        "\n",
        "t = sp.Symbol('t',nonnegative = True, Real = True)\n",
        "Bi0 = sp.Symbol('Bi_0', nonnegative = True, Real = True)\n",
        "LambdaBi = sp.Symbol('lambda_B', positive = True, Real = True)\n",
        "LambdaPo = sp.Symbol('lambda_P',positive = True, Real = True)\n",
        "\n",
        "nbi, npo, npb = sp.symbols('Bi Po Pb', cls = sp.Function)\n",
        "\n",
        "# Define the initial conditions\n",
        "\n",
        "IC = {\n",
        "    nbi(0):Bi0,\n",
        "    npo(0):0,\n",
        "    npb(0):0\n",
        "}\n",
        "\n",
        "# Write the system of equations\n",
        "\n",
        "System = [\n",
        "    sp.Eq(nbi(t).diff(t),-LambdaBi*nbi(t)),\n",
        "    sp.Eq(npo(t).diff(t),-LambdaPo*npo(t)+LambdaBi*nbi(t)),\n",
        "    sp.Eq(npb(t).diff(t),LambdaPo*npo(t))\n",
        "]"
      ]
    },
    {
      "cell_type": "code",
      "source": [
        "# We have a system of ODE, in the documentation look for the suitable solver"
      ],
      "metadata": {
        "id": "yJU2LgyDbXQW"
      },
      "execution_count": null,
      "outputs": []
    },
    {
      "cell_type": "code",
      "source": [
        "# Solve the system of equations\n",
        "\n",
        "from sympy.solvers.ode import dsolve\n",
        "from sympy import latex\n",
        "\n",
        "SolutionIC = sp.dsolve(System, ics = IC) # If I want to specify the Initial conditions\n",
        "Solution = sp.dsolve(System)\n",
        "\n",
        "print(Solution[0])\n",
        "print(Solution[1])\n",
        "print(Solution[2])"
      ],
      "metadata": {
        "id": "KoVxwETbbSO4"
      },
      "execution_count": null,
      "outputs": []
    },
    {
      "cell_type": "code",
      "source": [
        "# Display the equation for Bi\n",
        "\n",
        "SolutionIC[0]"
      ],
      "metadata": {
        "id": "vGNdvWhQeJoW"
      },
      "execution_count": null,
      "outputs": []
    },
    {
      "cell_type": "code",
      "source": [
        "# Display the equation for Po\n",
        "\n",
        "SolutionIC[1]"
      ],
      "metadata": {
        "id": "LHo5qMDwe0sW"
      },
      "execution_count": null,
      "outputs": []
    },
    {
      "cell_type": "code",
      "source": [
        "# Display the equation for Pb\n",
        "\n",
        "SolutionIC[2]"
      ],
      "metadata": {
        "id": "xSWRGo3Ofqe6"
      },
      "execution_count": null,
      "outputs": []
    },
    {
      "cell_type": "code",
      "source": [
        "# Define the numerical quantities and evaluate\n",
        "\n",
        "TauBi = sp.Float(5.012) #days\n",
        "TauPo = sp.Float(138.376) #days\n",
        "BiInitial = sp.Float(2E-10)\n",
        "\n",
        "LambdaBiNum = np.log(2)/TauBi #sp.log(2)/TauBi\n",
        "LambdaPoNum = np.log(2)/TauPo\n",
        "\n",
        "# Substitute the values\n",
        "\n",
        "BiConcentration = SolutionIC[0].rhs.subs({\n",
        "    Bi0:BiInitial,\n",
        "    LambdaBi:LambdaBiNum\n",
        "})\n",
        "\n",
        "PoConcentration = SolutionIC[1].rhs.subs({\n",
        "    Bi0:BiInitial,\n",
        "    LambdaBi:LambdaBiNum,\n",
        "    LambdaPo:LambdaPoNum\n",
        "})\n",
        "\n",
        "PbConcentration = SolutionIC[2].rhs.subs({\n",
        "    Bi0:BiInitial,\n",
        "    LambdaBi:LambdaBiNum,\n",
        "    LambdaPo:LambdaPoNum\n",
        "})\n",
        "\n",
        "print(f'Bi concentration: {BiConcentration}')\n",
        "print(f'Po concentration: {PoConcentration}')\n",
        "print(f'Pb concentration: {PbConcentration}')"
      ],
      "metadata": {
        "id": "2khQzxpBZivz"
      },
      "execution_count": null,
      "outputs": []
    },
    {
      "cell_type": "code",
      "source": [
        "# Plot (use matplotlib)\n",
        "\n",
        "import matplotlib.pyplot as plt\n",
        "\n",
        "BiLambdified = sp.lambdify(t, BiConcentration, 'numpy')\n",
        "PoLambdified = sp.lambdify(t, PoConcentration, 'numpy')\n",
        "PbLambdified = sp.lambdify(t, PbConcentration, 'numpy')\n",
        "\n",
        "Time = np.arange(0,30,0.01)\n",
        "\n",
        "plt.plot(Time,BiLambdified(Time),label = 'Bi')\n",
        "plt.plot(Time,PoLambdified(Time),label = 'Po')\n",
        "plt.plot(Time,PbLambdified(Time),label = 'Pb')\n",
        "plt.title('Bismuth - Lead decay chain')\n",
        "plt.xlabel('Time (days)')\n",
        "plt.ylabel('Concentration')\n",
        "plt.legend(loc = 'best')\n",
        "plt.grid()"
      ],
      "metadata": {
        "id": "MD37uMtdhyHP"
      },
      "execution_count": null,
      "outputs": []
    },
    {
      "cell_type": "markdown",
      "source": [
        "Asymptotic behaviour (analytical):\n",
        "\n",
        "\\begin{aligned}\n",
        "\\text{lim}_{t \\rightarrow +\\infty} \\text{Bi}(t) &= \\text{Bi}_{0}\\exp(-\\lambda_{\\text{Bi}}(+\\infty)) = 0 \\\\\n",
        "\\text{lim}_{t \\rightarrow +\\infty} \\text{Po}(t) &= \\lambda_{\\text{Bi}}\\text{Bi}_{0}\\left(\\frac{\\exp(-\\lambda_{Bi}(+\\infty))}{\\lambda_{\\text{Po}}-\\lambda_{\\text{Bi}}} + \\frac{\\exp(-\\lambda_{Po}(+\\infty))}{\\lambda_{\\text{Bi}}-\\lambda_{\\text{Po}}} \\right) = 0 \\\\\n",
        "\\text{lim}_{t \\rightarrow +\\infty} \\text{Pb}(t) &= \\text{Bi}_{0}\\left(1 - \\frac{\\lambda_{\\text{Po}}\\exp(-\\lambda_{Bi}(+\\infty))}{\\lambda_{\\text{Po}}-\\lambda_{\\text{Bi}}} - \\frac{\\lambda_{\\text{Bi}}\\exp(-\\lambda_{Po}(+\\infty))}{\\lambda_{\\text{Bi}}-\\lambda_{\\text{Po}}} \\right) = \\text{Bi}_{0}\n",
        "\\end{aligned}"
      ],
      "metadata": {
        "id": "H058Oopzit_H"
      }
    },
    {
      "cell_type": "code",
      "source": [
        "# Compute the asymptotic behaviour using Sympy\n",
        "# Warning: for limits, you should specify if your variables are negative or positive!\n",
        "# In this case, the limit will depend on the sign of lambdaBi and lambdaPo\n",
        "\n",
        "BiAsympt = sp.limit(SolutionIC[0].rhs,t,sp.oo)\n",
        "PoAsympt = sp.limit(SolutionIC[1].rhs,t,sp.oo)\n",
        "PbAsympt = sp.limit(SolutionIC[2].rhs,t,sp.oo)\n",
        "\n",
        "print(f'Asymptotic Bismuth = {BiAsympt}')\n",
        "print(f'Asymptotic Polonium = {PoAsympt}')\n",
        "print(f'Asymptotic Lead = {PbAsympt}')"
      ],
      "metadata": {
        "id": "lB85CtZUiw6Y"
      },
      "execution_count": null,
      "outputs": []
    },
    {
      "cell_type": "code",
      "source": [
        "# Now compute the concentration after 1 year\n",
        "\n",
        "Bi1Year = BiConcentration.evalf(subs = {t:365})\n",
        "Po1Year = PoConcentration.evalf(subs = {t:365})\n",
        "Pb1Year = PbConcentration.evalf(subs = {t:365})\n",
        "\n",
        "print(f'Bi concentration after 1 year = {Bi1Year}')"
      ],
      "metadata": {
        "id": "Us2cGk7lkEdk"
      },
      "execution_count": null,
      "outputs": []
    }
  ]
}