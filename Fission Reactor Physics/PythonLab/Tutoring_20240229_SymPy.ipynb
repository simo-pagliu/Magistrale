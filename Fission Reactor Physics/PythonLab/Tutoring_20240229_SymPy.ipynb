{
  "nbformat": 4,
  "nbformat_minor": 0,
  "metadata": {
    "colab": {
      "provenance": []
    },
    "kernelspec": {
      "name": "python3",
      "display_name": "Python 3"
    },
    "language_info": {
      "name": "python"
    }
  },
  "cells": [
    {
      "cell_type": "markdown",
      "source": [
        "# Symbolic Python"
      ],
      "metadata": {
        "id": "LNFA7tILMHu8"
      }
    },
    {
      "cell_type": "markdown",
      "source": [
        "Symbolic logic uses _symbols_ and variables to express logical statements. Mathematics is a naturally symbolic languages (for example, an equation is an equality logic expression between left and right term). The computer does not think in terms of symbols but in terms of number and values, and since its memory is discrete and finite inevitably it truncates information (for example, $\\pi$ has infinite digits, but the computer operates a truncation of the value of $\\pi$).\n",
        "\n",
        "Symbolic libraries in programming languages bridge this gap: they solve mathematical expression _exactly_ using the same mathematical symbols that are used manually.\n",
        "\n",
        "More about SymPy: https://www.sympy.org/en/index.html and https://docs.sympy.org/latest/index.html (a very in-depth documentation with lots of examples)."
      ],
      "metadata": {
        "id": "Ypd1JZPDMNB8"
      }
    },
    {
      "cell_type": "code",
      "execution_count": null,
      "metadata": {
        "id": "8t1SUiWMK6db",
        "colab": {
          "base_uri": "https://localhost:8080/",
          "height": 38
        },
        "outputId": "4b782302-112c-4345-810f-b4b6955d29e4"
      },
      "outputs": [
        {
          "output_type": "execute_result",
          "data": {
            "text/plain": [
              "sqrt(7)"
            ],
            "text/latex": "$\\displaystyle \\sqrt{7}$"
          },
          "metadata": {},
          "execution_count": 1
        }
      ],
      "source": [
        "# Example: compute the square root of a number using computer and symbolic logic\n",
        "\n",
        "import math\n",
        "import numpy\n",
        "import sympy\n",
        "\n",
        "x = 7\n",
        "\n",
        "mathroot = math.sqrt(x)\n",
        "numpyroot = numpy.sqrt(x)\n",
        "sympyroot = sympy.sqrt(x)\n",
        "\n",
        "sympyroot"
      ]
    },
    {
      "cell_type": "markdown",
      "source": [
        "NumPy and Math modules approximates the value of the square root, whereas SymPy leaves it unevaluated. So, _numpy.sqrt_ and _math.sqrt_ are approximations, but _sympy_sqrt_ is the exact value and when we use it in an expression, we are using this exact (unevaluated) value. With SymPy, the approximation occurs only when we want to show the value."
      ],
      "metadata": {
        "id": "7d8deOxVNI6H"
      }
    },
    {
      "cell_type": "markdown",
      "source": [
        "## Represent NUMBERS in SymPy\n",
        "\n",
        "SymPy defines its own native class for numbers, with the following types:\n",
        "* INTEGER (discard the fractional part of the input)\n",
        "* FLOAT (floating point number of arbitrary precision that must be specified, can also use scientific notation)\n",
        "* RATIONAL (rational number with non-zero denominator. Unless specified, this gives the binary representation of the fraction, that is, the numerator and the denominator that best approximate the given number).\n",
        "\n",
        "Perhaps most interestingly, SymPy also defines number objects that can be used in symbolic operations, such as:\n",
        "* _sp.S.nan_ (Not-a-Number)\n",
        "* _sp.S.infty_ or _sp.oo_ (infinity)\n",
        "* _sp.S.ImaginaryUnit_ (exact square root of -1)\n",
        "These are contained in the subclass _S_, the _singleton class_, for this reason we must call it explicitly.\n",
        "\n",
        "\n",
        "\n",
        "\n"
      ],
      "metadata": {
        "id": "xXhb4juNNwz4"
      }
    },
    {
      "cell_type": "code",
      "source": [
        "# Define the numbers 10, 6.32 and 1/6 using the three number classes in SymPy\n",
        "\n",
        "import sympy as sp\n",
        "\n",
        "y = sp.Integer(10)\n",
        "y = sp.Integer(6.32)\n",
        "y = sp.Integer(1/6)\n",
        "\n",
        "y = sp.Float(10)\n",
        "y = sp.Float(6.32,4)\n",
        "y = sp.Float(1/6)\n",
        "\n",
        "y = sp.Rational(1/6).limit_denominator()\n",
        "y = sp.Rational(0.167).limit_denominator()\n",
        "\n",
        "y = sp.Rational(2,12)\n",
        "y = sp.Float(1E10)\n",
        "\n",
        "print(y)"
      ],
      "metadata": {
        "id": "1pC2Rhf3O0oy",
        "colab": {
          "base_uri": "https://localhost:8080/"
        },
        "outputId": "c5baf18b-dc23-4d51-9a4a-b374c1fd6bf1"
      },
      "execution_count": null,
      "outputs": [
        {
          "output_type": "stream",
          "name": "stdout",
          "text": [
            "10000000000.0000\n"
          ]
        }
      ]
    },
    {
      "cell_type": "code",
      "source": [
        "# Use SymPy to define NaN, infinity and the imaginary unit\n",
        "\n",
        "Notanumber = sp.S.NaN\n",
        "Infinite = sp.S.Infinity\n",
        "IU = sp.S.ImaginaryUnit\n",
        "\n",
        "IU"
      ],
      "metadata": {
        "id": "biuzv-EVPNg9",
        "colab": {
          "base_uri": "https://localhost:8080/",
          "height": 39
        },
        "outputId": "8e669eea-05a8-40e9-ea37-42bf68cf68c3"
      },
      "execution_count": null,
      "outputs": [
        {
          "output_type": "execute_result",
          "data": {
            "text/plain": [
              "I"
            ],
            "text/latex": "$\\displaystyle i$"
          },
          "metadata": {},
          "execution_count": 3
        }
      ]
    },
    {
      "cell_type": "code",
      "source": [
        "# Define a complex number and compute its conjugate\n",
        "\n",
        "omega = 4 - 5*IU\n",
        "omegareal = sp.re(omega)\n",
        "omegaimag = sp.im(omega)\n",
        "conju = sp.conjugate(omega)\n",
        "\n",
        "conju"
      ],
      "metadata": {
        "id": "r_Rq7QLJVM6N",
        "colab": {
          "base_uri": "https://localhost:8080/",
          "height": 39
        },
        "outputId": "ccf87c1b-fd7b-4792-9ec8-eec3d80bd182"
      },
      "execution_count": null,
      "outputs": [
        {
          "output_type": "execute_result",
          "data": {
            "text/plain": [
              "4 + 5*I"
            ],
            "text/latex": "$\\displaystyle 4 + 5 i$"
          },
          "metadata": {},
          "execution_count": 4
        }
      ]
    },
    {
      "cell_type": "markdown",
      "source": [
        "## Represent VARIABLES in SymPy\n",
        "\n",
        "To define variables, we use the _Symbol_ class.\n",
        "To define multiple variables at once, we can use the _symbols_ method."
      ],
      "metadata": {
        "id": "ruckP5EfPtKu"
      }
    },
    {
      "cell_type": "code",
      "source": [
        "# Define two variables x and y, square them and then compute their sum\n",
        "\n",
        "LambdaXe = sp.Symbol('l_x')\n",
        "\n",
        "x = sp.Symbol('x', real = True, nonnegative = True)\n",
        "y = sp.Symbol('y')\n",
        "\n",
        "f = x**2 + y**2\n",
        "\n",
        "f"
      ],
      "metadata": {
        "id": "8aY9Sj9YP0ob",
        "colab": {
          "base_uri": "https://localhost:8080/",
          "height": 39
        },
        "outputId": "5844179e-011a-4a5e-a0ca-e1c98427ecfb"
      },
      "execution_count": null,
      "outputs": [
        {
          "output_type": "execute_result",
          "data": {
            "text/plain": [
              "x**2 + y**2"
            ],
            "text/latex": "$\\displaystyle x^{2} + y^{2}$"
          },
          "metadata": {},
          "execution_count": 5
        }
      ]
    },
    {
      "cell_type": "code",
      "source": [
        "# Use symbols to define variables for the six group of precursors in a smart way\n",
        "\n",
        "n = sp.symbols('n(1:7)')\n",
        "\n",
        "n"
      ],
      "metadata": {
        "id": "4upwON7rQNYF",
        "colab": {
          "base_uri": "https://localhost:8080/"
        },
        "outputId": "f4232bc6-2bd1-4695-e8d7-6e9b5123e028"
      },
      "execution_count": null,
      "outputs": [
        {
          "output_type": "execute_result",
          "data": {
            "text/plain": [
              "(n1, n2, n3, n4, n5, n6)"
            ]
          },
          "metadata": {},
          "execution_count": 6
        }
      ]
    },
    {
      "cell_type": "markdown",
      "source": [
        "Some of the most useful mathematical operations that we can do with SymPy:\n",
        "* SUBSTITUTION: substitute a value or a variable in an expression\n",
        "* SYMPIFY: convert a Python expression in a SymPy one\n",
        "* LAMBDIFY: convert a SymPy expression in a Python one\n",
        "* EVALF: evaluate an expression\n",
        "* SIMPLIFY: simplify (or try to) a SymPy expression (be careful that for complex expression, you should help the computer by giving hints).\n",
        "* FACTORISE: factorise an expression"
      ],
      "metadata": {
        "id": "gs3r0BWDQVTA"
      }
    },
    {
      "cell_type": "code",
      "source": [
        "# Define the string 'sin^2(x) + cos^2(x)' and then:\n",
        "# - convert it into a SymPy expression\n",
        "# - substitute x = 45° (defined as Python number)\n",
        "# - substitute x = 45° (defined as sp.Float)\n",
        "# - use 'evalf' wiht x = 45° (defined as sp.Float)\n",
        "# - convert this expression in a numerical one (we want np.cos and np.sin)\n",
        "# - Simplify this expression\n",
        "\n",
        "import numpy as np\n",
        "\n",
        "x = sp.Symbol('x')\n",
        "a = sp.Float(45/180)*sp.pi\n",
        "b = 45/180*np.pi\n",
        "\n",
        "string = 'sin(x)**2 + cos(x)**2'\n",
        "expr = sp.sympify(string)\n",
        "\n",
        "subexpr = expr.subs(x,b)\n",
        "\n",
        "exprsimple = sp.simplify(expr)\n",
        "\n",
        "expr = x**2 + x\n",
        "\n",
        "expr2numpy = sp.lambdify(x,expr,'numpy')\n",
        "\n",
        "expr2numpy(b)"
      ],
      "metadata": {
        "id": "qe3m-YpBQzt3",
        "colab": {
          "base_uri": "https://localhost:8080/"
        },
        "outputId": "230d3116-3063-4cac-c11b-8f17d0734810"
      },
      "execution_count": null,
      "outputs": [
        {
          "output_type": "execute_result",
          "data": {
            "text/plain": [
              "1.4022484384655332"
            ]
          },
          "metadata": {},
          "execution_count": 7
        }
      ]
    },
    {
      "cell_type": "markdown",
      "source": [
        "We can use SymPy also to compute derivative and integrals."
      ],
      "metadata": {
        "id": "EIRUabikR8Ah"
      }
    },
    {
      "cell_type": "code",
      "source": [
        "# Consider the expression 2 * sin(x^2)\n",
        "# - Compute its first and second derivatives\n",
        "# - Compute its indefinite integral\n",
        "# - Compute its integral between o and pi\n",
        "\n",
        "f = sp.sin(x**2)\n",
        "df = sp.diff(f,x)\n",
        "df2 = sp.diff(f,x,2)\n",
        "integr = sp.integrate(2*x*sp.sin(x**2),x)\n",
        "defintegr = sp.integrate(2*x*sp.sin(x**2),(x,0,np.pi))\n"
      ],
      "metadata": {
        "id": "KiPxQqf9SCoW"
      },
      "execution_count": null,
      "outputs": []
    },
    {
      "cell_type": "markdown",
      "source": [
        "SymPy also includes transformations (but be careful: always check analytically because the Transformation class in SymPy is still under development. Usually they work well for simple functions, have some troubles with complex ones (and if the transformed function doesn't have a standard anti-transform, SymPy returns an unevaluated expression)."
      ],
      "metadata": {
        "id": "1aZXnMZESO49"
      }
    },
    {
      "cell_type": "code",
      "source": [
        "# Consider the expression exp(-x^2)\n",
        "# - Compute its Fourier transform\n",
        "# - Compute its Laplace transform\n",
        "# - Compute its Taylor expansion\n",
        "# - Compute the Legendre polynomials\n",
        "\n",
        "k = sp.Symbol('k')\n",
        "s = sp.Symbol('s')\n",
        "x = sp.Symbol('x')\n",
        "\n",
        "f = sp.exp(-x**2)\n",
        "\n",
        "Four = sp.fourier_transform(f,x,k)\n",
        "Lapl = sp.laplace_transform(f,x,s)\n",
        "\n",
        "display(Four)\n",
        "display(Lapl)\n",
        "\n",
        "TaylorS = sp.series(f,x,n=12)\n",
        "\n",
        "TaylorS"
      ],
      "metadata": {
        "id": "bXam-PEZSZAF",
        "colab": {
          "base_uri": "https://localhost:8080/",
          "height": 95
        },
        "outputId": "25e2b0a5-914f-4007-d111-b032796d245e"
      },
      "execution_count": null,
      "outputs": [
        {
          "output_type": "display_data",
          "data": {
            "text/plain": [
              "sqrt(pi)*exp(-pi**2*k**2)"
            ],
            "text/latex": "$\\displaystyle \\sqrt{\\pi} e^{- \\pi^{2} k^{2}}$"
          },
          "metadata": {}
        },
        {
          "output_type": "display_data",
          "data": {
            "text/plain": [
              "(sqrt(pi)*exp(s**2/4)*erfc(s/2)/2, 0, True)"
            ]
          },
          "metadata": {}
        },
        {
          "output_type": "execute_result",
          "data": {
            "text/plain": [
              "1 - x**2 + x**4/2 - x**6/6 + x**8/24 - x**10/120 + O(x**12)"
            ],
            "text/latex": "$\\displaystyle 1 - x^{2} + \\frac{x^{4}}{2} - \\frac{x^{6}}{6} + \\frac{x^{8}}{24} - \\frac{x^{10}}{120} + O\\left(x^{12}\\right)$"
          },
          "metadata": {},
          "execution_count": 9
        }
      ]
    },
    {
      "cell_type": "markdown",
      "source": [
        "SymPy has a special class for matrices (https://docs.sympy.org/latest/modules/matrices/matrices.html)"
      ],
      "metadata": {
        "id": "KM_iSiCwSlmK"
      }
    },
    {
      "cell_type": "code",
      "source": [
        "# Define a 3 x 3 SymPy matrix\n",
        "# - Extract the first row and the first column\n",
        "# - Compute its determinant\n",
        "# - Compute the eigenvalues and eigenvectors\n",
        "# - Diagonalize the matrix\n",
        "\n",
        "m = sp.Matrix(\n",
        "    [\n",
        "        [1,2,3], #first row\n",
        "        [4,5,6],#second row\n",
        "        [7,8,9], #third row\n",
        "    ])\n",
        "\n",
        "m.shape\n",
        "\n",
        "m.row(0)\n",
        "#help(sp.Matrix)"
      ],
      "metadata": {
        "id": "EOsiEORQSod2",
        "colab": {
          "base_uri": "https://localhost:8080/",
          "height": 39
        },
        "outputId": "f2d01ceb-9e1e-4a3a-dde0-98f2084bab62"
      },
      "execution_count": null,
      "outputs": [
        {
          "output_type": "execute_result",
          "data": {
            "text/plain": [
              "Matrix([[1, 2, 3]])"
            ],
            "text/latex": "$\\displaystyle \\left[\\begin{matrix}1 & 2 & 3\\end{matrix}\\right]$"
          },
          "metadata": {},
          "execution_count": 10
        }
      ]
    },
    {
      "cell_type": "markdown",
      "source": [
        "## Writing Equations in SymPy\n",
        "\n",
        "Equations are written using the _sp.Eq_ function (Eq stands for equality: we need to specify the RHS and the LHS separate by a comma)."
      ],
      "metadata": {
        "id": "veW_XsLQVSUm"
      }
    },
    {
      "cell_type": "code",
      "source": [
        "# Write the equation x^2 - 9 = 0 and solve it\n",
        "\n",
        "x = sp.Symbol('x')\n",
        "y = sp.Symbol('y')\n",
        "\n",
        "Equation = sp.Eq(x**2-9,0)\n",
        "\n",
        "Solution = sp.solve(Equation,x)\n",
        "\n",
        "Solution"
      ],
      "metadata": {
        "id": "lPP4WNbSVbC0",
        "colab": {
          "base_uri": "https://localhost:8080/"
        },
        "outputId": "449f6b2f-c624-4ea2-bcf8-981f015ca337"
      },
      "execution_count": null,
      "outputs": [
        {
          "output_type": "execute_result",
          "data": {
            "text/plain": [
              "[-3, 3]"
            ]
          },
          "metadata": {},
          "execution_count": 11
        }
      ]
    },
    {
      "cell_type": "code",
      "source": [
        "# Write the system of equations x-y = 4 ; x+y = 1 and solve it\n",
        "\n",
        "System = [\n",
        "    sp.Eq(x-y,4),\n",
        "    sp.Eq(x+y,1)\n",
        "]\n",
        "\n",
        "Solution = sp.linsolve(System,(x,y))\n",
        "\n",
        "Solution"
      ],
      "metadata": {
        "id": "4WCT0-uRVfsn",
        "colab": {
          "base_uri": "https://localhost:8080/",
          "height": 58
        },
        "outputId": "d24306cf-007f-4e62-ce27-de96adf123d4"
      },
      "execution_count": null,
      "outputs": [
        {
          "output_type": "execute_result",
          "data": {
            "text/plain": [
              "{(5/2, -3/2)}"
            ],
            "text/latex": "$\\displaystyle \\left\\{\\left( \\frac{5}{2}, \\  - \\frac{3}{2}\\right)\\right\\}$"
          },
          "metadata": {},
          "execution_count": 12
        }
      ]
    },
    {
      "cell_type": "code",
      "source": [
        "# Write the system of equations x^2 + x = 0 ; x - y = 0 and solve it\n",
        "\n",
        "System = [\n",
        "    sp.Eq(x**2+x,0),\n",
        "    sp.Eq(x-y,0)\n",
        "]\n",
        "\n",
        "Solution = sp.nonlinsolve(System, (x,y))\n",
        "\n",
        "Solution\n",
        "\n",
        "#help(sp.nonlinsolve)"
      ],
      "metadata": {
        "id": "OHVhkDSTVjp0",
        "colab": {
          "base_uri": "https://localhost:8080/",
          "height": 37
        },
        "outputId": "278a2741-cc38-4c92-9a43-abaac2c5e1cd"
      },
      "execution_count": null,
      "outputs": [
        {
          "output_type": "execute_result",
          "data": {
            "text/plain": [
              "{(-1, -1), (0, 0)}"
            ],
            "text/latex": "$\\displaystyle \\left\\{\\left( -1, \\  -1\\right), \\left( 0, \\  0\\right)\\right\\}$"
          },
          "metadata": {},
          "execution_count": 13
        }
      ]
    },
    {
      "cell_type": "markdown",
      "source": [
        "To write a differential equation, we need to specify the _Function_ that we are going to differentiate using either _sp.Function_ or _sp.symbols_ with the argument _cls = sp.Function_. Remember that when we write functions we must also specify the independent variable (just like sin(x), sin is the function, x the variable, but instead of 'sin' I have an unknown function 'f')"
      ],
      "metadata": {
        "id": "1OgEZmbyVyWF"
      }
    },
    {
      "cell_type": "code",
      "source": [
        "# Write the differential equation df - f = sin(x) (ODE)\n",
        "\n",
        "f = sp.symbols('f', cls = sp.Function)\n",
        "\n",
        "Equation = sp.Eq(f(x).diff(x)-f(x),sp.sin(x))\n",
        "\n",
        "Solution = sp.dsolve(Equation)\n",
        "\n",
        "Solution"
      ],
      "metadata": {
        "id": "xMDAC7cFVqkx",
        "colab": {
          "base_uri": "https://localhost:8080/",
          "height": 53
        },
        "outputId": "e782cbe4-a8ae-43fe-906c-21b88e8dbc1d"
      },
      "execution_count": null,
      "outputs": [
        {
          "output_type": "execute_result",
          "data": {
            "text/plain": [
              "Eq(f(x), C1*exp(x) - sin(x)/2 - cos(x)/2)"
            ],
            "text/latex": "$\\displaystyle f{\\left(x \\right)} = C_{1} e^{x} - \\frac{\\sin{\\left(x \\right)}}{2} - \\frac{\\cos{\\left(x \\right)}}{2}$"
          },
          "metadata": {},
          "execution_count": 14
        }
      ]
    },
    {
      "cell_type": "code",
      "source": [
        "# Write the differential equation 1 + 2*df/dx + 3*df/dy = 0 (PDE)\n",
        "\n",
        "Equation = sp.Eq(1+2*f(x,y).diff(x)+3*f(x,y).diff(y),0)\n",
        "\n",
        "Solution = sp.pdsolve(Equation)\n",
        "\n",
        "Solution"
      ],
      "metadata": {
        "id": "o_cnSMOIV_ES",
        "colab": {
          "base_uri": "https://localhost:8080/",
          "height": 51
        },
        "outputId": "19455925-4a70-4bec-d86b-63ebe80f76c7"
      },
      "execution_count": null,
      "outputs": [
        {
          "output_type": "execute_result",
          "data": {
            "text/plain": [
              "Eq(f(x, y), -2*x/13 - 3*y/13 + F(3*x - 2*y))"
            ],
            "text/latex": "$\\displaystyle f{\\left(x,y \\right)} = - \\frac{2 x}{13} - \\frac{3 y}{13} + F{\\left(3 x - 2 y \\right)}$"
          },
          "metadata": {},
          "execution_count": 15
        }
      ]
    },
    {
      "cell_type": "code",
      "source": [
        "help(sp.solvers.dsolve)"
      ],
      "metadata": {
        "id": "vMxOdm421b4k",
        "colab": {
          "base_uri": "https://localhost:8080/"
        },
        "outputId": "53e4161d-d10b-4eef-8f77-f040a05d7295"
      },
      "execution_count": null,
      "outputs": [
        {
          "output_type": "stream",
          "name": "stdout",
          "text": [
            "Help on function dsolve in module sympy.solvers.ode.ode:\n",
            "\n",
            "dsolve(eq, func=None, hint='default', simplify=True, ics=None, xi=None, eta=None, x0=0, n=6, **kwargs)\n",
            "    Solves any (supported) kind of ordinary differential equation and\n",
            "    system of ordinary differential equations.\n",
            "    \n",
            "    For single ordinary differential equation\n",
            "    =========================================\n",
            "    \n",
            "    It is classified under this when number of equation in ``eq`` is one.\n",
            "    **Usage**\n",
            "    \n",
            "        ``dsolve(eq, f(x), hint)`` -> Solve ordinary differential equation\n",
            "        ``eq`` for function ``f(x)``, using method ``hint``.\n",
            "    \n",
            "    **Details**\n",
            "    \n",
            "        ``eq`` can be any supported ordinary differential equation (see the\n",
            "            :py:mod:`~sympy.solvers.ode` docstring for supported methods).\n",
            "            This can either be an :py:class:`~sympy.core.relational.Equality`,\n",
            "            or an expression, which is assumed to be equal to ``0``.\n",
            "    \n",
            "        ``f(x)`` is a function of one variable whose derivatives in that\n",
            "            variable make up the ordinary differential equation ``eq``.  In\n",
            "            many cases it is not necessary to provide this; it will be\n",
            "            autodetected (and an error raised if it could not be detected).\n",
            "    \n",
            "        ``hint`` is the solving method that you want dsolve to use.  Use\n",
            "            ``classify_ode(eq, f(x))`` to get all of the possible hints for an\n",
            "            ODE.  The default hint, ``default``, will use whatever hint is\n",
            "            returned first by :py:meth:`~sympy.solvers.ode.classify_ode`.  See\n",
            "            Hints below for more options that you can use for hint.\n",
            "    \n",
            "        ``simplify`` enables simplification by\n",
            "            :py:meth:`~sympy.solvers.ode.ode.odesimp`.  See its docstring for more\n",
            "            information.  Turn this off, for example, to disable solving of\n",
            "            solutions for ``func`` or simplification of arbitrary constants.\n",
            "            It will still integrate with this hint. Note that the solution may\n",
            "            contain more arbitrary constants than the order of the ODE with\n",
            "            this option enabled.\n",
            "    \n",
            "        ``xi`` and ``eta`` are the infinitesimal functions of an ordinary\n",
            "            differential equation. They are the infinitesimals of the Lie group\n",
            "            of point transformations for which the differential equation is\n",
            "            invariant. The user can specify values for the infinitesimals. If\n",
            "            nothing is specified, ``xi`` and ``eta`` are calculated using\n",
            "            :py:meth:`~sympy.solvers.ode.infinitesimals` with the help of various\n",
            "            heuristics.\n",
            "    \n",
            "        ``ics`` is the set of initial/boundary conditions for the differential equation.\n",
            "          It should be given in the form of ``{f(x0): x1, f(x).diff(x).subs(x, x2):\n",
            "          x3}`` and so on.  For power series solutions, if no initial\n",
            "          conditions are specified ``f(0)`` is assumed to be ``C0`` and the power\n",
            "          series solution is calculated about 0.\n",
            "    \n",
            "        ``x0`` is the point about which the power series solution of a differential\n",
            "          equation is to be evaluated.\n",
            "    \n",
            "        ``n`` gives the exponent of the dependent variable up to which the power series\n",
            "          solution of a differential equation is to be evaluated.\n",
            "    \n",
            "    **Hints**\n",
            "    \n",
            "        Aside from the various solving methods, there are also some meta-hints\n",
            "        that you can pass to :py:meth:`~sympy.solvers.ode.dsolve`:\n",
            "    \n",
            "        ``default``:\n",
            "                This uses whatever hint is returned first by\n",
            "                :py:meth:`~sympy.solvers.ode.classify_ode`. This is the\n",
            "                default argument to :py:meth:`~sympy.solvers.ode.dsolve`.\n",
            "    \n",
            "        ``all``:\n",
            "                To make :py:meth:`~sympy.solvers.ode.dsolve` apply all\n",
            "                relevant classification hints, use ``dsolve(ODE, func,\n",
            "                hint=\"all\")``.  This will return a dictionary of\n",
            "                ``hint:solution`` terms.  If a hint causes dsolve to raise the\n",
            "                ``NotImplementedError``, value of that hint's key will be the\n",
            "                exception object raised.  The dictionary will also include\n",
            "                some special keys:\n",
            "    \n",
            "                - ``order``: The order of the ODE.  See also\n",
            "                  :py:meth:`~sympy.solvers.deutils.ode_order` in\n",
            "                  ``deutils.py``.\n",
            "                - ``best``: The simplest hint; what would be returned by\n",
            "                  ``best`` below.\n",
            "                - ``best_hint``: The hint that would produce the solution\n",
            "                  given by ``best``.  If more than one hint produces the best\n",
            "                  solution, the first one in the tuple returned by\n",
            "                  :py:meth:`~sympy.solvers.ode.classify_ode` is chosen.\n",
            "                - ``default``: The solution that would be returned by default.\n",
            "                  This is the one produced by the hint that appears first in\n",
            "                  the tuple returned by\n",
            "                  :py:meth:`~sympy.solvers.ode.classify_ode`.\n",
            "    \n",
            "        ``all_Integral``:\n",
            "                This is the same as ``all``, except if a hint also has a\n",
            "                corresponding ``_Integral`` hint, it only returns the\n",
            "                ``_Integral`` hint.  This is useful if ``all`` causes\n",
            "                :py:meth:`~sympy.solvers.ode.dsolve` to hang because of a\n",
            "                difficult or impossible integral.  This meta-hint will also be\n",
            "                much faster than ``all``, because\n",
            "                :py:meth:`~sympy.core.expr.Expr.integrate` is an expensive\n",
            "                routine.\n",
            "    \n",
            "        ``best``:\n",
            "                To have :py:meth:`~sympy.solvers.ode.dsolve` try all methods\n",
            "                and return the simplest one.  This takes into account whether\n",
            "                the solution is solvable in the function, whether it contains\n",
            "                any Integral classes (i.e.  unevaluatable integrals), and\n",
            "                which one is the shortest in size.\n",
            "    \n",
            "        See also the :py:meth:`~sympy.solvers.ode.classify_ode` docstring for\n",
            "        more info on hints, and the :py:mod:`~sympy.solvers.ode` docstring for\n",
            "        a list of all supported hints.\n",
            "    \n",
            "    **Tips**\n",
            "    \n",
            "        - You can declare the derivative of an unknown function this way:\n",
            "    \n",
            "            >>> from sympy import Function, Derivative\n",
            "            >>> from sympy.abc import x # x is the independent variable\n",
            "            >>> f = Function(\"f\")(x) # f is a function of x\n",
            "            >>> # f_ will be the derivative of f with respect to x\n",
            "            >>> f_ = Derivative(f, x)\n",
            "    \n",
            "        - See ``test_ode.py`` for many tests, which serves also as a set of\n",
            "          examples for how to use :py:meth:`~sympy.solvers.ode.dsolve`.\n",
            "        - :py:meth:`~sympy.solvers.ode.dsolve` always returns an\n",
            "          :py:class:`~sympy.core.relational.Equality` class (except for the\n",
            "          case when the hint is ``all`` or ``all_Integral``).  If possible, it\n",
            "          solves the solution explicitly for the function being solved for.\n",
            "          Otherwise, it returns an implicit solution.\n",
            "        - Arbitrary constants are symbols named ``C1``, ``C2``, and so on.\n",
            "        - Because all solutions should be mathematically equivalent, some\n",
            "          hints may return the exact same result for an ODE. Often, though,\n",
            "          two different hints will return the same solution formatted\n",
            "          differently.  The two should be equivalent. Also note that sometimes\n",
            "          the values of the arbitrary constants in two different solutions may\n",
            "          not be the same, because one constant may have \"absorbed\" other\n",
            "          constants into it.\n",
            "        - Do ``help(ode.ode_<hintname>)`` to get help more information on a\n",
            "          specific hint, where ``<hintname>`` is the name of a hint without\n",
            "          ``_Integral``.\n",
            "    \n",
            "    For system of ordinary differential equations\n",
            "    =============================================\n",
            "    \n",
            "    **Usage**\n",
            "        ``dsolve(eq, func)`` -> Solve a system of ordinary differential\n",
            "        equations ``eq`` for ``func`` being list of functions including\n",
            "        `x(t)`, `y(t)`, `z(t)` where number of functions in the list depends\n",
            "        upon the number of equations provided in ``eq``.\n",
            "    \n",
            "    **Details**\n",
            "    \n",
            "        ``eq`` can be any supported system of ordinary differential equations\n",
            "        This can either be an :py:class:`~sympy.core.relational.Equality`,\n",
            "        or an expression, which is assumed to be equal to ``0``.\n",
            "    \n",
            "        ``func`` holds ``x(t)`` and ``y(t)`` being functions of one variable which\n",
            "        together with some of their derivatives make up the system of ordinary\n",
            "        differential equation ``eq``. It is not necessary to provide this; it\n",
            "        will be autodetected (and an error raised if it could not be detected).\n",
            "    \n",
            "    **Hints**\n",
            "    \n",
            "        The hints are formed by parameters returned by classify_sysode, combining\n",
            "        them give hints name used later for forming method name.\n",
            "    \n",
            "    Examples\n",
            "    ========\n",
            "    \n",
            "    >>> from sympy import Function, dsolve, Eq, Derivative, sin, cos, symbols\n",
            "    >>> from sympy.abc import x\n",
            "    >>> f = Function('f')\n",
            "    >>> dsolve(Derivative(f(x), x, x) + 9*f(x), f(x))\n",
            "    Eq(f(x), C1*sin(3*x) + C2*cos(3*x))\n",
            "    \n",
            "    >>> eq = sin(x)*cos(f(x)) + cos(x)*sin(f(x))*f(x).diff(x)\n",
            "    >>> dsolve(eq, hint='1st_exact')\n",
            "    [Eq(f(x), -acos(C1/cos(x)) + 2*pi), Eq(f(x), acos(C1/cos(x)))]\n",
            "    >>> dsolve(eq, hint='almost_linear')\n",
            "    [Eq(f(x), -acos(C1/cos(x)) + 2*pi), Eq(f(x), acos(C1/cos(x)))]\n",
            "    >>> t = symbols('t')\n",
            "    >>> x, y = symbols('x, y', cls=Function)\n",
            "    >>> eq = (Eq(Derivative(x(t),t), 12*t*x(t) + 8*y(t)), Eq(Derivative(y(t),t), 21*x(t) + 7*t*y(t)))\n",
            "    >>> dsolve(eq)\n",
            "    [Eq(x(t), C1*x0(t) + C2*x0(t)*Integral(8*exp(Integral(7*t, t))*exp(Integral(12*t, t))/x0(t)**2, t)),\n",
            "    Eq(y(t), C1*y0(t) + C2*(y0(t)*Integral(8*exp(Integral(7*t, t))*exp(Integral(12*t, t))/x0(t)**2, t) +\n",
            "    exp(Integral(7*t, t))*exp(Integral(12*t, t))/x0(t)))]\n",
            "    >>> eq = (Eq(Derivative(x(t),t),x(t)*y(t)*sin(t)), Eq(Derivative(y(t),t),y(t)**2*sin(t)))\n",
            "    >>> dsolve(eq)\n",
            "    {Eq(x(t), -exp(C1)/(C2*exp(C1) - cos(t))), Eq(y(t), -1/(C1 - cos(t)))}\n",
            "\n"
          ]
        }
      ]
    },
    {
      "cell_type": "code",
      "source": [
        "r = sp.Symbol('r')\n",
        "L = sp.Symbol('L')\n",
        "S = sp.Symbol('S')\n",
        "D = sp.Symbol('D')\n",
        "SA = sp.Symbol('Sigma_a')\n",
        "\n",
        "phi = sp.Function('phi')\n",
        "K0 = sp.besselk(0,r/L)\n",
        "\n",
        "Flux = sp.Eq(phi(r),S/(2*sp.pi*D)*K0)\n",
        "IntegralFunction = r*SA*Flux.rhs*2*sp.pi*r\n",
        "\n",
        "Integral = sp.integrate(IntegralFunction/S,(r,0,sp.oo))\n",
        "\n",
        "Integral.subs(L**3,D*L/SA)\n",
        "\n"
      ],
      "metadata": {
        "colab": {
          "base_uri": "https://localhost:8080/",
          "height": 83
        },
        "id": "dZzyEi89mlVq",
        "outputId": "3446086d-858e-45d7-a726-43af45cf74cd"
      },
      "execution_count": null,
      "outputs": [
        {
          "output_type": "execute_result",
          "data": {
            "text/plain": [
              "Piecewise((pi*L/2, Abs(arg(L)) < pi/2), (Integral(Sigma_a*r**2*besselk(0, r/L)/D, (r, 0, oo)), True))"
            ],
            "text/latex": "$\\displaystyle \\begin{cases} \\frac{\\pi L}{2} & \\text{for}\\: \\left|{\\arg{\\left(L \\right)}}\\right| < \\frac{\\pi}{2} \\\\\\int\\limits_{0}^{\\infty} \\frac{\\Sigma_{a} r^{2} K_{0}\\left(\\frac{r}{L}\\right)}{D}\\, dr & \\text{otherwise} \\end{cases}$"
          },
          "metadata": {},
          "execution_count": 17
        }
      ]
    },
    {
      "cell_type": "code",
      "source": [
        "IntegralFunction = r**2*SA*Flux.rhs*2*sp.pi*r\n",
        "\n",
        "Integral = sp.integrate(IntegralFunction/S,(r,0,sp.oo))\n",
        "\n",
        "Integral.subs(L**4,D*L**2/SA)"
      ],
      "metadata": {
        "colab": {
          "base_uri": "https://localhost:8080/",
          "height": 83
        },
        "id": "doaGGELOp2k0",
        "outputId": "ae97094d-022d-4f72-f28b-8b492f318d2c"
      },
      "execution_count": null,
      "outputs": [
        {
          "output_type": "execute_result",
          "data": {
            "text/plain": [
              "Piecewise((4*L**2, Abs(arg(L)) < pi/2), (Integral(Sigma_a*r**3*besselk(0, r/L)/D, (r, 0, oo)), True))"
            ],
            "text/latex": "$\\displaystyle \\begin{cases} 4 L^{2} & \\text{for}\\: \\left|{\\arg{\\left(L \\right)}}\\right| < \\frac{\\pi}{2} \\\\\\int\\limits_{0}^{\\infty} \\frac{\\Sigma_{a} r^{3} K_{0}\\left(\\frac{r}{L}\\right)}{D}\\, dr & \\text{otherwise} \\end{cases}$"
          },
          "metadata": {},
          "execution_count": 18
        }
      ]
    },
    {
      "cell_type": "code",
      "source": [
        "from sympy.plotting import plot\n",
        "\n",
        "sp.plot(sp.besselk(0,r),(r,-5,5))\n"
      ],
      "metadata": {
        "colab": {
          "base_uri": "https://localhost:8080/",
          "height": 501
        },
        "id": "pfsJW7Qn-zSU",
        "outputId": "c141bb81-4895-4f74-f35c-2241367bf41f"
      },
      "execution_count": null,
      "outputs": [
        {
          "output_type": "display_data",
          "data": {
            "text/plain": [
              "<Figure size 640x480 with 1 Axes>"
            ],
            "image/png": "[encoded data removed]"
          },
          "metadata": {}
        },
        {
          "output_type": "execute_result",
          "data": {
            "text/plain": [
              "<sympy.plotting.plot.Plot at 0x7d32f9e1c850>"
            ]
          },
          "metadata": {},
          "execution_count": 19
        }
      ]
    }
  ]
}