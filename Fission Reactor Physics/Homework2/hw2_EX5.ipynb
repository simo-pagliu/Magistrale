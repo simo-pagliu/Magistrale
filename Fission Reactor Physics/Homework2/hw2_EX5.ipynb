{
 "cells": [
  {
   "cell_type": "code",
   "execution_count": 29,
   "metadata": {},
   "outputs": [],
   "source": [
    "# IMPORT LIBRARIES\n",
    "\n",
    "import numpy as np \n",
    "import sympy as sp\n",
    "import matplotlib.pyplot as plt"
   ]
  },
  {
   "cell_type": "code",
   "execution_count": 30,
   "metadata": {},
   "outputs": [],
   "source": [
    "# DATA \n",
    "\n",
    "rho_C = 1.7 # Density of graphite [g/cm3]\n",
    "N_CtoN_U = 10000 # Graphite-to-Uranium density ratio\n",
    "D = 0.9 # Sphere diffusion coefficient [cm]\n",
    "nu = 2.44 # Average neutrons per fission in U-235\n",
    "MM_C = 12.01 # Graphite molar mass [g/mol]\n",
    "MM_235 = 235.044 # U-235 molar mass [g/mol]\n",
    "\n",
    "# NON SCRIVO LA SOLUZIONE PER IL PUNTO 1, PERCHE' E' PIUTTOSTO INUTILE, SONO CALCOLI, CHE DOBBIAMO FARE E BOM, SYMPY NON SO MANCO SE CI SERVA \n"
   ]
  },
  {
   "cell_type": "code",
   "execution_count": 31,
   "metadata": {},
   "outputs": [],
   "source": [
    "# FUNCTION AND SYMBOLIC VARIABLES DEFINITION\n",
    "r = sp.symbols('r')\n",
    "B = sp.symbols('B', nonnegative = True) \n",
    "L_c = sp.symbols('L_c', nonnegative = True)\n",
    "L_r = sp.symbols('L_r', nonnegative = True)\n",
    "D = sp.symbols('D', nonnegative = True) # Sphere diffusion coefficient\n",
    "R = sp.symbols('R', nonnegative = True) # Core radius\n",
    "F = sp.Function('phi', real = True)(r)"
   ]
  },
  {
   "cell_type": "code",
   "execution_count": 32,
   "metadata": {},
   "outputs": [],
   "source": [
    "# SPHERICAL CORE WITH NOTHING INSIDE\n",
    "\n",
    "# Calcolo le Sigma(a,d,tr,f), rho_mixture\n",
    "# B_m^2 = (nu * Sigma_f - Sigma_a) / D = B_g^2 = (pi / R)^2 \n",
    "# Calcolo R, che sarà tale da essere critico\n",
    "# Dato R, V_core = 4/3 * pi * R^3 \n",
    "# m_crit = V_core * rho_mixture\n",
    "\n",
    "# OSS: questo procedimento vale in ogni caso, e andrà ripetuto "
   ]
  },
  {
   "cell_type": "code",
   "execution_count": 33,
   "metadata": {},
   "outputs": [
    {
     "name": "stdout",
     "output_type": "stream",
     "text": [
      "ODE FOR THE SPHERE:\n"
     ]
    },
    {
     "data": {
      "text/latex": [
       "$\\displaystyle B^{2} \\phi{\\left(r \\right)} + \\frac{r^{2} \\frac{d^{2}}{d r^{2}} \\phi{\\left(r \\right)} + 2 r \\frac{d}{d r} \\phi{\\left(r \\right)}}{r^{2}} = 0$"
      ],
      "text/plain": [
       "Eq(B**2*phi(r) + (r**2*Derivative(phi(r), (r, 2)) + 2*r*Derivative(phi(r), r))/r**2, 0)"
      ]
     },
     "metadata": {},
     "output_type": "display_data"
    },
    {
     "name": "stdout",
     "output_type": "stream",
     "text": [
      "GENERAL SOLUTION FOR THE FLUX IN THE CORE (r /= 0):\n"
     ]
    },
    {
     "data": {
      "text/latex": [
       "$\\displaystyle \\phi{\\left(r \\right)} = \\frac{C_{1} \\sin{\\left(B r \\right)}}{r} + \\frac{C_{2} \\cos{\\left(B r \\right)}}{r}$"
      ],
      "text/plain": [
       "Eq(phi(r), C1*sin(B*r)/r + C2*cos(B*r)/r)"
      ]
     },
     "metadata": {},
     "output_type": "display_data"
    },
    {
     "name": "stdout",
     "output_type": "stream",
     "text": [
      "OUTSIDE VACUUM BOUNDARY CONDITION:\n"
     ]
    },
    {
     "data": {
      "text/latex": [
       "$\\displaystyle \\frac{C_{1} \\sin{\\left(B R \\right)}}{R} + \\frac{C_{2} \\cos{\\left(B R \\right)}}{R} = 0$"
      ],
      "text/plain": [
       "Eq(C1*sin(B*R)/R + C2*cos(B*R)/R, 0)"
      ]
     },
     "metadata": {},
     "output_type": "display_data"
    },
    {
     "name": "stdout",
     "output_type": "stream",
     "text": [
      "INSIDE VACUUM BOUNDARY CONDITION:\n"
     ]
    },
    {
     "data": {
      "text/latex": [
       "$\\displaystyle - D \\left(\\frac{2 B C_{1} \\cos{\\left(\\frac{B R}{2} \\right)}}{R} - \\frac{2 B C_{2} \\sin{\\left(\\frac{B R}{2} \\right)}}{R} - \\frac{4 C_{1} \\sin{\\left(\\frac{B R}{2} \\right)}}{R^{2}} - \\frac{4 C_{2} \\cos{\\left(\\frac{B R}{2} \\right)}}{R^{2}}\\right) = 0$"
      ],
      "text/plain": [
       "Eq(-D*(2*B*C1*cos(B*R/2)/R - 2*B*C2*sin(B*R/2)/R - 4*C1*sin(B*R/2)/R**2 - 4*C2*cos(B*R/2)/R**2), 0)"
      ]
     },
     "metadata": {},
     "output_type": "display_data"
    }
   ],
   "source": [
    "# ODE + BC FOR THE SPHERE WITH VACUUM INSIDE \n",
    "\n",
    "ODE = sp.Eq((1/r**2) * sp.diff(r**2 * sp.diff(F, r), r) + B**2 * F, 0)\n",
    "print('ODE FOR THE SPHERE:')\n",
    "display(ODE)\n",
    "\n",
    "flux_c = sp.dsolve(ODE)\n",
    "sC1 = sp.symbols('C1')   \n",
    "sC2 = sp.symbols('C2')\n",
    "flux_c = sp.Eq(\n",
    "    flux_c.lhs,\n",
    "    (sC1 * sp.sin(B * r)) / r + (sC2 * sp.cos(B * r)) / r\n",
    ")\n",
    "print('GENERAL SOLUTION FOR THE FLUX IN THE CORE (r /= 0):')\n",
    "display(flux_c)\n",
    "\n",
    "# Vacuum BC \n",
    "vacuum_outside = sp.Eq(\n",
    "    flux_c.rhs.subs(r, R),\n",
    "    0\n",
    ")\n",
    "print('OUTSIDE VACUUM BOUNDARY CONDITION:')\n",
    "display(vacuum_outside)\n",
    "vacuum_inside = sp.Eq(\n",
    "    -D * sp.diff(flux_c.rhs, r).subs(r, R/2),\n",
    "    0\n",
    ")\n",
    "print('INSIDE VACUUM BOUNDARY CONDITION:')\n",
    "display(vacuum_inside)"
   ]
  },
  {
   "cell_type": "code",
   "execution_count": 34,
   "metadata": {},
   "outputs": [
    {
     "name": "stdout",
     "output_type": "stream",
     "text": [
      "ODE FOR THE SPHERE:\n"
     ]
    },
    {
     "data": {
      "text/latex": [
       "$\\displaystyle B^{2} \\phi{\\left(r \\right)} + \\frac{r^{2} \\frac{d^{2}}{d r^{2}} \\phi{\\left(r \\right)} + 2 r \\frac{d}{d r} \\phi{\\left(r \\right)}}{r^{2}} = 0$"
      ],
      "text/plain": [
       "Eq(B**2*phi(r) + (r**2*Derivative(phi(r), (r, 2)) + 2*r*Derivative(phi(r), r))/r**2, 0)"
      ]
     },
     "metadata": {},
     "output_type": "display_data"
    },
    {
     "name": "stdout",
     "output_type": "stream",
     "text": [
      "GENERAL SOLUTION FOR THE FLUX IN THE CORE (r /= 0):\n"
     ]
    },
    {
     "data": {
      "text/latex": [
       "$\\displaystyle \\phi{\\left(r \\right)} = \\frac{C_{1} \\sin{\\left(B r \\right)}}{r} + \\frac{C_{2} \\cos{\\left(B r \\right)}}{r}$"
      ],
      "text/plain": [
       "Eq(phi(r), C1*sin(B*r)/r + C2*cos(B*r)/r)"
      ]
     },
     "metadata": {},
     "output_type": "display_data"
    },
    {
     "name": "stdout",
     "output_type": "stream",
     "text": [
      "OUTSIDE VACUUM BOUNDARY CONDITION:\n"
     ]
    },
    {
     "data": {
      "text/latex": [
       "$\\displaystyle \\frac{C_{1} \\sin{\\left(B R \\right)}}{R} + \\frac{C_{2} \\cos{\\left(B R \\right)}}{R} = 0$"
      ],
      "text/plain": [
       "Eq(C1*sin(B*R)/R + C2*cos(B*R)/R, 0)"
      ]
     },
     "metadata": {},
     "output_type": "display_data"
    },
    {
     "name": "stdout",
     "output_type": "stream",
     "text": [
      "PERFECTLY ABSORBING MEDIUM INSIDE BOUNDARY CONDITION:\n"
     ]
    },
    {
     "data": {
      "text/latex": [
       "$\\displaystyle \\frac{C_{1} \\sin{\\left(B r \\right)}}{4 r} + \\frac{C_{2} \\cos{\\left(B r \\right)}}{4 r} - \\frac{D \\left(\\frac{2 B C_{1} \\cos{\\left(\\frac{B R}{2} \\right)}}{R} - \\frac{2 B C_{2} \\sin{\\left(\\frac{B R}{2} \\right)}}{R} - \\frac{4 C_{1} \\sin{\\left(\\frac{B R}{2} \\right)}}{R^{2}} - \\frac{4 C_{2} \\cos{\\left(\\frac{B R}{2} \\right)}}{R^{2}}\\right)}{2} = 0$"
      ],
      "text/plain": [
       "Eq(C1*sin(B*r)/(4*r) + C2*cos(B*r)/(4*r) - D*(2*B*C1*cos(B*R/2)/R - 2*B*C2*sin(B*R/2)/R - 4*C1*sin(B*R/2)/R**2 - 4*C2*cos(B*R/2)/R**2)/2, 0)"
      ]
     },
     "metadata": {},
     "output_type": "display_data"
    }
   ],
   "source": [
    "# ODE + BC FOR THE SPHERE WITH PERFECTLY ABSORBING MEDIUM INSIDE \n",
    "\n",
    "ODE = sp.Eq((1/r**2) * sp.diff(r**2 * sp.diff(F, r), r) + B**2 * F, 0)\n",
    "print('ODE FOR THE SPHERE:')\n",
    "display(ODE)\n",
    "\n",
    "flux_c = sp.dsolve(ODE)\n",
    "sC1 = sp.symbols('C1')   \n",
    "sC2 = sp.symbols('C2')\n",
    "flux_c = sp.Eq(\n",
    "    flux_c.lhs,\n",
    "    (sC1 * sp.sin(B * r)) / r + (sC2 * sp.cos(B * r)) / r\n",
    ")\n",
    "print('GENERAL SOLUTION FOR THE FLUX IN THE CORE (r /= 0):')\n",
    "display(flux_c)\n",
    "\n",
    "# Vacuum BC \n",
    "vacuum_outside = sp.Eq(\n",
    "    flux_c.rhs.subs(r, R),\n",
    "    0\n",
    ")\n",
    "print('OUTSIDE VACUUM BOUNDARY CONDITION:')\n",
    "display(vacuum_outside)\n",
    "abs_medium_inside = sp.Eq(\n",
    "    (flux_c.rhs / 4) - (D/2) * sp.diff(flux_c.rhs, r).subs(r, R/2),\n",
    "    0\n",
    ")\n",
    "print('PERFECTLY ABSORBING MEDIUM INSIDE BOUNDARY CONDITION:')\n",
    "display(abs_medium_inside)"
   ]
  }
 ],
 "metadata": {
  "kernelspec": {
   "display_name": "base",
   "language": "python",
   "name": "python3"
  },
  "language_info": {
   "codemirror_mode": {
    "name": "ipython",
    "version": 3
   },
   "file_extension": ".py",
   "mimetype": "text/x-python",
   "name": "python",
   "nbconvert_exporter": "python",
   "pygments_lexer": "ipython3",
   "version": "3.11.5"
  }
 },
 "nbformat": 4,
 "nbformat_minor": 2
}
