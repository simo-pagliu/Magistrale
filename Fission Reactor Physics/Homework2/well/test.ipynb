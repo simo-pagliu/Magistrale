{
 "cells": [
  {
   "cell_type": "code",
   "execution_count": 1,
   "metadata": {},
   "outputs": [],
   "source": [
    "import sympy as sp\n",
    "import numpy as np\n",
    "import mainframe as mf\n",
    "import nuclei_func as nf\n",
    "from mainframe import Region\n",
    "from IPython.display import display, Latex"
   ]
  },
  {
   "cell_type": "code",
   "execution_count": 2,
   "metadata": {},
   "outputs": [
    {
     "name": "stdout",
     "output_type": "stream",
     "text": [
      "\u001b[93mThe sum of the qualites values is not 1, at line 4, default behaviour is ignoring.\u001b[0m\n",
      "U235 enrichment for criticality:  0.00215968108637319\n"
     ]
    },
    {
     "data": {
      "text/latex": [
       "$\\Sigma_{f} = 0.0672259995675901$"
      ],
      "text/plain": [
       "<IPython.core.display.Latex object>"
      ]
     },
     "metadata": {},
     "output_type": "display_data"
    },
    {
     "data": {
      "text/latex": [
       "$\\Sigma_{a, core} = 0.162201387730148$"
      ],
      "text/plain": [
       "<IPython.core.display.Latex object>"
      ]
     },
     "metadata": {},
     "output_type": "display_data"
    },
    {
     "data": {
      "text/latex": [
       "$\\Sigma_{a, refl} = 0.152516281698142$"
      ],
      "text/plain": [
       "<IPython.core.display.Latex object>"
      ]
     },
     "metadata": {},
     "output_type": "display_data"
    }
   ],
   "source": [
    "################################################################################\n",
    "# INPUT DATA\n",
    "################################################################################\n",
    "micro_abs_water = nf.mixture([0.33, 4.2],[2, 1]) \n",
    "micro_abs_U235 = 101 \n",
    "micro_fiss_U235 = 678 \n",
    "\n",
    "density_water = 1\n",
    "density_U235 = 19.1\n",
    "\n",
    "# Defining the temperature correction factor\n",
    "def T_correction(T_new):\n",
    "    return np.sqrt(293/(T_new+273))\n",
    "\n",
    "# Defining the macroscopic cross sections\n",
    "macro_abs_water = nf.macro(micro_abs_water, density_water, 18) * T_correction(60)\n",
    "macro_abs_U235 = nf.macro(micro_abs_U235, density_U235, 235) * T_correction(60)\n",
    "macro_fiss_U235 = nf.macro(micro_fiss_U235, density_U235, 235) * T_correction(60)\n",
    "\n",
    "# Defining the enrichment as a symbol\n",
    "qual = sp.symbols('qual', positive=True, real=True)\n",
    "\n",
    "# Defining the macroscopic cross sections of the mixtures\n",
    "macro_abs_refl = nf.mixture([macro_abs_water, 0], [1, 0])\n",
    "macro_fiss = nf.mixture([macro_fiss_U235, 0], [qual, 1-qual])\n",
    "macro_abs_core = nf.mixture([macro_abs_water, macro_abs_U235], [1-qual, qual])\n",
    "\n",
    "################################################################################\n",
    "# Defining the regions\n",
    "################################################################################\n",
    "Core_1 = Region(\n",
    "    Diff=0.16, \n",
    "    Abs=macro_abs_core, \n",
    "    Fiss=macro_fiss, \n",
    "    Nu=2.44, \n",
    "    Pos1=0, \n",
    "    Pos2=25, \n",
    "    composition='c', \n",
    "    power=25*50\n",
    ")\n",
    "\n",
    "Reflector_1 = Region(\n",
    "    Diff=0.16, \n",
    "    Abs=macro_abs_refl, \n",
    "    Fiss=0, \n",
    "    Nu=0, \n",
    "    Pos1=25, \n",
    "    Pos2=sp.oo, \n",
    "    composition='r', \n",
    "    power=0\n",
    ")\n",
    "regions = [Core_1, Reflector_1]\n",
    "\n",
    "################################################################################\n",
    "# Criticality Cond\n",
    "################################################################################\n",
    "# Finding the core region\n",
    "for region in regions:\n",
    "    if region.Composition == 'c':\n",
    "        core = region\n",
    "\n",
    "# Calculating the material and geometry buckling\n",
    "material_buckling = (core.Nu * macro_fiss - macro_abs_core) / core.Diffusion\n",
    "width = core.End - core.Start\n",
    "extrapolation_length = width + 0.7/core.Diffusion\n",
    "geometry_buckling = (3.14159 / extrapolation_length)**2\n",
    "\n",
    "# Solving the criticality equation\n",
    "criticality_cond = sp.Eq(material_buckling, geometry_buckling, evaluate=False)\n",
    "solve_crit = sp.solve(criticality_cond, qual)[0]\n",
    "print(\"U235 enrichment for criticality: \", solve_crit)\n",
    "\n",
    "# Substituting the value of qual in the macroscopic cross sections\n",
    "macro_fiss = macro_fiss.subs(qual, solve_crit)\n",
    "macro_abs_core = macro_abs_core.subs(qual, solve_crit)\n",
    "\n",
    "# Updating the macroscopic cross sections\n",
    "Core_1.Absorption = macro_abs_core\n",
    "Core_1.Fission = macro_fiss\n",
    "\n",
    "################################################################################\n",
    "# Displaying the results\n",
    "################################################################################\n",
    "display(Latex(r'$\\Sigma_{f} = ' + sp.latex(macro_fiss) + r'$'))\n",
    "display(Latex(r'$\\Sigma_{a, core} = ' + sp.latex(macro_abs_core) + r'$'))\n",
    "display(Latex(r'$\\Sigma_{a, refl} = ' + sp.latex(macro_abs_refl) + r'$'))"
   ]
  },
  {
   "cell_type": "code",
   "execution_count": 3,
   "metadata": {},
   "outputs": [
    {
     "name": "stdout",
     "output_type": "stream",
     "text": [
      "The region 1 spanning from 0 to 25 is a boundary region\n",
      "Region 1 is symmetric\n",
      "The region 2 spanning from 25 to oo is a boundary region\n",
      "Applying boundary condition at x = oo\n",
      "Term C_4*exp((x - 25)/L_2) has infinity at x = oo\n",
      "The regions 1 and 2 are adjacent at 25\n",
      "Diffusion equations:\n",
      "Eq(Bg_1**2*phi_1(x) + Derivative(phi_1(x), (x, 2)), 0)\n",
      "Eq(Derivative(phi_2(x), (x, 2)) - phi_2(x)/L_2**2, 0)\n",
      "\n",
      "Fluxes:\n",
      "Eq(phi_1(x), C_1*sin(Bg_1*x) + C_2*cos(Bg_1*x))\n",
      "Eq(phi_2(x - 25), C_3*exp(-(x - 25)/L_2) + C_4*exp((x - 25)/L_2))\n",
      "\n",
      "Boundary conditions:\n",
      "Eq(Bg_1*C_1, 0)\n",
      "Eq(C_4, 0)\n",
      "\n",
      "Interface conditions:\n",
      "Eq(C_1*sin(Bg_1*x_1) + C_2*cos(Bg_1*x_1), C_3*exp(-(x_1 - 25)/L_2) + C_4*exp((x_1 - 25)/L_2))\n",
      "Eq(-D_1*(Bg_1*C_1*cos(25*Bg_1) - Bg_1*C_2*sin(25*Bg_1)), -D_2*(-C_3/L_2 + C_4/L_2))\n",
      "\n",
      "Power conditions:\n",
      "Eq(-2.27802314903964e-12*C_1*cos(25*Bg_1)/Bg_1 + 2.27802314903964e-12*C_1/Bg_1 + 2.27802314903964e-12*C_2*sin(25*Bg_1)/Bg_1, 1250)\n"
     ]
    }
   ],
   "source": [
    "# For debug output\n",
    "equations, fluxes, boundaries, interfaces, powers = mf.main(regions, Symmetric=True)\n",
    "\n",
    "# Solving the problem\n",
    "# Capture output to hide debug prints\n",
    "# from IPython.utils.io import capture_output\n",
    "\n",
    "# with capture_output() as captured:\n",
    "#     equations, fluxes, boundaries, interfaces, powers = mf.main(regions)"
   ]
  },
  {
   "cell_type": "code",
   "execution_count": 4,
   "metadata": {},
   "outputs": [
    {
     "name": "stdout",
     "output_type": "stream",
     "text": [
      "Diffusion equations:\n"
     ]
    },
    {
     "data": {
      "text/latex": [
       "$Bg_{1}^{2} \\phi_{1}{\\left(x \\right)} + \\frac{d^{2}}{d x^{2}} \\phi_{1}{\\left(x \\right)} = 0$"
      ],
      "text/plain": [
       "<IPython.core.display.Latex object>"
      ]
     },
     "metadata": {},
     "output_type": "display_data"
    },
    {
     "data": {
      "text/latex": [
       "$\\frac{d^{2}}{d x^{2}} \\phi_{2}{\\left(x \\right)} - \\frac{\\phi_{2}{\\left(x \\right)}}{L_{2}^{2}} = 0$"
      ],
      "text/plain": [
       "<IPython.core.display.Latex object>"
      ]
     },
     "metadata": {},
     "output_type": "display_data"
    }
   ],
   "source": [
    "# Print the equations\n",
    "print('Diffusion equations:')\n",
    "for eq in equations:\n",
    "    display(Latex(\"$\" + sp.latex(eq) + \"$\"))"
   ]
  },
  {
   "cell_type": "code",
   "execution_count": 5,
   "metadata": {},
   "outputs": [
    {
     "name": "stdout",
     "output_type": "stream",
     "text": [
      "\n",
      "Fluxes:\n"
     ]
    },
    {
     "data": {
      "text/latex": [
       "$\\phi_{1}{\\left(x \\right)} = C_{1} \\sin{\\left(Bg_{1} x \\right)} + C_{2} \\cos{\\left(Bg_{1} x \\right)}$"
      ],
      "text/plain": [
       "<IPython.core.display.Latex object>"
      ]
     },
     "metadata": {},
     "output_type": "display_data"
    },
    {
     "data": {
      "text/latex": [
       "$\\phi_{2}{\\left(x - 25 \\right)} = C_{3} e^{- \\frac{x - 25}{L_{2}}} + C_{4} e^{\\frac{x - 25}{L_{2}}}$"
      ],
      "text/plain": [
       "<IPython.core.display.Latex object>"
      ]
     },
     "metadata": {},
     "output_type": "display_data"
    }
   ],
   "source": [
    "# Print the fluxes\n",
    "print('\\nFluxes:')\n",
    "for flux in fluxes:\n",
    "    display(Latex(\"$\" + sp.latex(flux) + \"$\"))"
   ]
  },
  {
   "cell_type": "code",
   "execution_count": 6,
   "metadata": {},
   "outputs": [
    {
     "name": "stdout",
     "output_type": "stream",
     "text": [
      "\n",
      "Boundary conditions:\n"
     ]
    },
    {
     "data": {
      "text/latex": [
       "$Bg_{1} C_{1} = 0$"
      ],
      "text/plain": [
       "<IPython.core.display.Latex object>"
      ]
     },
     "metadata": {},
     "output_type": "display_data"
    },
    {
     "data": {
      "text/latex": [
       "$C_{4} = 0$"
      ],
      "text/plain": [
       "<IPython.core.display.Latex object>"
      ]
     },
     "metadata": {},
     "output_type": "display_data"
    }
   ],
   "source": [
    "# Print the boundary conditions\n",
    "print('\\nBoundary conditions:')\n",
    "for boundary in boundaries:\n",
    "    display(Latex(\"$\" + sp.latex(boundary) + \"$\"))"
   ]
  },
  {
   "cell_type": "code",
   "execution_count": 7,
   "metadata": {},
   "outputs": [
    {
     "name": "stdout",
     "output_type": "stream",
     "text": [
      "\n",
      "Interface conditions:\n"
     ]
    },
    {
     "data": {
      "text/latex": [
       "$C_{1} \\sin{\\left(Bg_{1} x_{1} \\right)} + C_{2} \\cos{\\left(Bg_{1} x_{1} \\right)} = C_{3} e^{- \\frac{x_{1} - 25}{L_{2}}} + C_{4} e^{\\frac{x_{1} - 25}{L_{2}}}$"
      ],
      "text/plain": [
       "<IPython.core.display.Latex object>"
      ]
     },
     "metadata": {},
     "output_type": "display_data"
    },
    {
     "data": {
      "text/latex": [
       "$- D_{1} \\left(Bg_{1} C_{1} \\cos{\\left(25 Bg_{1} \\right)} - Bg_{1} C_{2} \\sin{\\left(25 Bg_{1} \\right)}\\right) = - D_{2} \\left(- \\frac{C_{3}}{L_{2}} + \\frac{C_{4}}{L_{2}}\\right)$"
      ],
      "text/plain": [
       "<IPython.core.display.Latex object>"
      ]
     },
     "metadata": {},
     "output_type": "display_data"
    }
   ],
   "source": [
    "# Print the interface conditions\n",
    "print('\\nInterface conditions:')\n",
    "for interface in interfaces:\n",
    "    display(Latex(\"$\" + sp.latex(interface) + \"$\"))"
   ]
  },
  {
   "cell_type": "code",
   "execution_count": 8,
   "metadata": {},
   "outputs": [
    {
     "name": "stdout",
     "output_type": "stream",
     "text": [
      "\n",
      "Power conditions:\n"
     ]
    },
    {
     "data": {
      "text/latex": [
       "$- \\frac{2.27802314903964 \\cdot 10^{-12} C_{1} \\cos{\\left(25 Bg_{1} \\right)}}{Bg_{1}} + \\frac{2.27802314903964 \\cdot 10^{-12} C_{1}}{Bg_{1}} + \\frac{2.27802314903964 \\cdot 10^{-12} C_{2} \\sin{\\left(25 Bg_{1} \\right)}}{Bg_{1}} = 1250$"
      ],
      "text/plain": [
       "<IPython.core.display.Latex object>"
      ]
     },
     "metadata": {},
     "output_type": "display_data"
    }
   ],
   "source": [
    "# Print the power conditions\n",
    "print('\\nPower conditions:')\n",
    "for power in powers:\n",
    "    display(Latex(\"$\" + sp.latex(power) + \"$\"))"
   ]
  },
  {
   "cell_type": "code",
   "execution_count": 9,
   "metadata": {},
   "outputs": [
    {
     "name": "stdout",
     "output_type": "stream",
     "text": [
      "Zero constant found in Eq(Bg_1*C_1, 0) is ['C_1']\n",
      "Zero constant found in Eq(C_4, 0) is ['C_4']\n",
      "Region 1 has B = 0.106947744680855\n",
      "Substitution dictionary for region 1: {L_1: 0.993190847015114, Bg_1: 0.106947744680855, D_1: 0.16, A_1: 0.162201387730148, F_1: 0.0672259995675901, N_1: 2.44, x_1: 25, C_1: 0}\n",
      "Region 2 has B = 0.976333324543103*I\n",
      "Substitution dictionary for region 2: {L_2: 1.02424036429154, Bg_2: 0.976333324543103*I, D_2: 0.16, A_2: 0.15251628169814208, F_2: 0, N_2: 0, x_2: oo, C_4: 0}\n",
      "\n",
      "Simplified system:\n"
     ]
    },
    {
     "data": {
      "text/latex": [
       "$\\phi_{1}{\\left(x \\right)} = C_{2} \\cos{\\left(0.106947744680855 x \\right)}$"
      ],
      "text/plain": [
       "<IPython.core.display.Latex object>"
      ]
     },
     "metadata": {},
     "output_type": "display_data"
    },
    {
     "data": {
      "text/latex": [
       "$\\phi_{2}{\\left(x - 25 \\right)} = 39847803185.6426 C_{3} e^{- 0.976333324543103 x}$"
      ],
      "text/plain": [
       "<IPython.core.display.Latex object>"
      ]
     },
     "metadata": {},
     "output_type": "display_data"
    },
    {
     "data": {
      "text/latex": [
       "$\\text{True}$"
      ],
      "text/plain": [
       "<IPython.core.display.Latex object>"
      ]
     },
     "metadata": {},
     "output_type": "display_data"
    },
    {
     "data": {
      "text/latex": [
       "$\\text{True}$"
      ],
      "text/plain": [
       "<IPython.core.display.Latex object>"
      ]
     },
     "metadata": {},
     "output_type": "display_data"
    },
    {
     "data": {
      "text/latex": [
       "$- 0.892517817307993 C_{2} = C_{3}$"
      ],
      "text/plain": [
       "<IPython.core.display.Latex object>"
      ]
     },
     "metadata": {},
     "output_type": "display_data"
    },
    {
     "data": {
      "text/latex": [
       "$0.00771755690345527 C_{2} = 0.156213331926896 C_{3}$"
      ],
      "text/plain": [
       "<IPython.core.display.Latex object>"
      ]
     },
     "metadata": {},
     "output_type": "display_data"
    },
    {
     "data": {
      "text/latex": [
       "$9.60671107901079 \\cdot 10^{-12} C_{2} = 1250$"
      ],
      "text/plain": [
       "<IPython.core.display.Latex object>"
      ]
     },
     "metadata": {},
     "output_type": "display_data"
    }
   ],
   "source": [
    "# Call the compute function\n",
    "system = mf.compute(fluxes, boundaries, interfaces, powers, regions)\n",
    "print('\\nSimplified system:')\n",
    "for eq in system:\n",
    "    display(Latex(\"$\" + sp.latex(eq) + \"$\"))"
   ]
  },
  {
   "cell_type": "code",
   "execution_count": 10,
   "metadata": {},
   "outputs": [
    {
     "data": {
      "text/plain": [
       "[phi_1(x), phi_2(x - 25), C_3, C_2]"
      ]
     },
     "metadata": {},
     "output_type": "display_data"
    },
    {
     "data": {
      "text/plain": [
       "[Eq(phi_1(x), C_2*cos(0.106947744680855*x)),\n",
       " Eq(phi_2(x - 25), 39847803185.6426*C_3*exp(-0.976333324543103*x)),\n",
       " Eq(-0.892517817307993*C_2, C_3),\n",
       " Eq(0.00771755690345527*C_2, 0.156213331926896*C_3),\n",
       " Eq(9.60671107901079e-12*C_2, 1250)]"
      ]
     },
     "metadata": {},
     "output_type": "display_data"
    }
   ],
   "source": [
    "# Get rid of True expressions\n",
    "system = [eq for eq in system if eq != True]\n",
    "\n",
    "# Get all the unkowns\n",
    "all_symbols = set()\n",
    "for eq in system:\n",
    "    all_symbols.update(eq.free_symbols)\n",
    "\n",
    "x = sp.symbols('x')\n",
    "all_symbols.discard(x)\n",
    "\n",
    "unkowns = [flux.lhs for flux in fluxes]\n",
    "for i in all_symbols:\n",
    "    unkowns.append(i)\n",
    "\n",
    "display(unkowns)\n",
    "display(system)"
   ]
  },
  {
   "cell_type": "code",
   "execution_count": 11,
   "metadata": {},
   "outputs": [
    {
     "data": {
      "text/plain": [
       "[phi_1(x), phi_2(x - 25), C_3, C_2]"
      ]
     },
     "metadata": {},
     "output_type": "display_data"
    },
    {
     "data": {
      "text/plain": [
       "[Eq(phi_1(x), C_2*cos(0.106947744680855*x)),\n",
       " Eq(phi_2(x - 25), 39847803185.6426*C_3*exp(-0.976333324543103*x)),\n",
       " Eq(-0.892517817307993*C_2, C_3),\n",
       " Eq(0.00771755690345527*C_2, 0.156213331926896*C_3),\n",
       " Eq(9.60671107901079e-12*C_2, 1250)]"
      ]
     },
     "metadata": {},
     "output_type": "display_data"
    },
    {
     "data": {
      "text/plain": [
       "[]"
      ]
     },
     "metadata": {},
     "output_type": "display_data"
    }
   ],
   "source": [
    "display(unkowns)\n",
    "display(system)\n",
    "\n",
    "solution = sp.solve(system, unkowns)\n",
    "display(solution)"
   ]
  },
  {
   "cell_type": "code",
   "execution_count": 12,
   "metadata": {},
   "outputs": [
    {
     "data": {
      "text/latex": [
       "$130117372087005.0 \\cos{\\left(0.106947744680855 x \\right)}$"
      ],
      "text/plain": [
       "<IPython.core.display.Latex object>"
      ]
     },
     "metadata": {},
     "output_type": "display_data"
    },
    {
     "data": {
      "text/latex": [
       "$- 4.62760798561332 \\cdot 10^{24} e^{- 0.976333324543103 x}$"
      ],
      "text/plain": [
       "<IPython.core.display.Latex object>"
      ]
     },
     "metadata": {},
     "output_type": "display_data"
    },
    {
     "data": {
      "text/latex": [
       "$0$"
      ],
      "text/plain": [
       "<IPython.core.display.Latex object>"
      ]
     },
     "metadata": {},
     "output_type": "display_data"
    },
    {
     "data": {
      "image/png": "[encoded data removed]",
      "text/plain": [
       "<Figure size 640x480 with 1 Axes>"
      ]
     },
     "metadata": {},
     "output_type": "display_data"
    }
   ],
   "source": [
    "# Get phi1 and phi2 from solution\n",
    "# phi1 = solution[0][0]\n",
    "# phi2 = solution[0][1]\n",
    "# phi3 = solution[0][2]\n",
    "from sympy import sin, cos, sinh, cosh, tanh, exp\n",
    "\n",
    "# Extract phi1, phi2, and phi3 from solution\n",
    "phi1 = 130117372087005.0*cos(0.106947744680855*x) #34746968036852.0*cos(0.062831853071796*x) -100911257256110.0*cos(0.188495559215388*x)\n",
    "phi2 = -4.62760798561332e+24*exp(-0.976333324543103*x) #-2236138351012.0*sinh(0.976333324543103*x - 24.4083331135776) -19482407687476.8*sinh(0.976333324543103*x - 24.4083331135776)\n",
    "phi3 = 0 #2064363323787.3*sp.sinh(1.00807365802306*x - 50.4036829011532)/sp.tanh(1.00807365802306*x - 50.4036829011532) + 2064363323787.3*sp.cosh(1.00807365802306*x - 50.4036829011532)\n",
    "\n",
    "fluxes_solved = [phi1, phi2, phi3]\n",
    "\n",
    "# Display the results\n",
    "for flux in fluxes_solved:\n",
    "    display(Latex(f\"${sp.latex(flux)}$\"))\n",
    "\n",
    "# Plot the results from x=0 to x=50\n",
    "import numpy as np\n",
    "import matplotlib.pyplot as plt\n",
    "from sympy import lambdify\n",
    "\n",
    "\n",
    "\n",
    "x_sym = sp.symbols('x')\n",
    "x_1 = np.linspace(0, 25, 100)\n",
    "x_2 = np.linspace(25, 30, 100)\n",
    "x_3 = np.linspace(100, 150, 100)\n",
    "phi1_vals = [phi1.subs(x, val).evalf() for val in x_1]\n",
    "phi2_vals = [phi2.subs(x, val).evalf() for val in x_2]\n",
    "#phi3_vals = [phi3.subs(x, val).evalf() for val in x_3]\n",
    "\n",
    "plt.plot(x_1, phi1_vals, label='Flux 1')\n",
    "plt.plot(x_2, phi2_vals, label='Flux 2')\n",
    "#plt.plot(x_3, phi3_vals, label='Flux 3')\n",
    "plt.xlabel('x')\n",
    "plt.ylabel('Flux')\n",
    "plt.legend()\n",
    "plt.show()"
   ]
  }
 ],
 "metadata": {
  "kernelspec": {
   "display_name": "base",
   "language": "python",
   "name": "python3"
  },
  "language_info": {
   "codemirror_mode": {
    "name": "ipython",
    "version": 3
   },
   "file_extension": ".py",
   "mimetype": "text/x-python",
   "name": "python",
   "nbconvert_exporter": "python",
   "pygments_lexer": "ipython3",
   "version": "3.11.5"
  }
 },
 "nbformat": 4,
 "nbformat_minor": 2
}
