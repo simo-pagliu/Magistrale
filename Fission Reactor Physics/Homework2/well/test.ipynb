{
 "cells": [
  {
   "cell_type": "code",
   "execution_count": 138,
   "metadata": {},
   "outputs": [],
   "source": [
    "import sympy as sp\n",
    "import mainframe as mf\n",
    "import nuclei_func as nf\n",
    "from mainframe import Region\n",
    "from IPython.display import display, Latex"
   ]
  },
  {
   "cell_type": "code",
   "execution_count": 139,
   "metadata": {},
   "outputs": [
    {
     "name": "stdout",
     "output_type": "stream",
     "text": [
      "\u001b[93mThe sum of the qualites values is not 1, at line 4, default behaviour is ignoring.\u001b[0m\n"
     ]
    },
    {
     "data": {
      "text/latex": [
       "$\\Sigma_{f} = 1.73741106382979 qual$"
      ],
      "text/plain": [
       "<IPython.core.display.Latex object>"
      ]
     },
     "metadata": {},
     "output_type": "display_data"
    },
    {
     "data": {
      "text/latex": [
       "$\\Sigma_{a, core} = 0.0962238723404255 qual + 0.162594$"
      ],
      "text/plain": [
       "<IPython.core.display.Latex object>"
      ]
     },
     "metadata": {},
     "output_type": "display_data"
    },
    {
     "data": {
      "text/latex": [
       "$\\Sigma_{a, refl} = 0.162594$"
      ],
      "text/plain": [
       "<IPython.core.display.Latex object>"
      ]
     },
     "metadata": {},
     "output_type": "display_data"
    }
   ],
   "source": [
    "################################################################################\n",
    "# Cross section data\n",
    "################################################################################\n",
    "micro_abs_water = nf.mixture([0.33, 4.2],[2, 1]) # XSEC DATA ?\n",
    "micro_abs_U235 = 101 # XSEC DATA ?\n",
    "micro_fiss_U235 = 678 # XSEC DATA ?\n",
    "\n",
    "density_water = 1\n",
    "density_U235 = density_water # NOT SURE\n",
    "\n",
    "macro_abs_water = nf.macro(micro_abs_water, density_water, 18)\n",
    "macro_abs_U235 = nf.macro(micro_abs_U235, density_U235, 235)\n",
    "macro_fiss_U235 = nf.macro(micro_fiss_U235, density_U235, 235)\n",
    "\n",
    "qual = sp.symbols('qual', positive=True, real=True, lower_than=1)\n",
    "\n",
    "macro_abs_refl = nf.mixture([macro_abs_water, 0], [1, 0])\n",
    "macro_fiss = nf.mixture([macro_fiss_U235, 0], [qual, 1-qual])\n",
    "macro_abs_core = nf.mixture([macro_abs_water, macro_abs_U235], [1-qual, qual])\n",
    "\n",
    "display(Latex(r'$\\Sigma_{f} = ' + sp.latex(macro_fiss) + r'$'))\n",
    "display(Latex(r'$\\Sigma_{a, core} = ' + sp.latex(macro_abs_core) + r'$'))\n",
    "display(Latex(r'$\\Sigma_{a, refl} = ' + sp.latex(macro_abs_refl) + r'$'))"
   ]
  },
  {
   "cell_type": "code",
   "execution_count": 140,
   "metadata": {},
   "outputs": [],
   "source": [
    "############################################################################################################\n",
    "# INPUT EXAMPLE\n",
    "############################################################################################################\n",
    "Reflector_SX = Region(0.16, macro_abs_refl, 0, 0, 60, -sp.oo, 0, {'H': 2, 'O': 1})\n",
    "Core = Region(0.16, macro_abs_core, macro_fiss, 2.44, 60, 0, 50, {'H': 2, 'O': 1, 'U-235': 1}, 25*50)\n",
    "Reflector_DX = Region(0.16, macro_abs_refl, 0, 0, 60, 50, sp.oo, {'H': 2, 'O': 1})\n",
    "regions = [Reflector_SX, Core, Reflector_DX]"
   ]
  },
  {
   "cell_type": "code",
   "execution_count": 141,
   "metadata": {},
   "outputs": [],
   "source": [
    "# Solving the problem\n",
    "# Capture output to hide debug prints\n",
    "from IPython.utils.io import capture_output\n",
    "\n",
    "with capture_output() as captured:\n",
    "    equations, fluxes, boundaries, interfaces, powers, system = mf.main(regions)\n"
   ]
  },
  {
   "cell_type": "code",
   "execution_count": 142,
   "metadata": {},
   "outputs": [
    {
     "name": "stdout",
     "output_type": "stream",
     "text": [
      "The region 1 spanning from -oo to 0 is a boundary region\n",
      "The regions 1 and 2 are adjacent at 0\n",
      "The region 3 spanning from 50 to oo is a boundary region\n",
      "The regions 2 and 3 are adjacent at 50\n",
      "Diffusion equations:\n",
      "Eq(-A*phi_1(x)/D + Derivative(phi_1(x), (x, 2)), 0)\n",
      "Eq(Bg_2**2*phi_2(x) + Derivative(phi_2(x), (x, 2)), 0)\n",
      "Eq(-A*phi_3(x)/D + Derivative(phi_3(x), (x, 2)), 0)\n",
      "\n",
      "Fluxes:\n",
      "Eq(phi_1(x), C1*exp(-1.00807365802306*x) + C2*exp(1.00807365802306*x))\n",
      "Eq(phi_2(x), C3*sin(5.08862648671295*x*sqrt(qual - 0.0392449142425948)) + C4*cos(5.08862648671295*x*sqrt(qual - 0.0392449142425948)))\n",
      "Eq(phi_3(x - 50), 7.76321030915348e+21*C5*exp(-1.00807365802306*x) + 1.28812689618999e-22*C6*exp(1.00807365802306*x))\n",
      "\n",
      "Boundary conditions:\n",
      "Eq(C1, 0)\n",
      "Eq(C6, 0)\n",
      "\n",
      "Interface conditions:\n",
      "Eq(C1 + C2, C4)\n",
      "Eq(0.16129178528369*C1 - 0.16129178528369*C2, -0.814180237874072*C3*sqrt(qual - 0.0392449142425948))\n",
      "Eq(C3*sin(254.431324335648*sqrt(qual - 0.0392449142425948)) + C4*cos(254.431324335648*sqrt(qual - 0.0392449142425948)), C5 + C6)\n",
      "Eq(-0.814180237874072*C3*sqrt(qual - 0.0392449142425948)*cos(254.431324335648*sqrt(qual - 0.0392449142425948)) + 0.814180237874072*C4*sqrt(qual - 0.0392449142425948)*sin(254.431324335648*sqrt(qual - 0.0392449142425948)), 0.16129178528369*C5 - 0.16129178528369*C6)\n",
      "\n",
      "Power conditions:\n",
      "Eq(4.23928299574468*qual*(-0.196516683354757*C3*cos(254.431324335648*sqrt(qual - 0.0392449142425948))/sqrt(qual - 0.0392449142425948) + 0.196516683354757*C3/sqrt(qual - 0.0392449142425948) + 0.196516683354757*C4*sin(254.431324335648*sqrt(qual - 0.0392449142425948))/sqrt(qual - 0.0392449142425948)), 1250)\n",
      "\n",
      "Simplifying....\n",
      "Substituting {C1: 0, C6: 0} in Eq(phi_1(x), C1*exp(-1.00807365802306*x) + C2*exp(1.00807365802306*x)) gives Eq(phi_1(x), C2*exp(1.00807365802306*x))\n",
      "Substituting {C1: 0, C6: 0} in Eq(phi_2(x), C3*sin(5.08862648671295*x*sqrt(qual - 0.0392449142425948)) + C4*cos(5.08862648671295*x*sqrt(qual - 0.0392449142425948))) gives Eq(phi_2(x), C3*sin(5.08862648671295*x*sqrt(qual - 0.0392449142425948)) + C4*cos(5.08862648671295*x*sqrt(qual - 0.0392449142425948)))\n",
      "Substituting {C1: 0, C6: 0} in Eq(phi_3(x - 50), 7.76321030915348e+21*C5*exp(-1.00807365802306*x) + 1.28812689618999e-22*C6*exp(1.00807365802306*x)) gives Eq(phi_3(x - 50), 7.76321030915348e+21*C5*exp(-1.00807365802306*x))\n",
      "Substituting {C1: 0, C6: 0} in Eq(C1 + C2, C4) gives Eq(C2, C4)\n",
      "Substituting {C1: 0, C6: 0} in Eq(0.16129178528369*C1 - 0.16129178528369*C2, -0.814180237874072*C3*sqrt(qual - 0.0392449142425948)) gives Eq(-0.16129178528369*C2, -0.814180237874072*C3*sqrt(qual - 0.0392449142425948))\n",
      "Substituting {C1: 0, C6: 0} in Eq(C3*sin(254.431324335648*sqrt(qual - 0.0392449142425948)) + C4*cos(254.431324335648*sqrt(qual - 0.0392449142425948)), C5 + C6) gives Eq(C3*sin(254.431324335648*sqrt(qual - 0.0392449142425948)) + C4*cos(254.431324335648*sqrt(qual - 0.0392449142425948)), C5)\n",
      "Substituting {C1: 0, C6: 0} in Eq(-0.814180237874072*C3*sqrt(qual - 0.0392449142425948)*cos(254.431324335648*sqrt(qual - 0.0392449142425948)) + 0.814180237874072*C4*sqrt(qual - 0.0392449142425948)*sin(254.431324335648*sqrt(qual - 0.0392449142425948)), 0.16129178528369*C5 - 0.16129178528369*C6) gives Eq(-0.814180237874072*C3*sqrt(qual - 0.0392449142425948)*cos(254.431324335648*sqrt(qual - 0.0392449142425948)) + 0.814180237874072*C4*sqrt(qual - 0.0392449142425948)*sin(254.431324335648*sqrt(qual - 0.0392449142425948)), 0.16129178528369*C5)\n",
      "Substituting {C1: 0, C6: 0} in Eq(4.23928299574468*qual*(-0.196516683354757*C3*cos(254.431324335648*sqrt(qual - 0.0392449142425948))/sqrt(qual - 0.0392449142425948) + 0.196516683354757*C3/sqrt(qual - 0.0392449142425948) + 0.196516683354757*C4*sin(254.431324335648*sqrt(qual - 0.0392449142425948))/sqrt(qual - 0.0392449142425948)), 1250) gives Eq(4.23928299574468*qual*(-0.196516683354757*C3*cos(254.431324335648*sqrt(qual - 0.0392449142425948))/sqrt(qual - 0.0392449142425948) + 0.196516683354757*C3/sqrt(qual - 0.0392449142425948) + 0.196516683354757*C4*sin(254.431324335648*sqrt(qual - 0.0392449142425948))/sqrt(qual - 0.0392449142425948)), 1250)\n",
      "Zero Constants:\n",
      "{C1: 0, C6: 0}\n",
      "\n",
      "Simplified Equations:\n",
      "Eq(phi_1(x), C2*exp(1.00807365802306*x))\n",
      "Eq(phi_2(x), C3*sin(5.08862648671295*x*sqrt(qual - 0.0392449142425948)) + C4*cos(5.08862648671295*x*sqrt(qual - 0.0392449142425948)))\n",
      "Eq(phi_3(x - 50), 7.76321030915348e+21*C5*exp(-1.00807365802306*x))\n",
      "Eq(C2, C4)\n",
      "Eq(-0.16129178528369*C2, -0.814180237874072*C3*sqrt(qual - 0.0392449142425948))\n",
      "Eq(C3*sin(254.431324335648*sqrt(qual - 0.0392449142425948)) + C4*cos(254.431324335648*sqrt(qual - 0.0392449142425948)), C5)\n",
      "Eq(-0.814180237874072*C3*sqrt(qual - 0.0392449142425948)*cos(254.431324335648*sqrt(qual - 0.0392449142425948)) + 0.814180237874072*C4*sqrt(qual - 0.0392449142425948)*sin(254.431324335648*sqrt(qual - 0.0392449142425948)), 0.16129178528369*C5)\n",
      "Eq(4.23928299574468*qual*(-0.196516683354757*C3*cos(254.431324335648*sqrt(qual - 0.0392449142425948))/sqrt(qual - 0.0392449142425948) + 0.196516683354757*C3/sqrt(qual - 0.0392449142425948) + 0.196516683354757*C4*sin(254.431324335648*sqrt(qual - 0.0392449142425948))/sqrt(qual - 0.0392449142425948)), 1250)\n"
     ]
    }
   ],
   "source": [
    "equations, fluxes, boundaries, interfaces, powers, system = mf.main(regions)"
   ]
  },
  {
   "cell_type": "code",
   "execution_count": 143,
   "metadata": {},
   "outputs": [
    {
     "name": "stdout",
     "output_type": "stream",
     "text": [
      "Diffusion equations:\n"
     ]
    },
    {
     "data": {
      "text/latex": [
       "$- \\frac{A \\phi_{1}{\\left(x \\right)}}{D} + \\frac{d^{2}}{d x^{2}} \\phi_{1}{\\left(x \\right)} = 0$"
      ],
      "text/plain": [
       "<IPython.core.display.Latex object>"
      ]
     },
     "metadata": {},
     "output_type": "display_data"
    },
    {
     "data": {
      "text/latex": [
       "$Bg_{2}^{2} \\phi_{2}{\\left(x \\right)} + \\frac{d^{2}}{d x^{2}} \\phi_{2}{\\left(x \\right)} = 0$"
      ],
      "text/plain": [
       "<IPython.core.display.Latex object>"
      ]
     },
     "metadata": {},
     "output_type": "display_data"
    },
    {
     "data": {
      "text/latex": [
       "$- \\frac{A \\phi_{3}{\\left(x \\right)}}{D} + \\frac{d^{2}}{d x^{2}} \\phi_{3}{\\left(x \\right)} = 0$"
      ],
      "text/plain": [
       "<IPython.core.display.Latex object>"
      ]
     },
     "metadata": {},
     "output_type": "display_data"
    }
   ],
   "source": [
    "# Print the equations\n",
    "print('Diffusion equations:')\n",
    "for eq in equations:\n",
    "    display(Latex(\"$\" + sp.latex(eq) + \"$\"))"
   ]
  },
  {
   "cell_type": "code",
   "execution_count": 144,
   "metadata": {},
   "outputs": [
    {
     "name": "stdout",
     "output_type": "stream",
     "text": [
      "\n",
      "Fluxes:\n"
     ]
    },
    {
     "data": {
      "text/latex": [
       "$\\phi_{1}{\\left(x \\right)} = C_{1} e^{- 1.00807365802306 x} + C_{2} e^{1.00807365802306 x}$"
      ],
      "text/plain": [
       "<IPython.core.display.Latex object>"
      ]
     },
     "metadata": {},
     "output_type": "display_data"
    },
    {
     "data": {
      "text/latex": [
       "$\\phi_{2}{\\left(x \\right)} = C_{3} \\sin{\\left(5.08862648671295 x \\sqrt{qual - 0.0392449142425948} \\right)} + C_{4} \\cos{\\left(5.08862648671295 x \\sqrt{qual - 0.0392449142425948} \\right)}$"
      ],
      "text/plain": [
       "<IPython.core.display.Latex object>"
      ]
     },
     "metadata": {},
     "output_type": "display_data"
    },
    {
     "data": {
      "text/latex": [
       "$\\phi_{3}{\\left(x - 50 \\right)} = 7.76321030915348 \\cdot 10^{21} C_{5} e^{- 1.00807365802306 x} + 1.28812689618999 \\cdot 10^{-22} C_{6} e^{1.00807365802306 x}$"
      ],
      "text/plain": [
       "<IPython.core.display.Latex object>"
      ]
     },
     "metadata": {},
     "output_type": "display_data"
    }
   ],
   "source": [
    "# Print the fluxes\n",
    "print('\\nFluxes:')\n",
    "for flux in fluxes:\n",
    "    display(Latex(\"$\" + sp.latex(flux) + \"$\"))"
   ]
  },
  {
   "cell_type": "code",
   "execution_count": 145,
   "metadata": {},
   "outputs": [
    {
     "name": "stdout",
     "output_type": "stream",
     "text": [
      "\n",
      "Boundary conditions:\n"
     ]
    },
    {
     "data": {
      "text/latex": [
       "$C_{1} = 0$"
      ],
      "text/plain": [
       "<IPython.core.display.Latex object>"
      ]
     },
     "metadata": {},
     "output_type": "display_data"
    },
    {
     "data": {
      "text/latex": [
       "$C_{6} = 0$"
      ],
      "text/plain": [
       "<IPython.core.display.Latex object>"
      ]
     },
     "metadata": {},
     "output_type": "display_data"
    }
   ],
   "source": [
    "# Print the boundary conditions\n",
    "print('\\nBoundary conditions:')\n",
    "for boundary in boundaries:\n",
    "    display(Latex(\"$\" + sp.latex(boundary) + \"$\"))"
   ]
  },
  {
   "cell_type": "code",
   "execution_count": 146,
   "metadata": {},
   "outputs": [
    {
     "name": "stdout",
     "output_type": "stream",
     "text": [
      "\n",
      "Interface conditions:\n"
     ]
    },
    {
     "data": {
      "text/latex": [
       "$C_{1} + C_{2} = C_{4}$"
      ],
      "text/plain": [
       "<IPython.core.display.Latex object>"
      ]
     },
     "metadata": {},
     "output_type": "display_data"
    },
    {
     "data": {
      "text/latex": [
       "$0.16129178528369 C_{1} - 0.16129178528369 C_{2} = - 0.814180237874072 C_{3} \\sqrt{qual - 0.0392449142425948}$"
      ],
      "text/plain": [
       "<IPython.core.display.Latex object>"
      ]
     },
     "metadata": {},
     "output_type": "display_data"
    },
    {
     "data": {
      "text/latex": [
       "$C_{3} \\sin{\\left(254.431324335648 \\sqrt{qual - 0.0392449142425948} \\right)} + C_{4} \\cos{\\left(254.431324335648 \\sqrt{qual - 0.0392449142425948} \\right)} = C_{5} + C_{6}$"
      ],
      "text/plain": [
       "<IPython.core.display.Latex object>"
      ]
     },
     "metadata": {},
     "output_type": "display_data"
    },
    {
     "data": {
      "text/latex": [
       "$- 0.814180237874072 C_{3} \\sqrt{qual - 0.0392449142425948} \\cos{\\left(254.431324335648 \\sqrt{qual - 0.0392449142425948} \\right)} + 0.814180237874072 C_{4} \\sqrt{qual - 0.0392449142425948} \\sin{\\left(254.431324335648 \\sqrt{qual - 0.0392449142425948} \\right)} = 0.16129178528369 C_{5} - 0.16129178528369 C_{6}$"
      ],
      "text/plain": [
       "<IPython.core.display.Latex object>"
      ]
     },
     "metadata": {},
     "output_type": "display_data"
    }
   ],
   "source": [
    "# Print the interface conditions\n",
    "print('\\nInterface conditions:')\n",
    "for interface in interfaces:\n",
    "    display(Latex(\"$\" + sp.latex(interface) + \"$\"))"
   ]
  },
  {
   "cell_type": "code",
   "execution_count": 147,
   "metadata": {},
   "outputs": [
    {
     "name": "stdout",
     "output_type": "stream",
     "text": [
      "\n",
      "Power conditions:\n"
     ]
    },
    {
     "data": {
      "text/latex": [
       "$4.23928299574468 qual \\left(- \\frac{0.196516683354757 C_{3} \\cos{\\left(254.431324335648 \\sqrt{qual - 0.0392449142425948} \\right)}}{\\sqrt{qual - 0.0392449142425948}} + \\frac{0.196516683354757 C_{3}}{\\sqrt{qual - 0.0392449142425948}} + \\frac{0.196516683354757 C_{4} \\sin{\\left(254.431324335648 \\sqrt{qual - 0.0392449142425948} \\right)}}{\\sqrt{qual - 0.0392449142425948}}\\right) = 1250$"
      ],
      "text/plain": [
       "<IPython.core.display.Latex object>"
      ]
     },
     "metadata": {},
     "output_type": "display_data"
    }
   ],
   "source": [
    "# Print the power conditions\n",
    "print('\\nPower conditions:')\n",
    "for power in powers:\n",
    "    display(Latex(\"$\" + sp.latex(power) + \"$\"))"
   ]
  },
  {
   "cell_type": "code",
   "execution_count": 148,
   "metadata": {},
   "outputs": [
    {
     "name": "stdout",
     "output_type": "stream",
     "text": [
      "\n",
      "Simplified system:\n"
     ]
    },
    {
     "data": {
      "text/latex": [
       "$\\phi_{1}{\\left(x \\right)} = C_{2} e^{1.00807365802306 x}$"
      ],
      "text/plain": [
       "<IPython.core.display.Latex object>"
      ]
     },
     "metadata": {},
     "output_type": "display_data"
    },
    {
     "data": {
      "text/latex": [
       "$\\phi_{2}{\\left(x \\right)} = C_{3} \\sin{\\left(5.08862648671295 x \\sqrt{qual - 0.0392449142425948} \\right)} + C_{4} \\cos{\\left(5.08862648671295 x \\sqrt{qual - 0.0392449142425948} \\right)}$"
      ],
      "text/plain": [
       "<IPython.core.display.Latex object>"
      ]
     },
     "metadata": {},
     "output_type": "display_data"
    },
    {
     "data": {
      "text/latex": [
       "$\\phi_{3}{\\left(x - 50 \\right)} = 7.76321030915348 \\cdot 10^{21} C_{5} e^{- 1.00807365802306 x}$"
      ],
      "text/plain": [
       "<IPython.core.display.Latex object>"
      ]
     },
     "metadata": {},
     "output_type": "display_data"
    },
    {
     "data": {
      "text/latex": [
       "$C_{2} = C_{4}$"
      ],
      "text/plain": [
       "<IPython.core.display.Latex object>"
      ]
     },
     "metadata": {},
     "output_type": "display_data"
    },
    {
     "data": {
      "text/latex": [
       "$- 0.16129178528369 C_{2} = - 0.814180237874072 C_{3} \\sqrt{qual - 0.0392449142425948}$"
      ],
      "text/plain": [
       "<IPython.core.display.Latex object>"
      ]
     },
     "metadata": {},
     "output_type": "display_data"
    },
    {
     "data": {
      "text/latex": [
       "$C_{3} \\sin{\\left(254.431324335648 \\sqrt{qual - 0.0392449142425948} \\right)} + C_{4} \\cos{\\left(254.431324335648 \\sqrt{qual - 0.0392449142425948} \\right)} = C_{5}$"
      ],
      "text/plain": [
       "<IPython.core.display.Latex object>"
      ]
     },
     "metadata": {},
     "output_type": "display_data"
    },
    {
     "data": {
      "text/latex": [
       "$- 0.814180237874072 C_{3} \\sqrt{qual - 0.0392449142425948} \\cos{\\left(254.431324335648 \\sqrt{qual - 0.0392449142425948} \\right)} + 0.814180237874072 C_{4} \\sqrt{qual - 0.0392449142425948} \\sin{\\left(254.431324335648 \\sqrt{qual - 0.0392449142425948} \\right)} = 0.16129178528369 C_{5}$"
      ],
      "text/plain": [
       "<IPython.core.display.Latex object>"
      ]
     },
     "metadata": {},
     "output_type": "display_data"
    },
    {
     "data": {
      "text/latex": [
       "$4.23928299574468 qual \\left(- \\frac{0.196516683354757 C_{3} \\cos{\\left(254.431324335648 \\sqrt{qual - 0.0392449142425948} \\right)}}{\\sqrt{qual - 0.0392449142425948}} + \\frac{0.196516683354757 C_{3}}{\\sqrt{qual - 0.0392449142425948}} + \\frac{0.196516683354757 C_{4} \\sin{\\left(254.431324335648 \\sqrt{qual - 0.0392449142425948} \\right)}}{\\sqrt{qual - 0.0392449142425948}}\\right) = 1250$"
      ],
      "text/plain": [
       "<IPython.core.display.Latex object>"
      ]
     },
     "metadata": {},
     "output_type": "display_data"
    }
   ],
   "source": [
    "# Print the simplified system in latex\n",
    "print('\\nSimplified system:')\n",
    "for eq in system:\n",
    "    display(Latex(\"$\" + sp.latex(eq) + \"$\"))"
   ]
  },
  {
   "cell_type": "code",
   "execution_count": 149,
   "metadata": {},
   "outputs": [
    {
     "data": {
      "text/plain": [
       "[phi_1(x), phi_2(x), phi_3(x - 50), C5, C2, C3, C4, qual]"
      ]
     },
     "metadata": {},
     "output_type": "display_data"
    },
    {
     "data": {
      "text/plain": [
       "[Eq(phi_1(x), C2*exp(1.00807365802306*x)),\n",
       " Eq(phi_2(x), C3*sin(5.08862648671295*x*sqrt(qual - 0.0392449142425948)) + C4*cos(5.08862648671295*x*sqrt(qual - 0.0392449142425948))),\n",
       " Eq(phi_3(x - 50), 7.76321030915348e+21*C5*exp(-1.00807365802306*x)),\n",
       " Eq(C2, C4),\n",
       " Eq(-0.16129178528369*C2, -0.814180237874072*C3*sqrt(qual - 0.0392449142425948)),\n",
       " Eq(C3*sin(254.431324335648*sqrt(qual - 0.0392449142425948)) + C4*cos(254.431324335648*sqrt(qual - 0.0392449142425948)), C5),\n",
       " Eq(-0.814180237874072*C3*sqrt(qual - 0.0392449142425948)*cos(254.431324335648*sqrt(qual - 0.0392449142425948)) + 0.814180237874072*C4*sqrt(qual - 0.0392449142425948)*sin(254.431324335648*sqrt(qual - 0.0392449142425948)), 0.16129178528369*C5),\n",
       " Eq(4.23928299574468*qual*(-0.196516683354757*C3*cos(254.431324335648*sqrt(qual - 0.0392449142425948))/sqrt(qual - 0.0392449142425948) + 0.196516683354757*C3/sqrt(qual - 0.0392449142425948) + 0.196516683354757*C4*sin(254.431324335648*sqrt(qual - 0.0392449142425948))/sqrt(qual - 0.0392449142425948)), 1250)]"
      ]
     },
     "metadata": {},
     "output_type": "display_data"
    }
   ],
   "source": [
    "# Solve the system\n",
    "# Get all the unkowns\n",
    "all_symbols = set()\n",
    "for eq in system:\n",
    "    all_symbols.update(eq.free_symbols)\n",
    "\n",
    "x = sp.symbols('x')\n",
    "all_symbols.discard(x)\n",
    "\n",
    "unkowns = [flux.lhs for flux in fluxes]\n",
    "for i in all_symbols:\n",
    "    unkowns.append(i)\n",
    "\n",
    "display(unkowns)\n",
    "display(system)"
   ]
  }
 ],
 "metadata": {
  "kernelspec": {
   "display_name": "base",
   "language": "python",
   "name": "python3"
  },
  "language_info": {
   "codemirror_mode": {
    "name": "ipython",
    "version": 3
   },
   "file_extension": ".py",
   "mimetype": "text/x-python",
   "name": "python",
   "nbconvert_exporter": "python",
   "pygments_lexer": "ipython3",
   "version": "3.11.5"
  }
 },
 "nbformat": 4,
 "nbformat_minor": 2
}
