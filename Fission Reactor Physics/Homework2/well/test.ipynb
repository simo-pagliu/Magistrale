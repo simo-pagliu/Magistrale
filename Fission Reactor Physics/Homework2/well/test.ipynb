{
 "cells": [
  {
   "cell_type": "code",
   "execution_count": 1,
   "metadata": {},
   "outputs": [],
   "source": [
    "import sympy as sp\n",
    "import numpy as np\n",
    "import mainframe as mf\n",
    "import nuclei_func as nf\n",
    "from mainframe import Region\n",
    "from IPython.display import display, Latex"
   ]
  },
  {
   "cell_type": "code",
   "execution_count": 2,
   "metadata": {},
   "outputs": [
    {
     "name": "stdout",
     "output_type": "stream",
     "text": [
      "\u001b[93mThe sum of the qualites values is not 1, at line 4, default behaviour is ignoring.\u001b[0m\n"
     ]
    },
    {
     "data": {
      "text/latex": [
       "$\\Sigma_{f} = 31.127743809844 qual$"
      ],
      "text/plain": [
       "<IPython.core.display.Latex object>"
      ]
     },
     "metadata": {},
     "output_type": "display_data"
    },
    {
     "data": {
      "text/latex": [
       "$\\Sigma_{a, core} = 4.48450750118422 qual + 0.152516281698142$"
      ],
      "text/plain": [
       "<IPython.core.display.Latex object>"
      ]
     },
     "metadata": {},
     "output_type": "display_data"
    },
    {
     "data": {
      "text/latex": [
       "$\\Sigma_{a, refl} = 0.152516281698142$"
      ],
      "text/plain": [
       "<IPython.core.display.Latex object>"
      ]
     },
     "metadata": {},
     "output_type": "display_data"
    }
   ],
   "source": [
    "################################################################################\n",
    "# Cross section data\n",
    "################################################################################\n",
    "micro_abs_water = nf.mixture([0.33, 4.2],[2, 1]) \n",
    "micro_abs_U235 = 101 \n",
    "micro_fiss_U235 = 678 \n",
    "\n",
    "density_water = 1\n",
    "density_U235 = 19.1\n",
    "\n",
    "T_new = 60\n",
    "T_correction = np.sqrt(293/(T_new+273))\n",
    "\n",
    "macro_abs_water = nf.macro(micro_abs_water, density_water, 18) * T_correction\n",
    "macro_abs_U235 = nf.macro(micro_abs_U235, density_U235, 235) * T_correction\n",
    "macro_fiss_U235 = nf.macro(micro_fiss_U235, density_U235, 235) * T_correction\n",
    "\n",
    "qual = sp.symbols('qual', positive=True, real=True)\n",
    "\n",
    "macro_abs_refl = nf.mixture([macro_abs_water, 0], [1, 0])\n",
    "macro_fiss = nf.mixture([macro_fiss_U235, 0], [qual, 1-qual])\n",
    "macro_abs_core = nf.mixture([macro_abs_water, macro_abs_U235], [1-qual, qual])\n",
    "\n",
    "display(Latex(r'$\\Sigma_{f} = ' + sp.latex(macro_fiss) + r'$'))\n",
    "display(Latex(r'$\\Sigma_{a, core} = ' + sp.latex(macro_abs_core) + r'$'))\n",
    "display(Latex(r'$\\Sigma_{a, refl} = ' + sp.latex(macro_abs_refl) + r'$'))"
   ]
  },
  {
   "cell_type": "code",
   "execution_count": 3,
   "metadata": {},
   "outputs": [],
   "source": [
    "############################################################################################################\n",
    "# INPUT EXAMPLE\n",
    "############################################################################################################\n",
    "Reflector_SX = Region(0.16, macro_abs_refl, 0, 0, 60, -sp.oo, 0, 'r')\n",
    "Core = Region(0.16, macro_abs_core, macro_fiss, 2.44, 60, 0, 50, 'c', 25*50)\n",
    "Reflector_DX = Region(0.16, macro_abs_refl, 0, 0, 60, 50, sp.oo, 'r')\n",
    "regions = [Core, Reflector_DX]"
   ]
  },
  {
   "cell_type": "code",
   "execution_count": 4,
   "metadata": {},
   "outputs": [],
   "source": [
    "# Solving the problem\n",
    "# Capture output to hide debug prints\n",
    "# from IPython.utils.io import capture_output\n",
    "\n",
    "# with capture_output() as captured:\n",
    "#     equations, fluxes, boundaries, interfaces, powers = mf.main(regions)\n"
   ]
  },
  {
   "cell_type": "code",
   "execution_count": 5,
   "metadata": {},
   "outputs": [
    {
     "name": "stdout",
     "output_type": "stream",
     "text": [
      "Region 2 is a reflector\n",
      "The region 1 spanning from 0 to 50 is a boundary region\n",
      "Applying boundary condition at x = 0\n",
      "Flux goes to C_2 at x = 0\n",
      "The region 2 spanning from 50 to oo is a boundary region\n",
      "Applying boundary condition at x = oo\n",
      "Term C_4*cosh((x - 50)/L_2) has infinity at x = oo\n",
      "The regions 1 and 2 are adjacent at 50\n",
      "Diffusion equations:\n",
      "Eq(Bg_1**2*phi_1(x) + Derivative(phi_1(x), (x, 2)), 0)\n",
      "Eq(Derivative(phi_2(x), (x, 2)) - phi_2(x)/L_2**2, 0)\n",
      "\n",
      "Fluxes:\n",
      "Eq(phi_1(x), C_1*sin(Bg_1*x) + C_2*cos(Bg_1*x))\n",
      "Eq(phi_2(x - 50), -C_3*sinh((x - 50)/L_2) + C_4*cosh((x - 50)/L_2))\n",
      "\n",
      "Boundary conditions:\n",
      "Eq(C_2, 0)\n",
      "Eq(C_4, 0)\n",
      "\n",
      "Interface conditions:\n",
      "Eq(C_1*sin(Bg_1*x_1) + C_2*cos(Bg_1*x_1), -C_3*sinh((x_1 - 50)/L_2) + C_4*cosh((x_1 - 50)/L_2))\n",
      "Eq(-D_1*(Bg_1*C_1*cos(50*Bg_1) - Bg_1*C_2*sin(50*Bg_1)), C_3*D_2/L_2)\n",
      "\n",
      "Power conditions:\n",
      "Eq(1.05479608235362e-9*qual*(-C_1*cos(50*Bg_1)/Bg_1 + C_1/Bg_1 + C_2*sin(50*Bg_1)/Bg_1), 1250)\n"
     ]
    }
   ],
   "source": [
    "equations, fluxes, boundaries, interfaces, powers = mf.main(regions)"
   ]
  },
  {
   "cell_type": "code",
   "execution_count": 6,
   "metadata": {},
   "outputs": [
    {
     "name": "stdout",
     "output_type": "stream",
     "text": [
      "Diffusion equations:\n"
     ]
    },
    {
     "data": {
      "text/latex": [
       "$Bg_{1}^{2} \\phi_{1}{\\left(x \\right)} + \\frac{d^{2}}{d x^{2}} \\phi_{1}{\\left(x \\right)} = 0$"
      ],
      "text/plain": [
       "<IPython.core.display.Latex object>"
      ]
     },
     "metadata": {},
     "output_type": "display_data"
    },
    {
     "data": {
      "text/latex": [
       "$\\frac{d^{2}}{d x^{2}} \\phi_{2}{\\left(x \\right)} - \\frac{\\phi_{2}{\\left(x \\right)}}{L_{2}^{2}} = 0$"
      ],
      "text/plain": [
       "<IPython.core.display.Latex object>"
      ]
     },
     "metadata": {},
     "output_type": "display_data"
    }
   ],
   "source": [
    "# Print the equations\n",
    "print('Diffusion equations:')\n",
    "for eq in equations:\n",
    "    display(Latex(\"$\" + sp.latex(eq) + \"$\"))"
   ]
  },
  {
   "cell_type": "code",
   "execution_count": 7,
   "metadata": {},
   "outputs": [
    {
     "name": "stdout",
     "output_type": "stream",
     "text": [
      "\n",
      "Fluxes:\n"
     ]
    },
    {
     "data": {
      "text/latex": [
       "$\\phi_{1}{\\left(x \\right)} = C_{1} \\sin{\\left(Bg_{1} x \\right)} + C_{2} \\cos{\\left(Bg_{1} x \\right)}$"
      ],
      "text/plain": [
       "<IPython.core.display.Latex object>"
      ]
     },
     "metadata": {},
     "output_type": "display_data"
    },
    {
     "data": {
      "text/latex": [
       "$\\phi_{2}{\\left(x - 50 \\right)} = - C_{3} \\sinh{\\left(\\frac{x - 50}{L_{2}} \\right)} + C_{4} \\cosh{\\left(\\frac{x - 50}{L_{2}} \\right)}$"
      ],
      "text/plain": [
       "<IPython.core.display.Latex object>"
      ]
     },
     "metadata": {},
     "output_type": "display_data"
    }
   ],
   "source": [
    "# Print the fluxes\n",
    "print('\\nFluxes:')\n",
    "for flux in fluxes:\n",
    "    display(Latex(\"$\" + sp.latex(flux) + \"$\"))"
   ]
  },
  {
   "cell_type": "code",
   "execution_count": 8,
   "metadata": {},
   "outputs": [
    {
     "name": "stdout",
     "output_type": "stream",
     "text": [
      "\n",
      "Boundary conditions:\n"
     ]
    },
    {
     "data": {
      "text/latex": [
       "$C_{2} = 0$"
      ],
      "text/plain": [
       "<IPython.core.display.Latex object>"
      ]
     },
     "metadata": {},
     "output_type": "display_data"
    },
    {
     "data": {
      "text/latex": [
       "$C_{4} = 0$"
      ],
      "text/plain": [
       "<IPython.core.display.Latex object>"
      ]
     },
     "metadata": {},
     "output_type": "display_data"
    }
   ],
   "source": [
    "# Print the boundary conditions\n",
    "print('\\nBoundary conditions:')\n",
    "for boundary in boundaries:\n",
    "    display(Latex(\"$\" + sp.latex(boundary) + \"$\"))"
   ]
  },
  {
   "cell_type": "code",
   "execution_count": 9,
   "metadata": {},
   "outputs": [
    {
     "name": "stdout",
     "output_type": "stream",
     "text": [
      "\n",
      "Interface conditions:\n"
     ]
    },
    {
     "data": {
      "text/latex": [
       "$C_{1} \\sin{\\left(Bg_{1} x_{1} \\right)} + C_{2} \\cos{\\left(Bg_{1} x_{1} \\right)} = - C_{3} \\sinh{\\left(\\frac{x_{1} - 50}{L_{2}} \\right)} + C_{4} \\cosh{\\left(\\frac{x_{1} - 50}{L_{2}} \\right)}$"
      ],
      "text/plain": [
       "<IPython.core.display.Latex object>"
      ]
     },
     "metadata": {},
     "output_type": "display_data"
    },
    {
     "data": {
      "text/latex": [
       "$- D_{1} \\left(Bg_{1} C_{1} \\cos{\\left(50 Bg_{1} \\right)} - Bg_{1} C_{2} \\sin{\\left(50 Bg_{1} \\right)}\\right) = \\frac{C_{3} D_{2}}{L_{2}}$"
      ],
      "text/plain": [
       "<IPython.core.display.Latex object>"
      ]
     },
     "metadata": {},
     "output_type": "display_data"
    }
   ],
   "source": [
    "# Print the interface conditions\n",
    "print('\\nInterface conditions:')\n",
    "for interface in interfaces:\n",
    "    display(Latex(\"$\" + sp.latex(interface) + \"$\"))"
   ]
  },
  {
   "cell_type": "code",
   "execution_count": 10,
   "metadata": {},
   "outputs": [
    {
     "name": "stdout",
     "output_type": "stream",
     "text": [
      "\n",
      "Power conditions:\n"
     ]
    },
    {
     "data": {
      "text/latex": [
       "$1.05479608235362 \\cdot 10^{-9} qual \\left(- \\frac{C_{1} \\cos{\\left(50 Bg_{1} \\right)}}{Bg_{1}} + \\frac{C_{1}}{Bg_{1}} + \\frac{C_{2} \\sin{\\left(50 Bg_{1} \\right)}}{Bg_{1}}\\right) = 1250$"
      ],
      "text/plain": [
       "<IPython.core.display.Latex object>"
      ]
     },
     "metadata": {},
     "output_type": "display_data"
    }
   ],
   "source": [
    "# Print the power conditions\n",
    "print('\\nPower conditions:')\n",
    "for power in powers:\n",
    "    display(Latex(\"$\" + sp.latex(power) + \"$\"))"
   ]
  },
  {
   "cell_type": "code",
   "execution_count": 11,
   "metadata": {},
   "outputs": [
    {
     "name": "stdout",
     "output_type": "stream",
     "text": [
      "Region 1 has B = 21.134566974928*sqrt(qual - 0.00213407421304458)\n",
      "Region 2 has B = 0.976333324543103*I\n",
      "Substituting {C_2: 0, C_4: 0} in Eq(phi_1(x), C_1*sin(21.134566974928*x*sqrt(qual - 0.00213407421304458)) + C_2*cos(21.134566974928*x*sqrt(qual - 0.00213407421304458))) gives Eq(phi_1(x), C_1*sin(21.134566974928*x*sqrt(qual - 0.00213407421304458)))\n",
      "Substituting {C_2: 0, C_4: 0} in Eq(phi_2(x - 50), -C_3*sinh(0.976333324543103*x - 48.8166662271552) + C_4*cosh(0.976333324543103*x - 48.8166662271552)) gives Eq(phi_2(x - 50), -C_3*sinh(0.976333324543103*x - 48.8166662271552))\n",
      "Substituting {C_2: 0, C_4: 0} in Eq(C_1*sin(1056.7283487464*sqrt(qual - 0.00213407421304458)) + C_2*cos(1056.7283487464*sqrt(qual - 0.00213407421304458)), C_4) gives Eq(C_1*sin(1056.7283487464*sqrt(qual - 0.00213407421304458)), 0)\n",
      "Substituting {C_2: 0, C_4: 0} in Eq(-3.38153071598849*C_1*sqrt(qual - 0.00213407421304458)*cos(1056.7283487464*sqrt(qual - 0.00213407421304458)) + 3.38153071598849*C_2*sqrt(qual - 0.00213407421304458)*sin(1056.7283487464*sqrt(qual - 0.00213407421304458)), 0.156213331926896*C_3) gives Eq(-3.38153071598849*C_1*sqrt(qual - 0.00213407421304458)*cos(1056.7283487464*sqrt(qual - 0.00213407421304458)), 0.156213331926896*C_3)\n",
      "Substituting {C_2: 0, C_4: 0} in Eq(1.05479608235362e-9*qual*(-0.0473158499621166*C_1*cos(1056.7283487464*sqrt(qual - 0.00213407421304458))/sqrt(qual - 0.00213407421304458) + 0.0473158499621166*C_1/sqrt(qual - 0.00213407421304458) + 0.0473158499621166*C_2*sin(1056.7283487464*sqrt(qual - 0.00213407421304458))/sqrt(qual - 0.00213407421304458)), 1250) gives Eq(1.05479608235362e-9*qual*(-0.0473158499621166*C_1*cos(1056.7283487464*sqrt(qual - 0.00213407421304458))/sqrt(qual - 0.00213407421304458) + 0.0473158499621166*C_1/sqrt(qual - 0.00213407421304458)), 1250)\n",
      "Zero Constants:\n",
      "{C_2: 0, C_4: 0}\n",
      "\n",
      "Simplified system:\n"
     ]
    },
    {
     "data": {
      "text/latex": [
       "$\\phi_{1}{\\left(x \\right)} = C_{1} \\sin{\\left(21.134566974928 x \\sqrt{qual - 0.00213407421304458} \\right)}$"
      ],
      "text/plain": [
       "<IPython.core.display.Latex object>"
      ]
     },
     "metadata": {},
     "output_type": "display_data"
    },
    {
     "data": {
      "text/latex": [
       "$\\phi_{2}{\\left(x - 50 \\right)} = - C_{3} \\sinh{\\left(0.976333324543103 x - 48.8166662271552 \\right)}$"
      ],
      "text/plain": [
       "<IPython.core.display.Latex object>"
      ]
     },
     "metadata": {},
     "output_type": "display_data"
    },
    {
     "data": {
      "text/latex": [
       "$C_{1} \\sin{\\left(1056.7283487464 \\sqrt{qual - 0.00213407421304458} \\right)} = 0$"
      ],
      "text/plain": [
       "<IPython.core.display.Latex object>"
      ]
     },
     "metadata": {},
     "output_type": "display_data"
    },
    {
     "data": {
      "text/latex": [
       "$- 3.38153071598849 C_{1} \\sqrt{qual - 0.00213407421304458} \\cos{\\left(1056.7283487464 \\sqrt{qual - 0.00213407421304458} \\right)} = 0.156213331926896 C_{3}$"
      ],
      "text/plain": [
       "<IPython.core.display.Latex object>"
      ]
     },
     "metadata": {},
     "output_type": "display_data"
    },
    {
     "data": {
      "text/latex": [
       "$1.05479608235362 \\cdot 10^{-9} qual \\left(- \\frac{0.0473158499621166 C_{1} \\cos{\\left(1056.7283487464 \\sqrt{qual - 0.00213407421304458} \\right)}}{\\sqrt{qual - 0.00213407421304458}} + \\frac{0.0473158499621166 C_{1}}{\\sqrt{qual - 0.00213407421304458}}\\right) = 1250$"
      ],
      "text/plain": [
       "<IPython.core.display.Latex object>"
      ]
     },
     "metadata": {},
     "output_type": "display_data"
    }
   ],
   "source": [
    "# Discard all the equations that are Flase or True\n",
    "fluxes = [eq for eq in fluxes if eq != False and eq != True]\n",
    "boundaries = [eq for eq in boundaries if eq != False and eq != True]\n",
    "interfaces = [eq for eq in interfaces if eq != False and eq != True]\n",
    "powers = [eq for eq in powers if eq != False and eq != True]\n",
    "\n",
    "\n",
    "# Call the compute function\n",
    "system = mf.compute(fluxes, boundaries, interfaces, powers, regions)\n",
    "print('\\nSimplified system:')\n",
    "for eq in system:\n",
    "    display(Latex(\"$\" + sp.latex(eq) + \"$\"))"
   ]
  },
  {
   "cell_type": "code",
   "execution_count": 12,
   "metadata": {},
   "outputs": [
    {
     "data": {
      "text/plain": [
       "[phi_1(x), phi_2(x - 50), C_3, C_1, qual]"
      ]
     },
     "metadata": {},
     "output_type": "display_data"
    },
    {
     "data": {
      "text/plain": [
       "[Eq(phi_1(x), C_1*sin(21.134566974928*x*sqrt(qual - 0.00213407421304458))),\n",
       " Eq(phi_2(x - 50), -C_3*sinh(0.976333324543103*x - 48.8166662271552)),\n",
       " Eq(C_1*sin(1056.7283487464*sqrt(qual - 0.00213407421304458)), 0),\n",
       " Eq(-3.38153071598849*C_1*sqrt(qual - 0.00213407421304458)*cos(1056.7283487464*sqrt(qual - 0.00213407421304458)), 0.156213331926896*C_3),\n",
       " Eq(1.05479608235362e-9*qual*(-0.0473158499621166*C_1*cos(1056.7283487464*sqrt(qual - 0.00213407421304458))/sqrt(qual - 0.00213407421304458) + 0.0473158499621166*C_1/sqrt(qual - 0.00213407421304458)), 1250)]"
      ]
     },
     "metadata": {},
     "output_type": "display_data"
    }
   ],
   "source": [
    "# Get all the unkowns\n",
    "all_symbols = set()\n",
    "for eq in system:\n",
    "    all_symbols.update(eq.free_symbols)\n",
    "\n",
    "x = sp.symbols('x')\n",
    "all_symbols.discard(x)\n",
    "\n",
    "unkowns = [flux.lhs for flux in fluxes]\n",
    "for i in all_symbols:\n",
    "    unkowns.append(i)\n",
    "\n",
    "display(unkowns)\n",
    "display(system)"
   ]
  },
  {
   "cell_type": "code",
   "execution_count": 13,
   "metadata": {},
   "outputs": [
    {
     "data": {
      "text/latex": [
       "$\\displaystyle 446.669921217719 qual - 0.953226760613388 = 0.00333810867802035$"
      ],
      "text/plain": [
       "Eq(446.669921217719*qual - 0.953226760613388, 0.00333810867802035)"
      ]
     },
     "metadata": {},
     "output_type": "display_data"
    },
    {
     "data": {
      "text/plain": [
       "[0.00214154753622900]"
      ]
     },
     "metadata": {},
     "output_type": "display_data"
    }
   ],
   "source": [
    "# Identify the core region\n",
    "for region in regions:\n",
    "    if region.Composition == 'c':\n",
    "        core = region\n",
    "\n",
    "material_buckling = (core.Nu * macro_fiss - macro_abs_core) / core.Diffusion\n",
    "width = core.End - core.Start\n",
    "extrapolation_length = width + 0.7/core.Diffusion\n",
    "geometry_buckling = (3.14159 / extrapolation_length)**2\n",
    "\n",
    "criticality_cond = sp.Eq(material_buckling, geometry_buckling, evaluate=False)\n",
    "solve_crit = sp.solve(criticality_cond, qual)\n",
    "\n",
    "display(criticality_cond)\n",
    "display(solve_crit)\n",
    "\n"
   ]
  },
  {
   "cell_type": "code",
   "execution_count": 14,
   "metadata": {},
   "outputs": [
    {
     "data": {
      "text/plain": [
       "[phi_1(x), phi_2(x - 50), C_3, C_1, qual]"
      ]
     },
     "metadata": {},
     "output_type": "display_data"
    },
    {
     "data": {
      "text/plain": [
       "[Eq(phi_1(x), C_1*sin(0.0577763678160984*x)),\n",
       " Eq(phi_2(x - 50), -C_3*sinh(0.976333324543103*x - 48.8166662271552)),\n",
       " Eq(0.00895045911788802*C_1, 0.156213331926896*C_3),\n",
       " Eq(7.6952041492818e-11*C_1, 1250)]"
      ]
     },
     "metadata": {},
     "output_type": "display_data"
    },
    {
     "data": {
      "text/plain": [
       "{phi_1(x): 16243883537731.3*sin(0.0577763678160984*x),\n",
       " phi_2(x - 50): -930715795680.211*sinh(0.976333324543103*x - 48.8166662271552),\n",
       " C_3: 930715795680.211,\n",
       " C_1: 16243883537731.3}"
      ]
     },
     "metadata": {},
     "output_type": "display_data"
    }
   ],
   "source": [
    "display(unkowns)\n",
    "\n",
    "#Substitute qual in the system\n",
    "system = [eq.subs(qual, solve_crit[0]) for eq in system]\n",
    "\n",
    "# Discart qual from the unkowns\n",
    "unkowns.remove(qual)\n",
    "\n",
    "# Discart equations that are False or True\n",
    "system = [eq for eq in system if not eq.equals(sp.true) and not eq.equals(sp.false)]\n",
    "\n",
    "display(system)\n",
    "\n",
    "solution = sp.solve(system, unkowns)\n",
    "display(solution)"
   ]
  },
  {
   "cell_type": "code",
   "execution_count": 17,
   "metadata": {},
   "outputs": [
    {
     "data": {
      "text/latex": [
       "$16243883537731.3 \\sin{\\left(0.0577763678160984 x \\right)}$"
      ],
      "text/plain": [
       "<IPython.core.display.Latex object>"
      ]
     },
     "metadata": {},
     "output_type": "display_data"
    },
    {
     "data": {
      "text/latex": [
       "$- 930715795680.211 \\sinh{\\left(0.976333324543103 x - 48.8166662271552 \\right)}$"
      ],
      "text/plain": [
       "<IPython.core.display.Latex object>"
      ]
     },
     "metadata": {},
     "output_type": "display_data"
    },
    {
     "data": {
      "text/latex": [
       "$0$"
      ],
      "text/plain": [
       "<IPython.core.display.Latex object>"
      ]
     },
     "metadata": {},
     "output_type": "display_data"
    },
    {
     "data": {
      "image/png": "[encoded data removed]",
      "text/plain": [
       "<Figure size 640x480 with 1 Axes>"
      ]
     },
     "metadata": {},
     "output_type": "display_data"
    }
   ],
   "source": [
    "# Get phi1 and phi2 from solution\n",
    "# phi1 = solution[0][0]\n",
    "# phi2 = solution[0][1]\n",
    "# phi3 = solution[0][2]\n",
    "from sympy import sin, sinh, cosh, tanh\n",
    "\n",
    "# Extract phi1, phi2, and phi3 from solution\n",
    "phi1 = 16243883537731.3*sin(0.0577763678160984*x)\n",
    "phi2 = -930715795680.211*sinh(0.976333324543103*x - 48.8166662271552)\n",
    "phi3 = 0 #2064363323787.3*sp.sinh(1.00807365802306*x - 50.4036829011532)/sp.tanh(1.00807365802306*x - 50.4036829011532) + 2064363323787.3*sp.cosh(1.00807365802306*x - 50.4036829011532)\n",
    "\n",
    "fluxes_solved = [phi1, phi2, phi3]\n",
    "\n",
    "# Display the results\n",
    "for flux in fluxes_solved:\n",
    "    display(Latex(f\"${sp.latex(flux)}$\"))\n",
    "\n",
    "# Plot the results from x=0 to x=50\n",
    "import numpy as np\n",
    "import matplotlib.pyplot as plt\n",
    "from sympy import lambdify\n",
    "\n",
    "\n",
    "\n",
    "x_sym = sp.symbols('x')\n",
    "x_1 = np.linspace(-1, 50, 100)\n",
    "x_2 = np.linspace(50, 55, 100)\n",
    "x_3 = np.linspace(100, 150, 100)\n",
    "phi1_vals = [phi1.subs(x, val).evalf() for val in x_1]\n",
    "phi2_vals = [phi2.subs(x, val).evalf() for val in x_2]\n",
    "#phi3_vals = [phi3.subs(x, val).evalf() for val in x_3]\n",
    "\n",
    "plt.plot(x_1, phi1_vals, label='Flux 1')\n",
    "plt.plot(x_2, phi2_vals, label='Flux 2')\n",
    "#plt.plot(x_3, phi3_vals, label='Flux 3')\n",
    "plt.xlabel('x')\n",
    "plt.ylabel('Flux')\n",
    "plt.legend()\n",
    "plt.show()"
   ]
  }
 ],
 "metadata": {
  "kernelspec": {
   "display_name": "base",
   "language": "python",
   "name": "python3"
  },
  "language_info": {
   "codemirror_mode": {
    "name": "ipython",
    "version": 3
   },
   "file_extension": ".py",
   "mimetype": "text/x-python",
   "name": "python",
   "nbconvert_exporter": "python",
   "pygments_lexer": "ipython3",
   "version": "3.11.5"
  }
 },
 "nbformat": 4,
 "nbformat_minor": 2
}
