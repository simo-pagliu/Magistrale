{
 "cells": [
  {
   "cell_type": "code",
   "execution_count": 87,
   "metadata": {},
   "outputs": [],
   "source": [
    "# 3rd party\n",
    "import sympy as sp\n",
    "import numpy as np\n",
    "from IPython.utils.io import capture_output\n",
    "from IPython.display import display, Latex\n",
    "import matplotlib.pyplot as plt\n",
    "\n",
    "# Our stuff\n",
    "import mainframe as mf\n",
    "import nuclei_func as nf\n",
    "from mainframe import Region"
   ]
  },
  {
   "cell_type": "code",
   "execution_count": 88,
   "metadata": {},
   "outputs": [],
   "source": [
    "################################################################################\n",
    "# INPUT DATA\n",
    "################################################################################\n",
    "micro_abs_water = nf.mixture([0.33, 4.2],[2, 1],'normalize') \n",
    "micro_abs_U235 = 678\n",
    "micro_fiss_U235 = 577\n",
    "\n",
    "density_water = 1\n",
    "density_U235 = 19.1\n",
    "\n",
    "# Defining the temperature correction factor\n",
    "def T_correction(T_new):\n",
    "    return np.sqrt(293/(T_new+273))\n",
    "\n",
    "# Defining the macroscopic cross sections\n",
    "macro_abs_water = nf.macro(micro_abs_water, density_water, 18) * T_correction(60)\n",
    "macro_abs_U235 = nf.macro(micro_abs_U235, density_U235, 235) * T_correction(60)\n",
    "macro_fiss_U235 = nf.macro(micro_fiss_U235, density_U235, 235) * T_correction(60)\n",
    "\n",
    "# Defining the enrichment as a symbol\n",
    "qual = sp.symbols('qual', positive=True, real=True)\n",
    "\n",
    "# Defining the macroscopic cross sections of the mixtures\n",
    "macro_abs_refl = nf.mixture([macro_abs_water, 0], [1, 0])\n",
    "macro_fiss = nf.mixture([macro_fiss_U235, 0], [qual, 1-qual])\n",
    "macro_abs_core = nf.mixture([macro_abs_water, macro_abs_U235], [1-qual, qual])"
   ]
  },
  {
   "cell_type": "code",
   "execution_count": 89,
   "metadata": {},
   "outputs": [],
   "source": [
    "################################################################################\n",
    "# Defining the regions\n",
    "################################################################################\n",
    "symmetrical_problem = True\n",
    "Core_1 = Region(\n",
    "    Diff=0.16, \n",
    "    Abs=macro_abs_core, \n",
    "    Fiss=macro_fiss, \n",
    "    Nu=2.44, \n",
    "    Pos1=0, \n",
    "    Pos2=25, \n",
    "    composition='c', \n",
    "    power=25*25\n",
    ")\n",
    "\n",
    "Reflector_1 = Region(\n",
    "    Diff=0.16, \n",
    "    Abs=macro_abs_refl, \n",
    "    Fiss=0, \n",
    "    Nu=0, \n",
    "    Pos1=25, \n",
    "    Pos2=sp.oo, \n",
    "    composition='r', \n",
    "    power=0\n",
    ")\n",
    "regions = [Core_1, Reflector_1]"
   ]
  },
  {
   "cell_type": "code",
   "execution_count": 90,
   "metadata": {},
   "outputs": [
    {
     "name": "stdout",
     "output_type": "stream",
     "text": [
      "U235 fraction:  0.00178296647772225\n"
     ]
    }
   ],
   "source": [
    "################################################################################\n",
    "# Criticality Cond\n",
    "################################################################################\n",
    "# Calculating the material buckling as a function of qual\n",
    "material_buckling = (Core_1.Nu * macro_fiss - macro_abs_core) / Core_1.Diffusion\n",
    "\n",
    "# Core buckling is given\n",
    "given_Bg = 0.05624\n",
    "\n",
    "# Solving the criticality equation\n",
    "criticality_cond = sp.Eq(material_buckling, given_Bg, evaluate=False)\n",
    "solve_crit =  sp.solve(criticality_cond, qual)[0]\n",
    "print(\"U235 fraction: \", solve_crit)\n",
    "\n",
    "# Substituting the value of qual in the macroscopic cross sections\n",
    "macro_fiss = macro_fiss.subs(qual, solve_crit)\n",
    "macro_abs_core = macro_abs_core.subs(qual, solve_crit)\n",
    "\n",
    "# Updating the macroscopic cross sections\n",
    "Core_1.Absorption = macro_abs_core\n",
    "Core_1.Fission = macro_fiss"
   ]
  },
  {
   "cell_type": "code",
   "execution_count": 91,
   "metadata": {},
   "outputs": [
    {
     "data": {
      "text/latex": [
       "$\\displaystyle \\phi_{1}{\\left(x \\right)} = C_{1} \\sin{\\left(Bg_{1} x \\right)} + C_{2} \\cos{\\left(Bg_{1} x \\right)}$"
      ],
      "text/plain": [
       "Eq(phi_1(x), C_1*sin(Bg_1*x) + C_2*cos(Bg_1*x))"
      ]
     },
     "metadata": {},
     "output_type": "display_data"
    },
    {
     "data": {
      "text/latex": [
       "$\\displaystyle \\phi_{2}{\\left(x - 25 \\right)} = C_{3} e^{- \\frac{x - 25}{L_{2}}} + C_{4} e^{\\frac{x - 25}{L_{2}}}$"
      ],
      "text/plain": [
       "Eq(phi_2(x - 25), C_3*exp(-(x - 25)/L_2) + C_4*exp((x - 25)/L_2))"
      ]
     },
     "metadata": {},
     "output_type": "display_data"
    },
    {
     "data": {
      "text/latex": [
       "$\\displaystyle Bg_{1} C_{1} = 0$"
      ],
      "text/plain": [
       "Eq(Bg_1*C_1, 0)"
      ]
     },
     "metadata": {},
     "output_type": "display_data"
    },
    {
     "data": {
      "text/latex": [
       "$\\displaystyle C_{4} = 0$"
      ],
      "text/plain": [
       "Eq(C_4, 0)"
      ]
     },
     "metadata": {},
     "output_type": "display_data"
    },
    {
     "data": {
      "text/latex": [
       "$\\displaystyle C_{1} \\sin{\\left(Bg_{1} x_{1} \\right)} + C_{2} \\cos{\\left(Bg_{1} x_{1} \\right)} = C_{3} e^{- \\frac{x_{1} - 25}{L_{2}}} + C_{4} e^{\\frac{x_{1} - 25}{L_{2}}}$"
      ],
      "text/plain": [
       "Eq(C_1*sin(Bg_1*x_1) + C_2*cos(Bg_1*x_1), C_3*exp(-(x_1 - 25)/L_2) + C_4*exp((x_1 - 25)/L_2))"
      ]
     },
     "metadata": {},
     "output_type": "display_data"
    },
    {
     "data": {
      "text/latex": [
       "$\\displaystyle - D_{1} \\left(Bg_{1} C_{1} \\cos{\\left(Bg_{1} x_{1} \\right)} - Bg_{1} C_{2} \\sin{\\left(Bg_{1} x_{1} \\right)}\\right) = - D_{2} \\left(- \\frac{C_{3} e^{- \\frac{x_{1} - 25}{L_{2}}}}{L_{2}} + \\frac{C_{4} e^{\\frac{x_{1} - 25}{L_{2}}}}{L_{2}}\\right)$"
      ],
      "text/plain": [
       "Eq(-D_1*(Bg_1*C_1*cos(Bg_1*x_1) - Bg_1*C_2*sin(Bg_1*x_1)), -D_2*(-C_3*exp(-(x_1 - 25)/L_2)/L_2 + C_4*exp((x_1 - 25)/L_2)/L_2))"
      ]
     },
     "metadata": {},
     "output_type": "display_data"
    },
    {
     "data": {
      "text/latex": [
       "$\\displaystyle - \\frac{1.60050783793681 \\cdot 10^{-12} C_{1} \\cos{\\left(25 Bg_{1} \\right)}}{Bg_{1}} + \\frac{1.60050783793681 \\cdot 10^{-12} C_{1}}{Bg_{1}} + \\frac{1.60050783793681 \\cdot 10^{-12} C_{2} \\sin{\\left(25 Bg_{1} \\right)}}{Bg_{1}} = 625$"
      ],
      "text/plain": [
       "Eq(-1.60050783793681e-12*C_1*cos(25*Bg_1)/Bg_1 + 1.60050783793681e-12*C_1/Bg_1 + 1.60050783793681e-12*C_2*sin(25*Bg_1)/Bg_1, 625)"
      ]
     },
     "metadata": {},
     "output_type": "display_data"
    }
   ],
   "source": [
    "################################################################################\n",
    "# Solve the problem\n",
    "################################################################################\n",
    "with capture_output() as captured:\n",
    "    equations, fluxes, boundaries, interfaces, powers = mf.main(regions, symmetrical_problem)\n",
    "\n",
    "# Show the system\n",
    "system = fluxes + boundaries + interfaces + powers\n",
    "for eq in system:\n",
    "    display(eq)"
   ]
  },
  {
   "cell_type": "code",
   "execution_count": 92,
   "metadata": {},
   "outputs": [
    {
     "data": {
      "text/latex": [
       "$\\displaystyle \\phi_{1}{\\left(x \\right)} = C_{2} \\cos{\\left(0.05624 x \\right)}$"
      ],
      "text/plain": [
       "Eq(phi_1(x), C_2*cos(0.05624*x))"
      ]
     },
     "metadata": {},
     "output_type": "display_data"
    },
    {
     "data": {
      "text/latex": [
       "$\\displaystyle \\phi_{2}{\\left(x - 25 \\right)} = C_{3} e^{- \\frac{x - 25}{L_{2}}}$"
      ],
      "text/plain": [
       "Eq(phi_2(x - 25), C_3*exp(-(x - 25)/L_2))"
      ]
     },
     "metadata": {},
     "output_type": "display_data"
    },
    {
     "data": {
      "text/latex": [
       "$\\displaystyle 0.164051420597043 C_{2} = C_{3}$"
      ],
      "text/plain": [
       "Eq(0.164051420597043*C_2, C_3)"
      ]
     },
     "metadata": {},
     "output_type": "display_data"
    },
    {
     "data": {
      "text/latex": [
       "$\\displaystyle 0.00887648777530427 C_{2} = \\frac{0.16 C_{3}}{L_{2}}$"
      ],
      "text/plain": [
       "Eq(0.00887648777530427*C_2, 0.16*C_3/L_2)"
      ]
     },
     "metadata": {},
     "output_type": "display_data"
    },
    {
     "data": {
      "text/latex": [
       "$\\displaystyle 2.80729697641774 \\cdot 10^{-11} C_{2} = 625$"
      ],
      "text/plain": [
       "Eq(2.80729697641774e-11*C_2, 625)"
      ]
     },
     "metadata": {},
     "output_type": "display_data"
    }
   ],
   "source": [
    "################################################################################\n",
    "# Substitute known values\n",
    "################################################################################\n",
    "with capture_output() as captured:\n",
    "    system = mf.compute(system, regions)\n",
    "\n",
    "# Get rid of any True expressions resulting from =zero conditions\n",
    "system_cleaned = []\n",
    "Bg_1 = sp.symbols('Bg_1', positive=True)\n",
    "for eq in system:\n",
    "    eq = eq.subs(Bg_1, given_Bg)\n",
    "    if eq != True:\n",
    "        system_cleaned.append(eq)\n",
    "        display(eq)\n",
    "system = system_cleaned"
   ]
  },
  {
   "cell_type": "code",
   "execution_count": 93,
   "metadata": {},
   "outputs": [
    {
     "data": {
      "text/plain": [
       "[(22263408725554.0*cos(0.05624*x),\n",
       "  1.71497336979994e+16*exp(-0.338174752731472*x),\n",
       "  22263408725554.0,\n",
       "  3652343828759.73,\n",
       "  2.95705102738421)]"
      ]
     },
     "metadata": {},
     "output_type": "display_data"
    }
   ],
   "source": [
    "# Get all the unkowns to compute\n",
    "all_symbols = set()\n",
    "for eq in system:\n",
    "    all_symbols.update(eq.free_symbols)\n",
    "\n",
    "x = sp.symbols('x')\n",
    "all_symbols.discard(x)\n",
    "\n",
    "unkowns = [flux.lhs for flux in fluxes]\n",
    "for i in all_symbols:\n",
    "    unkowns.append(i)\n",
    "\n",
    "# Solve the system  \n",
    "solution = sp.solve(system, unkowns)\n",
    "display(solution)\n"
   ]
  },
  {
   "cell_type": "code",
   "execution_count": 94,
   "metadata": {},
   "outputs": [
    {
     "data": {
      "text/latex": [
       "$\\phi_1 = 22263408725554.0 \\cos{\\left(0.05624 x \\right)}$"
      ],
      "text/plain": [
       "<IPython.core.display.Latex object>"
      ]
     },
     "metadata": {},
     "output_type": "display_data"
    },
    {
     "data": {
      "text/latex": [
       "$\\phi_2 = 1.71497336979994 \\cdot 10^{16} e^{- 0.338174752731472 x}$"
      ],
      "text/plain": [
       "<IPython.core.display.Latex object>"
      ]
     },
     "metadata": {},
     "output_type": "display_data"
    },
    {
     "data": {
      "image/png": "[encoded data removed]",
      "text/plain": [
       "<Figure size 640x480 with 1 Axes>"
      ]
     },
     "metadata": {},
     "output_type": "display_data"
    }
   ],
   "source": [
    "# Get the first two from the solution\n",
    "phi1 = solution[0][0]\n",
    "display(Latex(f\"$\\phi_1 = {sp.latex(phi1)}$\"))\n",
    "phi2 = solution[0][1]\n",
    "display(Latex(f\"$\\phi_2 = {sp.latex(phi2)}$\"))\n",
    "\n",
    "x_sym = sp.symbols('x')\n",
    "x_1 = np.linspace(Core_1.Start, Core_1.End, 100)\n",
    "x_2 = np.linspace(Reflector_1.Start, 40, 100)\n",
    "phi1_vals = [phi1.subs(x, val).evalf() for val in x_1]\n",
    "phi2_vals = [phi2.subs(x, val).evalf() for val in x_2]\n",
    "\n",
    "# Create symmetric values\n",
    "x_1 = np.concatenate((-x_1[::-1], x_1))\n",
    "phi1_vals = np.concatenate((phi1_vals[::-1], phi1_vals))\n",
    "x_2_sx = -x_2[::-1]\n",
    "phi2_vals_sx = phi2_vals[::-1]\n",
    "\n",
    "# Plotting the fluxes\n",
    "plt.plot(x_1, phi1_vals, label='Core Flux')\n",
    "plt.plot(x_2, phi2_vals, label='Reflector Flux', color='orange')\n",
    "plt.plot(x_2_sx, phi2_vals_sx, color='orange')\n",
    "plt.xlabel('$x$')\n",
    "plt.ylabel('$\\phi(x)$')\n",
    "plt.legend()\n",
    "plt.show()"
   ]
  }
 ],
 "metadata": {
  "kernelspec": {
   "display_name": "base",
   "language": "python",
   "name": "python3"
  },
  "language_info": {
   "codemirror_mode": {
    "name": "ipython",
    "version": 3
   },
   "file_extension": ".py",
   "mimetype": "text/x-python",
   "name": "python",
   "nbconvert_exporter": "python",
   "pygments_lexer": "ipython3",
   "version": "3.11.5"
  }
 },
 "nbformat": 4,
 "nbformat_minor": 2
}
