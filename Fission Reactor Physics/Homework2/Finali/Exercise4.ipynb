{
 "cells": [
  {
   "cell_type": "code",
   "execution_count": 1294,
   "metadata": {},
   "outputs": [],
   "source": [
    "# 3rd party\n",
    "import sympy as sp\n",
    "import numpy as np\n",
    "from IPython.utils.io import capture_output\n",
    "from IPython.display import display, Latex\n",
    "import matplotlib.pyplot as plt\n",
    "\n",
    "# Our stuff\n",
    "import mainframe as mf\n",
    "import nuclei_func as nf\n",
    "from mainframe import Region"
   ]
  },
  {
   "cell_type": "code",
   "execution_count": 1295,
   "metadata": {},
   "outputs": [
    {
     "data": {
      "text/latex": [
       "$\\Sigma_{abs} = \\frac{1.0 \\cdot 10^{-24} \\cdot \\left(17.055 x_{235} + 1.845\\right) \\left(4.08286487322 \\cdot 10^{26} x_{235} + 5.112678 \\cdot 10^{21}\\right)}{226 x_{235} + 9}$"
      ],
      "text/plain": [
       "<IPython.core.display.Latex object>"
      ]
     },
     "metadata": {},
     "output_type": "display_data"
    },
    {
     "data": {
      "text/latex": [
       "$\\Sigma_{fiss} = \\frac{347.4694 x_{235} \\cdot \\left(17.055 x_{235} + 1.845\\right)}{226 x_{235} + 9}$"
      ],
      "text/plain": [
       "<IPython.core.display.Latex object>"
      ]
     },
     "metadata": {},
     "output_type": "display_data"
    }
   ],
   "source": [
    "################################################################################\n",
    "# INPUT DATA\n",
    "################################################################################\n",
    "tank_height = 40 # Tank height [cm]\n",
    "radius = 20 # Tank / person radius [cm]\n",
    "rho_H2O = 1 # Water density [g/cm3]\n",
    "N_av = 6.022 * 10 ** 23 # Avogadro number [atoms/mol]\n",
    "MM_water = 18.015 # Water molar mass [g/mol]\n",
    "nu_0 = 2.405 # Fundamental solution for the radial part (Bessel)\n",
    "\n",
    "# Value to change for the second evaluation\n",
    "Buckling_ratio = 0.75\n",
    "\n",
    "# Cross sections\n",
    "micro_abs_water = nf.mixture([0.33, 4.2],[2, 1],'normalize') # person is assumed to be a cylinder of water\n",
    "macro_abs_person = nf.macro(micro_abs_water, 1, 18)\n",
    "\n",
    "# Cross section of the barrel [Be, U235]\n",
    "x_235 = sp.symbols('x_235', positive=True, real=True)\n",
    "density_barrel = nf.mixture([1.845, 18.9], [1-x_235, x_235], 'normalize')\n",
    "MM_barrel = nf.mixture([9, 235], [1-x_235, x_235], 'normalize')\n",
    "micro_abs_barrel = nf.mixture([8.490e-3, 678],[1-x_235, x_235],'normalize')\n",
    "micro_fiss_barrel = nf.mixture([0, 577], [1-x_235, x_235], 'normalize')\n",
    "macro_abs_barrel = nf.macro(micro_abs_barrel, density_barrel, MM_barrel)\n",
    "macro_fiss_barrel = nf.macro(micro_fiss_barrel, density_barrel, MM_barrel)\n",
    "display(Latex(r'$\\Sigma_{abs} = ' + sp.latex(macro_abs_barrel) + r'$'))\n",
    "display(Latex(r'$\\Sigma_{fiss} = ' + sp.latex(macro_fiss_barrel) + r'$'))\n"
   ]
  },
  {
   "cell_type": "code",
   "execution_count": 1296,
   "metadata": {},
   "outputs": [],
   "source": [
    "################################################################################\n",
    "# FUNCTION AND SYMBOLIC VARIABLES DEFINITION\n",
    "################################################################################\n",
    "z = sp.symbols('z')\n",
    "r = sp.symbols('r')\n",
    "lamda = sp.symbols('lambda', positive = True) \n",
    "# alfa = sp.symbols('alpha', Positive = True)\n",
    "L_c = sp.symbols('L_c', positive = True)\n",
    "L_p = sp.symbols('L_p', positive = True)\n",
    "D_c = sp.symbols('D_c', positive = True) \n",
    "D_p = sp.symbols('D_p', positive = True) \n",
    "h_cyl = sp.symbols('H_cyl', positive = True) # Cylinder height\n",
    "h_per = sp.symbols('h_per', positive = True) # Person height\n",
    "F_cyl_z = sp.Function('phi_c,z', real = True)(z)\n",
    "F_person_z = sp.Function('phi_p,z', real = True)(z)\n",
    "F_cyl_radial = sp.Function('phi_c,r', real = True)(r) # Non so se serva, in realtà la parte radiale serve solo per B_g^2 = B_z^2 + B_r^2, con B_r^2 = (nu_0 / R)^2"
   ]
  },
  {
   "cell_type": "code",
   "execution_count": 1297,
   "metadata": {},
   "outputs": [],
   "source": [
    "################################################################################\n",
    "# REGIONS DEFINITION\n",
    "################################################################################\n",
    "Barrel = Region(\n",
    "    Diff=0.7, # Diffusion coefficient (tank) [cm]\n",
    "    Abs=macro_abs_barrel, \n",
    "    Fiss=macro_fiss_barrel, \n",
    "    Nu=2.405, \n",
    "    Pos1=0, \n",
    "    Pos2=40, # Tank height [cm]\n",
    "    composition='c', \n",
    "    power=0\n",
    ")\n",
    "\n",
    "Person = Region(\n",
    "    Diff=0.16, # Diffusion coefficient (person) [cm]\n",
    "    Abs=macro_abs_person, \n",
    "    Fiss=0, \n",
    "    Nu=0, \n",
    "    Pos1=40, \n",
    "    Pos2=40+h_per, # Person height [cm]\n",
    "    composition='r', \n",
    "    power=0\n",
    ")\n",
    "regions = [Barrel, Person]"
   ]
  },
  {
   "cell_type": "code",
   "execution_count": 1298,
   "metadata": {},
   "outputs": [
    {
     "data": {
      "text/latex": [
       "Uranium fraction in the barrel: 0.01%"
      ],
      "text/plain": [
       "<IPython.core.display.Latex object>"
      ]
     },
     "metadata": {},
     "output_type": "display_data"
    }
   ],
   "source": [
    "# Determine the Uranium fraction in the barrel\n",
    "B_g = sp.sqrt((sp.pi / tank_height)**2 + (2.405 / radius)**2) # Geometrical Buckling\n",
    "B_m = sp.sqrt(( Barrel.Nu*Barrel.Fission - Barrel.Absorption) / Barrel.Diffusion ) # Material Buckling \n",
    "\n",
    "condition = sp.Eq(Buckling_ratio*(B_g**2), B_m**2)\n",
    "\n",
    "x_235_val = sp.solve(condition, x_235)[0]\n",
    "display(Latex(f\"Uranium fraction in the barrel: {x_235_val*100:.2f}%\"))"
   ]
  },
  {
   "cell_type": "code",
   "execution_count": 1299,
   "metadata": {},
   "outputs": [
    {
     "data": {
      "text/latex": [
       "$\\Sigma_{abs} = 0.0123911983986132$"
      ],
      "text/plain": [
       "<IPython.core.display.Latex object>"
      ]
     },
     "metadata": {},
     "output_type": "display_data"
    },
    {
     "data": {
      "text/latex": [
       "$\\Sigma_{fiss} = 0.00965538260092334$"
      ],
      "text/plain": [
       "<IPython.core.display.Latex object>"
      ]
     },
     "metadata": {},
     "output_type": "display_data"
    },
    {
     "data": {
      "text/latex": [
       "$B_m^2 = 0.0154714239380107$"
      ],
      "text/plain": [
       "<IPython.core.display.Latex object>"
      ]
     },
     "metadata": {},
     "output_type": "display_data"
    }
   ],
   "source": [
    "# Substitute the value of x_235 in the cross sections\n",
    "Barrel.Absorption = Barrel.Absorption.subs(x_235, x_235_val)\n",
    "Barrel.Fission = Barrel.Fission.subs(x_235, x_235_val)\n",
    "B_m = sp.sqrt(( Barrel.Nu*Barrel.Fission - Barrel.Absorption) / Barrel.Diffusion ) # Material Buckling\n",
    "\n",
    "display(Latex(r'$\\Sigma_{abs} = ' + sp.latex(Barrel.Absorption) + r'$'))\n",
    "display(Latex(r'$\\Sigma_{fiss} = ' + sp.latex(Barrel.Fission) + r'$'))\n",
    "display(Latex(r'$B_m^2 = ' + sp.latex((B_m**2).evalf()) + r'$'))"
   ]
  },
  {
   "cell_type": "code",
   "execution_count": 1300,
   "metadata": {},
   "outputs": [
    {
     "name": "stdout",
     "output_type": "stream",
     "text": [
      "AXIAL ODE FOR THE CORE:\n"
     ]
    },
    {
     "data": {
      "text/latex": [
       "$\\displaystyle \\lambda^{2} \\phi_{c,z}{\\left(z \\right)} + \\frac{d^{2}}{d z^{2}} \\phi_{c,z}{\\left(z \\right)} = 0$"
      ],
      "text/plain": [
       "Eq(lambda**2*phi_c,z(z) + Derivative(phi_c,z(z), (z, 2)), 0)"
      ]
     },
     "metadata": {},
     "output_type": "display_data"
    },
    {
     "name": "stdout",
     "output_type": "stream",
     "text": [
      "AXIAL ODE FOR THE PERSON:\n"
     ]
    },
    {
     "data": {
      "text/latex": [
       "$\\displaystyle \\frac{d^{2}}{d z^{2}} \\phi_{p,z}{\\left(z \\right)} - \\frac{\\phi_{p,z}{\\left(z \\right)}}{L_{p}^{2}} = 0$"
      ],
      "text/plain": [
       "Eq(Derivative(phi_p,z(z), (z, 2)) - phi_p,z(z)/L_p**2, 0)"
      ]
     },
     "metadata": {},
     "output_type": "display_data"
    }
   ],
   "source": [
    "# ODE + BC\n",
    "\n",
    "ODE_c_z = sp.Eq(sp.diff(sp.diff(F_cyl_z, z)) + lamda** 2 * F_cyl_z, 0)\n",
    "print('AXIAL ODE FOR THE CORE:')\n",
    "display(ODE_c_z)\n",
    "\n",
    "# ODE_c_r = sp.Eq((1 /r) * sp.diff(1/r *sp.diff(F_cyl_radial, r)) + alfa** 2 * F_cyl_z, 0)\n",
    "# print('RADIAL ODE FOR THE CORE:')\n",
    "# display(ODE_c_r)\n",
    "\n",
    "ODE_p_z = sp.Eq(sp.diff(sp.diff(F_person_z, z)) - (1 / L_p** 2) * F_person_z, 0)\n",
    "print('AXIAL ODE FOR THE PERSON:')\n",
    "display(ODE_p_z)"
   ]
  },
  {
   "cell_type": "code",
   "execution_count": 1301,
   "metadata": {},
   "outputs": [
    {
     "name": "stdout",
     "output_type": "stream",
     "text": [
      "GENERAL SOLUTION FOR THE AXIAL FLUX IN THE CORE:\n"
     ]
    },
    {
     "data": {
      "text/latex": [
       "$\\displaystyle \\phi_{c,z}{\\left(z \\right)} = C_{1} \\sin{\\left(\\lambda z \\right)} + C_{2} \\cos{\\left(\\lambda z \\right)}$"
      ],
      "text/plain": [
       "Eq(phi_c,z(z), C_1*sin(lambda*z) + C_2*cos(lambda*z))"
      ]
     },
     "metadata": {},
     "output_type": "display_data"
    },
    {
     "name": "stdout",
     "output_type": "stream",
     "text": [
      "GENERAL SOLUTION FOR THE AXIAL FLUX IN THE PERSON:\n"
     ]
    },
    {
     "data": {
      "text/latex": [
       "$\\displaystyle \\phi_{p,z}{\\left(z \\right)} = C_{3} \\sinh{\\left(\\frac{z - 40}{L_{p}} \\right)} + C_{4} \\cosh{\\left(\\frac{z - 40}{L_{p}} \\right)}$"
      ],
      "text/plain": [
       "Eq(phi_p,z(z), C_3*sinh((z - 40)/L_p) + C_4*cosh((z - 40)/L_p))"
      ]
     },
     "metadata": {},
     "output_type": "display_data"
    }
   ],
   "source": [
    "flux_c_z = sp.dsolve(ODE_c_z)\n",
    "sC1 = sp.symbols('C_1', real=True)   \n",
    "sC2 = sp.symbols('C_2', real=True)\n",
    "flux_c_z = flux_c_z.subs({sp.symbols('C1'): sC1, sp.symbols('C2'): sC2})\n",
    "print('GENERAL SOLUTION FOR THE AXIAL FLUX IN THE CORE:')\n",
    "display(flux_c_z)\n",
    "\n",
    "flux_p_z = sp.dsolve(ODE_p_z)\n",
    "sC3 = sp.symbols('C_3', real=True)\n",
    "sC4 = sp.symbols('C_4', real=True)\n",
    "flux_p_z = sp.Eq(\n",
    "    flux_p_z.lhs,\n",
    "    sC3 * sp.sinh((z-tank_height)/L_p) + sC4 * sp.cosh((z-tank_height)/L_p)\n",
    ")\n",
    "print('GENERAL SOLUTION FOR THE AXIAL FLUX IN THE PERSON:')\n",
    "display(flux_p_z)"
   ]
  },
  {
   "cell_type": "code",
   "execution_count": 1302,
   "metadata": {},
   "outputs": [
    {
     "name": "stdout",
     "output_type": "stream",
     "text": [
      "SYMMETRY CONDITION IN THE CORE:\n"
     ]
    },
    {
     "data": {
      "text/latex": [
       "$\\displaystyle C_{1} \\lambda = 0$"
      ],
      "text/plain": [
       "Eq(C_1*lambda, 0)"
      ]
     },
     "metadata": {},
     "output_type": "display_data"
    }
   ],
   "source": [
    "# Symmetry BC\n",
    "symmetry = sp.Eq(\n",
    "    sp.diff(flux_c_z.rhs, z).subs(z, 0), \n",
    "    0 \n",
    ")\n",
    "print('SYMMETRY CONDITION IN THE CORE:')\n",
    "display(symmetry)"
   ]
  },
  {
   "cell_type": "code",
   "execution_count": 1303,
   "metadata": {},
   "outputs": [
    {
     "name": "stdout",
     "output_type": "stream",
     "text": [
      "CONTINUITY CONDITION FOR THE FLUX AT THE INTERFACE:\n"
     ]
    },
    {
     "data": {
      "text/latex": [
       "$\\displaystyle C_{1} \\sin{\\left(40 \\lambda \\right)} + C_{2} \\cos{\\left(40 \\lambda \\right)} = C_{4}$"
      ],
      "text/plain": [
       "Eq(C_1*sin(40*lambda) + C_2*cos(40*lambda), C_4)"
      ]
     },
     "metadata": {},
     "output_type": "display_data"
    },
    {
     "name": "stdout",
     "output_type": "stream",
     "text": [
      "CONTINUITY CONDITION FOR THE CURRENT AT THE INTERFACE:\n"
     ]
    },
    {
     "data": {
      "text/latex": [
       "$\\displaystyle - D_{c} \\left(C_{1} \\lambda \\cos{\\left(40 \\lambda \\right)} - C_{2} \\lambda \\sin{\\left(40 \\lambda \\right)}\\right) = - \\frac{C_{3} D_{p}}{L_{p}}$"
      ],
      "text/plain": [
       "Eq(-D_c*(C_1*lambda*cos(40*lambda) - C_2*lambda*sin(40*lambda)), -C_3*D_p/L_p)"
      ]
     },
     "metadata": {},
     "output_type": "display_data"
    }
   ],
   "source": [
    "# Continuity BC\n",
    "continuity_f = sp.Eq(\n",
    "    flux_c_z.rhs.subs(z, tank_height), \n",
    "    flux_p_z.rhs.subs(z, tank_height)\n",
    ")\n",
    "print('CONTINUITY CONDITION FOR THE FLUX AT THE INTERFACE:')\n",
    "display(continuity_f)\n",
    "continuity_curr = sp.Eq(\n",
    "    -D_c* sp.diff(flux_c_z.rhs, z).subs(z, tank_height),\n",
    "    -D_p * sp.diff(flux_p_z.rhs, z).subs(z, tank_height)\n",
    "    )\n",
    "print('CONTINUITY CONDITION FOR THE CURRENT AT THE INTERFACE:')\n",
    "display(continuity_curr)"
   ]
  },
  {
   "cell_type": "code",
   "execution_count": 1304,
   "metadata": {},
   "outputs": [
    {
     "name": "stdout",
     "output_type": "stream",
     "text": [
      "VACUUM CONDITION IN THE CORE:\n"
     ]
    },
    {
     "data": {
      "text/latex": [
       "$\\displaystyle C_{2} = 0$"
      ],
      "text/plain": [
       "Eq(C_2, 0)"
      ]
     },
     "metadata": {},
     "output_type": "display_data"
    },
    {
     "name": "stdout",
     "output_type": "stream",
     "text": [
      "VACUUM CONDITION IN THE PERSON:\n"
     ]
    },
    {
     "data": {
      "text/latex": [
       "$\\displaystyle C_{3} \\sinh{\\left(\\frac{h_{per}}{L_{p}} \\right)} + C_{4} \\cosh{\\left(\\frac{h_{per}}{L_{p}} \\right)} = 0$"
      ],
      "text/plain": [
       "Eq(C_3*sinh(h_per/L_p) + C_4*cosh(h_per/L_p), 0)"
      ]
     },
     "metadata": {},
     "output_type": "display_data"
    }
   ],
   "source": [
    "# # Vacuum BC REDUNDANT\n",
    "vacuum_core = sp.Eq(\n",
    "    flux_c_z.rhs.subs(z, 0),\n",
    "    0\n",
    ")\n",
    "print('VACUUM CONDITION IN THE CORE:')\n",
    "display(vacuum_core)\n",
    "\n",
    "# Person BC\n",
    "vacuum_person = sp.Eq(\n",
    "    flux_p_z.rhs.subs(z, h_per + tank_height),\n",
    "    0\n",
    ")\n",
    "print('VACUUM CONDITION IN THE PERSON:')\n",
    "display(vacuum_person)"
   ]
  },
  {
   "cell_type": "code",
   "execution_count": 1305,
   "metadata": {},
   "outputs": [
    {
     "data": {
      "text/latex": [
       "$\\displaystyle \\phi_{c,z}{\\left(z \\right)} = C_{1} \\sin{\\left(0.124384178809086 z \\right)}$"
      ],
      "text/plain": [
       "Eq(phi_c,z(z), C_1*sin(0.124384178809086*z))"
      ]
     },
     "metadata": {},
     "output_type": "display_data"
    },
    {
     "data": {
      "text/latex": [
       "$\\displaystyle \\phi_{p,z}{\\left(z \\right)} = C_{3} \\sinh{\\left(\\frac{z - 40}{L_{p}} \\right)} + C_{4} \\cosh{\\left(\\frac{z - 40}{L_{p}} \\right)}$"
      ],
      "text/plain": [
       "Eq(phi_p,z(z), C_3*sinh((z - 40)/L_p) + C_4*cosh((z - 40)/L_p))"
      ]
     },
     "metadata": {},
     "output_type": "display_data"
    },
    {
     "data": {
      "text/latex": [
       "$\\displaystyle - 0.965620063471564 C_{1} = C_{4}$"
      ],
      "text/plain": [
       "Eq(-0.965620063471564*C_1, C_4)"
      ]
     },
     "metadata": {},
     "output_type": "display_data"
    },
    {
     "data": {
      "text/latex": [
       "$\\displaystyle - 0.0226342186427181 C_{1} = - \\frac{0.16 C_{3}}{L_{p}}$"
      ],
      "text/plain": [
       "Eq(-0.0226342186427181*C_1, -0.16*C_3/L_p)"
      ]
     },
     "metadata": {},
     "output_type": "display_data"
    },
    {
     "data": {
      "text/latex": [
       "$\\displaystyle C_{3} \\sinh{\\left(\\frac{h_{per}}{L_{p}} \\right)} + C_{4} \\cosh{\\left(\\frac{h_{per}}{L_{p}} \\right)} = 0$"
      ],
      "text/plain": [
       "Eq(C_3*sinh(h_per/L_p) + C_4*cosh(h_per/L_p), 0)"
      ]
     },
     "metadata": {},
     "output_type": "display_data"
    }
   ],
   "source": [
    "equations = [flux_c_z, flux_p_z, vacuum_core, continuity_f, continuity_curr, vacuum_person]\n",
    "L_p_val = sp.sqrt(Person.Diffusion / Person.Absorption)\n",
    "B_g_z = sp.sqrt(B_m**2 - (2.405/radius)**2)\n",
    "with capture_output() as captured:\n",
    "    system = [eq.subs(D_p, Person.Diffusion).subs(D_c, Barrel.Diffusion).subs(lamda, B_m) for eq in mf.compute(equations, regions) if eq != True]\n",
    "for eq in system:\n",
    "    display(eq)"
   ]
  },
  {
   "cell_type": "code",
   "execution_count": 1307,
   "metadata": {},
   "outputs": [
    {
     "data": {
      "text/latex": [
       "$\\displaystyle 0.141463866516988 C_{1} L_{p} \\sinh{\\left(\\frac{h_{per}}{L_{p}} \\right)} - 0.965620063471564 C_{1} \\cosh{\\left(\\frac{h_{per}}{L_{p}} \\right)} = 0$"
      ],
      "text/plain": [
       "Eq(0.141463866516988*C_1*L_p*sinh(h_per/L_p) - 0.965620063471564*C_1*cosh(h_per/L_p), 0)"
      ]
     },
     "metadata": {},
     "output_type": "display_data"
    }
   ],
   "source": [
    "# From 3rd and 4th equation we can find the values of C3 and C4\n",
    "sub_system = [system[2], system[3]]\n",
    "sub_sol = sp.solve(sub_system, [sC3, sC4])\n",
    "\n",
    "# Substitute the values of C3 and C4 in the general solution for the person flux\n",
    "condition = system[4].subs(sub_sol)\n",
    "display(condition)"
   ]
  },
  {
   "cell_type": "code",
   "execution_count": 1308,
   "metadata": {},
   "outputs": [
    {
     "data": {
      "text/latex": [
       "$\\displaystyle 0.146500545989488 L_{p} \\tanh{\\left(\\frac{h_{per}}{L_{p}} \\right)}$"
      ],
      "text/plain": [
       "0.146500545989488*L_p*tanh(h_per/L_p)"
      ]
     },
     "metadata": {},
     "output_type": "display_data"
    }
   ],
   "source": [
    "# Manipulate the expression\n",
    "f_s = condition.lhs.as_ordered_terms()\n",
    "f_1 = f_s[0]\n",
    "f_2 = -f_s[1]\n",
    "# Ratio between the two terms\n",
    "ratio = sp.trigsimp(f_1 / f_2)\n",
    "display(ratio)"
   ]
  },
  {
   "cell_type": "code",
   "execution_count": 1309,
   "metadata": {},
   "outputs": [
    {
     "data": {
      "text/latex": [
       "$\\displaystyle \\tanh{\\left(\\frac{h_{per}}{L_{p}} \\right)}$"
      ],
      "text/plain": [
       "tanh(h_per/L_p)"
      ]
     },
     "metadata": {},
     "output_type": "display_data"
    },
    {
     "data": {
      "text/latex": [
       "$\\displaystyle \\frac{6.82591312712073}{L_{p}}$"
      ],
      "text/plain": [
       "6.82591312712073/L_p"
      ]
     },
     "metadata": {},
     "output_type": "display_data"
    }
   ],
   "source": [
    "# Get the tanh on the rhs an leave its coefficient on the lhs\n",
    "tanh_terms = ratio.atoms(sp.tanh)\n",
    "\n",
    "# Get the first tanh term (assuming there is only one unique tanh term in the expression)\n",
    "tanh_term = next(iter(tanh_terms))\n",
    "display(tanh_term)\n",
    "\n",
    "# Extract the coefficient of the detected tanh term\n",
    "coefficient = ratio.coeff(tanh_term)\n",
    "display(1/coefficient)"
   ]
  },
  {
   "cell_type": "code",
   "execution_count": 1310,
   "metadata": {},
   "outputs": [
    {
     "data": {
      "text/latex": [
       "$\\displaystyle L_{p} \\log{\\left(- 26126448.5284945 \\sqrt{0.146500545989488 L_{p} + 1} \\sqrt{\\frac{1}{100000000000000.0 L_{p} - 682591312712073.0}} \\right)}$"
      ],
      "text/plain": [
       "L_p*log(-26126448.5284945*sqrt(0.146500545989488*L_p + 1)*sqrt(1/(100000000000000.0*L_p - 682591312712073.0)))"
      ]
     },
     "metadata": {},
     "output_type": "display_data"
    }
   ],
   "source": [
    "Hp_by_Lp = sp.solve(sp.Eq(tanh_term, 1/coefficient), h_per)[0]\n",
    "display(Hp_by_Lp)"
   ]
  },
  {
   "cell_type": "code",
   "execution_count": 1312,
   "metadata": {},
   "outputs": [
    {
     "data": {
      "image/png": "[encoded data removed]",
      "text/plain": [
       "<Figure size 640x480 with 1 Axes>"
      ]
     },
     "metadata": {},
     "output_type": "display_data"
    }
   ],
   "source": [
    "# Limits of the interval\n",
    "start = 0\n",
    "end = 10\n",
    "\n",
    "# Get the argument of the tanh function\n",
    "# arg = sp.symbols('arg', real=True)\n",
    "# tanh_arg = tanh_term.args[0]\n",
    "# tanh_term = tanh_term.subs(tanh_arg, arg)\n",
    "\n",
    "plot_val = np.linspace(start, end, 100)\n",
    "val = [Hp_by_Lp.subs(L_p, i).evalf() for i in plot_val]\n",
    "\n",
    "# Exclude imaginary numbers\n",
    "plot_vals =[]\n",
    "vals = []\n",
    "for j, i in enumerate(val):\n",
    "    if i.is_real:\n",
    "        vals.append(i)\n",
    "        plot_vals.append(plot_val[j])\n",
    "\n",
    "# Save these in a file\n",
    "with open(f\"data{Buckling_ratio}.txt\", 'w') as f:\n",
    "    for i in range(len(plot_vals)):\n",
    "        f.write(f'{plot_vals[i]}\\t{vals[i]}\\n')\n",
    "\n",
    "# Plot the tanh function\n",
    "plt.plot(plot_vals, vals)\n",
    "# Add an horizontal line\n",
    "# plt.axhline(y=coefficient, color='k')\n",
    "plt.xlabel('$L_p$')\n",
    "plt.ylabel('$h_{per}$')\n",
    "plt.grid()\n"
   ]
  },
  {
   "cell_type": "code",
   "execution_count": 1292,
   "metadata": {},
   "outputs": [
    {
     "data": {
      "image/png": "[encoded data removed]",
      "text/plain": [
       "<Figure size 640x480 with 1 Axes>"
      ]
     },
     "metadata": {},
     "output_type": "display_data"
    }
   ],
   "source": [
    "# Load the data from a file\n",
    "data = np.loadtxt(f\"data{0.75}.txt\", delimiter='\\t')\n",
    "plt.plot(data[:,0], data[:,1], label='Buckling ratio = 0.75')\n",
    "data = np.loadtxt(f\"data{0.93}.txt\", delimiter='\\t')\n",
    "plt.plot(data[:,0], data[:,1], label='Buckling ratio = 0.93')\n",
    "plt.legend()\n",
    "plt.xlabel('$L_p$')\n",
    "plt.ylabel('$h_{per}$')\n",
    "plt.show()"
   ]
  }
 ],
 "metadata": {
  "kernelspec": {
   "display_name": "base",
   "language": "python",
   "name": "python3"
  },
  "language_info": {
   "codemirror_mode": {
    "name": "ipython",
    "version": 3
   },
   "file_extension": ".py",
   "mimetype": "text/x-python",
   "name": "python",
   "nbconvert_exporter": "python",
   "pygments_lexer": "ipython3",
   "version": "3.11.5"
  }
 },
 "nbformat": 4,
 "nbformat_minor": 2
}
