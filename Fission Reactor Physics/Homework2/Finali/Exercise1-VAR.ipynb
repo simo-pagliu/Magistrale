{
 "cells": [
  {
   "cell_type": "code",
   "execution_count": 38,
   "metadata": {},
   "outputs": [],
   "source": [
    "# 3rd party\n",
    "import sympy as sp\n",
    "import numpy as np\n",
    "from IPython.utils.io import capture_output\n",
    "from IPython.display import display, Latex\n",
    "import matplotlib.pyplot as plt\n",
    "\n",
    "# Our stuff\n",
    "import mainframe as mf\n",
    "import nuclei_func as nf\n",
    "from mainframe import Region"
   ]
  },
  {
   "cell_type": "code",
   "execution_count": 39,
   "metadata": {},
   "outputs": [],
   "source": [
    "################################################################################\n",
    "# INPUT DATA\n",
    "################################################################################\n",
    "micro_abs_water = nf.mixture([0.33, 4.2],[2, 1],'normalize') \n",
    "micro_abs_U235 = 101 \n",
    "micro_fiss_U235 = 678 \n",
    "\n",
    "density_water = 1\n",
    "density_U235 = 19.1\n",
    "\n",
    "# Defining the temperature correction factor\n",
    "def T_correction(T_new):\n",
    "    return np.sqrt(293/(T_new+273))\n",
    "\n",
    "# Defining the macroscopic cross sections\n",
    "macro_abs_water = nf.macro(micro_abs_water, density_water, 18) * T_correction(60)\n",
    "macro_abs_U235 = nf.macro(micro_abs_U235, density_U235, 235) * T_correction(60)\n",
    "macro_fiss_U235 = nf.macro(micro_fiss_U235, density_U235, 235) * T_correction(60)\n",
    "\n",
    "# Defining the enrichment as a symbol\n",
    "qual = sp.symbols('qual', positive=True, real=True)\n",
    "\n",
    "# Defining the macroscopic cross sections of the mixtures\n",
    "macro_abs_refl = nf.mixture([macro_abs_water, 0], [1, 0])\n",
    "macro_fiss = nf.mixture([macro_fiss_U235, 0], [qual, 1-qual])\n",
    "macro_abs_core = nf.mixture([macro_abs_water, macro_abs_U235], [1-qual, qual])"
   ]
  },
  {
   "cell_type": "code",
   "execution_count": 40,
   "metadata": {},
   "outputs": [],
   "source": [
    "################################################################################\n",
    "# Defining the regions\n",
    "################################################################################\n",
    "symmetrical_problem = True\n",
    "Core_1 = Region(\n",
    "    Diff=0.16, \n",
    "    Abs=macro_abs_core, \n",
    "    Fiss=macro_fiss, \n",
    "    Nu=2.44, \n",
    "    Pos1=0, \n",
    "    Pos2=25, \n",
    "    composition='c', \n",
    "    power=25*25\n",
    ")\n",
    "\n",
    "Reflector_1 = Region(\n",
    "    Diff=0.16, \n",
    "    Abs=macro_abs_refl, \n",
    "    Fiss=0, \n",
    "    Nu=0, \n",
    "    Pos1=25, \n",
    "    Pos2=sp.oo, \n",
    "    composition='r', \n",
    "    power=0\n",
    ")\n",
    "regions = [Core_1, Reflector_1]"
   ]
  },
  {
   "cell_type": "code",
   "execution_count": 41,
   "metadata": {},
   "outputs": [
    {
     "data": {
      "text/latex": [
       "$\\displaystyle \\phi_{1}{\\left(x \\right)} = C_{1} \\sin{\\left(Bg_{1} x \\right)} + C_{2} \\cos{\\left(Bg_{1} x \\right)}$"
      ],
      "text/plain": [
       "Eq(phi_1(x), C_1*sin(Bg_1*x) + C_2*cos(Bg_1*x))"
      ]
     },
     "metadata": {},
     "output_type": "display_data"
    },
    {
     "data": {
      "text/latex": [
       "$\\displaystyle \\phi_{2}{\\left(x - 25 \\right)} = C_{3} e^{- \\frac{x - 25}{L_{2}}} + C_{4} e^{\\frac{x - 25}{L_{2}}}$"
      ],
      "text/plain": [
       "Eq(phi_2(x - 25), C_3*exp(-(x - 25)/L_2) + C_4*exp((x - 25)/L_2))"
      ]
     },
     "metadata": {},
     "output_type": "display_data"
    },
    {
     "data": {
      "text/latex": [
       "$\\displaystyle Bg_{1} C_{1} = 0$"
      ],
      "text/plain": [
       "Eq(Bg_1*C_1, 0)"
      ]
     },
     "metadata": {},
     "output_type": "display_data"
    },
    {
     "data": {
      "text/latex": [
       "$\\displaystyle C_{4} = 0$"
      ],
      "text/plain": [
       "Eq(C_4, 0)"
      ]
     },
     "metadata": {},
     "output_type": "display_data"
    },
    {
     "data": {
      "text/latex": [
       "$\\displaystyle C_{1} \\sin{\\left(Bg_{1} x_{1} \\right)} + C_{2} \\cos{\\left(Bg_{1} x_{1} \\right)} = C_{3} e^{- \\frac{x_{1} - 25}{L_{2}}} + C_{4} e^{\\frac{x_{1} - 25}{L_{2}}}$"
      ],
      "text/plain": [
       "Eq(C_1*sin(Bg_1*x_1) + C_2*cos(Bg_1*x_1), C_3*exp(-(x_1 - 25)/L_2) + C_4*exp((x_1 - 25)/L_2))"
      ]
     },
     "metadata": {},
     "output_type": "display_data"
    },
    {
     "data": {
      "text/latex": [
       "$\\displaystyle - D_{1} \\left(Bg_{1} C_{1} \\cos{\\left(Bg_{1} x_{1} \\right)} - Bg_{1} C_{2} \\sin{\\left(Bg_{1} x_{1} \\right)}\\right) = - D_{2} \\left(- \\frac{C_{3} e^{- \\frac{x_{1} - 25}{L_{2}}}}{L_{2}} + \\frac{C_{4} e^{\\frac{x_{1} - 25}{L_{2}}}}{L_{2}}\\right)$"
      ],
      "text/plain": [
       "Eq(-D_1*(Bg_1*C_1*cos(Bg_1*x_1) - Bg_1*C_2*sin(Bg_1*x_1)), -D_2*(-C_3*exp(-(x_1 - 25)/L_2)/L_2 + C_4*exp((x_1 - 25)/L_2)/L_2))"
      ]
     },
     "metadata": {},
     "output_type": "display_data"
    },
    {
     "data": {
      "text/latex": [
       "$\\displaystyle 1.05479608235362 \\cdot 10^{-9} qual \\left(- \\frac{C_{1} \\cos{\\left(25 Bg_{1} \\right)}}{Bg_{1}} + \\frac{C_{1}}{Bg_{1}} + \\frac{C_{2} \\sin{\\left(25 Bg_{1} \\right)}}{Bg_{1}}\\right) = 625$"
      ],
      "text/plain": [
       "Eq(1.05479608235362e-9*qual*(-C_1*cos(25*Bg_1)/Bg_1 + C_1/Bg_1 + C_2*sin(25*Bg_1)/Bg_1), 625)"
      ]
     },
     "metadata": {},
     "output_type": "display_data"
    }
   ],
   "source": [
    "################################################################################\n",
    "# Solve the problem\n",
    "################################################################################\n",
    "with capture_output() as captured:\n",
    "    equations, fluxes, boundaries, interfaces, powers = mf.main(regions, symmetrical_problem)\n",
    "\n",
    "# Show the system\n",
    "system = fluxes + boundaries + interfaces + powers\n",
    "for eq in system:\n",
    "    display(eq)"
   ]
  },
  {
   "cell_type": "code",
   "execution_count": 42,
   "metadata": {},
   "outputs": [
    {
     "data": {
      "text/latex": [
       "$\\displaystyle \\phi_{1}{\\left(x \\right)} = C_{2} \\cos{\\left(Bg_{1} x \\right)}$"
      ],
      "text/plain": [
       "Eq(phi_1(x), C_2*cos(Bg_1*x))"
      ]
     },
     "metadata": {},
     "output_type": "display_data"
    },
    {
     "data": {
      "text/latex": [
       "$\\displaystyle \\phi_{2}{\\left(x - 25 \\right)} = C_{3} e^{- \\frac{x - 25}{L_{2}}}$"
      ],
      "text/plain": [
       "Eq(phi_2(x - 25), C_3*exp(-(x - 25)/L_2))"
      ]
     },
     "metadata": {},
     "output_type": "display_data"
    },
    {
     "data": {
      "text/latex": [
       "$\\displaystyle C_{2} \\cos{\\left(25 Bg_{1} \\right)} = C_{3}$"
      ],
      "text/plain": [
       "Eq(C_2*cos(25*Bg_1), C_3)"
      ]
     },
     "metadata": {},
     "output_type": "display_data"
    },
    {
     "data": {
      "text/latex": [
       "$\\displaystyle 0.16 Bg_{1} C_{2} \\sin{\\left(25 Bg_{1} \\right)} = \\frac{0.16 C_{3}}{L_{2}}$"
      ],
      "text/plain": [
       "Eq(0.16*Bg_1*C_2*sin(25*Bg_1), 0.16*C_3/L_2)"
      ]
     },
     "metadata": {},
     "output_type": "display_data"
    },
    {
     "data": {
      "text/latex": [
       "$\\displaystyle \\frac{1.05479608235362 \\cdot 10^{-9} C_{2} qual \\sin{\\left(25 Bg_{1} \\right)}}{Bg_{1}} = 625$"
      ],
      "text/plain": [
       "Eq(1.05479608235362e-9*C_2*qual*sin(25*Bg_1)/Bg_1, 625)"
      ]
     },
     "metadata": {},
     "output_type": "display_data"
    }
   ],
   "source": [
    "################################################################################\n",
    "# Substitute known values\n",
    "################################################################################\n",
    "with capture_output() as captured:\n",
    "    system = mf.compute(system, regions)\n",
    "\n",
    "# Get rid of any True expressions resulting from =zero conditions\n",
    "system_cleaned = []\n",
    "L_2_val = np.sqrt(Reflector_1.Diffusion/Reflector_1.Absorption)\n",
    "L_2 = sp.symbols('L_2', positive=True)\n",
    "for eq in system:\n",
    "    # eq = eq.subs(L_2, L_2_val)\n",
    "    if eq != True:\n",
    "        system_cleaned.append(eq)\n",
    "        display(eq)\n",
    "system = system_cleaned"
   ]
  },
  {
   "cell_type": "code",
   "execution_count": 45,
   "metadata": {},
   "outputs": [
    {
     "data": {
      "text/latex": [
       "$\\displaystyle \\frac{6.25}{Bg_{1 temp} \\tan{\\left(25 Bg_{1 temp} \\right)}} = 6.25 L_{2}$"
      ],
      "text/plain": [
       "Eq(6.25/(Bg_1_temp*tan(25*Bg_1_temp)), 6.25*L_2)"
      ]
     },
     "metadata": {},
     "output_type": "display_data"
    }
   ],
   "source": [
    "################################################################################\n",
    "# Criticality condition\n",
    "################################################################################\n",
    "# From the ratio of the conditions on the interface we get the criticality condition  \n",
    "ratio = sp.Eq(system[2].lhs/system[3].lhs, system[2].rhs/system[3].rhs)\n",
    "ratio = sp.trigsimp(ratio)\n",
    "\n",
    "# Temporary variable since We have to accept negative solutions for W_core\n",
    "Bg_1 = sp.symbols('Bg_1', positive=True)\n",
    "Bg_1_temp = sp.symbols('Bg_1_temp', real=True) \n",
    "ratio = ratio.subs(Bg_1, Bg_1_temp)\n",
    "display(ratio)"
   ]
  },
  {
   "cell_type": "code",
   "execution_count": 46,
   "metadata": {},
   "outputs": [
    {
     "ename": "TypeError",
     "evalue": "Cannot convert expression to float",
     "output_type": "error",
     "traceback": [
      "\u001b[1;31m---------------------------------------------------------------------------\u001b[0m",
      "\u001b[1;31mTypeError\u001b[0m                                 Traceback (most recent call last)",
      "File \u001b[1;32md:\\phyton_stuff\\anaconda\\Lib\\site-packages\\sympy\\plotting\\experimental_lambdify.py:176\u001b[0m, in \u001b[0;36mlambdify.__call__\u001b[1;34m(self, args)\u001b[0m\n\u001b[0;32m    174\u001b[0m \u001b[38;5;28;01mtry\u001b[39;00m:\n\u001b[0;32m    175\u001b[0m     \u001b[38;5;66;03m#The result can be sympy.Float. Hence wrap it with complex type.\u001b[39;00m\n\u001b[1;32m--> 176\u001b[0m     result \u001b[38;5;241m=\u001b[39m \u001b[38;5;28mcomplex\u001b[39m(\u001b[38;5;28mself\u001b[39m\u001b[38;5;241m.\u001b[39mlambda_func(args))\n\u001b[0;32m    177\u001b[0m     \u001b[38;5;28;01mif\u001b[39;00m \u001b[38;5;28mabs\u001b[39m(result\u001b[38;5;241m.\u001b[39mimag) \u001b[38;5;241m>\u001b[39m \u001b[38;5;241m1e-7\u001b[39m \u001b[38;5;241m*\u001b[39m \u001b[38;5;28mabs\u001b[39m(result):\n",
      "File \u001b[1;32md:\\phyton_stuff\\anaconda\\Lib\\site-packages\\sympy\\core\\expr.py:356\u001b[0m, in \u001b[0;36mExpr.__complex__\u001b[1;34m(self)\u001b[0m\n\u001b[0;32m    355\u001b[0m re, im \u001b[38;5;241m=\u001b[39m result\u001b[38;5;241m.\u001b[39mas_real_imag()\n\u001b[1;32m--> 356\u001b[0m \u001b[38;5;28;01mreturn\u001b[39;00m \u001b[38;5;28mcomplex\u001b[39m(\u001b[38;5;28mfloat\u001b[39m(re), \u001b[38;5;28mfloat\u001b[39m(im))\n",
      "File \u001b[1;32md:\\phyton_stuff\\anaconda\\Lib\\site-packages\\sympy\\core\\expr.py:351\u001b[0m, in \u001b[0;36mExpr.__float__\u001b[1;34m(self)\u001b[0m\n\u001b[0;32m    350\u001b[0m     \u001b[38;5;28;01mraise\u001b[39;00m \u001b[38;5;167;01mTypeError\u001b[39;00m(\u001b[38;5;124m\"\u001b[39m\u001b[38;5;124mCannot convert complex to float\u001b[39m\u001b[38;5;124m\"\u001b[39m)\n\u001b[1;32m--> 351\u001b[0m \u001b[38;5;28;01mraise\u001b[39;00m \u001b[38;5;167;01mTypeError\u001b[39;00m(\u001b[38;5;124m\"\u001b[39m\u001b[38;5;124mCannot convert expression to float\u001b[39m\u001b[38;5;124m\"\u001b[39m)\n",
      "\u001b[1;31mTypeError\u001b[0m: Cannot convert expression to float",
      "\nDuring handling of the above exception, another exception occurred:\n",
      "\u001b[1;31mTypeError\u001b[0m                                 Traceback (most recent call last)",
      "File \u001b[1;32md:\\phyton_stuff\\anaconda\\Lib\\site-packages\\sympy\\plotting\\experimental_lambdify.py:176\u001b[0m, in \u001b[0;36mlambdify.__call__\u001b[1;34m(self, args)\u001b[0m\n\u001b[0;32m    174\u001b[0m \u001b[38;5;28;01mtry\u001b[39;00m:\n\u001b[0;32m    175\u001b[0m     \u001b[38;5;66;03m#The result can be sympy.Float. Hence wrap it with complex type.\u001b[39;00m\n\u001b[1;32m--> 176\u001b[0m     result \u001b[38;5;241m=\u001b[39m \u001b[38;5;28mcomplex\u001b[39m(\u001b[38;5;28mself\u001b[39m\u001b[38;5;241m.\u001b[39mlambda_func(args))\n\u001b[0;32m    177\u001b[0m     \u001b[38;5;28;01mif\u001b[39;00m \u001b[38;5;28mabs\u001b[39m(result\u001b[38;5;241m.\u001b[39mimag) \u001b[38;5;241m>\u001b[39m \u001b[38;5;241m1e-7\u001b[39m \u001b[38;5;241m*\u001b[39m \u001b[38;5;28mabs\u001b[39m(result):\n",
      "File \u001b[1;32md:\\phyton_stuff\\anaconda\\Lib\\site-packages\\sympy\\core\\expr.py:356\u001b[0m, in \u001b[0;36mExpr.__complex__\u001b[1;34m(self)\u001b[0m\n\u001b[0;32m    355\u001b[0m re, im \u001b[38;5;241m=\u001b[39m result\u001b[38;5;241m.\u001b[39mas_real_imag()\n\u001b[1;32m--> 356\u001b[0m \u001b[38;5;28;01mreturn\u001b[39;00m \u001b[38;5;28mcomplex\u001b[39m(\u001b[38;5;28mfloat\u001b[39m(re), \u001b[38;5;28mfloat\u001b[39m(im))\n",
      "File \u001b[1;32md:\\phyton_stuff\\anaconda\\Lib\\site-packages\\sympy\\core\\expr.py:351\u001b[0m, in \u001b[0;36mExpr.__float__\u001b[1;34m(self)\u001b[0m\n\u001b[0;32m    350\u001b[0m     \u001b[38;5;28;01mraise\u001b[39;00m \u001b[38;5;167;01mTypeError\u001b[39;00m(\u001b[38;5;124m\"\u001b[39m\u001b[38;5;124mCannot convert complex to float\u001b[39m\u001b[38;5;124m\"\u001b[39m)\n\u001b[1;32m--> 351\u001b[0m \u001b[38;5;28;01mraise\u001b[39;00m \u001b[38;5;167;01mTypeError\u001b[39;00m(\u001b[38;5;124m\"\u001b[39m\u001b[38;5;124mCannot convert expression to float\u001b[39m\u001b[38;5;124m\"\u001b[39m)\n",
      "\u001b[1;31mTypeError\u001b[0m: Cannot convert expression to float",
      "\nDuring handling of the above exception, another exception occurred:\n",
      "\u001b[1;31mTypeError\u001b[0m                                 Traceback (most recent call last)",
      "Cell \u001b[1;32mIn[46], line 19\u001b[0m\n\u001b[0;32m     16\u001b[0m p1\u001b[38;5;241m.\u001b[39mextend(p2)\n\u001b[0;32m     18\u001b[0m \u001b[38;5;66;03m# Show the combined plot\u001b[39;00m\n\u001b[1;32m---> 19\u001b[0m p1\u001b[38;5;241m.\u001b[39mshow()\n",
      "File \u001b[1;32md:\\phyton_stuff\\anaconda\\Lib\\site-packages\\sympy\\plotting\\plot.py:251\u001b[0m, in \u001b[0;36mPlot.show\u001b[1;34m(self)\u001b[0m\n\u001b[0;32m    249\u001b[0m     \u001b[38;5;28mself\u001b[39m\u001b[38;5;241m.\u001b[39m_backend\u001b[38;5;241m.\u001b[39mclose()\n\u001b[0;32m    250\u001b[0m \u001b[38;5;28mself\u001b[39m\u001b[38;5;241m.\u001b[39m_backend \u001b[38;5;241m=\u001b[39m \u001b[38;5;28mself\u001b[39m\u001b[38;5;241m.\u001b[39mbackend(\u001b[38;5;28mself\u001b[39m)\n\u001b[1;32m--> 251\u001b[0m \u001b[38;5;28mself\u001b[39m\u001b[38;5;241m.\u001b[39m_backend\u001b[38;5;241m.\u001b[39mshow()\n",
      "File \u001b[1;32md:\\phyton_stuff\\anaconda\\Lib\\site-packages\\sympy\\plotting\\plot.py:1549\u001b[0m, in \u001b[0;36mMatplotlibBackend.show\u001b[1;34m(self)\u001b[0m\n\u001b[0;32m   1548\u001b[0m \u001b[38;5;28;01mdef\u001b[39;00m \u001b[38;5;21mshow\u001b[39m(\u001b[38;5;28mself\u001b[39m):\n\u001b[1;32m-> 1549\u001b[0m     \u001b[38;5;28mself\u001b[39m\u001b[38;5;241m.\u001b[39mprocess_series()\n\u001b[0;32m   1550\u001b[0m     \u001b[38;5;66;03m#TODO after fixing https://github.com/ipython/ipython/issues/1255\u001b[39;00m\n\u001b[0;32m   1551\u001b[0m     \u001b[38;5;66;03m# you can uncomment the next line and remove the pyplot.show() call\u001b[39;00m\n\u001b[0;32m   1552\u001b[0m     \u001b[38;5;66;03m#self.fig.show()\u001b[39;00m\n\u001b[0;32m   1553\u001b[0m     \u001b[38;5;28;01mif\u001b[39;00m _show:\n",
      "File \u001b[1;32md:\\phyton_stuff\\anaconda\\Lib\\site-packages\\sympy\\plotting\\plot.py:1546\u001b[0m, in \u001b[0;36mMatplotlibBackend.process_series\u001b[1;34m(self)\u001b[0m\n\u001b[0;32m   1544\u001b[0m \u001b[38;5;28;01mif\u001b[39;00m \u001b[38;5;28misinstance\u001b[39m(\u001b[38;5;28mself\u001b[39m\u001b[38;5;241m.\u001b[39mparent, PlotGrid):\n\u001b[0;32m   1545\u001b[0m     parent \u001b[38;5;241m=\u001b[39m \u001b[38;5;28mself\u001b[39m\u001b[38;5;241m.\u001b[39mparent\u001b[38;5;241m.\u001b[39margs[i]\n\u001b[1;32m-> 1546\u001b[0m \u001b[38;5;28mself\u001b[39m\u001b[38;5;241m.\u001b[39m_process_series(series, ax, parent)\n",
      "File \u001b[1;32md:\\phyton_stuff\\anaconda\\Lib\\site-packages\\sympy\\plotting\\plot.py:1367\u001b[0m, in \u001b[0;36mMatplotlibBackend._process_series\u001b[1;34m(self, series, ax, parent)\u001b[0m\n\u001b[0;32m   1364\u001b[0m \u001b[38;5;28;01mfor\u001b[39;00m s \u001b[38;5;129;01min\u001b[39;00m series:\n\u001b[0;32m   1365\u001b[0m     \u001b[38;5;66;03m# Create the collections\u001b[39;00m\n\u001b[0;32m   1366\u001b[0m     \u001b[38;5;28;01mif\u001b[39;00m s\u001b[38;5;241m.\u001b[39mis_2Dline:\n\u001b[1;32m-> 1367\u001b[0m         x, y \u001b[38;5;241m=\u001b[39m s\u001b[38;5;241m.\u001b[39mget_data()\n\u001b[0;32m   1368\u001b[0m         \u001b[38;5;28;01mif\u001b[39;00m (\u001b[38;5;28misinstance\u001b[39m(s\u001b[38;5;241m.\u001b[39mline_color, (\u001b[38;5;28mint\u001b[39m, \u001b[38;5;28mfloat\u001b[39m)) \u001b[38;5;129;01mor\u001b[39;00m\n\u001b[0;32m   1369\u001b[0m                 \u001b[38;5;28mcallable\u001b[39m(s\u001b[38;5;241m.\u001b[39mline_color)):\n\u001b[0;32m   1370\u001b[0m             segments \u001b[38;5;241m=\u001b[39m \u001b[38;5;28mself\u001b[39m\u001b[38;5;241m.\u001b[39mget_segments(x, y)\n",
      "File \u001b[1;32md:\\phyton_stuff\\anaconda\\Lib\\site-packages\\sympy\\plotting\\plot.py:605\u001b[0m, in \u001b[0;36mLine2DBaseSeries.get_data\u001b[1;34m(self)\u001b[0m\n\u001b[0;32m    591\u001b[0m \u001b[38;5;250m\u001b[39m\u001b[38;5;124;03m\"\"\" Return lists of coordinates for plotting the line.\u001b[39;00m\n\u001b[0;32m    592\u001b[0m \n\u001b[0;32m    593\u001b[0m \u001b[38;5;124;03mReturns\u001b[39;00m\n\u001b[1;32m   (...)\u001b[0m\n\u001b[0;32m    602\u001b[0m \u001b[38;5;124;03m        List of z-coordinates in case of Parametric3DLineSeries\u001b[39;00m\n\u001b[0;32m    603\u001b[0m \u001b[38;5;124;03m\"\"\"\u001b[39;00m\n\u001b[0;32m    604\u001b[0m np \u001b[38;5;241m=\u001b[39m import_module(\u001b[38;5;124m'\u001b[39m\u001b[38;5;124mnumpy\u001b[39m\u001b[38;5;124m'\u001b[39m)\n\u001b[1;32m--> 605\u001b[0m points \u001b[38;5;241m=\u001b[39m \u001b[38;5;28mself\u001b[39m\u001b[38;5;241m.\u001b[39mget_points()\n\u001b[0;32m    606\u001b[0m \u001b[38;5;28;01mif\u001b[39;00m \u001b[38;5;28mself\u001b[39m\u001b[38;5;241m.\u001b[39msteps \u001b[38;5;129;01mis\u001b[39;00m \u001b[38;5;28;01mTrue\u001b[39;00m:\n\u001b[0;32m    607\u001b[0m     \u001b[38;5;28;01mif\u001b[39;00m \u001b[38;5;28mlen\u001b[39m(points) \u001b[38;5;241m==\u001b[39m \u001b[38;5;241m2\u001b[39m:\n",
      "File \u001b[1;32md:\\phyton_stuff\\anaconda\\Lib\\site-packages\\sympy\\plotting\\plot.py:779\u001b[0m, in \u001b[0;36mLineOver1DRangeSeries.get_points\u001b[1;34m(self)\u001b[0m\n\u001b[0;32m    776\u001b[0m         x_coords\u001b[38;5;241m.\u001b[39mappend(q[\u001b[38;5;241m0\u001b[39m])\n\u001b[0;32m    777\u001b[0m         y_coords\u001b[38;5;241m.\u001b[39mappend(q[\u001b[38;5;241m1\u001b[39m])\n\u001b[1;32m--> 779\u001b[0m f_start \u001b[38;5;241m=\u001b[39m f(\u001b[38;5;28mself\u001b[39m\u001b[38;5;241m.\u001b[39mstart)\n\u001b[0;32m    780\u001b[0m f_end \u001b[38;5;241m=\u001b[39m f(\u001b[38;5;28mself\u001b[39m\u001b[38;5;241m.\u001b[39mend)\n\u001b[0;32m    781\u001b[0m x_coords\u001b[38;5;241m.\u001b[39mappend(\u001b[38;5;28mself\u001b[39m\u001b[38;5;241m.\u001b[39mstart)\n",
      "File \u001b[1;32md:\\phyton_stuff\\anaconda\\Lib\\site-packages\\sympy\\plotting\\experimental_lambdify.py:188\u001b[0m, in \u001b[0;36mlambdify.__call__\u001b[1;34m(self, args)\u001b[0m\n\u001b[0;32m    186\u001b[0m \u001b[38;5;28;01mif\u001b[39;00m \u001b[38;5;28mself\u001b[39m\u001b[38;5;241m.\u001b[39mlambda_func \u001b[38;5;241m==\u001b[39m \u001b[38;5;28mself\u001b[39m\u001b[38;5;241m.\u001b[39mlambda_func_1:\n\u001b[0;32m    187\u001b[0m     \u001b[38;5;28mself\u001b[39m\u001b[38;5;241m.\u001b[39mlambda_func \u001b[38;5;241m=\u001b[39m \u001b[38;5;28mself\u001b[39m\u001b[38;5;241m.\u001b[39mlambda_func_2\n\u001b[1;32m--> 188\u001b[0m     \u001b[38;5;28;01mreturn\u001b[39;00m \u001b[38;5;28mself\u001b[39m\u001b[38;5;241m.\u001b[39m\u001b[38;5;21m__call__\u001b[39m(args)\n\u001b[0;32m    190\u001b[0m \u001b[38;5;28mself\u001b[39m\u001b[38;5;241m.\u001b[39mfailure \u001b[38;5;241m=\u001b[39m \u001b[38;5;28;01mTrue\u001b[39;00m\n\u001b[0;32m    191\u001b[0m \u001b[38;5;28mself\u001b[39m\u001b[38;5;241m.\u001b[39mlambda_func \u001b[38;5;241m=\u001b[39m \u001b[38;5;28mself\u001b[39m\u001b[38;5;241m.\u001b[39mlambda_func_3\n",
      "File \u001b[1;32md:\\phyton_stuff\\anaconda\\Lib\\site-packages\\sympy\\plotting\\experimental_lambdify.py:196\u001b[0m, in \u001b[0;36mlambdify.__call__\u001b[1;34m(self, args)\u001b[0m\n\u001b[0;32m    191\u001b[0m \u001b[38;5;28mself\u001b[39m\u001b[38;5;241m.\u001b[39mlambda_func \u001b[38;5;241m=\u001b[39m \u001b[38;5;28mself\u001b[39m\u001b[38;5;241m.\u001b[39mlambda_func_3\n\u001b[0;32m    192\u001b[0m warnings\u001b[38;5;241m.\u001b[39mwarn(\n\u001b[0;32m    193\u001b[0m     \u001b[38;5;124m'\u001b[39m\u001b[38;5;124mThe evaluation of the expression is problematic. \u001b[39m\u001b[38;5;124m'\u001b[39m\n\u001b[0;32m    194\u001b[0m     \u001b[38;5;124m'\u001b[39m\u001b[38;5;124mWe are trying a failback method that may still work. \u001b[39m\u001b[38;5;124m'\u001b[39m\n\u001b[0;32m    195\u001b[0m     \u001b[38;5;124m'\u001b[39m\u001b[38;5;124mPlease report this as a bug.\u001b[39m\u001b[38;5;124m'\u001b[39m, stacklevel\u001b[38;5;241m=\u001b[39m\u001b[38;5;241m2\u001b[39m)\n\u001b[1;32m--> 196\u001b[0m \u001b[38;5;28;01mreturn\u001b[39;00m \u001b[38;5;28mself\u001b[39m\u001b[38;5;241m.\u001b[39m\u001b[38;5;21m__call__\u001b[39m(args)\n",
      "File \u001b[1;32md:\\phyton_stuff\\anaconda\\Lib\\site-packages\\sympy\\plotting\\experimental_lambdify.py:184\u001b[0m, in \u001b[0;36mlambdify.__call__\u001b[1;34m(self, args)\u001b[0m\n\u001b[0;32m    182\u001b[0m \u001b[38;5;28;01mexcept\u001b[39;00m \u001b[38;5;167;01mTypeError\u001b[39;00m \u001b[38;5;28;01mas\u001b[39;00m e:\n\u001b[0;32m    183\u001b[0m     \u001b[38;5;28;01mif\u001b[39;00m \u001b[38;5;28mself\u001b[39m\u001b[38;5;241m.\u001b[39mfailure:\n\u001b[1;32m--> 184\u001b[0m         \u001b[38;5;28;01mraise\u001b[39;00m e\n\u001b[0;32m    186\u001b[0m     \u001b[38;5;28;01mif\u001b[39;00m \u001b[38;5;28mself\u001b[39m\u001b[38;5;241m.\u001b[39mlambda_func \u001b[38;5;241m==\u001b[39m \u001b[38;5;28mself\u001b[39m\u001b[38;5;241m.\u001b[39mlambda_func_1:\n\u001b[0;32m    187\u001b[0m         \u001b[38;5;28mself\u001b[39m\u001b[38;5;241m.\u001b[39mlambda_func \u001b[38;5;241m=\u001b[39m \u001b[38;5;28mself\u001b[39m\u001b[38;5;241m.\u001b[39mlambda_func_2\n",
      "File \u001b[1;32md:\\phyton_stuff\\anaconda\\Lib\\site-packages\\sympy\\plotting\\experimental_lambdify.py:176\u001b[0m, in \u001b[0;36mlambdify.__call__\u001b[1;34m(self, args)\u001b[0m\n\u001b[0;32m    173\u001b[0m \u001b[38;5;28;01mdef\u001b[39;00m \u001b[38;5;21m__call__\u001b[39m(\u001b[38;5;28mself\u001b[39m, args):\n\u001b[0;32m    174\u001b[0m     \u001b[38;5;28;01mtry\u001b[39;00m:\n\u001b[0;32m    175\u001b[0m         \u001b[38;5;66;03m#The result can be sympy.Float. Hence wrap it with complex type.\u001b[39;00m\n\u001b[1;32m--> 176\u001b[0m         result \u001b[38;5;241m=\u001b[39m \u001b[38;5;28mcomplex\u001b[39m(\u001b[38;5;28mself\u001b[39m\u001b[38;5;241m.\u001b[39mlambda_func(args))\n\u001b[0;32m    177\u001b[0m         \u001b[38;5;28;01mif\u001b[39;00m \u001b[38;5;28mabs\u001b[39m(result\u001b[38;5;241m.\u001b[39mimag) \u001b[38;5;241m>\u001b[39m \u001b[38;5;241m1e-7\u001b[39m \u001b[38;5;241m*\u001b[39m \u001b[38;5;28mabs\u001b[39m(result):\n\u001b[0;32m    178\u001b[0m             \u001b[38;5;28;01mreturn\u001b[39;00m \u001b[38;5;28;01mNone\u001b[39;00m\n",
      "File \u001b[1;32md:\\phyton_stuff\\anaconda\\Lib\\site-packages\\sympy\\core\\expr.py:356\u001b[0m, in \u001b[0;36mExpr.__complex__\u001b[1;34m(self)\u001b[0m\n\u001b[0;32m    354\u001b[0m result \u001b[38;5;241m=\u001b[39m \u001b[38;5;28mself\u001b[39m\u001b[38;5;241m.\u001b[39mevalf()\n\u001b[0;32m    355\u001b[0m re, im \u001b[38;5;241m=\u001b[39m result\u001b[38;5;241m.\u001b[39mas_real_imag()\n\u001b[1;32m--> 356\u001b[0m \u001b[38;5;28;01mreturn\u001b[39;00m \u001b[38;5;28mcomplex\u001b[39m(\u001b[38;5;28mfloat\u001b[39m(re), \u001b[38;5;28mfloat\u001b[39m(im))\n",
      "File \u001b[1;32md:\\phyton_stuff\\anaconda\\Lib\\site-packages\\sympy\\core\\expr.py:351\u001b[0m, in \u001b[0;36mExpr.__float__\u001b[1;34m(self)\u001b[0m\n\u001b[0;32m    349\u001b[0m \u001b[38;5;28;01mif\u001b[39;00m result\u001b[38;5;241m.\u001b[39mis_number \u001b[38;5;129;01mand\u001b[39;00m result\u001b[38;5;241m.\u001b[39mas_real_imag()[\u001b[38;5;241m1\u001b[39m]:\n\u001b[0;32m    350\u001b[0m     \u001b[38;5;28;01mraise\u001b[39;00m \u001b[38;5;167;01mTypeError\u001b[39;00m(\u001b[38;5;124m\"\u001b[39m\u001b[38;5;124mCannot convert complex to float\u001b[39m\u001b[38;5;124m\"\u001b[39m)\n\u001b[1;32m--> 351\u001b[0m \u001b[38;5;28;01mraise\u001b[39;00m \u001b[38;5;167;01mTypeError\u001b[39;00m(\u001b[38;5;124m\"\u001b[39m\u001b[38;5;124mCannot convert expression to float\u001b[39m\u001b[38;5;124m\"\u001b[39m)\n",
      "\u001b[1;31mTypeError\u001b[0m: Cannot convert expression to float"
     ]
    },
    {
     "data": {
      "image/png": "[encoded data removed]",
      "text/plain": [
       "<Figure size 640x480 with 1 Axes>"
      ]
     },
     "metadata": {},
     "output_type": "display_data"
    }
   ],
   "source": [
    "################################################################################\n",
    "# Plot to investigate the roots\n",
    "################################################################################\n",
    "fun_1 = 1/ratio.lhs\n",
    "fun_2 = 1/ratio.rhs\n",
    "\n",
    "# Limits of the interval\n",
    "start = 0\n",
    "end = 0.3\n",
    "\n",
    "# Create the plots\n",
    "p1 = sp.plot(fun_1, (Bg_1_temp, start, end), label='lhs', show=False, line_color='blue', ylim=(-10, 10))\n",
    "p2 = sp.plot(fun_2, (Bg_1_temp, start, end), label='rhs', show=False, line_color='orange', ylim=(-10, 10))\n",
    "\n",
    "# Combine the plots\n",
    "p1.extend(p2)\n",
    "\n",
    "# Show the combined plot\n",
    "p1.show()"
   ]
  },
  {
   "cell_type": "code",
   "execution_count": 47,
   "metadata": {},
   "outputs": [
    {
     "ename": "ValueError",
     "evalue": "\nexpected a one-dimensional and numerical function",
     "output_type": "error",
     "traceback": [
      "\u001b[1;31m---------------------------------------------------------------------------\u001b[0m",
      "\u001b[1;31mValueError\u001b[0m                                Traceback (most recent call last)",
      "Cell \u001b[1;32mIn[47], line 4\u001b[0m\n\u001b[0;32m      1\u001b[0m \u001b[38;5;66;03m################################################################################\u001b[39;00m\n\u001b[0;32m      2\u001b[0m \u001b[38;5;66;03m# Core Buckling\u001b[39;00m\n\u001b[0;32m      3\u001b[0m \u001b[38;5;66;03m################################################################################\u001b[39;00m\n\u001b[1;32m----> 4\u001b[0m sol_w \u001b[38;5;241m=\u001b[39m sp\u001b[38;5;241m.\u001b[39mnsolve(ratio, [\u001b[38;5;241m0.0001\u001b[39m])\n\u001b[0;32m      5\u001b[0m \u001b[38;5;28mprint\u001b[39m(\u001b[38;5;124m\"\u001b[39m\u001b[38;5;124mFirst numerical Solution: \u001b[39m\u001b[38;5;124m\"\u001b[39m, sol_w)\n\u001b[0;32m      6\u001b[0m \u001b[38;5;66;03m# We noticed it always gave the second solution\u001b[39;00m\n",
      "File \u001b[1;32md:\\phyton_stuff\\anaconda\\Lib\\site-packages\\sympy\\utilities\\decorator.py:88\u001b[0m, in \u001b[0;36mconserve_mpmath_dps.<locals>.func_wrapper\u001b[1;34m(*args, **kwargs)\u001b[0m\n\u001b[0;32m     86\u001b[0m dps \u001b[38;5;241m=\u001b[39m mpmath\u001b[38;5;241m.\u001b[39mmp\u001b[38;5;241m.\u001b[39mdps\n\u001b[0;32m     87\u001b[0m \u001b[38;5;28;01mtry\u001b[39;00m:\n\u001b[1;32m---> 88\u001b[0m     \u001b[38;5;28;01mreturn\u001b[39;00m func(\u001b[38;5;241m*\u001b[39margs, \u001b[38;5;241m*\u001b[39m\u001b[38;5;241m*\u001b[39mkwargs)\n\u001b[0;32m     89\u001b[0m \u001b[38;5;28;01mfinally\u001b[39;00m:\n\u001b[0;32m     90\u001b[0m     mpmath\u001b[38;5;241m.\u001b[39mmp\u001b[38;5;241m.\u001b[39mdps \u001b[38;5;241m=\u001b[39m dps\n",
      "File \u001b[1;32md:\\phyton_stuff\\anaconda\\Lib\\site-packages\\sympy\\solvers\\solvers.py:2970\u001b[0m, in \u001b[0;36mnsolve\u001b[1;34m(dict, *args, **kwargs)\u001b[0m\n\u001b[0;32m   2968\u001b[0m     fargs \u001b[38;5;241m=\u001b[39m syms\u001b[38;5;241m.\u001b[39mcopy()\u001b[38;5;241m.\u001b[39mpop()\n\u001b[0;32m   2969\u001b[0m \u001b[38;5;28;01mif\u001b[39;00m \u001b[38;5;129;01mnot\u001b[39;00m (\u001b[38;5;28mlen\u001b[39m(syms) \u001b[38;5;241m==\u001b[39m \u001b[38;5;241m1\u001b[39m \u001b[38;5;129;01mand\u001b[39;00m (fargs \u001b[38;5;129;01min\u001b[39;00m syms \u001b[38;5;129;01mor\u001b[39;00m fargs[\u001b[38;5;241m0\u001b[39m] \u001b[38;5;129;01min\u001b[39;00m syms)):\n\u001b[1;32m-> 2970\u001b[0m     \u001b[38;5;28;01mraise\u001b[39;00m \u001b[38;5;167;01mValueError\u001b[39;00m(filldedent(\u001b[38;5;124m'''\u001b[39m\n\u001b[0;32m   2971\u001b[0m \u001b[38;5;124m        expected a one-dimensional and numerical function\u001b[39m\u001b[38;5;124m'''\u001b[39m))\n\u001b[0;32m   2973\u001b[0m \u001b[38;5;66;03m# the function is much better behaved if there is no denominator\u001b[39;00m\n\u001b[0;32m   2974\u001b[0m \u001b[38;5;66;03m# but sending the numerator is left to the user since sometimes\u001b[39;00m\n\u001b[0;32m   2975\u001b[0m \u001b[38;5;66;03m# the function is better behaved when the denominator is present\u001b[39;00m\n\u001b[0;32m   2976\u001b[0m \u001b[38;5;66;03m# e.g., issue 11768\u001b[39;00m\n\u001b[0;32m   2978\u001b[0m f \u001b[38;5;241m=\u001b[39m lambdify(fargs, f, modules)\n",
      "\u001b[1;31mValueError\u001b[0m: \nexpected a one-dimensional and numerical function"
     ]
    }
   ],
   "source": [
    "################################################################################\n",
    "# Core Buckling\n",
    "################################################################################\n",
    "sol_w = sp.nsolve(ratio, [0.0001])\n",
    "print(\"First numerical Solution: \", sol_w)\n",
    "# We noticed it always gave the second solution\n",
    "core_width = Core_1.End - Core_1.Start\n",
    "# Evaluate the value in the first period of the tangent\n",
    "sol_w = (sol_w - sp.pi / core_width).evalf()\n",
    "display(f\"The buckling is {sol_w}\")\n",
    "# Convert to float\n",
    "sol_w = float(sol_w)\n"
   ]
  },
  {
   "cell_type": "code",
   "execution_count": null,
   "metadata": {},
   "outputs": [
    {
     "data": {
      "text/latex": [
       "$\\displaystyle 446.034436710644 qual - 0.317742253537796 = 0.0507026032650354$"
      ],
      "text/plain": [
       "Eq(446.034436710644*qual - 0.317742253537796, 0.0507026032650354)"
      ]
     },
     "metadata": {},
     "output_type": "display_data"
    },
    {
     "name": "stdout",
     "output_type": "stream",
     "text": [
      "U235 fraction:  0.000826045763461651\n"
     ]
    }
   ],
   "source": [
    "################################################################################\n",
    "# Criticality Cond\n",
    "################################################################################\n",
    "# Finding the core region\n",
    "for region in regions:\n",
    "    if region.Composition == 'c':\n",
    "        core = region\n",
    "\n",
    "# Calculating the material buckling as a function of qual\n",
    "material_buckling = (core.Nu * macro_fiss - macro_abs_core) / core.Diffusion\n",
    "\n",
    "# Solving the criticality equation\n",
    "criticality_cond = sp.Eq(material_buckling, sol_w, evaluate=False)\n",
    "display(criticality_cond)\n",
    "solve_crit = sp.solve(criticality_cond, qual)[0]\n",
    "print(\"U235 fraction: \", solve_crit)\n",
    "\n",
    "# Substituting the value of qual in the macroscopic cross sections\n",
    "macro_fiss = macro_fiss.subs(qual, solve_crit)\n",
    "macro_abs_core = macro_abs_core.subs(qual, solve_crit)\n",
    "\n",
    "# Updating the macroscopic cross sections\n",
    "Core_1.Absorption = macro_abs_core\n",
    "Core_1.Fission = macro_fiss"
   ]
  },
  {
   "cell_type": "code",
   "execution_count": null,
   "metadata": {},
   "outputs": [
    {
     "data": {
      "text/latex": [
       "$\\displaystyle \\phi_{1}{\\left(x \\right)} = C_{2} \\cos{\\left(0.0507026032650354 x \\right)}$"
      ],
      "text/plain": [
       "Eq(phi_1(x), C_2*cos(0.0507026032650354*x))"
      ]
     },
     "metadata": {},
     "output_type": "display_data"
    },
    {
     "data": {
      "text/latex": [
       "$\\displaystyle \\phi_{2}{\\left(x - 25 \\right)} = 1318700.96634144 C_{3} e^{- 0.563686307743763 x}$"
      ],
      "text/plain": [
       "Eq(phi_2(x - 25), 1318700.96634144*C_3*exp(-0.563686307743763*x))"
      ]
     },
     "metadata": {},
     "output_type": "display_data"
    },
    {
     "data": {
      "text/latex": [
       "$\\displaystyle 0.298605584951051 C_{2} = C_{3}$"
      ],
      "text/plain": [
       "Eq(0.298605584951051*C_2, C_3)"
      ]
     },
     "metadata": {},
     "output_type": "display_data"
    },
    {
     "data": {
      "text/latex": [
       "$\\displaystyle 0.00774230054097452 C_{2} = 0.090189809239002 C_{3}$"
      ],
      "text/plain": [
       "Eq(0.00774230054097452*C_2, 0.090189809239002*C_3)"
      ]
     },
     "metadata": {},
     "output_type": "display_data"
    },
    {
     "data": {
      "text/latex": [
       "$\\displaystyle 1.64006908724855 \\cdot 10^{-11} C_{2} = 625$"
      ],
      "text/plain": [
       "Eq(1.64006908724855e-11*C_2, 625)"
      ]
     },
     "metadata": {},
     "output_type": "display_data"
    }
   ],
   "source": [
    "################################################################################\n",
    "# Substitute Bg and qual\n",
    "################################################################################\n",
    "for i, eq in enumerate(system):\n",
    "    eq = eq.subs(qual, solve_crit)\n",
    "    system[i] = eq.subs(Bg_1, sol_w)\n",
    "    display(system[i])"
   ]
  },
  {
   "cell_type": "code",
   "execution_count": null,
   "metadata": {},
   "outputs": [
    {
     "data": {
      "text/plain": [
       "[phi_1(x), phi_2(x - 25), C_3, C_2]"
      ]
     },
     "metadata": {},
     "output_type": "display_data"
    },
    {
     "data": {
      "text/plain": [
       "[]"
      ]
     },
     "metadata": {},
     "output_type": "display_data"
    }
   ],
   "source": [
    "# Get all the unkowns to compute\n",
    "all_symbols = set()\n",
    "for eq in system:\n",
    "    all_symbols.update(eq.free_symbols)\n",
    "\n",
    "x = sp.symbols('x')\n",
    "all_symbols.discard(x)\n",
    "\n",
    "unkowns = [flux.lhs for flux in fluxes]\n",
    "for i in all_symbols:\n",
    "    unkowns.append(i)\n",
    "\n",
    "# Solve the system  \n",
    "display(unkowns)\n",
    "solution = sp.solve(system, unkowns)\n",
    "display(solution)\n"
   ]
  },
  {
   "cell_type": "code",
   "execution_count": null,
   "metadata": {},
   "outputs": [
    {
     "ename": "TypeError",
     "evalue": "list indices must be integers or slices, not phi_1",
     "output_type": "error",
     "traceback": [
      "\u001b[1;31m---------------------------------------------------------------------------\u001b[0m",
      "\u001b[1;31mTypeError\u001b[0m                                 Traceback (most recent call last)",
      "Cell \u001b[1;32mIn[36], line 2\u001b[0m\n\u001b[0;32m      1\u001b[0m \u001b[38;5;66;03m# Get the first two from the solution\u001b[39;00m\n\u001b[1;32m----> 2\u001b[0m phi1 \u001b[38;5;241m=\u001b[39m solution[fluxes[\u001b[38;5;241m0\u001b[39m]\u001b[38;5;241m.\u001b[39mlhs]\n\u001b[0;32m      3\u001b[0m display(Latex(\u001b[38;5;124mf\u001b[39m\u001b[38;5;124m\"\u001b[39m\u001b[38;5;124m$\u001b[39m\u001b[38;5;124m\\\u001b[39m\u001b[38;5;124mphi_1 = \u001b[39m\u001b[38;5;132;01m{\u001b[39;00msp\u001b[38;5;241m.\u001b[39mlatex(phi1)\u001b[38;5;132;01m}\u001b[39;00m\u001b[38;5;124m$\u001b[39m\u001b[38;5;124m\"\u001b[39m))\n\u001b[0;32m      4\u001b[0m phi2 \u001b[38;5;241m=\u001b[39m solution[fluxes[\u001b[38;5;241m1\u001b[39m]\u001b[38;5;241m.\u001b[39mlhs]\n",
      "\u001b[1;31mTypeError\u001b[0m: list indices must be integers or slices, not phi_1"
     ]
    }
   ],
   "source": [
    "# Get the first two from the solution\n",
    "phi1 = solution[fluxes[0].lhs]\n",
    "display(Latex(f\"$\\phi_1 = {sp.latex(phi1)}$\"))\n",
    "phi2 = solution[fluxes[1].lhs]\n",
    "display(Latex(f\"$\\phi_2 = {sp.latex(phi2)}$\"))\n",
    "\n",
    "x_sym = sp.symbols('x')\n",
    "x_1 = np.linspace(Core_1.Start, Core_1.End, 100)\n",
    "x_2 = np.linspace(Reflector_1.Start, 40, 100)\n",
    "phi1_vals = [phi1.subs(x, val).evalf() for val in x_1]\n",
    "phi2_vals = [phi2.subs(x, val).evalf() for val in x_2]\n",
    "\n",
    "# Create symmetric values\n",
    "x_1 = np.concatenate((-x_1[::-1], x_1))\n",
    "phi1_vals = np.concatenate((phi1_vals[::-1], phi1_vals))\n",
    "x_2_sx = -x_2[::-1]\n",
    "phi2_vals_sx = phi2_vals[::-1]\n",
    "\n",
    "# Plotting the fluxes\n",
    "plt.plot(x_1, phi1_vals, label='Core Flux')\n",
    "plt.plot(x_2, phi2_vals, label='Reflector Flux', color='orange')\n",
    "plt.plot(x_2_sx, phi2_vals_sx, color='orange')\n",
    "plt.xlabel('$x$')\n",
    "plt.ylabel('$\\phi(x)$')\n",
    "plt.legend()\n",
    "plt.show()"
   ]
  }
 ],
 "metadata": {
  "kernelspec": {
   "display_name": "base",
   "language": "python",
   "name": "python3"
  },
  "language_info": {
   "codemirror_mode": {
    "name": "ipython",
    "version": 3
   },
   "file_extension": ".py",
   "mimetype": "text/x-python",
   "name": "python",
   "nbconvert_exporter": "python",
   "pygments_lexer": "ipython3",
   "version": "3.11.5"
  }
 },
 "nbformat": 4,
 "nbformat_minor": 2
}
