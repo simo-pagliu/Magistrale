{
 "cells": [
  {
   "cell_type": "code",
   "execution_count": 1,
   "metadata": {},
   "outputs": [],
   "source": [
    "# IMPORT LIBRARIES\n",
    "\n",
    "import numpy as np \n",
    "import sympy as sp\n",
    "import matplotlib.pyplot as plt"
   ]
  },
  {
   "cell_type": "code",
   "execution_count": 2,
   "metadata": {},
   "outputs": [],
   "source": [
    "# DATA \n",
    "\n",
    "T = 60 # Operating temperature [°C]\n",
    "rho_H2O = 1 # Water density [g/cm3]\n",
    "NAV = 6.022 * 10 ** 23 # Avogadro number [atoms/mol]\n",
    "MM_H2O = 18.015 # Water molar mass [g/mol]\n",
    "rho_235 = 19.1 # Uranium 235 density [g/cm3]\n",
    "MM_235 = 235.044 # Uranium-235 molar mass [g/mol]\n",
    "B_Core = 0.05624 # Core Buckling [1/cm]\n",
    "nu = 2.44 # Neutrons per fission [-]\n",
    "D_Core = 0.16 # Core diffusion coefficient [cm]\n",
    "H = 50 # Slab width [cm]\n",
    "q = 25 # Power density [W/cm3]\n",
    "E_Fission = 211.5 * 10 ** 6  # Energy released by fission [eV]\n",
    "conversion = 6.242 * 10 ** 18 #Conversion coefficient eV-J\n",
    "E_Fission = E_Fission / conversion # Energy released by fission [J]"
   ]
  },
  {
   "cell_type": "code",
   "execution_count": 3,
   "metadata": {},
   "outputs": [],
   "source": [
    "# FUNCTION AND SYMBOLIC VARIABLES DEFINITION\n",
    "\n",
    "x = sp.symbols('x')\n",
    "B = sp.symbols('B', nonnegative = True) \n",
    "L_c = sp.symbols('L_c', nonnegative = True)\n",
    "L_r = sp.symbols('L_r', nonnegative = True)\n",
    "D = sp.symbols('D', nonnegative = True) # D_R = d_C\n",
    "H = sp.symbols('H', nonnegative = True) # Core width\n",
    "F_c = sp.Function('phi_c', real = True)(x)\n",
    "F_r = sp.Function('phi_r', real = True)(x)"
   ]
  },
  {
   "cell_type": "code",
   "execution_count": 4,
   "metadata": {},
   "outputs": [
    {
     "name": "stdout",
     "output_type": "stream",
     "text": [
      "ODE FOR THE CORE:\n"
     ]
    },
    {
     "data": {
      "text/latex": [
       "$\\displaystyle B^{2} \\phi_{c}{\\left(x \\right)} + \\frac{d^{2}}{d x^{2}} \\phi_{c}{\\left(x \\right)} = 0$"
      ],
      "text/plain": [
       "Eq(B**2*phi_c(x) + Derivative(phi_c(x), (x, 2)), 0)"
      ]
     },
     "metadata": {},
     "output_type": "display_data"
    },
    {
     "name": "stdout",
     "output_type": "stream",
     "text": [
      "ODE FOR THE REFLECTOR:\n"
     ]
    },
    {
     "data": {
      "text/latex": [
       "$\\displaystyle \\frac{d^{2}}{d x^{2}} \\phi_{r}{\\left(x \\right)} - \\frac{\\phi_{r}{\\left(x \\right)}}{L_{r}^{2}} = 0$"
      ],
      "text/plain": [
       "Eq(Derivative(phi_r(x), (x, 2)) - phi_r(x)/L_r**2, 0)"
      ]
     },
     "metadata": {},
     "output_type": "display_data"
    },
    {
     "name": "stdout",
     "output_type": "stream",
     "text": [
      "GENERAL SOLUTION FOR THE FLUX IN THE CORE:\n"
     ]
    },
    {
     "data": {
      "text/latex": [
       "$\\displaystyle \\phi_{c}{\\left(x \\right)} = C_{1} \\sin{\\left(B x \\right)} + C_{2} \\cos{\\left(B x \\right)}$"
      ],
      "text/plain": [
       "Eq(phi_c(x), C1*sin(B*x) + C2*cos(B*x))"
      ]
     },
     "metadata": {},
     "output_type": "display_data"
    },
    {
     "name": "stdout",
     "output_type": "stream",
     "text": [
      "GENERAL SOLUTION FOR THE FLUX IN THE REFLECTOR:\n"
     ]
    },
    {
     "data": {
      "text/latex": [
       "$\\displaystyle \\phi_{r}{\\left(x \\right)} = C_{3} e^{- \\frac{x}{L_{r}}} + C_{4} e^{\\frac{x}{L_{r}}}$"
      ],
      "text/plain": [
       "Eq(phi_r(x), C3*exp(-x/L_r) + C4*exp(x/L_r))"
      ]
     },
     "metadata": {},
     "output_type": "display_data"
    },
    {
     "name": "stdout",
     "output_type": "stream",
     "text": [
      "SYMMETRY CONDITION IN THE CORE:\n"
     ]
    },
    {
     "data": {
      "text/latex": [
       "$\\displaystyle B C_{1} = 0$"
      ],
      "text/plain": [
       "Eq(B*C1, 0)"
      ]
     },
     "metadata": {},
     "output_type": "display_data"
    },
    {
     "name": "stdout",
     "output_type": "stream",
     "text": [
      "GENERAL SOLUTION FOR THE FLUX IN THE REFLECTOR AFTER BOUNDED BC:\n"
     ]
    },
    {
     "data": {
      "text/latex": [
       "$\\displaystyle \\phi_{r}{\\left(x \\right)} = C_{3} e^{- \\frac{x}{L_{r}}}$"
      ],
      "text/plain": [
       "Eq(phi_r(x), C3*exp(-x/L_r))"
      ]
     },
     "metadata": {},
     "output_type": "display_data"
    },
    {
     "name": "stdout",
     "output_type": "stream",
     "text": [
      "CONTINUITY CONDITION FOR THE FLUX AT THE INTERFACE:\n"
     ]
    },
    {
     "data": {
      "text/latex": [
       "$\\displaystyle C_{1} \\sin{\\left(\\frac{B H}{2} \\right)} + C_{2} \\cos{\\left(\\frac{B H}{2} \\right)} = C_{3} e^{- \\frac{H}{2 L_{r}}}$"
      ],
      "text/plain": [
       "Eq(C1*sin(B*H/2) + C2*cos(B*H/2), C3*exp(-H/(2*L_r)))"
      ]
     },
     "metadata": {},
     "output_type": "display_data"
    },
    {
     "name": "stdout",
     "output_type": "stream",
     "text": [
      "CONTINUITY CONDITION FOR THE CURRENT AT THE INTERFACE:\n"
     ]
    },
    {
     "data": {
      "text/latex": [
       "$\\displaystyle - D \\left(B C_{1} \\cos{\\left(\\frac{B H}{2} \\right)} - B C_{2} \\sin{\\left(\\frac{B H}{2} \\right)}\\right) = \\frac{C_{3} D e^{- \\frac{H}{2 L_{r}}}}{L_{r}}$"
      ],
      "text/plain": [
       "Eq(-D*(B*C1*cos(B*H/2) - B*C2*sin(B*H/2)), C3*D*exp(-H/(2*L_r))/L_r)"
      ]
     },
     "metadata": {},
     "output_type": "display_data"
    },
    {
     "name": "stdout",
     "output_type": "stream",
     "text": [
      "DETERMINANT OF THE MATRIX OF COEFFICIENTS:\n"
     ]
    },
    {
     "data": {
      "text/latex": [
       "$\\displaystyle \\frac{B^{2} D L_{r} e^{- \\frac{H}{2 L_{r}}} \\sin{\\left(\\frac{B H}{2} \\right)} - B D e^{- \\frac{H}{2 L_{r}}} \\cos{\\left(\\frac{B H}{2} \\right)}}{L_{r}}$"
      ],
      "text/plain": [
       "(B**2*D*L_r*exp(-H/(2*L_r))*sin(B*H/2) - B*D*exp(-H/(2*L_r))*cos(B*H/2))/L_r"
      ]
     },
     "metadata": {},
     "output_type": "display_data"
    }
   ],
   "source": [
    "# ODE + BC\n",
    "\n",
    "ODE_c = sp.Eq(sp.diff(sp.diff(F_c, x)) + B** 2 * F_c, 0)\n",
    "print('ODE FOR THE CORE:')\n",
    "display(ODE_c)\n",
    "\n",
    "ODE_r = sp.Eq(sp.diff(sp.diff(F_r, x)) - (1/L_r**2) * F_r, 0)\n",
    "print('ODE FOR THE REFLECTOR:')\n",
    "display(ODE_r)\n",
    "\n",
    "flux_c = sp.dsolve(ODE_c)\n",
    "sC1 = sp.symbols('C1')   \n",
    "sC2 = sp.symbols('C2')\n",
    "print('GENERAL SOLUTION FOR THE FLUX IN THE CORE:')\n",
    "display(flux_c)\n",
    "\n",
    "flux_r = sp.dsolve(ODE_r)\n",
    "sC3 = sp.symbols('C3')\n",
    "sC4 = sp.symbols('C4')\n",
    "flux_r = flux_r.subs({sC1: sC3, sC2: sC4})\n",
    "print('GENERAL SOLUTION FOR THE FLUX IN THE REFLECTOR:')\n",
    "display(flux_r)\n",
    "\n",
    "# Symmetry BC\n",
    "symmetry = sp.Eq(\n",
    "    sp.diff(flux_c.rhs, x).subs(x, 0), \n",
    "    0 \n",
    ")\n",
    "print('SYMMETRY CONDITION IN THE CORE:')\n",
    "display(symmetry)\n",
    "\n",
    "# Bounded BC (da migliorare, non so farla generica...)\n",
    "flux_r = flux_r.subs(sC4, 0)\n",
    "print('GENERAL SOLUTION FOR THE FLUX IN THE REFLECTOR AFTER BOUNDED BC:')\n",
    "display(flux_r)\n",
    "\n",
    "# Continuity BC\n",
    "continuity_f = sp.Eq(\n",
    "    flux_c.rhs.subs(x, H/2), \n",
    "    flux_r.rhs.subs(x, H/2)\n",
    ")\n",
    "print('CONTINUITY CONDITION FOR THE FLUX AT THE INTERFACE:')\n",
    "display(continuity_f)\n",
    "continuity_curr = sp.Eq(\n",
    "    -D* sp.diff(flux_c.rhs, x).subs(x, H/2),\n",
    "    -D * sp.diff(flux_r.rhs, x).subs(x, H/2)\n",
    "    )\n",
    "print('CONTINUITY CONDITION FOR THE CURRENT AT THE INTERFACE:')\n",
    "display(continuity_curr)\n",
    "\n",
    "matrix = sp.linear_eq_to_matrix([symmetry, continuity_f, continuity_curr, ], [sC1, sC2, sC3])[0]\n",
    "det = sp.det(matrix)\n",
    "print('DETERMINANT OF THE MATRIX OF COEFFICIENTS:') # Non so se è utile \n",
    "display(det)"
   ]
  }
 ],
 "metadata": {
  "kernelspec": {
   "display_name": "base",
   "language": "python",
   "name": "python3"
  },
  "language_info": {
   "codemirror_mode": {
    "name": "ipython",
    "version": 3
   },
   "file_extension": ".py",
   "mimetype": "text/x-python",
   "name": "python",
   "nbconvert_exporter": "python",
   "pygments_lexer": "ipython3",
   "version": "3.11.5"
  }
 },
 "nbformat": 4,
 "nbformat_minor": 2
}
