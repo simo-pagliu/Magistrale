{
 "cells": [
  {
   "cell_type": "code",
   "execution_count": 11,
   "metadata": {},
   "outputs": [],
   "source": [
    "# IMPORT LIBRARIES\n",
    "\n",
    "import numpy as np \n",
    "import sympy as sp\n",
    "import matplotlib.pyplot as plt"
   ]
  },
  {
   "cell_type": "code",
   "execution_count": 12,
   "metadata": {},
   "outputs": [],
   "source": [
    "# DATA \n",
    "\n",
    "T = 60 # Operating temperature [°C]\n",
    "rho_H2O = 1 # Water density [g/cm3]\n",
    "NAV = 6.022 * 10 ** 23 # Avogadro number [atoms/mol]\n",
    "MM_H2O = 18.015 # Water molar mass [g/mol]\n",
    "rho_235 = 19.1 # Uranium 235 density [g/cm3]\n",
    "MM_235 = 235.044 # Uranium-235 molar mass [g/mol]\n",
    "B_Core = 0.05624 # Core Buckling [1/cm]\n",
    "nu = 2.44 # Neutrons per fission [-]\n",
    "D_Core = 0.16 # Core diffusion coefficient [cm]\n",
    "H_core = 50 # Slab width [cm]\n",
    "q = 25 # Power density [W/cm3]\n",
    "E_Fission = 211.5 * 10 ** 6  # Energy released by fission [eV]\n",
    "conversion = 6.242 * 10 ** 18 #Conversion coefficient eV-J\n",
    "E_Fission = E_Fission / conversion # Energy released by fission [J]"
   ]
  },
  {
   "cell_type": "code",
   "execution_count": 13,
   "metadata": {},
   "outputs": [],
   "source": [
    "# FUNCTION AND SYMBOLIC VARIABLES DEFINITION\n",
    "\n",
    "x = sp.symbols('x')\n",
    "B = sp.symbols('B', nonnegative = True) \n",
    "L_c = sp.symbols('L_c', nonnegative = True)\n",
    "L_r = sp.symbols('L_r', nonnegative = True)\n",
    "D = sp.symbols('D', nonnegative = True) # D_R = d_C\n",
    "H = sp.symbols('H', nonnegative = True) # Core width\n",
    "F_c = sp.Function('phi_c', real = True)(x)\n",
    "F_r = sp.Function('phi_r', real = True)(x)"
   ]
  },
  {
   "cell_type": "code",
   "execution_count": 14,
   "metadata": {},
   "outputs": [
    {
     "name": "stdout",
     "output_type": "stream",
     "text": [
      "ODE FOR THE CORE:\n"
     ]
    },
    {
     "data": {
      "text/latex": [
       "$\\displaystyle B^{2} \\phi_{c}{\\left(x \\right)} + \\frac{d^{2}}{d x^{2}} \\phi_{c}{\\left(x \\right)} = 0$"
      ],
      "text/plain": [
       "Eq(B**2*phi_c(x) + Derivative(phi_c(x), (x, 2)), 0)"
      ]
     },
     "metadata": {},
     "output_type": "display_data"
    },
    {
     "name": "stdout",
     "output_type": "stream",
     "text": [
      "ODE FOR THE REFLECTOR:\n"
     ]
    },
    {
     "data": {
      "text/latex": [
       "$\\displaystyle \\frac{d^{2}}{d x^{2}} \\phi_{r}{\\left(x \\right)} - \\frac{\\phi_{r}{\\left(x \\right)}}{L_{r}^{2}} = 0$"
      ],
      "text/plain": [
       "Eq(Derivative(phi_r(x), (x, 2)) - phi_r(x)/L_r**2, 0)"
      ]
     },
     "metadata": {},
     "output_type": "display_data"
    },
    {
     "name": "stdout",
     "output_type": "stream",
     "text": [
      "GENERAL SOLUTION FOR THE FLUX IN THE CORE:\n"
     ]
    },
    {
     "data": {
      "text/latex": [
       "$\\displaystyle \\phi_{c}{\\left(x \\right)} = C_{1} \\sin{\\left(B x \\right)} + C_{2} \\cos{\\left(B x \\right)}$"
      ],
      "text/plain": [
       "Eq(phi_c(x), C1*sin(B*x) + C2*cos(B*x))"
      ]
     },
     "metadata": {},
     "output_type": "display_data"
    },
    {
     "name": "stdout",
     "output_type": "stream",
     "text": [
      "GENERAL SOLUTION FOR THE FLUX IN THE REFLECTOR:\n"
     ]
    },
    {
     "data": {
      "text/latex": [
       "$\\displaystyle \\phi_{r}{\\left(x \\right)} = C_{3} e^{- \\frac{x}{L_{r}}} + C_{4} e^{\\frac{x}{L_{r}}}$"
      ],
      "text/plain": [
       "Eq(phi_r(x), C3*exp(-x/L_r) + C4*exp(x/L_r))"
      ]
     },
     "metadata": {},
     "output_type": "display_data"
    }
   ],
   "source": [
    "############################################################################################################ \n",
    "# ODEs DEFINITION\n",
    "############################################################################################################ \n",
    "ODE_c = sp.Eq(sp.diff(sp.diff(F_c, x)) + B** 2 * F_c, 0)\n",
    "print('ODE FOR THE CORE:')\n",
    "display(ODE_c)\n",
    "\n",
    "ODE_r = sp.Eq(sp.diff(sp.diff(F_r, x)) - (1/L_r**2) * F_r, 0)\n",
    "print('ODE FOR THE REFLECTOR:')\n",
    "display(ODE_r)\n",
    "\n",
    "flux_c = sp.dsolve(ODE_c)\n",
    "sC1 = sp.symbols('C1')   \n",
    "sC2 = sp.symbols('C2')\n",
    "print('GENERAL SOLUTION FOR THE FLUX IN THE CORE:')\n",
    "display(flux_c)\n",
    "\n",
    "flux_r = sp.dsolve(ODE_r)\n",
    "sC3 = sp.symbols('C3')\n",
    "sC4 = sp.symbols('C4')\n",
    "flux_r = flux_r.subs({sC1: sC3, sC2: sC4})\n",
    "print('GENERAL SOLUTION FOR THE FLUX IN THE REFLECTOR:')\n",
    "display(flux_r)\n"
   ]
  },
  {
   "cell_type": "code",
   "execution_count": 15,
   "metadata": {},
   "outputs": [
    {
     "ename": "NotImplementedError",
     "evalue": "Result depends on the sign of -sign(1/L_r)",
     "output_type": "error",
     "traceback": [
      "\u001b[1;31m---------------------------------------------------------------------------\u001b[0m",
      "\u001b[1;31mNotImplementedError\u001b[0m                       Traceback (most recent call last)",
      "Cell \u001b[1;32mIn[15], line 20\u001b[0m\n\u001b[0;32m     17\u001b[0m     flux \u001b[38;5;241m=\u001b[39m sp\u001b[38;5;241m.\u001b[39mEq(F_r, \u001b[38;5;28msum\u001b[39m(new_terms)) \u001b[38;5;66;03m# Reconstruct the expression with the new terms\u001b[39;00m\n\u001b[0;32m     18\u001b[0m     \u001b[38;5;28;01mreturn\u001b[39;00m flux\n\u001b[1;32m---> 20\u001b[0m flux_r \u001b[38;5;241m=\u001b[39m apply_boundary_condition(flux_r, x)\n\u001b[0;32m     21\u001b[0m \u001b[38;5;28mprint\u001b[39m(\u001b[38;5;124m'\u001b[39m\u001b[38;5;124mBOUNDARY CONDITION FOR THE FLUX IN THE OUTER REGION:\u001b[39m\u001b[38;5;124m'\u001b[39m)\n\u001b[0;32m     22\u001b[0m display(flux_r)\n",
      "Cell \u001b[1;32mIn[15], line 12\u001b[0m, in \u001b[0;36mapply_boundary_condition\u001b[1;34m(flux, x)\u001b[0m\n\u001b[0;32m     10\u001b[0m new_terms \u001b[38;5;241m=\u001b[39m []\n\u001b[0;32m     11\u001b[0m \u001b[38;5;28;01mfor\u001b[39;00m term \u001b[38;5;129;01min\u001b[39;00m terms:\n\u001b[1;32m---> 12\u001b[0m     limit_term \u001b[38;5;241m=\u001b[39m sp\u001b[38;5;241m.\u001b[39mlimit(term, x, sp\u001b[38;5;241m.\u001b[39moo) \u001b[38;5;66;03m# Calculate the limit of the term as x -> infinity\u001b[39;00m\n\u001b[0;32m     13\u001b[0m     \u001b[38;5;28;01mif\u001b[39;00m limit_term\u001b[38;5;241m.\u001b[39mhas(sp\u001b[38;5;241m.\u001b[39moo): \u001b[38;5;66;03m# Check if the limit is infinity (any expression that contains oo)\u001b[39;00m\n\u001b[0;32m     14\u001b[0m         term \u001b[38;5;241m=\u001b[39m \u001b[38;5;241m0\u001b[39m \u001b[38;5;66;03m# If the limit is infinity, the term is set to zero\u001b[39;00m\n",
      "File \u001b[1;32mc:\\Users\\Simo\\anaconda3\\Lib\\site-packages\\sympy\\series\\limits.py:64\u001b[0m, in \u001b[0;36mlimit\u001b[1;34m(e, z, z0, dir)\u001b[0m\n\u001b[0;32m     13\u001b[0m \u001b[38;5;28;01mdef\u001b[39;00m \u001b[38;5;21mlimit\u001b[39m(e, z, z0, \u001b[38;5;28mdir\u001b[39m\u001b[38;5;241m=\u001b[39m\u001b[38;5;124m\"\u001b[39m\u001b[38;5;124m+\u001b[39m\u001b[38;5;124m\"\u001b[39m):\n\u001b[0;32m     14\u001b[0m \u001b[38;5;250m    \u001b[39m\u001b[38;5;124;03m\"\"\"Computes the limit of ``e(z)`` at the point ``z0``.\u001b[39;00m\n\u001b[0;32m     15\u001b[0m \n\u001b[0;32m     16\u001b[0m \u001b[38;5;124;03m    Parameters\u001b[39;00m\n\u001b[1;32m   (...)\u001b[0m\n\u001b[0;32m     61\u001b[0m \u001b[38;5;124;03m     limit_seq : returns the limit of a sequence.\u001b[39;00m\n\u001b[0;32m     62\u001b[0m \u001b[38;5;124;03m    \"\"\"\u001b[39;00m\n\u001b[1;32m---> 64\u001b[0m     \u001b[38;5;28;01mreturn\u001b[39;00m Limit(e, z, z0, \u001b[38;5;28mdir\u001b[39m)\u001b[38;5;241m.\u001b[39mdoit(deep\u001b[38;5;241m=\u001b[39m\u001b[38;5;28;01mFalse\u001b[39;00m)\n",
      "File \u001b[1;32mc:\\Users\\Simo\\anaconda3\\Lib\\site-packages\\sympy\\series\\limits.py:362\u001b[0m, in \u001b[0;36mLimit.doit\u001b[1;34m(self, **hints)\u001b[0m\n\u001b[0;32m    358\u001b[0m         \u001b[38;5;28;01mraise\u001b[39;00m \u001b[38;5;167;01mValueError\u001b[39;00m(\u001b[38;5;124m\"\u001b[39m\u001b[38;5;124mThe limit does not exist since \u001b[39m\u001b[38;5;124m\"\u001b[39m\n\u001b[0;32m    359\u001b[0m                 \u001b[38;5;124m\"\u001b[39m\u001b[38;5;124mleft hand limit = \u001b[39m\u001b[38;5;132;01m%s\u001b[39;00m\u001b[38;5;124m and right hand limit = \u001b[39m\u001b[38;5;132;01m%s\u001b[39;00m\u001b[38;5;124m\"\u001b[39m\n\u001b[0;32m    360\u001b[0m                 \u001b[38;5;241m%\u001b[39m (l, r))\n\u001b[0;32m    361\u001b[0m \u001b[38;5;28;01melse\u001b[39;00m:\n\u001b[1;32m--> 362\u001b[0m     r \u001b[38;5;241m=\u001b[39m gruntz(e, z, z0, \u001b[38;5;28mdir\u001b[39m)\n\u001b[0;32m    363\u001b[0m \u001b[38;5;28;01mif\u001b[39;00m r \u001b[38;5;129;01mis\u001b[39;00m S\u001b[38;5;241m.\u001b[39mNaN \u001b[38;5;129;01mor\u001b[39;00m l \u001b[38;5;129;01mis\u001b[39;00m S\u001b[38;5;241m.\u001b[39mNaN:\n\u001b[0;32m    364\u001b[0m     \u001b[38;5;28;01mraise\u001b[39;00m PoleError()\n",
      "File \u001b[1;32mc:\\Users\\Simo\\anaconda3\\Lib\\site-packages\\sympy\\series\\gruntz.py:711\u001b[0m, in \u001b[0;36mgruntz\u001b[1;34m(e, z, z0, dir)\u001b[0m\n\u001b[0;32m    708\u001b[0m         \u001b[38;5;28;01mraise\u001b[39;00m \u001b[38;5;167;01mNotImplementedError\u001b[39;00m(\u001b[38;5;124m\"\u001b[39m\u001b[38;5;124mdir must be \u001b[39m\u001b[38;5;124m'\u001b[39m\u001b[38;5;124m+\u001b[39m\u001b[38;5;124m'\u001b[39m\u001b[38;5;124m or \u001b[39m\u001b[38;5;124m'\u001b[39m\u001b[38;5;124m-\u001b[39m\u001b[38;5;124m'\u001b[39m\u001b[38;5;124m\"\u001b[39m)\n\u001b[0;32m    710\u001b[0m \u001b[38;5;28;01mtry\u001b[39;00m:\n\u001b[1;32m--> 711\u001b[0m     r \u001b[38;5;241m=\u001b[39m limitinf(e0, z)\n\u001b[0;32m    712\u001b[0m \u001b[38;5;28;01mexcept\u001b[39;00m \u001b[38;5;167;01mValueError\u001b[39;00m:\n\u001b[0;32m    713\u001b[0m     r \u001b[38;5;241m=\u001b[39m limitinf(e0, z, leadsimp\u001b[38;5;241m=\u001b[39m\u001b[38;5;28;01mTrue\u001b[39;00m)\n",
      "File \u001b[1;32mc:\\Users\\Simo\\anaconda3\\Lib\\site-packages\\sympy\\core\\cache.py:70\u001b[0m, in \u001b[0;36m__cacheit.<locals>.func_wrapper.<locals>.wrapper\u001b[1;34m(*args, **kwargs)\u001b[0m\n\u001b[0;32m     67\u001b[0m \u001b[38;5;129m@wraps\u001b[39m(func)\n\u001b[0;32m     68\u001b[0m \u001b[38;5;28;01mdef\u001b[39;00m \u001b[38;5;21mwrapper\u001b[39m(\u001b[38;5;241m*\u001b[39margs, \u001b[38;5;241m*\u001b[39m\u001b[38;5;241m*\u001b[39mkwargs):\n\u001b[0;32m     69\u001b[0m     \u001b[38;5;28;01mtry\u001b[39;00m:\n\u001b[1;32m---> 70\u001b[0m         retval \u001b[38;5;241m=\u001b[39m cfunc(\u001b[38;5;241m*\u001b[39margs, \u001b[38;5;241m*\u001b[39m\u001b[38;5;241m*\u001b[39mkwargs)\n\u001b[0;32m     71\u001b[0m     \u001b[38;5;28;01mexcept\u001b[39;00m \u001b[38;5;167;01mTypeError\u001b[39;00m \u001b[38;5;28;01mas\u001b[39;00m e:\n\u001b[0;32m     72\u001b[0m         \u001b[38;5;28;01mif\u001b[39;00m \u001b[38;5;129;01mnot\u001b[39;00m e\u001b[38;5;241m.\u001b[39margs \u001b[38;5;129;01mor\u001b[39;00m \u001b[38;5;129;01mnot\u001b[39;00m e\u001b[38;5;241m.\u001b[39margs[\u001b[38;5;241m0\u001b[39m]\u001b[38;5;241m.\u001b[39mstartswith(\u001b[38;5;124m'\u001b[39m\u001b[38;5;124munhashable type:\u001b[39m\u001b[38;5;124m'\u001b[39m):\n",
      "File \u001b[1;32mc:\\Users\\Simo\\anaconda3\\Lib\\site-packages\\sympy\\series\\gruntz.py:452\u001b[0m, in \u001b[0;36mlimitinf\u001b[1;34m(e, x, leadsimp)\u001b[0m\n\u001b[0;32m    450\u001b[0m e \u001b[38;5;241m=\u001b[39m e\u001b[38;5;241m.\u001b[39mrewrite(\u001b[38;5;124m'\u001b[39m\u001b[38;5;124mtractable\u001b[39m\u001b[38;5;124m'\u001b[39m, deep\u001b[38;5;241m=\u001b[39m\u001b[38;5;28;01mTrue\u001b[39;00m, limitvar\u001b[38;5;241m=\u001b[39mx)\n\u001b[0;32m    451\u001b[0m e \u001b[38;5;241m=\u001b[39m powdenest(e)\n\u001b[1;32m--> 452\u001b[0m c0, e0 \u001b[38;5;241m=\u001b[39m mrv_leadterm(e, x)\n\u001b[0;32m    453\u001b[0m sig \u001b[38;5;241m=\u001b[39m sign(e0, x)\n\u001b[0;32m    454\u001b[0m \u001b[38;5;28;01mif\u001b[39;00m sig \u001b[38;5;241m==\u001b[39m \u001b[38;5;241m1\u001b[39m:\n",
      "File \u001b[1;32mc:\\Users\\Simo\\anaconda3\\Lib\\site-packages\\sympy\\core\\cache.py:70\u001b[0m, in \u001b[0;36m__cacheit.<locals>.func_wrapper.<locals>.wrapper\u001b[1;34m(*args, **kwargs)\u001b[0m\n\u001b[0;32m     67\u001b[0m \u001b[38;5;129m@wraps\u001b[39m(func)\n\u001b[0;32m     68\u001b[0m \u001b[38;5;28;01mdef\u001b[39;00m \u001b[38;5;21mwrapper\u001b[39m(\u001b[38;5;241m*\u001b[39margs, \u001b[38;5;241m*\u001b[39m\u001b[38;5;241m*\u001b[39mkwargs):\n\u001b[0;32m     69\u001b[0m     \u001b[38;5;28;01mtry\u001b[39;00m:\n\u001b[1;32m---> 70\u001b[0m         retval \u001b[38;5;241m=\u001b[39m cfunc(\u001b[38;5;241m*\u001b[39margs, \u001b[38;5;241m*\u001b[39m\u001b[38;5;241m*\u001b[39mkwargs)\n\u001b[0;32m     71\u001b[0m     \u001b[38;5;28;01mexcept\u001b[39;00m \u001b[38;5;167;01mTypeError\u001b[39;00m \u001b[38;5;28;01mas\u001b[39;00m e:\n\u001b[0;32m     72\u001b[0m         \u001b[38;5;28;01mif\u001b[39;00m \u001b[38;5;129;01mnot\u001b[39;00m e\u001b[38;5;241m.\u001b[39margs \u001b[38;5;129;01mor\u001b[39;00m \u001b[38;5;129;01mnot\u001b[39;00m e\u001b[38;5;241m.\u001b[39margs[\u001b[38;5;241m0\u001b[39m]\u001b[38;5;241m.\u001b[39mstartswith(\u001b[38;5;124m'\u001b[39m\u001b[38;5;124munhashable type:\u001b[39m\u001b[38;5;124m'\u001b[39m):\n",
      "File \u001b[1;32mc:\\Users\\Simo\\anaconda3\\Lib\\site-packages\\sympy\\series\\gruntz.py:546\u001b[0m, in \u001b[0;36mmrv_leadterm\u001b[1;34m(e, x)\u001b[0m\n\u001b[0;32m    538\u001b[0m \u001b[38;5;66;03m#\u001b[39;00m\n\u001b[0;32m    539\u001b[0m \u001b[38;5;66;03m# The positive dummy, w, is used here so log(w*2) etc. will expand;\u001b[39;00m\n\u001b[0;32m    540\u001b[0m \u001b[38;5;66;03m# a unique dummy is needed in this algorithm\u001b[39;00m\n\u001b[1;32m   (...)\u001b[0m\n\u001b[0;32m    543\u001b[0m \u001b[38;5;66;03m# improved, or just find limits of Re and Im components separately.\u001b[39;00m\n\u001b[0;32m    544\u001b[0m \u001b[38;5;66;03m#\u001b[39;00m\n\u001b[0;32m    545\u001b[0m w \u001b[38;5;241m=\u001b[39m Dummy(\u001b[38;5;124m\"\u001b[39m\u001b[38;5;124mw\u001b[39m\u001b[38;5;124m\"\u001b[39m, positive\u001b[38;5;241m=\u001b[39m\u001b[38;5;28;01mTrue\u001b[39;00m)\n\u001b[1;32m--> 546\u001b[0m f, logw \u001b[38;5;241m=\u001b[39m rewrite(exps, Omega, x, w)\n\u001b[0;32m    547\u001b[0m series \u001b[38;5;241m=\u001b[39m calculate_series(f, w, logx\u001b[38;5;241m=\u001b[39mlogw)\n\u001b[0;32m    548\u001b[0m \u001b[38;5;28;01mtry\u001b[39;00m:\n",
      "File \u001b[1;32mc:\\Users\\Simo\\anaconda3\\Lib\\site-packages\\sympy\\series\\gruntz.py:631\u001b[0m, in \u001b[0;36mrewrite\u001b[1;34m(e, Omega, x, wsym)\u001b[0m\n\u001b[0;32m    629\u001b[0m     sig \u001b[38;5;241m=\u001b[39m sign(g\u001b[38;5;241m.\u001b[39mexp, x)\n\u001b[0;32m    630\u001b[0m     \u001b[38;5;28;01mif\u001b[39;00m sig \u001b[38;5;241m!=\u001b[39m \u001b[38;5;241m1\u001b[39m \u001b[38;5;129;01mand\u001b[39;00m sig \u001b[38;5;241m!=\u001b[39m \u001b[38;5;241m-\u001b[39m\u001b[38;5;241m1\u001b[39m:\n\u001b[1;32m--> 631\u001b[0m         \u001b[38;5;28;01mraise\u001b[39;00m \u001b[38;5;167;01mNotImplementedError\u001b[39;00m(\u001b[38;5;124m'\u001b[39m\u001b[38;5;124mResult depends on the sign of \u001b[39m\u001b[38;5;132;01m%s\u001b[39;00m\u001b[38;5;124m'\u001b[39m \u001b[38;5;241m%\u001b[39m sig)\n\u001b[0;32m    632\u001b[0m \u001b[38;5;28;01mif\u001b[39;00m sig \u001b[38;5;241m==\u001b[39m \u001b[38;5;241m1\u001b[39m:\n\u001b[0;32m    633\u001b[0m     wsym \u001b[38;5;241m=\u001b[39m \u001b[38;5;241m1\u001b[39m\u001b[38;5;241m/\u001b[39mwsym  \u001b[38;5;66;03m# if g goes to oo, substitute 1/w\u001b[39;00m\n",
      "\u001b[1;31mNotImplementedError\u001b[0m: Result depends on the sign of -sign(1/L_r)"
     ]
    }
   ],
   "source": [
    "\n",
    "############################################################################################################ \n",
    "# Bounded BC \n",
    "############################################################################################################ \n",
    "# The flux in the reflector is zero for x that goes to infinity\n",
    "def apply_boundary_condition(flux, x):\n",
    "    # Identify the terms in the general solution\n",
    "    terms = flux.rhs.as_ordered_terms() # Divide the expression into terms\n",
    "    \n",
    "    # Determine which term goes to infinity as x -> infinity\n",
    "    new_terms = []\n",
    "    for term in terms:\n",
    "        limit_term = sp.limit(term, x, sp.oo) # Calculate the limit of the term as x -> infinity\n",
    "        if limit_term.has(sp.oo): # Check if the limit is infinity (any expression that contains oo)\n",
    "            term = 0 # If the limit is infinity, the term is set to zero\n",
    "        new_terms.append(term) # Add the term to the new list of terms\n",
    "            \n",
    "    flux = sp.Eq(F_r, sum(new_terms)) # Reconstruct the expression with the new terms\n",
    "    return flux\n",
    "\n",
    "flux_r = apply_boundary_condition(flux_r, x)\n",
    "print('BOUNDARY CONDITION FOR THE FLUX IN THE OUTER REGION:')\n",
    "display(flux_r)\n"
   ]
  },
  {
   "cell_type": "code",
   "execution_count": null,
   "metadata": {},
   "outputs": [
    {
     "name": "stdout",
     "output_type": "stream",
     "text": [
      "CONTINUITY CONDITION FOR THE FLUX AT THE INTERFACE:\n"
     ]
    },
    {
     "data": {
      "text/latex": [
       "$\\displaystyle C_{1} \\sin{\\left(\\frac{B H}{2} \\right)} + C_{2} \\cos{\\left(\\frac{B H}{2} \\right)} = C_{3}$"
      ],
      "text/plain": [
       "Eq(C1*sin(B*H/2) + C2*cos(B*H/2), C3)"
      ]
     },
     "metadata": {},
     "output_type": "display_data"
    },
    {
     "name": "stdout",
     "output_type": "stream",
     "text": [
      "CONTINUITY CONDITION FOR THE CURRENT AT THE INTERFACE:\n"
     ]
    },
    {
     "data": {
      "text/latex": [
       "$\\displaystyle - D \\left(B C_{1} \\cos{\\left(\\frac{B H}{2} \\right)} - B C_{2} \\sin{\\left(\\frac{B H}{2} \\right)}\\right) = 0$"
      ],
      "text/plain": [
       "Eq(-D*(B*C1*cos(B*H/2) - B*C2*sin(B*H/2)), 0)"
      ]
     },
     "metadata": {},
     "output_type": "display_data"
    }
   ],
   "source": [
    "\n",
    "############################################################################################################ \n",
    "# Continuity BC\n",
    "############################################################################################################ \n",
    "continuity_f = sp.Eq(\n",
    "    flux_c.rhs.subs(x, H/2), \n",
    "    flux_r.rhs.subs(x, H/2)\n",
    ")\n",
    "print('CONTINUITY CONDITION FOR THE FLUX AT THE INTERFACE:')\n",
    "display(continuity_f)\n",
    "continuity_curr = sp.Eq(\n",
    "    -D * sp.diff(flux_c.rhs, x).subs(x, H/2),\n",
    "    -D * sp.diff(flux_r.rhs, x).subs(x, H/2)\n",
    "    )\n",
    "print('CONTINUITY CONDITION FOR THE CURRENT AT THE INTERFACE:')\n",
    "display(continuity_curr)"
   ]
  },
  {
   "cell_type": "code",
   "execution_count": null,
   "metadata": {},
   "outputs": [
    {
     "name": "stdout",
     "output_type": "stream",
     "text": [
      "SYSTEM OF EQUATIONS:\n"
     ]
    },
    {
     "data": {
      "text/latex": [
       "$\\displaystyle C_{1} \\sin{\\left(\\frac{B H}{2} \\right)} + C_{2} \\cos{\\left(\\frac{B H}{2} \\right)} = C_{3}$"
      ],
      "text/plain": [
       "Eq(C1*sin(B*H/2) + C2*cos(B*H/2), C3)"
      ]
     },
     "metadata": {},
     "output_type": "display_data"
    },
    {
     "data": {
      "text/latex": [
       "$\\displaystyle - D \\left(B C_{1} \\cos{\\left(\\frac{B H}{2} \\right)} - B C_{2} \\sin{\\left(\\frac{B H}{2} \\right)}\\right) = 0$"
      ],
      "text/plain": [
       "Eq(-D*(B*C1*cos(B*H/2) - B*C2*sin(B*H/2)), 0)"
      ]
     },
     "metadata": {},
     "output_type": "display_data"
    },
    {
     "name": "stdout",
     "output_type": "stream",
     "text": [
      "SOLUTION OF THE SYSTEM OF EQUATIONS:\n"
     ]
    },
    {
     "data": {
      "text/plain": [
       "{C1: C3*sin(B*H/2)/(sin(B*H/2)**2 + cos(B*H/2)**2),\n",
       " C2: C3*cos(B*H/2)/(sin(B*H/2)**2 + cos(B*H/2)**2)}"
      ]
     },
     "metadata": {},
     "output_type": "display_data"
    },
    {
     "name": "stdout",
     "output_type": "stream",
     "text": [
      "FLUX IN THE CORE:\n"
     ]
    },
    {
     "data": {
      "text/latex": [
       "$\\displaystyle \\phi_{c}{\\left(x \\right)} = \\frac{C_{3} \\sin{\\left(\\frac{B H}{2} \\right)} \\sin{\\left(B x \\right)}}{\\sin^{2}{\\left(\\frac{B H}{2} \\right)} + \\cos^{2}{\\left(\\frac{B H}{2} \\right)}} + \\frac{C_{3} \\cos{\\left(\\frac{B H}{2} \\right)} \\cos{\\left(B x \\right)}}{\\sin^{2}{\\left(\\frac{B H}{2} \\right)} + \\cos^{2}{\\left(\\frac{B H}{2} \\right)}}$"
      ],
      "text/plain": [
       "Eq(phi_c(x), C3*sin(B*H/2)*sin(B*x)/(sin(B*H/2)**2 + cos(B*H/2)**2) + C3*cos(B*H/2)*cos(B*x)/(sin(B*H/2)**2 + cos(B*H/2)**2))"
      ]
     },
     "metadata": {},
     "output_type": "display_data"
    }
   ],
   "source": [
    "# Create the system of equations\n",
    "system = [continuity_f, continuity_curr]\n",
    "print('SYSTEM OF EQUATIONS:')\n",
    "for eq in system:\n",
    "    display(eq)\n",
    "\n",
    "# Solve the system of equations\n",
    "solution = sp.solve(system, [sC1, sC2, sC3])\n",
    "print('SOLUTION OF THE SYSTEM OF EQUATIONS:')\n",
    "display(solution)\n",
    "\n",
    "# Substitute the solution in the general solution for the core\n",
    "flux_c = flux_c.subs(solution)\n",
    "print('FLUX IN THE CORE:')\n",
    "display(flux_c)\n"
   ]
  },
  {
   "cell_type": "code",
   "execution_count": null,
   "metadata": {},
   "outputs": [
    {
     "name": "stdout",
     "output_type": "stream",
     "text": [
      "MACROSCOPIC FISSION CROSS SECTION AT T=60°C:\n"
     ]
    },
    {
     "data": {
      "text/latex": [
       "$\\displaystyle 548.741188441229$"
      ],
      "text/plain": [
       "548.741188441229"
      ]
     },
     "metadata": {},
     "output_type": "display_data"
    }
   ],
   "source": [
    "# Cross section of the core\n",
    "Sigma_f = 585 # Macroscopic fission cross section [1/cm]\n",
    "\n",
    "# Adjust for temperature\n",
    "Sigma_f = Sigma_f * sp.sqrt(293/(273+T))\n",
    "print(f'MACROSCOPIC FISSION CROSS SECTION AT T={T}°C:')\n",
    "display(Sigma_f)"
   ]
  },
  {
   "cell_type": "code",
   "execution_count": null,
   "metadata": {},
   "outputs": [
    {
     "name": "stdout",
     "output_type": "stream",
     "text": [
      "POWER CONDITION:\n"
     ]
    },
    {
     "data": {
      "text/latex": [
       "$\\displaystyle \\frac{1.85932011142775 \\cdot 10^{-8} C_{3} \\sin{\\left(\\frac{B H}{2} \\right)} \\sin{\\left(B x \\right)}}{\\sin^{2}{\\left(\\frac{B H}{2} \\right)} + \\cos^{2}{\\left(\\frac{B H}{2} \\right)}} + \\frac{1.85932011142775 \\cdot 10^{-8} C_{3} \\cos{\\left(\\frac{B H}{2} \\right)} \\cos{\\left(B x \\right)}}{\\sin^{2}{\\left(\\frac{B H}{2} \\right)} + \\cos^{2}{\\left(\\frac{B H}{2} \\right)}}$"
      ],
      "text/plain": [
       "1.85932011142775e-8*C3*sin(B*H/2)*sin(B*x)/(sin(B*H/2)**2 + cos(B*H/2)**2) + 1.85932011142775e-8*C3*cos(B*H/2)*cos(B*x)/(sin(B*H/2)**2 + cos(B*H/2)**2)"
      ]
     },
     "metadata": {},
     "output_type": "display_data"
    },
    {
     "data": {
      "text/latex": [
       "$\\displaystyle \\begin{cases} - \\frac{1.85932011142775 \\cdot 10^{-8} C_{3} \\sin{\\left(\\frac{B H}{2} \\right)} \\cos{\\left(B H \\right)}}{B \\left(\\sin^{2}{\\left(\\frac{B H}{2} \\right)} + \\cos^{2}{\\left(\\frac{B H}{2} \\right)}\\right)} + \\frac{1.85932011142775 \\cdot 10^{-8} C_{3} \\sin{\\left(\\frac{B H}{2} \\right)}}{B \\left(\\sin^{2}{\\left(\\frac{B H}{2} \\right)} + \\cos^{2}{\\left(\\frac{B H}{2} \\right)}\\right)} + \\frac{1.85932011142775 \\cdot 10^{-8} C_{3} \\sin{\\left(B H \\right)} \\cos{\\left(\\frac{B H}{2} \\right)}}{B \\left(\\sin^{2}{\\left(\\frac{B H}{2} \\right)} + \\cos^{2}{\\left(\\frac{B H}{2} \\right)}\\right)} & \\text{for}\\: B \\neq 0 \\\\\\frac{1.85932011142775 \\cdot 10^{-8} C_{3} H \\cos{\\left(\\frac{B H}{2} \\right)}}{\\sin^{2}{\\left(\\frac{B H}{2} \\right)} + \\cos^{2}{\\left(\\frac{B H}{2} \\right)}} & \\text{otherwise} \\end{cases}$"
      ],
      "text/plain": [
       "Piecewise((-1.85932011142775e-8*C3*sin(B*H/2)*cos(B*H)/(B*(sin(B*H/2)**2 + cos(B*H/2)**2)) + 1.85932011142775e-8*C3*sin(B*H/2)/(B*(sin(B*H/2)**2 + cos(B*H/2)**2)) + 1.85932011142775e-8*C3*sin(B*H)*cos(B*H/2)/(B*(sin(B*H/2)**2 + cos(B*H/2)**2)), Ne(B, 0)), (1.85932011142775e-8*C3*H*cos(B*H/2)/(sin(B*H/2)**2 + cos(B*H/2)**2), True))"
      ]
     },
     "metadata": {},
     "output_type": "display_data"
    },
    {
     "name": "stdout",
     "output_type": "stream",
     "text": [
      "C3 [1916440313.07111]\n"
     ]
    }
   ],
   "source": [
    "# Power condition\n",
    "power = F_c * E_Fission * Sigma_f\n",
    "power = power.subs(F_c, flux_c.rhs)\n",
    "power = power.subs(F_r, flux_r.rhs)\n",
    "print('POWER CONDITION:')\n",
    "display(power)\n",
    "\n",
    "# Integrate the power density over the core\n",
    "power_integral = sp.integrate(power, (x, 0, H))\n",
    "display(power_integral)\n",
    "\n",
    "# Subsitute constants\n",
    "power_integral = power_integral.subs({B: B_Core, D: D_Core, H: H_core})\n",
    "\n",
    "# Solve the power integral\n",
    "power_condition = sp.Eq(power_integral, q*H_core)\n",
    "sol = sp.solve(power_condition, sC3)\n",
    "print('C3', sol)\n"
   ]
  },
  {
   "cell_type": "code",
   "execution_count": null,
   "metadata": {},
   "outputs": [
    {
     "data": {
      "text/latex": [
       "$\\displaystyle \\phi_{c}{\\left(x \\right)} = 0.98645178868513 C_{3} \\sin{\\left(0.05624 x \\right)} + 0.164051420597043 C_{3} \\cos{\\left(0.05624 x \\right)}$"
      ],
      "text/plain": [
       "Eq(phi_c(x), 0.98645178868513*C3*sin(0.05624*x) + 0.164051420597043*C3*cos(0.05624*x))"
      ]
     },
     "metadata": {},
     "output_type": "display_data"
    },
    {
     "data": {
      "text/latex": [
       "$\\displaystyle \\phi_{r}{\\left(x \\right)} = 1916440313.07111$"
      ],
      "text/plain": [
       "Eq(phi_r(x), 1916440313.07111)"
      ]
     },
     "metadata": {},
     "output_type": "display_data"
    }
   ],
   "source": [
    "# Substitute All the costants into the solutions\n",
    "C3 = sol[0]\n",
    "C2 = solution[sC2]\n",
    "C1 = solution[sC1]\n",
    "flux_c = flux_c.subs({sC1: C1, sC2: C2, B: B_Core, D: D_Core, H: H_core})\n",
    "flux_r = flux_r.subs(sC3, C3)\n",
    "\n",
    "display(flux_c)\n",
    "display(flux_r)"
   ]
  }
 ],
 "metadata": {
  "kernelspec": {
   "display_name": "base",
   "language": "python",
   "name": "python3"
  },
  "language_info": {
   "codemirror_mode": {
    "name": "ipython",
    "version": 3
   },
   "file_extension": ".py",
   "mimetype": "text/x-python",
   "name": "python",
   "nbconvert_exporter": "python",
   "pygments_lexer": "ipython3",
   "version": "3.11.5"
  }
 },
 "nbformat": 4,
 "nbformat_minor": 2
}
