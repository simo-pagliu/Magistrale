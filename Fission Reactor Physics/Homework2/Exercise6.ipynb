{
 "cells": [
  {
   "cell_type": "code",
   "execution_count": 27,
   "metadata": {},
   "outputs": [],
   "source": [
    "# 3rd party\n",
    "import sympy as sp\n",
    "import numpy as np\n",
    "from IPython.utils.io import capture_output\n",
    "from IPython.display import display, Latex\n",
    "import matplotlib.pyplot as plt\n",
    "\n",
    "# Our stuff\n",
    "import mainframe as mf\n",
    "import nuclei_func as nf\n",
    "from mainframe import Region"
   ]
  },
  {
   "cell_type": "code",
   "execution_count": 28,
   "metadata": {},
   "outputs": [],
   "source": [
    "# Define the symbolic variables\n",
    "x, x_prime = sp.symbols('x x_prime')\n",
    "\n",
    "# Constants\n",
    "Q = 5  # n/cm^3 s (source strength)\n",
    "v = 2200  # cm/s all neutrons are thermal\n",
    "P = 5  # slab limit\n",
    "D = 0.7  # Diffusion coefficient\n",
    "Sigma_a = 0.022  # Absorption cross-section\n",
    "L = sp.sqrt(D / Sigma_a)  # Diffusion length\n",
    "\n",
    "Slab = Region(\n",
    "    Diff=0.7, \n",
    "    Abs=0.1, \n",
    "    Fiss=0, \n",
    "    Nu=0, \n",
    "    Pos1=0, \n",
    "    Pos2=P, \n",
    "    composition='h', # this has to be solved with sinh and cosh since it is finite\n",
    "    power=Q # We assumed the same power density as in the exercise 1\n",
    ")\n",
    "\n",
    "Rest = Region(\n",
    "    Diff=0.17, \n",
    "    Abs=0.1,\n",
    "    Fiss=0, \n",
    "    Nu=0, \n",
    "    Pos1=P, \n",
    "    Pos2=sp.oo, \n",
    "    composition='r',\n",
    "    power=0\n",
    ")\n",
    "\n",
    "regions = [Slab, Rest]"
   ]
  },
  {
   "cell_type": "markdown",
   "metadata": {},
   "source": [
    "## Standard approach"
   ]
  },
  {
   "cell_type": "code",
   "execution_count": 29,
   "metadata": {},
   "outputs": [
    {
     "data": {
      "text/latex": [
       "$\\displaystyle \\phi_{1}{\\left(x \\right)} = C_{1} \\sinh{\\left(\\frac{x}{L_{1}} \\right)} + C_{2} \\cosh{\\left(\\frac{x}{L_{1}} \\right)} + 227.272727272727$"
      ],
      "text/plain": [
       "Eq(phi_1(x), C_1*sinh(x/L_1) + C_2*cosh(x/L_1) + 227.272727272727)"
      ]
     },
     "metadata": {},
     "output_type": "display_data"
    },
    {
     "data": {
      "text/latex": [
       "$\\displaystyle \\phi_{2}{\\left(x - 5 \\right)} = C_{3} e^{- \\frac{x - 5}{L_{2}}} + C_{4} e^{\\frac{x - 5}{L_{2}}}$"
      ],
      "text/plain": [
       "Eq(phi_2(x - 5), C_3*exp(-(x - 5)/L_2) + C_4*exp((x - 5)/L_2))"
      ]
     },
     "metadata": {},
     "output_type": "display_data"
    },
    {
     "data": {
      "text/latex": [
       "$\\displaystyle C_{2} = 0$"
      ],
      "text/plain": [
       "Eq(C_2, 0)"
      ]
     },
     "metadata": {},
     "output_type": "display_data"
    },
    {
     "data": {
      "text/latex": [
       "$\\displaystyle C_{4} = 0$"
      ],
      "text/plain": [
       "Eq(C_4, 0)"
      ]
     },
     "metadata": {},
     "output_type": "display_data"
    },
    {
     "data": {
      "text/latex": [
       "$\\displaystyle C_{1} \\sinh{\\left(\\frac{x_{1}}{L_{1}} \\right)} + C_{2} \\cosh{\\left(\\frac{x_{1}}{L_{1}} \\right)} + 227.272727272727 = C_{3} e^{- \\frac{x_{1} - 5}{L_{2}}} + C_{4} e^{\\frac{x_{1} - 5}{L_{2}}}$"
      ],
      "text/plain": [
       "Eq(C_1*sinh(x_1/L_1) + C_2*cosh(x_1/L_1) + 227.272727272727, C_3*exp(-(x_1 - 5)/L_2) + C_4*exp((x_1 - 5)/L_2))"
      ]
     },
     "metadata": {},
     "output_type": "display_data"
    },
    {
     "data": {
      "text/latex": [
       "$\\displaystyle - D_{1} \\left(\\frac{C_{1} \\cosh{\\left(\\frac{x_{1}}{L_{1}} \\right)}}{L_{1}} + \\frac{C_{2} \\sinh{\\left(\\frac{x_{1}}{L_{1}} \\right)}}{L_{1}}\\right) = - D_{2} \\left(- \\frac{C_{3} e^{- \\frac{x_{1} - 5}{L_{2}}}}{L_{2}} + \\frac{C_{4} e^{\\frac{x_{1} - 5}{L_{2}}}}{L_{2}}\\right)$"
      ],
      "text/plain": [
       "Eq(-D_1*(C_1*cosh(x_1/L_1)/L_1 + C_2*sinh(x_1/L_1)/L_1), -D_2*(-C_3*exp(-(x_1 - 5)/L_2)/L_2 + C_4*exp((x_1 - 5)/L_2)/L_2))"
      ]
     },
     "metadata": {},
     "output_type": "display_data"
    }
   ],
   "source": [
    "from IPython.utils.io import capture_output\n",
    "with capture_output() as captured:\n",
    "    equations, fluxes, boundaries, interfaces, _ = mf.main(regions, False)\n",
    "    \n",
    "system = fluxes+boundaries+interfaces\n",
    "\n",
    "# Display the equations\n",
    "system[0] = sp.Eq(system[0].lhs, system[0].rhs + Q * L**2 / D)\n",
    "system[-2] = sp.Eq(system[-2].lhs + Q * L**2 / D,system[-2].rhs)\n",
    "for eq in system:\n",
    "    display(eq)\n"
   ]
  },
  {
   "cell_type": "code",
   "execution_count": 30,
   "metadata": {},
   "outputs": [
    {
     "data": {
      "text/latex": [
       "$\\displaystyle \\phi_{1}{\\left(x \\right)} = C_{1} \\sinh{\\left(0.177281052085584 x \\right)} - 227.272727272727 \\cosh{\\left(0.177281052085584 x \\right)} + 227.272727272727$"
      ],
      "text/plain": [
       "Eq(phi_1(x), C_1*sinh(0.177281052085584*x) - 227.272727272727*cosh(0.177281052085584*x) + 227.272727272727)"
      ]
     },
     "metadata": {},
     "output_type": "display_data"
    },
    {
     "data": {
      "text/latex": [
       "$\\displaystyle \\phi_{2}{\\left(x - 5 \\right)} = 2.42639170909195 C_{3} e^{- 0.177281052085584 x}$"
      ],
      "text/plain": [
       "Eq(phi_2(x - 5), 2.42639170909195*C_3*exp(-0.177281052085584*x))"
      ]
     },
     "metadata": {},
     "output_type": "display_data"
    },
    {
     "data": {
      "text/latex": [
       "$\\displaystyle 1.0071285496972 C_{1} - 95.2870816806257 = 1.0 C_{3}$"
      ],
      "text/plain": [
       "Eq(1.0071285496972*C_1 - 95.2870816806257, 1.0*C_3)"
      ]
     },
     "metadata": {},
     "output_type": "display_data"
    },
    {
     "data": {
      "text/latex": [
       "$\\displaystyle 28.4048559575052 - 0.176125926258668 C_{1} = 0.124096736459909 C_{3}$"
      ],
      "text/plain": [
       "Eq(28.4048559575052 - 0.176125926258668*C_1, 0.124096736459909*C_3)"
      ]
     },
     "metadata": {},
     "output_type": "display_data"
    }
   ],
   "source": [
    "conditioned_system = []\n",
    "for eq in system:\n",
    "    if eq != True and eq.rhs != 0:\n",
    "        # L_1 = L_2 = L\n",
    "        eq = eq.subs(sp.Symbol('L_1', positive=True), L)\n",
    "        eq = eq.subs(sp.Symbol('L_2', positive=True), L)\n",
    "        eq = eq.subs(sp.Symbol('L', positive=True), L)\n",
    "        eq = eq.subs(sp.Symbol('x_1', real=True), P)\n",
    "        eq = eq.subs(sp.Symbol('D_1', positive=True), D)\n",
    "        eq = eq.subs(sp.Symbol('D_2', positive=True), D)\n",
    "        # C_4 = 0\n",
    "        eq = eq.subs(sp.Symbol('C_4', real=True), 0)\n",
    "        \n",
    "        # C_2 = - Q * L**2 / D\n",
    "        eq = eq.subs(sp.Symbol('C_2', real=True), - Q * L**2 / D)\n",
    "        conditioned_system.append(eq)\n",
    "        display(eq)\n",
    "\n"
   ]
  },
  {
   "cell_type": "code",
   "execution_count": 31,
   "metadata": {},
   "outputs": [
    {
     "data": {
      "text/plain": [
       "[phi_1(x), phi_2(x - 5), C_1, C_3]"
      ]
     },
     "metadata": {},
     "output_type": "display_data"
    },
    {
     "data": {
      "text/plain": [
       "{phi_1(x): 133.605770523282*sinh(0.177281052085584*x) - 227.272727272727*cosh(0.177281052085584*x) + 227.272727272727,\n",
       " phi_2(x - 5): 95.2870816806265*exp(-0.177281052085584*x),\n",
       " C_1: 133.605770523282,\n",
       " C_3: 39.2711042176643}"
      ]
     },
     "metadata": {},
     "output_type": "display_data"
    }
   ],
   "source": [
    "# Get all the unkowns to compute\n",
    "all_symbols = set()\n",
    "for eq in conditioned_system:\n",
    "    all_symbols.update(eq.free_symbols)\n",
    "\n",
    "x = sp.symbols('x')\n",
    "all_symbols.discard(x)\n",
    "\n",
    "unkowns = [flux.lhs for flux in fluxes]\n",
    "for i in all_symbols:\n",
    "    unkowns.append(i)\n",
    "display(unkowns)    \n",
    "\n",
    "# Solve the system  \n",
    "solution = sp.solve(conditioned_system, unkowns)\n",
    "display(solution)"
   ]
  },
  {
   "cell_type": "code",
   "execution_count": 32,
   "metadata": {},
   "outputs": [
    {
     "data": {
      "text/latex": [
       "$\\phi_1 = 133.605770523282 \\sinh{\\left(0.177281052085584 x \\right)} - 227.272727272727 \\cosh{\\left(0.177281052085584 x \\right)} + 227.272727272727$"
      ],
      "text/plain": [
       "<IPython.core.display.Latex object>"
      ]
     },
     "metadata": {},
     "output_type": "display_data"
    },
    {
     "data": {
      "text/latex": [
       "$\\phi_2 = 95.2870816806265 e^{- 0.177281052085584 x}$"
      ],
      "text/plain": [
       "<IPython.core.display.Latex object>"
      ]
     },
     "metadata": {},
     "output_type": "display_data"
    },
    {
     "data": {
      "image/png": "[encoded data removed]",
      "text/plain": [
       "<Figure size 640x480 with 1 Axes>"
      ]
     },
     "metadata": {},
     "output_type": "display_data"
    }
   ],
   "source": [
    "# Get the first two from the solution\n",
    "phi1 = solution[fluxes[0].lhs]\n",
    "display(Latex(f\"$\\phi_1 = {sp.latex(phi1)}$\"))\n",
    "phi2 = solution[fluxes[1].lhs]\n",
    "display(Latex(f\"$\\phi_2 = {sp.latex(phi2)}$\"))\n",
    "\n",
    "x_sym = sp.symbols('x')\n",
    "x_1 = np.linspace(Slab.Start, Slab.End, 100)\n",
    "x_2 = np.linspace(Rest.Start, 40, 100)\n",
    "phi1_vals = [phi1.subs(x, val).evalf() for val in x_1]\n",
    "phi2_vals = [phi2.subs(x, val).evalf() for val in x_2]\n",
    "\n",
    "\n",
    "# Plotting the fluxes\n",
    "plt.plot(x_1, phi1_vals, label='Core Flux')\n",
    "plt.plot(x_2, phi2_vals, label='Reflector Flux', color='orange')\n",
    "plt.xlabel('$x$')\n",
    "plt.ylabel('$\\phi(x)$')\n",
    "plt.legend()\n",
    "plt.grid()\n",
    "plt.show()"
   ]
  },
  {
   "cell_type": "code",
   "execution_count": 33,
   "metadata": {},
   "outputs": [
    {
     "data": {
      "text/latex": [
       "The maximum flux is 43.4177007420519"
      ],
      "text/plain": [
       "<IPython.core.display.Latex object>"
      ]
     },
     "metadata": {},
     "output_type": "display_data"
    },
    {
     "data": {
      "text/latex": [
       "The maximum flux is at x = 3.7878787878787876"
      ],
      "text/plain": [
       "<IPython.core.display.Latex object>"
      ]
     },
     "metadata": {},
     "output_type": "display_data"
    }
   ],
   "source": [
    "# Find the maximum flux, need it for later\n",
    "max_flux = max(phi1_vals)\n",
    "display(Latex(f\"The maximum flux is {max_flux}\"))\n",
    "\n",
    "# Find the value of x where the maximum flux is\n",
    "max_flux_x = x_1[phi1_vals.index(max_flux)]\n",
    "display(Latex(f\"The maximum flux is at x = {max_flux_x}\"))"
   ]
  },
  {
   "cell_type": "markdown",
   "metadata": {},
   "source": [
    "## Green's Function Approach"
   ]
  },
  {
   "cell_type": "code",
   "execution_count": 34,
   "metadata": {},
   "outputs": [
    {
     "data": {
      "text/latex": [
       "$\\displaystyle Cost \\left(- e^{- 0.177281052085584 x - 0.177281052085584 x_{prime}} + e^{- 0.177281052085584 \\left|{x - x_{prime}}\\right|}\\right)$"
      ],
      "text/plain": [
       "Cost*(-exp(-0.177281052085584*x - 0.177281052085584*x_prime) + exp(-0.177281052085584*Abs(x - x_prime)))"
      ]
     },
     "metadata": {},
     "output_type": "display_data"
    }
   ],
   "source": [
    "# Define the Green's function G(x, x')\n",
    "Cost = sp.Symbol('Cost', real=True)\n",
    "G = Cost * (sp.exp(-1/L * abs(x - x_prime)) - sp.exp(-1/L * (x + x_prime)))\n",
    "display(G)"
   ]
  },
  {
   "cell_type": "code",
   "execution_count": 35,
   "metadata": {},
   "outputs": [
    {
     "data": {
      "text/latex": [
       "$\\displaystyle 1.66666666666667 Cost \\left(e^{- 0.177281052085584 \\left|{x}\\right|} - e^{- 0.177281052085584 x}\\right) + 1.66666666666667 Cost \\left(e^{- 0.177281052085584 \\left|{x - 5.0}\\right|} - 0.412134609697558 e^{- 0.177281052085584 x}\\right) + 1.66666666666667 Cost \\left(e^{- 0.177281052085584 \\left|{x - 4.64285714285714}\\right|} - 0.439072558181432 e^{- 0.177281052085584 x}\\right) + 1.66666666666667 Cost \\left(e^{- 0.177281052085584 \\left|{x - 4.28571428571429}\\right|} - 0.46777122525444 e^{- 0.177281052085584 x}\\right) + 1.66666666666667 Cost \\left(e^{- 0.177281052085584 \\left|{x - 3.92857142857143}\\right|} - 0.498345695031171 e^{- 0.177281052085584 x}\\right) + 1.66666666666667 Cost \\left(e^{- 0.177281052085584 \\left|{x - 3.57142857142857}\\right|} - 0.530918573755823 e^{- 0.177281052085584 x}\\right) + 1.66666666666667 Cost \\left(e^{- 0.177281052085584 \\left|{x - 3.21428571428571}\\right|} - 0.565620481463749 e^{- 0.177281052085584 x}\\right) + 1.66666666666667 Cost \\left(e^{- 0.177281052085584 \\left|{x - 2.85714285714286}\\right|} - 0.602590575778992 e^{- 0.177281052085584 x}\\right) + 1.66666666666667 Cost \\left(e^{- 0.177281052085584 \\left|{x - 2.5}\\right|} - 0.641977109948289 e^{- 0.177281052085584 x}\\right) + 1.66666666666667 Cost \\left(e^{- 0.177281052085584 \\left|{x - 2.14285714285714}\\right|} - 0.683938027349291 e^{- 0.177281052085584 x}\\right) + 1.66666666666667 Cost \\left(e^{- 0.177281052085584 \\left|{x - 1.78571428571429}\\right|} - 0.728641594857049 e^{- 0.177281052085584 x}\\right) + 1.66666666666667 Cost \\left(e^{- 0.177281052085584 \\left|{x - 1.42857142857143}\\right|} - 0.776267077608597 e^{- 0.177281052085584 x}\\right) + 1.66666666666667 Cost \\left(e^{- 0.177281052085584 \\left|{x - 1.07142857142857}\\right|} - 0.827005457871525 e^{- 0.177281052085584 x}\\right) + 1.66666666666667 Cost \\left(e^{- 0.177281052085584 \\left|{x - 0.714285714285714}\\right|} - 0.881060200899233 e^{- 0.177281052085584 x}\\right) + 1.66666666666667 Cost \\left(e^{- 0.177281052085584 \\left|{x - 0.357142857142857}\\right|} - 0.938648070844038 e^{- 0.177281052085584 x}\\right)$"
      ],
      "text/plain": [
       "1.66666666666667*Cost*(exp(-0.177281052085584*Abs(x)) - exp(-0.177281052085584*x)) + 1.66666666666667*Cost*(exp(-0.177281052085584*Abs(x - 5.0)) - 0.412134609697558*exp(-0.177281052085584*x)) + 1.66666666666667*Cost*(exp(-0.177281052085584*Abs(x - 4.64285714285714)) - 0.439072558181432*exp(-0.177281052085584*x)) + 1.66666666666667*Cost*(exp(-0.177281052085584*Abs(x - 4.28571428571429)) - 0.46777122525444*exp(-0.177281052085584*x)) + 1.66666666666667*Cost*(exp(-0.177281052085584*Abs(x - 3.92857142857143)) - 0.498345695031171*exp(-0.177281052085584*x)) + 1.66666666666667*Cost*(exp(-0.177281052085584*Abs(x - 3.57142857142857)) - 0.530918573755823*exp(-0.177281052085584*x)) + 1.66666666666667*Cost*(exp(-0.177281052085584*Abs(x - 3.21428571428571)) - 0.565620481463749*exp(-0.177281052085584*x)) + 1.66666666666667*Cost*(exp(-0.177281052085584*Abs(x - 2.85714285714286)) - 0.602590575778992*exp(-0.177281052085584*x)) + 1.66666666666667*Cost*(exp(-0.177281052085584*Abs(x - 2.5)) - 0.641977109948289*exp(-0.177281052085584*x)) + 1.66666666666667*Cost*(exp(-0.177281052085584*Abs(x - 2.14285714285714)) - 0.683938027349291*exp(-0.177281052085584*x)) + 1.66666666666667*Cost*(exp(-0.177281052085584*Abs(x - 1.78571428571429)) - 0.728641594857049*exp(-0.177281052085584*x)) + 1.66666666666667*Cost*(exp(-0.177281052085584*Abs(x - 1.42857142857143)) - 0.776267077608597*exp(-0.177281052085584*x)) + 1.66666666666667*Cost*(exp(-0.177281052085584*Abs(x - 1.07142857142857)) - 0.827005457871525*exp(-0.177281052085584*x)) + 1.66666666666667*Cost*(exp(-0.177281052085584*Abs(x - 0.714285714285714)) - 0.881060200899233*exp(-0.177281052085584*x)) + 1.66666666666667*Cost*(exp(-0.177281052085584*Abs(x - 0.357142857142857)) - 0.938648070844038*exp(-0.177281052085584*x))"
      ]
     },
     "metadata": {},
     "output_type": "display_data"
    }
   ],
   "source": [
    "# Define the flux phi(x) as the integral of the Green function over the source region\n",
    "phi_x = 0\n",
    "\n",
    "steps = 15\n",
    "for x_prime_val in np.linspace(0, P, steps):\n",
    "    temp = Q * G.subs(x_prime, x_prime_val) * (P / steps)\n",
    "    phi_x += temp\n",
    "display(phi_x)   "
   ]
  },
  {
   "cell_type": "code",
   "execution_count": 36,
   "metadata": {},
   "outputs": [],
   "source": [
    "max_value_green = phi_x.subs(x, max_flux_x).evalf()\n",
    "# Find the value of the constant\n",
    "Cost_val = sp.solve(sp.Eq(max_value_green, max_flux), Cost)[0]\n",
    "# Substitute the value of the constant\n",
    "phi_x = phi_x.subs(Cost, Cost_val)"
   ]
  },
  {
   "cell_type": "code",
   "execution_count": 37,
   "metadata": {},
   "outputs": [
    {
     "data": {
      "image/png": "[encoded data removed]",
      "text/plain": [
       "<Figure size 640x480 with 1 Axes>"
      ]
     },
     "metadata": {},
     "output_type": "display_data"
    }
   ],
   "source": [
    "# Generate data for plotting\n",
    "x_values = np.linspace(0, 40, 300)  # Range to plot\n",
    "phi_values = [phi_x.subs(x, val).evalf() for val in x_values]\n",
    "\n",
    "# Plotting the flux\n",
    "plt.plot(x_values, phi_values, label=r'Flux $\\phi(x)$')\n",
    "plt.axvline(x=P, color='orange', linestyle='--', label=f'Source ends at x={P}')\n",
    "plt.xlabel('x (cm)')\n",
    "plt.ylabel(r'Flux $\\phi(x)$')\n",
    "plt.title('Flux')\n",
    "plt.grid(True)\n",
    "plt.legend()\n",
    "plt.show()"
   ]
  }
 ],
 "metadata": {
  "kernelspec": {
   "display_name": "base",
   "language": "python",
   "name": "python3"
  },
  "language_info": {
   "codemirror_mode": {
    "name": "ipython",
    "version": 3
   },
   "file_extension": ".py",
   "mimetype": "text/x-python",
   "name": "python",
   "nbconvert_exporter": "python",
   "pygments_lexer": "ipython3",
   "version": "3.11.5"
  }
 },
 "nbformat": 4,
 "nbformat_minor": 2
}
