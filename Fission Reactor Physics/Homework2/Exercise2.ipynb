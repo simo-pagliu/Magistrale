{
 "cells": [
  {
   "cell_type": "code",
   "execution_count": 160,
   "metadata": {},
   "outputs": [],
   "source": [
    "# 3rd party\n",
    "import sympy as sp\n",
    "import numpy as np\n",
    "from IPython.utils.io import capture_output\n",
    "from IPython.display import display, Latex\n",
    "import matplotlib.pyplot as plt\n",
    "\n",
    "# Our stuff\n",
    "import mainframe as mf\n",
    "import nuclei_func as nf\n",
    "from mainframe import Region"
   ]
  },
  {
   "cell_type": "code",
   "execution_count": 161,
   "metadata": {},
   "outputs": [],
   "source": [
    "################################################################################\n",
    "# INPUT DATA\n",
    "################################################################################\n",
    "micro_abs_water = 0.66\n",
    "micro_abs_U238 = 2.73\n",
    "micro_abs_U235 = 678\n",
    "micro_fiss_U235 = 577\n",
    "\n",
    "density_water = 1\n",
    "density_U235 = 19.1\n",
    "\n",
    "# Defining the temperature correction factor\n",
    "def T_correction(T_new):\n",
    "    return np.sqrt(293/(T_new+273))\n",
    "\n",
    "# Defining the enrichment as a symbol\n",
    "qual = 4.33930670614263e-5 #From exercise 1\n",
    "\n",
    "# Defining the macroscopic cross sections of the mixtures\n",
    "macro_abs_refl = micro_abs_water * T_correction(20)\n",
    "\n",
    "# Defining the macroscopic cross sections of the blanket\n",
    "percentage_235_blanket = 0.01 * 0.711 / 100\n",
    "percentage_238_blanket = 0.01 * (100 - 0.711) / 100\n",
    "macro_abs_blanket = nf.mixture([micro_abs_water, micro_abs_U235, micro_abs_U238], [0.99, percentage_235_blanket, percentage_238_blanket]) * T_correction(20)\n",
    "macro_fiss_blanket = nf.mixture([0, micro_fiss_U235, 0], [0.99, percentage_235_blanket, percentage_238_blanket]) * T_correction(20)\n",
    "\n",
    "# Defining the macroscopic cross sections of the core\n",
    "macro_fiss = nf.mixture([micro_fiss_U235, 0], [qual, 1-qual]) * T_correction(60)\n",
    "macro_abs_core = nf.mixture([micro_abs_water, micro_abs_U235], [1-qual, qual]) * T_correction(60)"
   ]
  },
  {
   "cell_type": "code",
   "execution_count": 162,
   "metadata": {},
   "outputs": [],
   "source": [
    "\n",
    "################################################################################\n",
    "# Defining the regions\n",
    "################################################################################\n",
    "W_Core = sp.symbols('W_Core', positive=True, real=True) # Unknown width of the core\n",
    "symmetrical_problem = True\n",
    "Core_1 = Region(\n",
    "    Diff=0.16, \n",
    "    Abs=macro_abs_core, \n",
    "    Fiss=macro_fiss, \n",
    "    Nu=2.44, \n",
    "    Pos1=0, \n",
    "    Pos2=W_Core, \n",
    "    composition='c', \n",
    "    power=25*W_Core # We assumed the same power density as in the exercise 1\n",
    ")\n",
    "\n",
    "Blanket_1 = Region(\n",
    "    Diff=0.16, \n",
    "    Abs=macro_abs_blanket,\n",
    "    Fiss=macro_fiss_blanket, \n",
    "    Nu=2.44, \n",
    "    Pos1=W_Core, \n",
    "    Pos2=W_Core+5, \n",
    "    composition='h', # this has to be solved with sinh and cosh since it is finite\n",
    "    power=0\n",
    ")\n",
    "\n",
    "Reflector_1 = Region(\n",
    "    Diff=0.16, \n",
    "    Abs=macro_abs_refl, \n",
    "    Fiss=0, \n",
    "    Nu=0, \n",
    "    Pos1=W_Core+5, \n",
    "    Pos2=sp.oo, \n",
    "    composition='r', \n",
    "    power=0\n",
    ")\n",
    "regions = [Core_1, Blanket_1, Reflector_1]"
   ]
  },
  {
   "cell_type": "code",
   "execution_count": 163,
   "metadata": {},
   "outputs": [
    {
     "data": {
      "text/latex": [
       "$\\displaystyle \\phi_{1}{\\left(x \\right)} = C_{1} \\sin{\\left(Bg_{1} x \\right)} + C_{2} \\cos{\\left(Bg_{1} x \\right)}$"
      ],
      "text/plain": [
       "Eq(phi_1(x), C_1*sin(Bg_1*x) + C_2*cos(Bg_1*x))"
      ]
     },
     "metadata": {},
     "output_type": "display_data"
    },
    {
     "data": {
      "text/latex": [
       "$\\displaystyle \\phi_{2}{\\left(- W_{Core} + x \\right)} = C_{3} \\sinh{\\left(Bg_{2} \\left(- W_{Core} + x\\right) \\right)} + C_{4} \\cosh{\\left(Bg_{2} \\left(- W_{Core} + x\\right) \\right)}$"
      ],
      "text/plain": [
       "Eq(phi_2(-W_Core + x), C_3*sinh(Bg_2*(-W_Core + x)) + C_4*cosh(Bg_2*(-W_Core + x)))"
      ]
     },
     "metadata": {},
     "output_type": "display_data"
    },
    {
     "data": {
      "text/latex": [
       "$\\displaystyle \\phi_{3}{\\left(- W_{Core} + x - 5 \\right)} = C_{5} e^{- \\frac{- W_{Core} + x - 5}{L_{3}}} + C_{6} e^{\\frac{- W_{Core} + x - 5}{L_{3}}}$"
      ],
      "text/plain": [
       "Eq(phi_3(-W_Core + x - 5), C_5*exp(-(-W_Core + x - 5)/L_3) + C_6*exp((-W_Core + x - 5)/L_3))"
      ]
     },
     "metadata": {},
     "output_type": "display_data"
    },
    {
     "name": "stdout",
     "output_type": "stream",
     "text": [
      "Boundaries\n"
     ]
    },
    {
     "data": {
      "text/latex": [
       "$\\displaystyle Bg_{1} C_{1} = 0$"
      ],
      "text/plain": [
       "Eq(Bg_1*C_1, 0)"
      ]
     },
     "metadata": {},
     "output_type": "display_data"
    },
    {
     "data": {
      "text/latex": [
       "$\\displaystyle C_{6} = 0$"
      ],
      "text/plain": [
       "Eq(C_6, 0)"
      ]
     },
     "metadata": {},
     "output_type": "display_data"
    },
    {
     "name": "stdout",
     "output_type": "stream",
     "text": [
      "Interfaces\n"
     ]
    },
    {
     "data": {
      "text/latex": [
       "$\\displaystyle C_{1} \\sin{\\left(Bg_{1} x_{1} \\right)} + C_{2} \\cos{\\left(Bg_{1} x_{1} \\right)} = C_{3} \\sinh{\\left(Bg_{2} \\left(- W_{Core} + x_{1}\\right) \\right)} + C_{4} \\cosh{\\left(Bg_{2} \\left(- W_{Core} + x_{1}\\right) \\right)}$"
      ],
      "text/plain": [
       "Eq(C_1*sin(Bg_1*x_1) + C_2*cos(Bg_1*x_1), C_3*sinh(Bg_2*(-W_Core + x_1)) + C_4*cosh(Bg_2*(-W_Core + x_1)))"
      ]
     },
     "metadata": {},
     "output_type": "display_data"
    },
    {
     "data": {
      "text/latex": [
       "$\\displaystyle - D_{1} \\left(Bg_{1} C_{1} \\cos{\\left(Bg_{1} x_{1} \\right)} - Bg_{1} C_{2} \\sin{\\left(Bg_{1} x_{1} \\right)}\\right) = - D_{2} \\left(Bg_{2} C_{3} \\cosh{\\left(Bg_{2} \\left(- W_{Core} + x_{1}\\right) \\right)} + Bg_{2} C_{4} \\sinh{\\left(Bg_{2} \\left(- W_{Core} + x_{1}\\right) \\right)}\\right)$"
      ],
      "text/plain": [
       "Eq(-D_1*(Bg_1*C_1*cos(Bg_1*x_1) - Bg_1*C_2*sin(Bg_1*x_1)), -D_2*(Bg_2*C_3*cosh(Bg_2*(-W_Core + x_1)) + Bg_2*C_4*sinh(Bg_2*(-W_Core + x_1))))"
      ]
     },
     "metadata": {},
     "output_type": "display_data"
    },
    {
     "data": {
      "text/latex": [
       "$\\displaystyle C_{3} \\sinh{\\left(Bg_{2} \\left(- W_{Core} + x_{2}\\right) \\right)} + C_{4} \\cosh{\\left(Bg_{2} \\left(- W_{Core} + x_{2}\\right) \\right)} = C_{5} e^{- \\frac{- W_{Core} + x_{2} - 5}{L_{3}}} + C_{6} e^{\\frac{- W_{Core} + x_{2} - 5}{L_{3}}}$"
      ],
      "text/plain": [
       "Eq(C_3*sinh(Bg_2*(-W_Core + x_2)) + C_4*cosh(Bg_2*(-W_Core + x_2)), C_5*exp(-(-W_Core + x_2 - 5)/L_3) + C_6*exp((-W_Core + x_2 - 5)/L_3))"
      ]
     },
     "metadata": {},
     "output_type": "display_data"
    },
    {
     "data": {
      "text/latex": [
       "$\\displaystyle - D_{2} \\left(Bg_{2} C_{3} \\cosh{\\left(Bg_{2} \\left(- W_{Core} + x_{2}\\right) \\right)} + Bg_{2} C_{4} \\sinh{\\left(Bg_{2} \\left(- W_{Core} + x_{2}\\right) \\right)}\\right) = - D_{3} \\left(- \\frac{C_{5} e^{- \\frac{- W_{Core} + x_{2} - 5}{L_{3}}}}{L_{3}} + \\frac{C_{6} e^{\\frac{- W_{Core} + x_{2} - 5}{L_{3}}}}{L_{3}}\\right)$"
      ],
      "text/plain": [
       "Eq(-D_2*(Bg_2*C_3*cosh(Bg_2*(-W_Core + x_2)) + Bg_2*C_4*sinh(Bg_2*(-W_Core + x_2))), -D_3*(-C_5*exp(-(-W_Core + x_2 - 5)/L_3)/L_3 + C_6*exp((-W_Core + x_2 - 5)/L_3)/L_3))"
      ]
     },
     "metadata": {},
     "output_type": "display_data"
    }
   ],
   "source": [
    "################################################################################\n",
    "# Solve the problem\n",
    "################################################################################\n",
    "with capture_output() as captured:\n",
    "    equations, fluxes, boundaries, interfaces, powers = mf.main(regions, symmetrical_problem)\n",
    "\n",
    "# equations, fluxes, boundaries, interfaces, powers = mf.main(regions, symmetrical_problem)\n",
    "\n",
    "# TEMP FIX\n",
    "boundaries = boundaries[1:3]\n",
    "\n",
    "# Show the system\n",
    "system = fluxes + boundaries + interfaces + powers\n",
    "for eq in fluxes:\n",
    "    display(eq)\n",
    "\n",
    "print(\"Boundaries\")\n",
    "for eq in boundaries:\n",
    "    display(eq)\n",
    "\n",
    "print(\"Interfaces\")\n",
    "for eq in interfaces:\n",
    "    display(eq)\n",
    "\n",
    "# for eq in system:\n",
    "#     display(eq)"
   ]
  },
  {
   "cell_type": "code",
   "execution_count": 164,
   "metadata": {},
   "outputs": [
    {
     "data": {
      "text/latex": [
       "$\\displaystyle \\phi_{1}{\\left(x \\right)} = C_{2} \\cos{\\left(0.05624 x \\right)}$"
      ],
      "text/plain": [
       "Eq(phi_1(x), C_2*cos(0.05624*x))"
      ]
     },
     "metadata": {},
     "output_type": "display_data"
    },
    {
     "data": {
      "text/latex": [
       "$\\displaystyle \\phi_{2}{\\left(- W_{Core} + x \\right)} = - C_{3} \\sinh{\\left(3.92882143125 W_{Core} - 3.92882143125 x \\right)} + C_{4} \\cosh{\\left(3.92882143125 W_{Core} - 3.92882143125 x \\right)}$"
      ],
      "text/plain": [
       "Eq(phi_2(-W_Core + x), -C_3*sinh(3.92882143125*W_Core - 3.92882143125*x) + C_4*cosh(3.92882143125*W_Core - 3.92882143125*x))"
      ]
     },
     "metadata": {},
     "output_type": "display_data"
    },
    {
     "data": {
      "text/latex": [
       "$\\displaystyle \\phi_{3}{\\left(- W_{Core} + x - 5 \\right)} = 25720.6128491454 C_{5} e^{2.03100960115899 W_{Core} - 2.03100960115899 x}$"
      ],
      "text/plain": [
       "Eq(phi_3(-W_Core + x - 5), 25720.6128491454*C_5*exp(2.03100960115899*W_Core - 2.03100960115899*x))"
      ]
     },
     "metadata": {},
     "output_type": "display_data"
    },
    {
     "data": {
      "text/latex": [
       "$\\displaystyle C_{2} \\cos{\\left(0.05624 W_{Core} \\right)} = C_{4}$"
      ],
      "text/plain": [
       "Eq(C_2*cos(0.05624*W_Core), C_4)"
      ]
     },
     "metadata": {},
     "output_type": "display_data"
    },
    {
     "data": {
      "text/latex": [
       "$\\displaystyle 0.0089984 C_{2} \\sin{\\left(0.05624 W_{Core} \\right)} = - 0.628611429 C_{3}$"
      ],
      "text/plain": [
       "Eq(0.0089984*C_2*sin(0.05624*W_Core), -0.628611429*C_3)"
      ]
     },
     "metadata": {},
     "output_type": "display_data"
    },
    {
     "data": {
      "text/latex": [
       "$\\displaystyle 169940677.067865 C_{3} + 169940677.067865 C_{4} = C_{5}$"
      ],
      "text/plain": [
       "Eq(169940677.067865*C_3 + 169940677.067865*C_4, C_5)"
      ]
     },
     "metadata": {},
     "output_type": "display_data"
    },
    {
     "data": {
      "text/latex": [
       "$\\displaystyle - 106826651.856858 C_{3} - 106826651.856858 C_{4} = 0.324961536185438 C_{5}$"
      ],
      "text/plain": [
       "Eq(-106826651.856858*C_3 - 106826651.856858*C_4, 0.324961536185438*C_5)"
      ]
     },
     "metadata": {},
     "output_type": "display_data"
    },
    {
     "data": {
      "text/latex": [
       "$\\displaystyle 1.41508786516703 \\cdot 10^{-11} C_{2} \\sin{\\left(0.05624 W_{Core} \\right)} = 25 W_{Core}$"
      ],
      "text/plain": [
       "Eq(1.41508786516703e-11*C_2*sin(0.05624*W_Core), 25*W_Core)"
      ]
     },
     "metadata": {},
     "output_type": "display_data"
    }
   ],
   "source": [
    "################################################################################\n",
    "# Substitute known values\n",
    "################################################################################\n",
    "with capture_output() as captured:\n",
    "    system = mf.compute(system, regions)\n",
    "\n",
    "# More known values\n",
    "Bg = 0.05624\n",
    "Bg_2_val = (Blanket_1.Absorption - Blanket_1.Fission * Blanket_1.Nu) / Blanket_1.Diffusion \n",
    "L_2_val = np.sqrt(Blanket_1.Diffusion/Blanket_1.Absorption)\n",
    "L_3_val = np.sqrt(Reflector_1.Diffusion/Reflector_1.Absorption)\n",
    "Bg_1, Bg_2, L_2, L_3 = sp.symbols('Bg_1 Bg_2 L_2 L_3', positive=True)\n",
    "\n",
    "# Get rid of any True expressions resulting from =zero conditions\n",
    "system_cleaned = []\n",
    "for eq in system:\n",
    "    eq = eq.subs({Bg_1: Bg, Bg_2: Bg_2_val, L_2: L_2_val, L_3: L_3_val})\n",
    "    if eq != True:\n",
    "        system_cleaned.append(eq)\n",
    "        display(eq)\n",
    "system = system_cleaned"
   ]
  },
  {
   "cell_type": "code",
   "execution_count": 165,
   "metadata": {},
   "outputs": [
    {
     "data": {
      "text/latex": [
       "$\\displaystyle \\frac{111.130867709815}{\\tan{\\left(0.05624 W_{core temp} \\right)}} = 1.59080785659721$"
      ],
      "text/plain": [
       "Eq(111.130867709815/tan(0.05624*W_core_temp), 1.59080785659721)"
      ]
     },
     "metadata": {},
     "output_type": "display_data"
    }
   ],
   "source": [
    "################################################################################\n",
    "# Criticality condition\n",
    "################################################################################\n",
    "# From the ratio of the conditions on the first interface we get the criticality condition  \n",
    "ratio = sp.Eq(system[3].lhs/system[4].lhs, system[3].rhs/system[4].rhs)\n",
    "ratio = sp.trigsimp(ratio)\n",
    "\n",
    "# From the conditions on the second interface we have to find a relation to get the missing constants\n",
    "sub_system = [system[5], system[6]]\n",
    "\n",
    "# Get all the unkowns to compute\n",
    "all_symbols = set()\n",
    "for eq in sub_system:\n",
    "    all_symbols.update(eq.free_symbols)\n",
    "\n",
    "x = sp.symbols('x')\n",
    "all_symbols.discard(x)\n",
    "all_symbols.discard(W_Core)\n",
    "unkowns = list(all_symbols)\n",
    "\n",
    "# Compute and substitute the solution into the ratio\n",
    "sol = sp.solve(sub_system, unkowns)\n",
    "ratio = ratio.subs(sol)\n",
    "\n",
    "# Temporary variable since We have to accept negative solutions for W_core\n",
    "W_core_temp = sp.symbols('W_core_temp', real=True) \n",
    "ratio = ratio.subs(W_Core, W_core_temp)\n",
    "sol_w = sp.solve(ratio, W_core_temp)\n",
    "display(ratio)"
   ]
  },
  {
   "cell_type": "code",
   "execution_count": 166,
   "metadata": {},
   "outputs": [
    {
     "data": {
      "text/plain": [
       "'The half width of the core is 27.6757215328568 cm'"
      ]
     },
     "metadata": {},
     "output_type": "display_data"
    }
   ],
   "source": [
    "################################################################################\n",
    "# Core width\n",
    "################################################################################\n",
    "sol_w = [(val).evalf() for val in sol_w][0]\n",
    "display(f\"The half width of the core is {sol_w} cm\")\n",
    "# Convert to float\n",
    "sol_w = float(sol_w)\n",
    "\n",
    "# Substitute the value in the regions\n",
    "Core_1.End = sol_w\n",
    "Blanket_1.Start = sol_w\n",
    "Blanket_1.End = sol_w + 5\n",
    "Reflector_1.Start = sol_w + 5"
   ]
  },
  {
   "cell_type": "code",
   "execution_count": 167,
   "metadata": {},
   "outputs": [
    {
     "data": {
      "text/plain": [
       "{phi_1(x): 48899007623225.4*cos(0.05624*x),\n",
       " phi_2(-W_Core + x): -699904161795.676*sinh(3.92882143125*x - 108.732967883595) + 699904161795.677*cosh(3.92882143125*x - 108.732967883595),\n",
       " phi_3(-W_Core + x - 5): 1.82221972781357e+34*exp(-2.03100960115899*x),\n",
       " C_5: 274647.680208022,\n",
       " C_2: 48899007623225.4,\n",
       " C_4: 699904161795.677,\n",
       " C_3: -699904161795.676}"
      ]
     },
     "metadata": {},
     "output_type": "display_data"
    }
   ],
   "source": [
    "################################################################################\n",
    "# Substitute the core width in the system\n",
    "################################################################################\n",
    "for i, eq in enumerate(system):\n",
    "    if i < 3:\n",
    "        system[i] = sp.Eq(eq.lhs, eq.rhs.subs(W_Core, sol_w)) # Not on the lhs of phi otherwise won't solve\n",
    "    else:\n",
    "        system[i] = eq.subs(W_Core, sol_w)\n",
    "\n",
    "# Get rid of the 7th equation (overdetermined system)\n",
    "system = system[:6] + system[7:]\n",
    "\n",
    "# Get all the unkowns to compute\n",
    "all_symbols = set()\n",
    "for eq in system:\n",
    "    all_symbols.update(eq.free_symbols)\n",
    "\n",
    "x = sp.symbols('x')\n",
    "all_symbols.discard(x)\n",
    "all_symbols.discard(W_Core)\n",
    "\n",
    "unkowns = [flux.lhs for flux in fluxes]\n",
    "for i in all_symbols:\n",
    "    unkowns.append(i)\n",
    "\n",
    "# display(unkowns)\n",
    "# for eq in system:\n",
    "#     display(eq)\n",
    "\n",
    "sol = sp.solve(system, unkowns)\n",
    "display(sol)"
   ]
  },
  {
   "cell_type": "code",
   "execution_count": 168,
   "metadata": {},
   "outputs": [
    {
     "data": {
      "text/latex": [
       "$\\phi_1 = 48899007623225.4 \\cos{\\left(0.05624 x \\right)}$"
      ],
      "text/plain": [
       "<IPython.core.display.Latex object>"
      ]
     },
     "metadata": {},
     "output_type": "display_data"
    },
    {
     "data": {
      "text/latex": [
       "$\\phi_2 = - 699904161795.676 \\sinh{\\left(3.92882143125 x - 108.732967883595 \\right)} + 699904161795.677 \\cosh{\\left(3.92882143125 x - 108.732967883595 \\right)}$"
      ],
      "text/plain": [
       "<IPython.core.display.Latex object>"
      ]
     },
     "metadata": {},
     "output_type": "display_data"
    },
    {
     "data": {
      "text/latex": [
       "$\\phi_3 = 1.82221972781357 \\cdot 10^{34} e^{- 2.03100960115899 x}$"
      ],
      "text/plain": [
       "<IPython.core.display.Latex object>"
      ]
     },
     "metadata": {},
     "output_type": "display_data"
    }
   ],
   "source": [
    "################################################################################\n",
    "# Final Fluxes\n",
    "################################################################################\n",
    "phi1 = sol[fluxes[0].lhs]\n",
    "display(Latex(f\"$\\phi_1 = {sp.latex(phi1)}$\"))\n",
    "phi2 = sol[fluxes[1].lhs]\n",
    "display(Latex(f\"$\\phi_2 = {sp.latex(phi2)}$\"))\n",
    "phi3 = sol[fluxes[2].lhs]\n",
    "display(Latex(f\"$\\phi_3 = {sp.latex(phi3)}$\"))"
   ]
  },
  {
   "cell_type": "code",
   "execution_count": 169,
   "metadata": {},
   "outputs": [
    {
     "data": {
      "image/png": "[encoded data removed]",
      "text/plain": [
       "<Figure size 640x480 with 1 Axes>"
      ]
     },
     "metadata": {},
     "output_type": "display_data"
    },
    {
     "data": {
      "image/png": "[encoded data removed]",
      "text/plain": [
       "<Figure size 640x480 with 1 Axes>"
      ]
     },
     "metadata": {},
     "output_type": "display_data"
    }
   ],
   "source": [
    "\n",
    "################################################################################\n",
    "# Plotting\n",
    "################################################################################\n",
    "# Space\n",
    "x_1 = np.linspace(Core_1.Start, Core_1.End, 100)\n",
    "x_2 = np.linspace(Blanket_1.Start, Blanket_1.End, 100)\n",
    "x_3 = np.linspace(Reflector_1.Start, Reflector_1.Start+20, 100) \n",
    "\n",
    "# Evaluation\n",
    "phi1_vals = [phi1.subs(x, val).evalf() for val in x_1]\n",
    "phi2_vals = [phi2.subs(x, val).evalf() for val in x_2]\n",
    "phi3_vals = [phi3.subs(x, val).evalf() for val in x_3]\n",
    "\n",
    "# Create symmetric values for x_1 and phi1_vals\n",
    "x_1 = np.concatenate((-x_1[::-1], x_1))\n",
    "phi1_vals = np.concatenate((phi1_vals[::-1], phi1_vals))\n",
    "\n",
    "# Create symmetric values for x_2 and phi2_vals\n",
    "x_2_sx = -x_2[::-1]\n",
    "phi2_vals_sx = phi2_vals[::-1]\n",
    "\n",
    "# Create symmetric values for x_3 and phi3_vals\n",
    "x_3_sx = -x_3[::-1]\n",
    "phi3_vals_sx = phi3_vals[::-1]\n",
    "\n",
    "# Figure 1: Overall\n",
    "plt.figure(1)\n",
    "plt.plot(x_1, phi1_vals, label='Core Flux')\n",
    "plt.plot(x_2, phi2_vals, label='Blanket Flux', color='orange')\n",
    "plt.plot(x_2_sx, phi2_vals_sx, color='orange')\n",
    "plt.plot(x_3, phi3_vals, label='Reflector Flux', color='green')\n",
    "plt.plot(x_3_sx, phi3_vals_sx, color='green')\n",
    "plt.xlabel('$x$')\n",
    "plt.ylabel('$\\phi(x)$')\n",
    "plt.legend()\n",
    "plt.show()\n",
    "\n",
    "# Figure 2: Focus on the blanket\n",
    "plt.figure(2)\n",
    "plt.plot(x_1, phi1_vals, label='Core Flux')\n",
    "plt.plot(x_2, phi2_vals, label='Blanket Flux')\n",
    "plt.plot(x_3, phi3_vals, label='Reflector Flux')\n",
    "plt.xlim(Blanket_1.Start -1, Blanket_1.End +1)\n",
    "plt.xlabel('$x$')\n",
    "plt.ylabel('$\\phi(x)$')\n",
    "plt.legend()\n",
    "plt.show()\n"
   ]
  }
 ],
 "metadata": {
  "kernelspec": {
   "display_name": "base",
   "language": "python",
   "name": "python3"
  },
  "language_info": {
   "codemirror_mode": {
    "name": "ipython",
    "version": 3
   },
   "file_extension": ".py",
   "mimetype": "text/x-python",
   "name": "python",
   "nbconvert_exporter": "python",
   "pygments_lexer": "ipython3",
   "version": "3.11.5"
  }
 },
 "nbformat": 4,
 "nbformat_minor": 2
}
