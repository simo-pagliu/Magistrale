{
 "cells": [
  {
   "cell_type": "code",
   "execution_count": 5,
   "metadata": {},
   "outputs": [],
   "source": [
    "# IMPORT LIBRARIES\n",
    "\n",
    "import numpy as np \n",
    "import sympy as sp\n",
    "import matplotlib.pyplot as plt"
   ]
  },
  {
   "cell_type": "code",
   "execution_count": 6,
   "metadata": {},
   "outputs": [],
   "source": [
    "# DATA \n",
    "\n",
    "D_Core = 0.7 # Diffusion coefficient (tank) [cm]\n",
    "D_Person = 0.16 # Diffusion coefficient (person) [cm]\n",
    "h = 40 # Tank height [cm]\n",
    "R = 20 # Tank / person radius [cm]\n",
    "rho_H2O = 1 # Water density [g/cm3]\n",
    "NAV = 6.022 * 10 ** 23 # Avogadro number [atoms/mol]\n",
    "MM_H2O = 18.015 # Water molar mass [g/mol]\n",
    "nu_0 = 2.405 # Fundamental solution for the radial part (Bessel)"
   ]
  },
  {
   "cell_type": "code",
   "execution_count": 7,
   "metadata": {},
   "outputs": [],
   "source": [
    "# FUNCTION AND SYMBOLIC VARIABLES DEFINITION\n",
    "\n",
    "z = sp.symbols('z')\n",
    "r = sp.symbols('r')\n",
    "lam = sp.symbols('lambda', nonnegative = True) \n",
    "alfa = sp.symbols('alfa', nonnegative = True)\n",
    "L_c = sp.symbols('L_c', nonnegative = True)\n",
    "L_p = sp.symbols('L_p', nonnegative = True)\n",
    "D_c = sp.symbols('D_c', nonnegative = True) \n",
    "D_p = sp.symbols('D_p', nonnegative = True) \n",
    "H = sp.symbols('H', nonnegative = True) # Cylinder height\n",
    "h = sp.symbols('h', nonnegative = True) # Person height\n",
    "F_cyl_z = sp.Function('phi_c,z', real = True)(z)\n",
    "F_person_z = sp.Function('phi_p,z', real = True)(z)\n",
    "F_cyl_radial = sp.Function('phi_c,r', real = True)(r) # Non so se serva, in realtà la parte radiale serve solo per B_g^2 = B_z^2 + B_r^2, con B_r^2 = (nu_0 / R)^2"
   ]
  },
  {
   "cell_type": "code",
   "execution_count": 8,
   "metadata": {},
   "outputs": [
    {
     "name": "stdout",
     "output_type": "stream",
     "text": [
      "AXIAL ODE FOR THE CORE:\n"
     ]
    },
    {
     "data": {
      "text/latex": [
       "$\\displaystyle \\lambda^{2} \\phi_{c,z}{\\left(z \\right)} + \\frac{d^{2}}{d z^{2}} \\phi_{c,z}{\\left(z \\right)} = 0$"
      ],
      "text/plain": [
       "Eq(lambda**2*phi_c,z(z) + Derivative(phi_c,z(z), (z, 2)), 0)"
      ]
     },
     "metadata": {},
     "output_type": "display_data"
    },
    {
     "name": "stdout",
     "output_type": "stream",
     "text": [
      "AXIAL ODE FOR THE PERSON:\n"
     ]
    },
    {
     "data": {
      "text/latex": [
       "$\\displaystyle \\frac{d^{2}}{d z^{2}} \\phi_{p,z}{\\left(z \\right)} - \\frac{\\phi_{p,z}{\\left(z \\right)}}{L_{p}^{2}} = 0$"
      ],
      "text/plain": [
       "Eq(Derivative(phi_p,z(z), (z, 2)) - phi_p,z(z)/L_p**2, 0)"
      ]
     },
     "metadata": {},
     "output_type": "display_data"
    },
    {
     "name": "stdout",
     "output_type": "stream",
     "text": [
      "GENERAL SOLUTION FOR THE AXIAL FLUX IN THE CORE:\n"
     ]
    },
    {
     "data": {
      "text/latex": [
       "$\\displaystyle \\phi_{c,z}{\\left(z \\right)} = C_{1} \\sin{\\left(\\lambda z \\right)} + C_{2} \\cos{\\left(\\lambda z \\right)}$"
      ],
      "text/plain": [
       "Eq(phi_c,z(z), C1*sin(lambda*z) + C2*cos(lambda*z))"
      ]
     },
     "metadata": {},
     "output_type": "display_data"
    },
    {
     "name": "stdout",
     "output_type": "stream",
     "text": [
      "GENERAL SOLUTION FOR THE AXIAL FLUX IN THE PERSON:\n"
     ]
    },
    {
     "data": {
      "text/latex": [
       "$\\displaystyle \\phi_{p,z}{\\left(z \\right)} = C_{3} \\sinh{\\left(\\frac{z}{L_{p}} \\right)} + C_{4} \\cosh{\\left(\\frac{z}{L_{p}} \\right)}$"
      ],
      "text/plain": [
       "Eq(phi_p,z(z), C3*sinh(z/L_p) + C4*cosh(z/L_p))"
      ]
     },
     "metadata": {},
     "output_type": "display_data"
    },
    {
     "name": "stdout",
     "output_type": "stream",
     "text": [
      "SYMMETRY CONDITION IN THE CORE:\n"
     ]
    },
    {
     "data": {
      "text/latex": [
       "$\\displaystyle C_{1} \\lambda = 0$"
      ],
      "text/plain": [
       "Eq(C1*lambda, 0)"
      ]
     },
     "metadata": {},
     "output_type": "display_data"
    },
    {
     "name": "stdout",
     "output_type": "stream",
     "text": [
      "CONTINUITY CONDITION FOR THE FLUX AT THE INTERFACE:\n"
     ]
    },
    {
     "data": {
      "text/latex": [
       "$\\displaystyle C_{1} \\sin{\\left(\\frac{H \\lambda}{2} \\right)} + C_{2} \\cos{\\left(\\frac{H \\lambda}{2} \\right)} = C_{3} \\sinh{\\left(\\frac{H}{2 L_{p}} \\right)} + C_{4} \\cosh{\\left(\\frac{H}{2 L_{p}} \\right)}$"
      ],
      "text/plain": [
       "Eq(C1*sin(H*lambda/2) + C2*cos(H*lambda/2), C3*sinh(H/(2*L_p)) + C4*cosh(H/(2*L_p)))"
      ]
     },
     "metadata": {},
     "output_type": "display_data"
    },
    {
     "name": "stdout",
     "output_type": "stream",
     "text": [
      "CONTINUITY CONDITION FOR THE CURRENT AT THE INTERFACE:\n"
     ]
    },
    {
     "data": {
      "text/latex": [
       "$\\displaystyle - D_{c} \\left(C_{1} \\lambda \\cos{\\left(\\frac{H \\lambda}{2} \\right)} - C_{2} \\lambda \\sin{\\left(\\frac{H \\lambda}{2} \\right)}\\right) = - D_{p} \\left(\\frac{C_{3} \\cosh{\\left(\\frac{H}{2 L_{p}} \\right)}}{L_{p}} + \\frac{C_{4} \\sinh{\\left(\\frac{H}{2 L_{p}} \\right)}}{L_{p}}\\right)$"
      ],
      "text/plain": [
       "Eq(-D_c*(C1*lambda*cos(H*lambda/2) - C2*lambda*sin(H*lambda/2)), -D_p*(C3*cosh(H/(2*L_p))/L_p + C4*sinh(H/(2*L_p))/L_p))"
      ]
     },
     "metadata": {},
     "output_type": "display_data"
    },
    {
     "name": "stdout",
     "output_type": "stream",
     "text": [
      "VACUUM CONDITION IN THE CORE:\n"
     ]
    },
    {
     "data": {
      "text/latex": [
       "$\\displaystyle - C_{1} \\sin{\\left(\\frac{H \\lambda}{2} \\right)} + C_{2} \\cos{\\left(\\frac{H \\lambda}{2} \\right)} = 0$"
      ],
      "text/plain": [
       "Eq(-C1*sin(H*lambda/2) + C2*cos(H*lambda/2), 0)"
      ]
     },
     "metadata": {},
     "output_type": "display_data"
    },
    {
     "name": "stdout",
     "output_type": "stream",
     "text": [
      "VACUUM CONDITION IN THE PERSON:\n"
     ]
    },
    {
     "data": {
      "text/latex": [
       "$\\displaystyle C_{3} \\sinh{\\left(\\frac{\\frac{H}{2} + h}{L_{p}} \\right)} + C_{4} \\cosh{\\left(\\frac{\\frac{H}{2} + h}{L_{p}} \\right)} = 0$"
      ],
      "text/plain": [
       "Eq(C3*sinh((H/2 + h)/L_p) + C4*cosh((H/2 + h)/L_p), 0)"
      ]
     },
     "metadata": {},
     "output_type": "display_data"
    }
   ],
   "source": [
    "# ODE + BC\n",
    "\n",
    "ODE_c_z = sp.Eq(sp.diff(sp.diff(F_cyl_z, z)) + lam** 2 * F_cyl_z, 0)\n",
    "print('AXIAL ODE FOR THE CORE:')\n",
    "display(ODE_c_z)\n",
    "\n",
    "# ODE_c_r = sp.Eq((1 /r) * sp.diff(1/r *sp.diff(F_cyl_radial, r)) + alfa** 2 * F_cyl_z, 0)\n",
    "# print('RADIAL ODE FOR THE CORE:')\n",
    "# display(ODE_c_r)\n",
    "\n",
    "ODE_p_z = sp.Eq(sp.diff(sp.diff(F_person_z, z)) - (1 / L_p** 2) * F_person_z, 0)\n",
    "print('AXIAL ODE FOR THE PERSON:')\n",
    "display(ODE_p_z)\n",
    "\n",
    "flux_c_z = sp.dsolve(ODE_c_z)\n",
    "sC1 = sp.symbols('C1')   \n",
    "sC2 = sp.symbols('C2')\n",
    "print('GENERAL SOLUTION FOR THE AXIAL FLUX IN THE CORE:')\n",
    "display(flux_c_z)\n",
    "\n",
    "flux_p_z = sp.dsolve(ODE_p_z)\n",
    "sC3 = sp.symbols('C3')\n",
    "sC4 = sp.symbols('C4')\n",
    "flux_p_z = sp.Eq(\n",
    "    flux_p_z.lhs,\n",
    "    sC3 * sp.sinh(z/L_p) + sC4 * sp.cosh(z/L_p)\n",
    ")\n",
    "print('GENERAL SOLUTION FOR THE AXIAL FLUX IN THE PERSON:')\n",
    "display(flux_p_z)\n",
    "\n",
    "# flux_r = sp.dsolve(ODE_c_r)\n",
    "# print('GENERAL SOLUTION FOR THE FLUX IN THE REFLECTOR:')\n",
    "# display(flux_r)\n",
    "\n",
    "# Symmetry BC\n",
    "symmetry = sp.Eq(\n",
    "    sp.diff(flux_c_z.rhs, z).subs(z, 0), \n",
    "    0 \n",
    ")\n",
    "print('SYMMETRY CONDITION IN THE CORE:')\n",
    "display(symmetry)\n",
    "\n",
    "# Continuity BC\n",
    "continuity_f = sp.Eq(\n",
    "    flux_c_z.rhs.subs(z, H/2), \n",
    "    flux_p_z.rhs.subs(z, H/2)\n",
    ")\n",
    "print('CONTINUITY CONDITION FOR THE FLUX AT THE INTERFACE:')\n",
    "display(continuity_f)\n",
    "continuity_curr = sp.Eq(\n",
    "    -D_c* sp.diff(flux_c_z.rhs, z).subs(z, H/2),\n",
    "    -D_p * sp.diff(flux_p_z.rhs, z).subs(z, H/2)\n",
    "    )\n",
    "print('CONTINUITY CONDITION FOR THE CURRENT AT THE INTERFACE:')\n",
    "display(continuity_curr)\n",
    "\n",
    "# Vacuum BC\n",
    "vacuum_core = sp.Eq(\n",
    "    flux_c_z.rhs.subs(z, -H/2),\n",
    "    0\n",
    ")\n",
    "print('VACUUM CONDITION IN THE CORE:')\n",
    "display(vacuum_core)\n",
    "vacuum_person = sp.Eq(\n",
    "    flux_p_z.rhs.subs(z, H/2+ h),\n",
    "    0\n",
    ")\n",
    "print('VACUUM CONDITION IN THE PERSON:')\n",
    "display(vacuum_person)"
   ]
  }
 ],
 "metadata": {
  "kernelspec": {
   "display_name": "base",
   "language": "python",
   "name": "python3"
  },
  "language_info": {
   "codemirror_mode": {
    "name": "ipython",
    "version": 3
   },
   "file_extension": ".py",
   "mimetype": "text/x-python",
   "name": "python",
   "nbconvert_exporter": "python",
   "pygments_lexer": "ipython3",
   "version": "3.11.5"
  }
 },
 "nbformat": 4,
 "nbformat_minor": 2
}
