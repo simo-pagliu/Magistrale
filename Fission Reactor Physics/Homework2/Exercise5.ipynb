{
 "cells": [
  {
   "cell_type": "code",
   "execution_count": 26,
   "metadata": {},
   "outputs": [],
   "source": [
    "# 3rd party\n",
    "import sympy as sp\n",
    "import numpy as np\n",
    "from IPython.utils.io import capture_output\n",
    "from IPython.display import display, Latex\n",
    "import matplotlib.pyplot as plt\n",
    "\n",
    "# Our stuff\n",
    "import mainframe as mf\n",
    "import nuclei_func as nf\n",
    "from mainframe import Region"
   ]
  },
  {
   "cell_type": "code",
   "execution_count": 27,
   "metadata": {},
   "outputs": [],
   "source": [
    "################################################################################\n",
    "# INPUT DATA\n",
    "################################################################################\n",
    "rho_C = 1.7 # We assume is the density of the mixture given the low Uranium content\n",
    "N_CtoN_U = 10000 # Graphite-to-Uranium density ratio\n",
    "\n",
    "# Cross sections\n",
    "molar_mass = nf.mixture([12.01, 235.044], [1 - 1/N_CtoN_U, 1/N_CtoN_U])\n",
    "\n",
    "macro_abs_core_U = nf.macro(548+105, rho_C, molar_mass)\n",
    "macro_abs_core_C = nf.macro(0.003, rho_C, molar_mass)\n",
    "macro_abs_core = nf.mixture([macro_abs_core_C, macro_abs_core_U], [1 - 1/N_CtoN_U, 1/N_CtoN_U])\n",
    "\n",
    "macro_fiss_core = nf.macro(548, rho_C, molar_mass)\n",
    "macro_fiss_core = nf.mixture([0, macro_fiss_core], [1 - 1/N_CtoN_U, 1/N_CtoN_U])\n",
    "\n",
    "macro_scattering_U = nf.macro(15, rho_C, molar_mass)\n",
    "macro_scattering_C = nf.macro(4.3, rho_C, molar_mass)\n",
    "macro_scattering_core = nf.mixture([macro_scattering_C, macro_scattering_U], [1 - 1/N_CtoN_U, 1/N_CtoN_U])\n",
    "\n",
    "sigma_tot = macro_abs_core + macro_fiss_core + macro_scattering_core\n",
    "A_avg = nf.mixture([12.01, 235.044], [1 - 1/N_CtoN_U, 1/N_CtoN_U])\n",
    "mu_avg = 2/(3*A_avg)\n",
    "sigma_transport = 1/(sigma_tot*(1 - mu_avg))\n",
    "extrapolation_distance = 0.7104/sigma_transport"
   ]
  },
  {
   "cell_type": "code",
   "execution_count": 28,
   "metadata": {},
   "outputs": [],
   "source": [
    "################################################################################\n",
    "# REGION DEFINITION\n",
    "################################################################################\n",
    "R_core = sp.symbols('R_out', positive = True) # Core radius\n",
    "R_inner = R_core/2 # case2: half width\n",
    "Core = Region(\n",
    "    Diff=0.9, # Diffusion coefficient in the core\n",
    "    Abs=macro_abs_core, \n",
    "    Fiss=macro_fiss_core, \n",
    "    Nu=2.44, # Average neutrons per fission in U-235\n",
    "    Pos1=R_inner, \n",
    "    Pos2=R_core,\n",
    "    composition='c', \n",
    "    power=0\n",
    ")"
   ]
  },
  {
   "cell_type": "code",
   "execution_count": 29,
   "metadata": {},
   "outputs": [],
   "source": [
    "################################################################################\n",
    "# FUNCTION AND SYMBOLIC VARIABLES DEFINITION\n",
    "################################################################################\n",
    "r = sp.symbols('r')\n",
    "B = sp.symbols('B', positive = True) \n",
    "L_c = sp.symbols('L_c', positive = True)\n",
    "L_r = sp.symbols('L_r', positive = True)\n",
    "D = sp.symbols('D', positive = True) # Sphere diffusion coefficient\n",
    "R_core = sp.symbols('R_out', positive = True) # Core radius\n",
    "F = sp.Function('phi', real = True)(r)\n"
   ]
  },
  {
   "cell_type": "markdown",
   "metadata": {},
   "source": [
    "# Full sphere"
   ]
  },
  {
   "cell_type": "code",
   "execution_count": 30,
   "metadata": {},
   "outputs": [
    {
     "name": "stdout",
     "output_type": "stream",
     "text": [
      "KNOWN SOLUTION FOR THE FLUX IN A SPHERE:\n"
     ]
    },
    {
     "data": {
      "text/latex": [
       "$\\displaystyle \\phi_{c}{\\left(r \\right)} = \\frac{C_{1} \\sin{\\left(B r \\right)}}{r}$"
      ],
      "text/plain": [
       "Eq(phi_c(r), C_1*sin(B*r)/r)"
      ]
     },
     "metadata": {},
     "output_type": "display_data"
    }
   ],
   "source": [
    "# SPHERICAL CORE WITH NOTHING INSIDE\n",
    "sC1 = sp.symbols('C_1')\n",
    "flux_c = sp.Function('phi_c')(r)\n",
    "flux_c = sp.Eq(\n",
    "    flux_c,\n",
    "    (sC1 * sp.sin(B * r)) / r\n",
    ")\n",
    "print('KNOWN SOLUTION FOR THE FLUX IN A SPHERE:')\n",
    "display(flux_c)\n"
   ]
  },
  {
   "cell_type": "code",
   "execution_count": 31,
   "metadata": {},
   "outputs": [
    {
     "data": {
      "text/latex": [
       "$\\displaystyle \\frac{C_{1} \\sin{\\left(B R_{out} \\right)}}{R_{out}} = 0$"
      ],
      "text/plain": [
       "Eq(C_1*sin(B*R_out)/R_out, 0)"
      ]
     },
     "metadata": {},
     "output_type": "display_data"
    }
   ],
   "source": [
    "# Vacuum boundary condition at the core boundary\n",
    "flux_c = sp.Eq(flux_c.rhs.subs(r, R_core), 0)\n",
    "display(flux_c)"
   ]
  },
  {
   "cell_type": "code",
   "execution_count": 32,
   "metadata": {},
   "outputs": [
    {
     "name": "stdout",
     "output_type": "stream",
     "text": [
      "BUCKLING: 0.07863735625744234\n"
     ]
    },
    {
     "data": {
      "text/latex": [
       "$\\displaystyle \\frac{C_{1} \\sin{\\left(0.0786373562574423 R_{out} \\right)}}{R_{out}} = 0$"
      ],
      "text/plain": [
       "Eq(C_1*sin(0.0786373562574423*R_out)/R_out, 0)"
      ]
     },
     "metadata": {},
     "output_type": "display_data"
    }
   ],
   "source": [
    "# Compute the buckling\n",
    "buckling = np.sqrt((Core.Nu * Core.Fission - Core.Absorption) / Core.Diffusion)\n",
    "print('BUCKLING:', buckling)\n",
    "\n",
    "# Substitute the buckling in the flux equation\n",
    "flux_c = flux_c.subs(B, buckling)\n",
    "display(flux_c)"
   ]
  },
  {
   "cell_type": "code",
   "execution_count": 33,
   "metadata": {},
   "outputs": [
    {
     "data": {
      "text/latex": [
       "$\\displaystyle 39.6977923446823$"
      ],
      "text/plain": [
       "39.6977923446823"
      ]
     },
     "metadata": {},
     "output_type": "display_data"
    }
   ],
   "source": [
    "# Find R_out\n",
    "R_out = sp.solve(flux_c, R_core)[0] - extrapolation_distance\n",
    "display(R_out)"
   ]
  },
  {
   "cell_type": "code",
   "execution_count": 34,
   "metadata": {},
   "outputs": [
    {
     "data": {
      "text/latex": [
       "$\\displaystyle 445.488602728747$"
      ],
      "text/plain": [
       "445.488602728747"
      ]
     },
     "metadata": {},
     "output_type": "display_data"
    }
   ],
   "source": [
    "# Compute the mass of the sphere\n",
    "Volume = 4/3 * sp.pi * (R_out)**3\n",
    "mass = rho_C * Volume / 1000\n",
    "display(mass.evalf())"
   ]
  },
  {
   "cell_type": "markdown",
   "metadata": {},
   "source": [
    "The sphere is critical when it is 39.95cm in radius and weights 454Kg."
   ]
  },
  {
   "cell_type": "markdown",
   "metadata": {},
   "source": [
    "# Sphere with Vacuum inside"
   ]
  },
  {
   "cell_type": "code",
   "execution_count": 35,
   "metadata": {},
   "outputs": [
    {
     "name": "stdout",
     "output_type": "stream",
     "text": [
      "ODE FOR THE SPHERE:\n"
     ]
    },
    {
     "data": {
      "text/latex": [
       "$\\displaystyle B^{2} \\phi{\\left(r \\right)} + \\frac{r^{2} \\frac{d^{2}}{d r^{2}} \\phi{\\left(r \\right)} + 2 r \\frac{d}{d r} \\phi{\\left(r \\right)}}{r^{2}} = 0$"
      ],
      "text/plain": [
       "Eq(B**2*phi(r) + (r**2*Derivative(phi(r), (r, 2)) + 2*r*Derivative(phi(r), r))/r**2, 0)"
      ]
     },
     "metadata": {},
     "output_type": "display_data"
    }
   ],
   "source": [
    "# ODE + BC FOR THE SPHERE WITH VACUUM INSIDE \n",
    "\n",
    "ODE = sp.Eq((1/r**2) * sp.diff(r**2 * sp.diff(F, r), r) + B**2 * F, 0)\n",
    "print('ODE FOR THE SPHERE:')\n",
    "display(ODE)"
   ]
  },
  {
   "cell_type": "code",
   "execution_count": 36,
   "metadata": {},
   "outputs": [
    {
     "name": "stdout",
     "output_type": "stream",
     "text": [
      "GENERAL SOLUTION FOR THE FLUX IN THE CORE (r /= 0):\n"
     ]
    },
    {
     "data": {
      "text/latex": [
       "$\\displaystyle \\phi{\\left(r \\right)} = \\frac{C_{1} \\sin{\\left(B r \\right)}}{r} + \\frac{C_{2} \\cos{\\left(B r \\right)}}{r}$"
      ],
      "text/plain": [
       "Eq(phi(r), C_1*sin(B*r)/r + C_2*cos(B*r)/r)"
      ]
     },
     "metadata": {},
     "output_type": "display_data"
    }
   ],
   "source": [
    "flux_c = sp.dsolve(ODE)\n",
    "sC1 = sp.symbols('C_1', real = True)   \n",
    "sC2 = sp.symbols('C_2', real = True)\n",
    "flux_c = sp.Eq(\n",
    "    flux_c.lhs,\n",
    "    (sC1 * sp.sin(B * r)) / r + (sC2 * sp.cos(B * r)) / r\n",
    ")\n",
    "print('GENERAL SOLUTION FOR THE FLUX IN THE CORE (r /= 0):')\n",
    "display(flux_c)"
   ]
  },
  {
   "cell_type": "code",
   "execution_count": 37,
   "metadata": {},
   "outputs": [
    {
     "name": "stdout",
     "output_type": "stream",
     "text": [
      "OUTSIDE VACUUM BOUNDARY CONDITION:\n"
     ]
    },
    {
     "data": {
      "text/latex": [
       "$\\displaystyle \\frac{C_{1} \\sin{\\left(B R_{out} \\right)}}{R_{out}} + \\frac{C_{2} \\cos{\\left(B R_{out} \\right)}}{R_{out}} = 0$"
      ],
      "text/plain": [
       "Eq(C_1*sin(B*R_out)/R_out + C_2*cos(B*R_out)/R_out, 0)"
      ]
     },
     "metadata": {},
     "output_type": "display_data"
    },
    {
     "name": "stdout",
     "output_type": "stream",
     "text": [
      "INSIDE VACUUM BOUNDARY CONDITION:\n"
     ]
    },
    {
     "data": {
      "text/latex": [
       "$\\displaystyle - D \\left(\\frac{2 B C_{1} \\cos{\\left(\\frac{B R_{out}}{2} \\right)}}{R_{out}} - \\frac{2 B C_{2} \\sin{\\left(\\frac{B R_{out}}{2} \\right)}}{R_{out}} - \\frac{4 C_{1} \\sin{\\left(\\frac{B R_{out}}{2} \\right)}}{R_{out}^{2}} - \\frac{4 C_{2} \\cos{\\left(\\frac{B R_{out}}{2} \\right)}}{R_{out}^{2}}\\right) = 0$"
      ],
      "text/plain": [
       "Eq(-D*(2*B*C_1*cos(B*R_out/2)/R_out - 2*B*C_2*sin(B*R_out/2)/R_out - 4*C_1*sin(B*R_out/2)/R_out**2 - 4*C_2*cos(B*R_out/2)/R_out**2), 0)"
      ]
     },
     "metadata": {},
     "output_type": "display_data"
    }
   ],
   "source": [
    "# Vacuum BC \n",
    "vacuum_outside = sp.Eq(\n",
    "    flux_c.rhs.subs(r, R_core),\n",
    "    0\n",
    ")\n",
    "print('OUTSIDE VACUUM BOUNDARY CONDITION:')\n",
    "display(vacuum_outside)\n",
    "\n",
    "vacuum_inside = sp.Eq(\n",
    "    -D * sp.diff(flux_c.rhs, r).subs(r, R_inner),\n",
    "    0\n",
    ")\n",
    "print('INSIDE VACUUM BOUNDARY CONDITION:')\n",
    "display(vacuum_inside)"
   ]
  },
  {
   "cell_type": "code",
   "execution_count": 38,
   "metadata": {},
   "outputs": [
    {
     "data": {
      "text/latex": [
       "$\\displaystyle \\phi{\\left(r \\right)} = \\frac{C_{1} \\sin{\\left(0.0786373562574423 r \\right)}}{r} + \\frac{C_{2} \\cos{\\left(0.0786373562574423 r \\right)}}{r}$"
      ],
      "text/plain": [
       "Eq(phi(r), C_1*sin(0.0786373562574423*r)/r + C_2*cos(0.0786373562574423*r)/r)"
      ]
     },
     "metadata": {},
     "output_type": "display_data"
    },
    {
     "data": {
      "text/latex": [
       "$\\displaystyle \\frac{C_{1} \\sin{\\left(0.0786373562574423 R_{out} \\right)}}{R_{out}} + \\frac{C_{2} \\cos{\\left(0.0786373562574423 R_{out} \\right)}}{R_{out}} = 0$"
      ],
      "text/plain": [
       "Eq(C_1*sin(0.0786373562574423*R_out)/R_out + C_2*cos(0.0786373562574423*R_out)/R_out, 0)"
      ]
     },
     "metadata": {},
     "output_type": "display_data"
    },
    {
     "data": {
      "text/latex": [
       "$\\displaystyle - \\frac{0.141547241263396 C_{1} \\cos{\\left(0.0393186781287212 R_{out} \\right)}}{R_{out}} + \\frac{3.6 C_{1} \\sin{\\left(0.0393186781287212 R_{out} \\right)}}{R_{out}^{2}} + \\frac{0.141547241263396 C_{2} \\sin{\\left(0.0393186781287212 R_{out} \\right)}}{R_{out}} + \\frac{3.6 C_{2} \\cos{\\left(0.0393186781287212 R_{out} \\right)}}{R_{out}^{2}} = 0$"
      ],
      "text/plain": [
       "Eq(-0.141547241263396*C_1*cos(0.0393186781287212*R_out)/R_out + 3.6*C_1*sin(0.0393186781287212*R_out)/R_out**2 + 0.141547241263396*C_2*sin(0.0393186781287212*R_out)/R_out + 3.6*C_2*cos(0.0393186781287212*R_out)/R_out**2, 0)"
      ]
     },
     "metadata": {},
     "output_type": "display_data"
    }
   ],
   "source": [
    "# Substitute the buckling in the equations\n",
    "system = [flux_c, vacuum_outside, vacuum_inside]\n",
    "for i, eq in enumerate(system):\n",
    "    system[i] = eq.subs(B, buckling).subs(D, Core.Diffusion)\n",
    "    display(system[i])"
   ]
  },
  {
   "cell_type": "code",
   "execution_count": 39,
   "metadata": {},
   "outputs": [
    {
     "data": {
      "text/latex": [
       "$\\displaystyle \\frac{C_{1} \\sin{\\left(0.0786373562574423 R_{out} \\right)}}{R_{out}} = \\frac{C_{2} \\cos{\\left(0.0786373562574423 R_{out} \\right)}}{R_{out}}$"
      ],
      "text/plain": [
       "Eq(C_1*sin(0.0786373562574423*R_out)/R_out, C_2*cos(0.0786373562574423*R_out)/R_out)"
      ]
     },
     "metadata": {},
     "output_type": "display_data"
    },
    {
     "data": {
      "text/latex": [
       "$\\displaystyle - \\frac{0.141547241263396 C_{1} \\cos{\\left(0.0393186781287212 R_{out} \\right)}}{R_{out}} + \\frac{3.6 C_{1} \\sin{\\left(0.0393186781287212 R_{out} \\right)}}{R_{out}^{2}} = \\frac{0.141547241263396 C_{2} \\sin{\\left(0.0393186781287212 R_{out} \\right)}}{R_{out}} + \\frac{3.6 C_{2} \\cos{\\left(0.0393186781287212 R_{out} \\right)}}{R_{out}^{2}}$"
      ],
      "text/plain": [
       "Eq(-0.141547241263396*C_1*cos(0.0393186781287212*R_out)/R_out + 3.6*C_1*sin(0.0393186781287212*R_out)/R_out**2, 0.141547241263396*C_2*sin(0.0393186781287212*R_out)/R_out + 3.6*C_2*cos(0.0393186781287212*R_out)/R_out**2)"
      ]
     },
     "metadata": {},
     "output_type": "display_data"
    }
   ],
   "source": [
    "# Move all the terms with C1 on the lhs and C2 on the rhs\n",
    "\n",
    "equation = system[1]\n",
    "\n",
    "def rearrange_equation(equation):\n",
    "    # Get the equation terms\n",
    "    terms = equation.lhs.as_ordered_terms()\n",
    "\n",
    "    # Get only the terms with C1\n",
    "    lhs = sum([term for term in terms if term.has(sC1)])\n",
    "\n",
    "    # Get only the terms with C1\n",
    "    rhs = sum([term for term in terms if term.has(sC2)])\n",
    "    \n",
    "    # Create the new rearranged equation\n",
    "    new_equation = sp.Eq(lhs,rhs, evaluate = False)\n",
    "    return new_equation\n",
    "\n",
    "eq_1 = rearrange_equation(system[1])\n",
    "eq_2 = rearrange_equation(system[2])\n",
    "display(eq_1)\n",
    "display(eq_2)\n",
    "\n"
   ]
  },
  {
   "cell_type": "code",
   "execution_count": 40,
   "metadata": {},
   "outputs": [
    {
     "data": {
      "text/latex": [
       "$\\displaystyle \\frac{R_{out} \\cos{\\left(0.0786373562574423 R_{out} \\right)}}{0.141547241263396 R_{out} \\sin{\\left(0.0393186781287212 R_{out} \\right)} + 3.6 \\cos{\\left(0.0393186781287212 R_{out} \\right)}} = - \\frac{R_{out} \\sin{\\left(0.0786373562574423 R_{out} \\right)}}{0.141547241263396 R_{out} \\cos{\\left(0.0393186781287212 R_{out} \\right)} - 3.6 \\sin{\\left(0.0393186781287212 R_{out} \\right)}}$"
      ],
      "text/plain": [
       "Eq(R_out*cos(0.0786373562574423*R_out)/(0.141547241263396*R_out*sin(0.0393186781287212*R_out) + 3.6*cos(0.0393186781287212*R_out)), -R_out*sin(0.0786373562574423*R_out)/(0.141547241263396*R_out*cos(0.0393186781287212*R_out) - 3.6*sin(0.0393186781287212*R_out)))"
      ]
     },
     "metadata": {},
     "output_type": "display_data"
    }
   ],
   "source": [
    "# Ratio between the last two equations\n",
    "ratio = sp.Eq(eq_1.lhs / eq_2.lhs, eq_1.rhs / eq_2.rhs)\n",
    "ratio = sp.simplify(ratio)\n",
    "ratio = sp.trigsimp(ratio)\n",
    "display(ratio)"
   ]
  },
  {
   "cell_type": "code",
   "execution_count": 41,
   "metadata": {},
   "outputs": [
    {
     "data": {
      "text/latex": [
       "$\\displaystyle 51.3452213303736$"
      ],
      "text/plain": [
       "51.3452213303736"
      ]
     },
     "metadata": {},
     "output_type": "display_data"
    }
   ],
   "source": [
    "# Solve it numerically\n",
    "sol = sp.nsolve(ratio, [40]) - extrapolation_distance # We use the first value computed analytically as the first guess\n",
    "display(sol)"
   ]
  },
  {
   "cell_type": "code",
   "execution_count": 42,
   "metadata": {},
   "outputs": [
    {
     "data": {
      "text/latex": [
       "$\\displaystyle 843.423455550057$"
      ],
      "text/plain": [
       "843.423455550057"
      ]
     },
     "metadata": {},
     "output_type": "display_data"
    }
   ],
   "source": [
    "# Compute the volume\n",
    "V = 4/3 * sp.pi * (sol)**3 - 4/3 * sp.pi * (sol/2)**3\n",
    "mass = rho_C * V / 1000\n",
    "display(mass.evalf())"
   ]
  },
  {
   "cell_type": "markdown",
   "metadata": {},
   "source": [
    "In the case of a hollow sphere the critical radius is 51.60cm (with a hole of radius= 25.8cm).  \n",
    "The mass of the hollow sphere is 855 Kg"
   ]
  },
  {
   "cell_type": "markdown",
   "metadata": {},
   "source": [
    "# Hollow sphere with absorber inside"
   ]
  },
  {
   "cell_type": "code",
   "execution_count": 43,
   "metadata": {},
   "outputs": [
    {
     "name": "stdout",
     "output_type": "stream",
     "text": [
      "ODE FOR THE SPHERE:\n"
     ]
    },
    {
     "data": {
      "text/latex": [
       "$\\displaystyle B^{2} \\phi{\\left(r \\right)} + \\frac{r^{2} \\frac{d^{2}}{d r^{2}} \\phi{\\left(r \\right)} + 2 r \\frac{d}{d r} \\phi{\\left(r \\right)}}{r^{2}} = 0$"
      ],
      "text/plain": [
       "Eq(B**2*phi(r) + (r**2*Derivative(phi(r), (r, 2)) + 2*r*Derivative(phi(r), r))/r**2, 0)"
      ]
     },
     "metadata": {},
     "output_type": "display_data"
    }
   ],
   "source": [
    "# ODE + BC FOR THE SPHERE WITH PERFECTLY ABSORBING MEDIUM INSIDE \n",
    "\n",
    "ODE = sp.Eq((1/r**2) * sp.diff(r**2 * sp.diff(F, r), r) + B**2 * F, 0)\n",
    "print('ODE FOR THE SPHERE:')\n",
    "display(ODE)"
   ]
  },
  {
   "cell_type": "code",
   "execution_count": 44,
   "metadata": {},
   "outputs": [
    {
     "name": "stdout",
     "output_type": "stream",
     "text": [
      "GENERAL SOLUTION FOR THE FLUX IN THE CORE (r /= 0):\n"
     ]
    },
    {
     "data": {
      "text/latex": [
       "$\\displaystyle \\phi{\\left(r \\right)} = \\frac{C_{1} \\sin{\\left(B r \\right)}}{r} + \\frac{C_{2} \\cos{\\left(B r \\right)}}{r}$"
      ],
      "text/plain": [
       "Eq(phi(r), C_1*sin(B*r)/r + C_2*cos(B*r)/r)"
      ]
     },
     "metadata": {},
     "output_type": "display_data"
    }
   ],
   "source": [
    "flux_c = sp.dsolve(ODE)\n",
    "sC1 = sp.symbols('C_1')   \n",
    "sC2 = sp.symbols('C_2')\n",
    "flux_c = sp.Eq(\n",
    "    flux_c.lhs,\n",
    "    (sC1 * sp.sin(B * r)) / r + (sC2 * sp.cos(B * r)) / r\n",
    ")\n",
    "print('GENERAL SOLUTION FOR THE FLUX IN THE CORE (r /= 0):')\n",
    "display(flux_c)"
   ]
  },
  {
   "cell_type": "code",
   "execution_count": 45,
   "metadata": {},
   "outputs": [
    {
     "name": "stdout",
     "output_type": "stream",
     "text": [
      "OUTSIDE VACUUM BOUNDARY CONDITION:\n"
     ]
    },
    {
     "data": {
      "text/latex": [
       "$\\displaystyle \\frac{C_{1} \\sin{\\left(B R_{out} \\right)}}{R_{out}} + \\frac{C_{2} \\cos{\\left(B R_{out} \\right)}}{R_{out}} = 0$"
      ],
      "text/plain": [
       "Eq(C_1*sin(B*R_out)/R_out + C_2*cos(B*R_out)/R_out, 0)"
      ]
     },
     "metadata": {},
     "output_type": "display_data"
    },
    {
     "name": "stdout",
     "output_type": "stream",
     "text": [
      "PERFECTLY ABSORBING MEDIUM INSIDE BOUNDARY CONDITION:\n"
     ]
    },
    {
     "data": {
      "text/latex": [
       "$\\displaystyle \\frac{C_{1} \\sin{\\left(\\frac{B R_{out}}{2} \\right)}}{2 R_{out}} + \\frac{C_{2} \\cos{\\left(\\frac{B R_{out}}{2} \\right)}}{2 R_{out}} - \\frac{D \\left(\\frac{2 B C_{1} \\cos{\\left(\\frac{B R_{out}}{2} \\right)}}{R_{out}} - \\frac{2 B C_{2} \\sin{\\left(\\frac{B R_{out}}{2} \\right)}}{R_{out}} - \\frac{4 C_{1} \\sin{\\left(\\frac{B R_{out}}{2} \\right)}}{R_{out}^{2}} - \\frac{4 C_{2} \\cos{\\left(\\frac{B R_{out}}{2} \\right)}}{R_{out}^{2}}\\right)}{2} = 0$"
      ],
      "text/plain": [
       "Eq(C_1*sin(B*R_out/2)/(2*R_out) + C_2*cos(B*R_out/2)/(2*R_out) - D*(2*B*C_1*cos(B*R_out/2)/R_out - 2*B*C_2*sin(B*R_out/2)/R_out - 4*C_1*sin(B*R_out/2)/R_out**2 - 4*C_2*cos(B*R_out/2)/R_out**2)/2, 0)"
      ]
     },
     "metadata": {},
     "output_type": "display_data"
    }
   ],
   "source": [
    "# Vacuum BC \n",
    "vacuum_outside = sp.Eq(\n",
    "    flux_c.rhs.subs(r, R_core),\n",
    "    0\n",
    ")\n",
    "print('OUTSIDE VACUUM BOUNDARY CONDITION:')\n",
    "display(vacuum_outside)\n",
    "abs_medium_inside = sp.Eq(\n",
    "    (flux_c.rhs.subs(r,R_inner) / 4) - (D/2) * sp.diff(flux_c.rhs, r).subs(r, R_inner),\n",
    "    0\n",
    ")\n",
    "print('PERFECTLY ABSORBING MEDIUM INSIDE BOUNDARY CONDITION:')\n",
    "display(abs_medium_inside)"
   ]
  },
  {
   "cell_type": "code",
   "execution_count": 46,
   "metadata": {},
   "outputs": [
    {
     "data": {
      "text/latex": [
       "$\\displaystyle \\phi{\\left(r \\right)} = \\frac{C_{1} \\sin{\\left(0.0786373562574423 r \\right)}}{r} + \\frac{C_{2} \\cos{\\left(0.0786373562574423 r \\right)}}{r}$"
      ],
      "text/plain": [
       "Eq(phi(r), C_1*sin(0.0786373562574423*r)/r + C_2*cos(0.0786373562574423*r)/r)"
      ]
     },
     "metadata": {},
     "output_type": "display_data"
    },
    {
     "data": {
      "text/latex": [
       "$\\displaystyle \\frac{C_{1} \\sin{\\left(0.0786373562574423 R_{out} \\right)}}{R_{out}} + \\frac{C_{2} \\cos{\\left(0.0786373562574423 R_{out} \\right)}}{R_{out}} = 0$"
      ],
      "text/plain": [
       "Eq(C_1*sin(0.0786373562574423*R_out)/R_out + C_2*cos(0.0786373562574423*R_out)/R_out, 0)"
      ]
     },
     "metadata": {},
     "output_type": "display_data"
    },
    {
     "data": {
      "text/latex": [
       "$\\displaystyle \\frac{C_{1} \\sin{\\left(0.0393186781287212 R_{out} \\right)}}{2 R_{out}} - \\frac{0.0707736206316981 C_{1} \\cos{\\left(0.0393186781287212 R_{out} \\right)}}{R_{out}} + \\frac{1.8 C_{1} \\sin{\\left(0.0393186781287212 R_{out} \\right)}}{R_{out}^{2}} + \\frac{0.0707736206316981 C_{2} \\sin{\\left(0.0393186781287212 R_{out} \\right)}}{R_{out}} + \\frac{C_{2} \\cos{\\left(0.0393186781287212 R_{out} \\right)}}{2 R_{out}} + \\frac{1.8 C_{2} \\cos{\\left(0.0393186781287212 R_{out} \\right)}}{R_{out}^{2}} = 0$"
      ],
      "text/plain": [
       "Eq(C_1*sin(0.0393186781287212*R_out)/(2*R_out) - 0.0707736206316981*C_1*cos(0.0393186781287212*R_out)/R_out + 1.8*C_1*sin(0.0393186781287212*R_out)/R_out**2 + 0.0707736206316981*C_2*sin(0.0393186781287212*R_out)/R_out + C_2*cos(0.0393186781287212*R_out)/(2*R_out) + 1.8*C_2*cos(0.0393186781287212*R_out)/R_out**2, 0)"
      ]
     },
     "metadata": {},
     "output_type": "display_data"
    }
   ],
   "source": [
    "# Substitute the buckling in the equations\n",
    "system = [flux_c, vacuum_outside, abs_medium_inside]\n",
    "for i, eq in enumerate(system):\n",
    "    system[i] = eq.subs(B, buckling).subs(D, Core.Diffusion)\n",
    "    display(system[i])"
   ]
  },
  {
   "cell_type": "code",
   "execution_count": 47,
   "metadata": {},
   "outputs": [
    {
     "data": {
      "text/latex": [
       "$\\displaystyle \\frac{C_{1} \\sin{\\left(0.0786373562574423 R_{out} \\right)}}{R_{out}} = \\frac{C_{2} \\cos{\\left(0.0786373562574423 R_{out} \\right)}}{R_{out}}$"
      ],
      "text/plain": [
       "Eq(C_1*sin(0.0786373562574423*R_out)/R_out, C_2*cos(0.0786373562574423*R_out)/R_out)"
      ]
     },
     "metadata": {},
     "output_type": "display_data"
    },
    {
     "data": {
      "text/latex": [
       "$\\displaystyle \\frac{C_{1} \\sin{\\left(0.0393186781287212 R_{out} \\right)}}{2 R_{out}} - \\frac{0.0707736206316981 C_{1} \\cos{\\left(0.0393186781287212 R_{out} \\right)}}{R_{out}} + \\frac{1.8 C_{1} \\sin{\\left(0.0393186781287212 R_{out} \\right)}}{R_{out}^{2}} = \\frac{0.0707736206316981 C_{2} \\sin{\\left(0.0393186781287212 R_{out} \\right)}}{R_{out}} + \\frac{C_{2} \\cos{\\left(0.0393186781287212 R_{out} \\right)}}{2 R_{out}} + \\frac{1.8 C_{2} \\cos{\\left(0.0393186781287212 R_{out} \\right)}}{R_{out}^{2}}$"
      ],
      "text/plain": [
       "Eq(C_1*sin(0.0393186781287212*R_out)/(2*R_out) - 0.0707736206316981*C_1*cos(0.0393186781287212*R_out)/R_out + 1.8*C_1*sin(0.0393186781287212*R_out)/R_out**2, 0.0707736206316981*C_2*sin(0.0393186781287212*R_out)/R_out + C_2*cos(0.0393186781287212*R_out)/(2*R_out) + 1.8*C_2*cos(0.0393186781287212*R_out)/R_out**2)"
      ]
     },
     "metadata": {},
     "output_type": "display_data"
    }
   ],
   "source": [
    "# Move all the terms with C1 on the lhs and C2 on the rhs\n",
    "# we use the previously defined function :D\n",
    "eq_1 = rearrange_equation(system[1])\n",
    "eq_2 = rearrange_equation(system[2])\n",
    "display(eq_1)\n",
    "display(eq_2)"
   ]
  },
  {
   "cell_type": "code",
   "execution_count": 48,
   "metadata": {},
   "outputs": [
    {
     "data": {
      "text/latex": [
       "$\\displaystyle \\frac{2 R_{out} \\cos{\\left(0.0786373562574423 R_{out} \\right)}}{R_{out} \\left(0.141547241263396 \\sin{\\left(0.0393186781287212 R_{out} \\right)} + \\cos{\\left(0.0393186781287212 R_{out} \\right)}\\right) + 3.6 \\cos{\\left(0.0393186781287212 R_{out} \\right)}} = \\frac{2 R_{out} \\sin{\\left(0.0786373562574423 R_{out} \\right)}}{R_{out} \\left(\\sin{\\left(0.0393186781287212 R_{out} \\right)} - 0.141547241263396 \\cos{\\left(0.0393186781287212 R_{out} \\right)}\\right) + 3.6 \\sin{\\left(0.0393186781287212 R_{out} \\right)}}$"
      ],
      "text/plain": [
       "Eq(2*R_out*cos(0.0786373562574423*R_out)/(R_out*(0.141547241263396*sin(0.0393186781287212*R_out) + cos(0.0393186781287212*R_out)) + 3.6*cos(0.0393186781287212*R_out)), 2*R_out*sin(0.0786373562574423*R_out)/(R_out*(sin(0.0393186781287212*R_out) - 0.141547241263396*cos(0.0393186781287212*R_out)) + 3.6*sin(0.0393186781287212*R_out)))"
      ]
     },
     "metadata": {},
     "output_type": "display_data"
    }
   ],
   "source": [
    "# Ratio between the last two equations\n",
    "ratio = sp.Eq(eq_1.lhs / eq_2.lhs, eq_1.rhs / eq_2.rhs)\n",
    "ratio = sp.simplify(ratio)\n",
    "ratio = sp.trigsimp(ratio)\n",
    "display(ratio)"
   ]
  },
  {
   "cell_type": "code",
   "execution_count": 49,
   "metadata": {},
   "outputs": [
    {
     "data": {
      "text/latex": [
       "$\\displaystyle 76.2307259779295$"
      ],
      "text/plain": [
       "76.2307259779295"
      ]
     },
     "metadata": {},
     "output_type": "display_data"
    }
   ],
   "source": [
    "# Solve it numerically\n",
    "sol = sp.nsolve(ratio, [51]) - extrapolation_distance # We use the second value as the first guess\n",
    "display(sol)"
   ]
  },
  {
   "cell_type": "code",
   "execution_count": 50,
   "metadata": {},
   "outputs": [
    {
     "data": {
      "text/latex": [
       "$\\displaystyle 2760.1694898211$"
      ],
      "text/plain": [
       "2760.16948982110"
      ]
     },
     "metadata": {},
     "output_type": "display_data"
    }
   ],
   "source": [
    "# Compute the volume\n",
    "V = 4/3 * sp.pi * (sol)**3 - 4/3 * sp.pi * (sol/2)**3\n",
    "mass = rho_C * V / 1000\n",
    "display(mass.evalf())"
   ]
  },
  {
   "cell_type": "markdown",
   "metadata": {},
   "source": [
    "The sphere with absorber inside has a critical radius of 76.5cm and a mass of 2.78 tons"
   ]
  }
 ],
 "metadata": {
  "kernelspec": {
   "display_name": "base",
   "language": "python",
   "name": "python3"
  },
  "language_info": {
   "codemirror_mode": {
    "name": "ipython",
    "version": 3
   },
   "file_extension": ".py",
   "mimetype": "text/x-python",
   "name": "python",
   "nbconvert_exporter": "python",
   "pygments_lexer": "ipython3",
   "version": "3.11.5"
  }
 },
 "nbformat": 4,
 "nbformat_minor": 2
}
