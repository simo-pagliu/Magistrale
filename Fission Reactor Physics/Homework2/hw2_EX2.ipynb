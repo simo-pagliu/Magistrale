{
 "cells": [
  {
   "cell_type": "code",
   "execution_count": 6,
   "metadata": {},
   "outputs": [],
   "source": [
    "# IMPORT LIBRARIES\n",
    "\n",
    "import numpy as np \n",
    "import sympy as sp\n",
    "import matplotlib.pyplot as plt"
   ]
  },
  {
   "cell_type": "code",
   "execution_count": 7,
   "metadata": {},
   "outputs": [],
   "source": [
    "# DATA \n",
    "\n",
    "MM_238 = 238.029 # Uranium-238 molar mass [g/mol]\n",
    "MM_235 = 235.044 # Uranium-235 molar mass [g/mol]\n",
    "MM_H2O = 18.015 # Water molar mass [g/mol]\n",
    "rho_H2O = 1 # Water density [g/cm3]\n",
    "NAV = 6.022 * 10 ** 23 # Avogadro number [atoms/mol]\n",
    "rho_235 = 19.1 # Uranium 235 density [g/cm3]\n",
    "rho_238 = 19.1 # Uranium 238 density [g/cm3]\n",
    "x_blanket = 0.01 # Ratio NUNat/NUH2O within the blanket\n",
    "T = 60 # Operating core temperature [°C]\n",
    "T_0 = 20 # Operating blanket / reflector temperature [°C]\n",
    "D_Re = 0.16 # Reflector diffusion coefficient [cm]\n",
    "nu = 2.44 # Neutrons per fission [-]\n",
    "D_Core = 0.16 # Core diffusion coefficient [cm]\n",
    "D_Blanket = 0.16 # Blanket diffusion coefficient [cm]\n",
    "b = 5 # Blanket width [cm]\n",
    "\n",
    "# Assumption: neglect fast fission contributions in the blanket (one speed approximation)\n",
    "# For the core composition use the results found in Assignment 1"
   ]
  },
  {
   "cell_type": "code",
   "execution_count": 8,
   "metadata": {},
   "outputs": [],
   "source": [
    "\n",
    "# FUNCTION AND SYMBOLIC VARIABLES DEFINITION\n",
    "\n",
    "x = sp.symbols('x')\n",
    "B = sp.symbols('B', nonnegative = True) \n",
    "L_c = sp.symbols('L_c', nonnegative = True)\n",
    "L_b = sp.symbols('L_b', nonnegative = True)\n",
    "L_r = sp.symbols('L_r', nonnegative = True)\n",
    "D = sp.symbols('D_c', nonnegative = True) # Core diffusion coefficient = Reflector diffusion coefficient\n",
    "D_b = sp.symbols('D_b', nonnegative = True) # Blanket diffusion coefficient\n",
    "H = sp.symbols('H', nonnegative = True) # Core width\n",
    "H_b = sp.symbols('H_b', nonnegative = True) # Blanket width\n",
    "F_c = sp.Function('phi_c', real = True)(x)\n",
    "F_b = sp.Function('phi_b', real = True)(x)\n",
    "F_r = sp.Function('phi_r', real = True)(x)"
   ]
  },
  {
   "cell_type": "code",
   "execution_count": 9,
   "metadata": {},
   "outputs": [
    {
     "name": "stdout",
     "output_type": "stream",
     "text": [
      "ODE FOR THE CORE:\n"
     ]
    },
    {
     "data": {
      "text/latex": [
       "$\\displaystyle B^{2} \\phi_{c}{\\left(x \\right)} + \\frac{d^{2}}{d x^{2}} \\phi_{c}{\\left(x \\right)} = 0$"
      ],
      "text/plain": [
       "Eq(B**2*phi_c(x) + Derivative(phi_c(x), (x, 2)), 0)"
      ]
     },
     "metadata": {},
     "output_type": "display_data"
    },
    {
     "name": "stdout",
     "output_type": "stream",
     "text": [
      "ODE FOR THE BLANKET:\n"
     ]
    },
    {
     "data": {
      "text/latex": [
       "$\\displaystyle \\frac{d^{2}}{d x^{2}} \\phi_{b}{\\left(x \\right)} - \\frac{\\phi_{b}{\\left(x \\right)}}{L_{b}^{2}} = 0$"
      ],
      "text/plain": [
       "Eq(Derivative(phi_b(x), (x, 2)) - phi_b(x)/L_b**2, 0)"
      ]
     },
     "metadata": {},
     "output_type": "display_data"
    },
    {
     "name": "stdout",
     "output_type": "stream",
     "text": [
      "ODE FOR THE REFLECTOR:\n"
     ]
    },
    {
     "data": {
      "text/latex": [
       "$\\displaystyle \\frac{d^{2}}{d x^{2}} \\phi_{r}{\\left(x \\right)} - \\frac{\\phi_{r}{\\left(x \\right)}}{L_{r}^{2}} = 0$"
      ],
      "text/plain": [
       "Eq(Derivative(phi_r(x), (x, 2)) - phi_r(x)/L_r**2, 0)"
      ]
     },
     "metadata": {},
     "output_type": "display_data"
    },
    {
     "name": "stdout",
     "output_type": "stream",
     "text": [
      "GENERAL SOLUTION FOR THE FLUX IN THE CORE:\n"
     ]
    },
    {
     "data": {
      "text/latex": [
       "$\\displaystyle \\phi_{c}{\\left(x \\right)} = C_{1} \\sin{\\left(B x \\right)} + C_{2} \\cos{\\left(B x \\right)}$"
      ],
      "text/plain": [
       "Eq(phi_c(x), C1*sin(B*x) + C2*cos(B*x))"
      ]
     },
     "metadata": {},
     "output_type": "display_data"
    },
    {
     "name": "stdout",
     "output_type": "stream",
     "text": [
      "GENERAL SOLUTION FOR THE FLUX IN THE BLANKET:\n"
     ]
    },
    {
     "data": {
      "text/latex": [
       "$\\displaystyle \\phi_{b}{\\left(x \\right)} = C_{3} \\sinh{\\left(\\frac{x}{L_{b}} \\right)} + C_{4} \\cosh{\\left(\\frac{x}{L_{b}} \\right)}$"
      ],
      "text/plain": [
       "Eq(phi_b(x), C3*sinh(x/L_b) + C4*cosh(x/L_b))"
      ]
     },
     "metadata": {},
     "output_type": "display_data"
    },
    {
     "name": "stdout",
     "output_type": "stream",
     "text": [
      "GENERAL SOLUTION FOR THE FLUX IN THE REFLECTOR:\n"
     ]
    },
    {
     "data": {
      "text/latex": [
       "$\\displaystyle \\phi_{r}{\\left(x \\right)} = C_{5} e^{- \\frac{x}{L_{r}}} + C_{6} e^{\\frac{x}{L_{r}}}$"
      ],
      "text/plain": [
       "Eq(phi_r(x), C5*exp(-x/L_r) + C6*exp(x/L_r))"
      ]
     },
     "metadata": {},
     "output_type": "display_data"
    },
    {
     "name": "stdout",
     "output_type": "stream",
     "text": [
      "SYMMETRY CONDITION IN THE CORE:\n"
     ]
    },
    {
     "data": {
      "text/latex": [
       "$\\displaystyle B C_{1} = 0$"
      ],
      "text/plain": [
       "Eq(B*C1, 0)"
      ]
     },
     "metadata": {},
     "output_type": "display_data"
    },
    {
     "name": "stdout",
     "output_type": "stream",
     "text": [
      "GENERAL SOLUTION FOR THE FLUX IN THE REFLECTOR AFTER BOUNDED BC:\n"
     ]
    },
    {
     "data": {
      "text/latex": [
       "$\\displaystyle \\phi_{r}{\\left(x \\right)} = C_{5} e^{- \\frac{x}{L_{r}}}$"
      ],
      "text/plain": [
       "Eq(phi_r(x), C5*exp(-x/L_r))"
      ]
     },
     "metadata": {},
     "output_type": "display_data"
    },
    {
     "name": "stdout",
     "output_type": "stream",
     "text": [
      "CONTINUITY CONDITION FOR THE FLUX AT THE INTERFACE WITH THE BLANKET:\n"
     ]
    },
    {
     "data": {
      "text/latex": [
       "$\\displaystyle C_{1} \\sin{\\left(\\frac{B H}{2} \\right)} + C_{2} \\cos{\\left(\\frac{B H}{2} \\right)} = C_{3} \\sinh{\\left(\\frac{H}{2 L_{b}} \\right)} + C_{4} \\cosh{\\left(\\frac{H}{2 L_{b}} \\right)}$"
      ],
      "text/plain": [
       "Eq(C1*sin(B*H/2) + C2*cos(B*H/2), C3*sinh(H/(2*L_b)) + C4*cosh(H/(2*L_b)))"
      ]
     },
     "metadata": {},
     "output_type": "display_data"
    },
    {
     "name": "stdout",
     "output_type": "stream",
     "text": [
      "CONTINUITY CONDITION FOR THE CURRENT AT THE INTERFACE WITH THE BLANKET:\n"
     ]
    },
    {
     "data": {
      "text/latex": [
       "$\\displaystyle - D_{c} \\left(B C_{1} \\cos{\\left(\\frac{B H}{2} \\right)} - B C_{2} \\sin{\\left(\\frac{B H}{2} \\right)}\\right) = - D_{c} \\left(\\frac{C_{3} \\cosh{\\left(\\frac{H}{2 L_{b}} \\right)}}{L_{b}} + \\frac{C_{4} \\sinh{\\left(\\frac{H}{2 L_{b}} \\right)}}{L_{b}}\\right)$"
      ],
      "text/plain": [
       "Eq(-D_c*(B*C1*cos(B*H/2) - B*C2*sin(B*H/2)), -D_c*(C3*cosh(H/(2*L_b))/L_b + C4*sinh(H/(2*L_b))/L_b))"
      ]
     },
     "metadata": {},
     "output_type": "display_data"
    },
    {
     "name": "stdout",
     "output_type": "stream",
     "text": [
      "CONTINUITY CONDITION FOR THE FLUX AT THE INTERFACE WITH THE REFLECTOR:\n"
     ]
    },
    {
     "data": {
      "text/latex": [
       "$\\displaystyle C_{3} \\sinh{\\left(\\frac{\\frac{H}{2} + H_{b}}{L_{b}} \\right)} + C_{4} \\cosh{\\left(\\frac{\\frac{H}{2} + H_{b}}{L_{b}} \\right)} = C_{5} e^{- \\frac{\\frac{H}{2} + H_{b}}{L_{r}}}$"
      ],
      "text/plain": [
       "Eq(C3*sinh((H/2 + H_b)/L_b) + C4*cosh((H/2 + H_b)/L_b), C5*exp(-(H/2 + H_b)/L_r))"
      ]
     },
     "metadata": {},
     "output_type": "display_data"
    },
    {
     "name": "stdout",
     "output_type": "stream",
     "text": [
      "CONTINUITY CONDITION FOR THE CURRENT AT THE INTERFACE WITH THE BLANKET:\n"
     ]
    },
    {
     "data": {
      "text/latex": [
       "$\\displaystyle - D_{c} \\left(\\frac{C_{3} \\cosh{\\left(\\frac{\\frac{H}{2} + H_{b}}{L_{b}} \\right)}}{L_{b}} + \\frac{C_{4} \\sinh{\\left(\\frac{\\frac{H}{2} + H_{b}}{L_{b}} \\right)}}{L_{b}}\\right) = \\frac{C_{5} D_{c} e^{- \\frac{\\frac{H}{2} + H_{b}}{L_{r}}}}{L_{r}}$"
      ],
      "text/plain": [
       "Eq(-D_c*(C3*cosh((H/2 + H_b)/L_b)/L_b + C4*sinh((H/2 + H_b)/L_b)/L_b), C5*D_c*exp(-(H/2 + H_b)/L_r)/L_r)"
      ]
     },
     "metadata": {},
     "output_type": "display_data"
    }
   ],
   "source": [
    "# ODE + BC\n",
    "# ODE + BC\n",
    "\n",
    "ODE_c = sp.Eq(sp.diff(sp.diff(F_c, x)) + B** 2 * F_c, 0)\n",
    "print('ODE FOR THE CORE:')\n",
    "display(ODE_c)\n",
    "\n",
    "ODE_b = sp.Eq(sp.diff(sp.diff(F_b, x)) - (1/L_b**2) * F_b, 0)\n",
    "print('ODE FOR THE BLANKET:')\n",
    "display(ODE_b)\n",
    "\n",
    "ODE_r = sp.Eq(sp.diff(sp.diff(F_r, x)) - (1/L_r**2) * F_r, 0)\n",
    "print('ODE FOR THE REFLECTOR:')\n",
    "display(ODE_r)\n",
    "\n",
    "flux_c = sp.dsolve(ODE_c)\n",
    "print('GENERAL SOLUTION FOR THE FLUX IN THE CORE:')\n",
    "display(flux_c)\n",
    "sC1 = sp.symbols('C1')   \n",
    "sC2 = sp.symbols('C2')\n",
    "\n",
    "flux_b = sp.dsolve(ODE_b)\n",
    "sC3 = sp.symbols('C3')\n",
    "sC4 = sp.symbols('C4')\n",
    "flux_b = flux_b.subs({sC1: sC3, sC2: sC4})\n",
    "flux_b = sp.Eq(\n",
    "    flux_b.lhs,\n",
    "    sC3 * sp.sinh(x/L_b) + sC4 * sp.cosh(x/L_b)\n",
    ")\n",
    "print('GENERAL SOLUTION FOR THE FLUX IN THE BLANKET:')\n",
    "display(flux_b)\n",
    "\n",
    "flux_r = sp.dsolve(ODE_r)\n",
    "sC5 = sp.symbols('C5')\n",
    "sC6 = sp.symbols('C6')\n",
    "flux_r = flux_r.subs({sC1: sC5, sC2: sC6})\n",
    "print('GENERAL SOLUTION FOR THE FLUX IN THE REFLECTOR:')\n",
    "display(flux_r)\n",
    "\n",
    "# Symmetry BC\n",
    "symmetry = sp.Eq(\n",
    "    sp.diff(flux_c.rhs, x).subs(x, 0),\n",
    "    0 \n",
    ")\n",
    "print('SYMMETRY CONDITION IN THE CORE:')\n",
    "display(symmetry)\n",
    "\n",
    "# Bounded BC (da migliorare, non so farla generica...)\n",
    "flux_r = flux_r.subs(sC6, 0)\n",
    "print('GENERAL SOLUTION FOR THE FLUX IN THE REFLECTOR AFTER BOUNDED BC:')\n",
    "display(flux_r)\n",
    "\n",
    "# Continuity BC at the interface with the blanket\n",
    "continuity_cb = sp.Eq(\n",
    "    flux_c.rhs.subs(x, H/2), \n",
    "    flux_b.rhs.subs(x, H/2)\n",
    ")\n",
    "print('CONTINUITY CONDITION FOR THE FLUX AT THE INTERFACE WITH THE BLANKET:')\n",
    "display(continuity_cb)\n",
    "\n",
    "continuity_curr_cb = sp.Eq(\n",
    "    -D* sp.diff(flux_c.rhs, x).subs(x, H/2),\n",
    "    -D * sp.diff(flux_b.rhs, x).subs(x, H/2)\n",
    "    )\n",
    "print('CONTINUITY CONDITION FOR THE CURRENT AT THE INTERFACE WITH THE BLANKET:')\n",
    "display(continuity_curr_cb)\n",
    "\n",
    "# Continuity BC at the interface with the reflector\n",
    "continuity_br = sp.Eq(\n",
    "    flux_b.rhs.subs(x, H/2 + H_b), \n",
    "    flux_r.rhs.subs(x, H/2 + H_b)\n",
    ")\n",
    "print('CONTINUITY CONDITION FOR THE FLUX AT THE INTERFACE WITH THE REFLECTOR:')\n",
    "display(continuity_br)\n",
    "\n",
    "continuity_curr_br = sp.Eq(\n",
    "    -D* sp.diff(flux_b.rhs, x).subs(x, H/2 + H_b), \n",
    "    -D * sp.diff(flux_r.rhs, x).subs(x, H/2 + H_b)\n",
    "    )\n",
    "print('CONTINUITY CONDITION FOR THE CURRENT AT THE INTERFACE WITH THE BLANKET:')\n",
    "display(continuity_curr_br)\n"
   ]
  }
 ],
 "metadata": {
  "kernelspec": {
   "display_name": "base",
   "language": "python",
   "name": "python3"
  },
  "language_info": {
   "codemirror_mode": {
    "name": "ipython",
    "version": 3
   },
   "file_extension": ".py",
   "mimetype": "text/x-python",
   "name": "python",
   "nbconvert_exporter": "python",
   "pygments_lexer": "ipython3",
   "version": "3.11.5"
  }
 },
 "nbformat": 4,
 "nbformat_minor": 2
}
