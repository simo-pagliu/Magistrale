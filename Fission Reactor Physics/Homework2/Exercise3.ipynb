{
 "cells": [
  {
   "cell_type": "code",
   "execution_count": 1,
   "metadata": {},
   "outputs": [],
   "source": [
    "# 3rd party\n",
    "import sympy as sp\n",
    "import numpy as np\n",
    "from IPython.utils.io import capture_output\n",
    "from IPython.display import display, Latex\n",
    "import matplotlib.pyplot as plt\n",
    "\n",
    "# Our stuff\n",
    "import mainframe as mf\n",
    "import nuclei_func as nf\n",
    "from mainframe import Region"
   ]
  },
  {
   "cell_type": "code",
   "execution_count": 2,
   "metadata": {},
   "outputs": [],
   "source": [
    "################################################################################\n",
    "# INPUT DATA\n",
    "################################################################################\n",
    "micro_abs_water = 0.66\n",
    "micro_abs_U235 = 678\n",
    "micro_fiss_U235 = 577\n",
    "\n",
    "density_water = 1\n",
    "density_U235 = 19.1\n",
    "\n",
    "# Defining the temperature correction factor\n",
    "def T_correction(T_new):\n",
    "    return np.sqrt(293/(T_new+273))\n",
    "\n",
    "# Defining the enrichment as a symbol\n",
    "qual = 1.41516177519707e-5 #From exercise 1\n",
    "\n",
    "# Defining the macroscopic cross sections of the mixtures\n",
    "macro_abs_refl = micro_abs_water * (1-qual) * T_correction(20)\n",
    "\n",
    "# Defining the macroscopic cross sections of the core\n",
    "macro_fiss = nf.mixture([micro_fiss_U235, 0], [qual, 1-qual]) * T_correction(60)\n",
    "macro_abs_core = nf.mixture([micro_abs_water, micro_abs_U235], [1-qual, qual]) * T_correction(60)"
   ]
  },
  {
   "cell_type": "code",
   "execution_count": 3,
   "metadata": {},
   "outputs": [],
   "source": [
    "\n",
    "################################################################################\n",
    "# Defining the regions\n",
    "################################################################################\n",
    "W_Core = sp.symbols('W_Core', positive=True, real=True) # Unknown width of the core\n",
    "symmetrical_problem = False\n",
    "Core_1 = Region(\n",
    "    Diff=0.16, \n",
    "    Abs=macro_abs_core, \n",
    "    Fiss=macro_fiss, \n",
    "    Nu=2.44, \n",
    "    Pos1=0, \n",
    "    Pos2=W_Core, \n",
    "    composition='c', \n",
    "    power=25*W_Core # We assumed the same power density as in the exercise 1\n",
    ")\n",
    "\n",
    "Reflector_1 = Region(\n",
    "    Diff=0.16, \n",
    "    Abs=macro_abs_refl, \n",
    "    Fiss=0, \n",
    "    Nu=0, \n",
    "    Pos1=W_Core, \n",
    "    Pos2=sp.oo, \n",
    "    composition='r', \n",
    "    power=0\n",
    ")\n",
    "regions = [Core_1, Reflector_1]"
   ]
  },
  {
   "cell_type": "code",
   "execution_count": 4,
   "metadata": {},
   "outputs": [
    {
     "data": {
      "text/latex": [
       "$\\displaystyle \\phi_{1}{\\left(x \\right)} = C_{1} \\sin{\\left(Bg_{1} x \\right)} + C_{2} \\cos{\\left(Bg_{1} x \\right)}$"
      ],
      "text/plain": [
       "Eq(phi_1(x), C_1*sin(Bg_1*x) + C_2*cos(Bg_1*x))"
      ]
     },
     "metadata": {},
     "output_type": "display_data"
    },
    {
     "data": {
      "text/latex": [
       "$\\displaystyle \\phi_{2}{\\left(- W_{Core} + x \\right)} = C_{3} e^{- \\frac{- W_{Core} + x}{L_{2}}} + C_{4} e^{\\frac{- W_{Core} + x}{L_{2}}}$"
      ],
      "text/plain": [
       "Eq(phi_2(-W_Core + x), C_3*exp(-(-W_Core + x)/L_2) + C_4*exp((-W_Core + x)/L_2))"
      ]
     },
     "metadata": {},
     "output_type": "display_data"
    },
    {
     "data": {
      "text/latex": [
       "$\\displaystyle C_{2} = 0$"
      ],
      "text/plain": [
       "Eq(C_2, 0)"
      ]
     },
     "metadata": {},
     "output_type": "display_data"
    },
    {
     "data": {
      "text/latex": [
       "$\\displaystyle C_{4} = 0$"
      ],
      "text/plain": [
       "Eq(C_4, 0)"
      ]
     },
     "metadata": {},
     "output_type": "display_data"
    },
    {
     "data": {
      "text/latex": [
       "$\\displaystyle C_{1} \\sin{\\left(Bg_{1} x_{1} \\right)} + C_{2} \\cos{\\left(Bg_{1} x_{1} \\right)} = C_{3} e^{- \\frac{- W_{Core} + x_{1}}{L_{2}}} + C_{4} e^{\\frac{- W_{Core} + x_{1}}{L_{2}}}$"
      ],
      "text/plain": [
       "Eq(C_1*sin(Bg_1*x_1) + C_2*cos(Bg_1*x_1), C_3*exp(-(-W_Core + x_1)/L_2) + C_4*exp((-W_Core + x_1)/L_2))"
      ]
     },
     "metadata": {},
     "output_type": "display_data"
    },
    {
     "data": {
      "text/latex": [
       "$\\displaystyle - D_{1} \\left(Bg_{1} C_{1} \\cos{\\left(Bg_{1} x_{1} \\right)} - Bg_{1} C_{2} \\sin{\\left(Bg_{1} x_{1} \\right)}\\right) = - D_{2} \\left(- \\frac{C_{3} e^{- \\frac{- W_{Core} + x_{1}}{L_{2}}}}{L_{2}} + \\frac{C_{4} e^{\\frac{- W_{Core} + x_{1}}{L_{2}}}}{L_{2}}\\right)$"
      ],
      "text/plain": [
       "Eq(-D_1*(Bg_1*C_1*cos(Bg_1*x_1) - Bg_1*C_2*sin(Bg_1*x_1)), -D_2*(-C_3*exp(-(-W_Core + x_1)/L_2)/L_2 + C_4*exp((-W_Core + x_1)/L_2)/L_2))"
      ]
     },
     "metadata": {},
     "output_type": "display_data"
    },
    {
     "data": {
      "text/latex": [
       "$\\displaystyle - \\frac{2.59546072003408 \\cdot 10^{-13} C_{1} \\cos{\\left(Bg_{1} W_{Core} \\right)}}{Bg_{1}} + \\frac{2.59546072003408 \\cdot 10^{-13} C_{1}}{Bg_{1}} + \\frac{2.59546072003408 \\cdot 10^{-13} C_{2} \\sin{\\left(Bg_{1} W_{Core} \\right)}}{Bg_{1}} = 25 W_{Core}$"
      ],
      "text/plain": [
       "Eq(-2.59546072003408e-13*C_1*cos(Bg_1*W_Core)/Bg_1 + 2.59546072003408e-13*C_1/Bg_1 + 2.59546072003408e-13*C_2*sin(Bg_1*W_Core)/Bg_1, 25*W_Core)"
      ]
     },
     "metadata": {},
     "output_type": "display_data"
    }
   ],
   "source": [
    "################################################################################\n",
    "# Solve the problem\n",
    "################################################################################\n",
    "with capture_output() as captured: # To hide debug output\n",
    "    equations, fluxes, boundaries, interfaces, powers = mf.main(regions, symmetrical_problem)\n",
    "\n",
    "# Show the system\n",
    "system = fluxes + boundaries + interfaces + powers\n",
    "for eq in system:\n",
    "    display(eq)"
   ]
  },
  {
   "cell_type": "code",
   "execution_count": 5,
   "metadata": {},
   "outputs": [
    {
     "data": {
      "text/latex": [
       "$\\displaystyle \\phi_{1}{\\left(x \\right)} = C_{1} \\sin{\\left(Bg_{1} x \\right)}$"
      ],
      "text/plain": [
       "Eq(phi_1(x), C_1*sin(Bg_1*x))"
      ]
     },
     "metadata": {},
     "output_type": "display_data"
    },
    {
     "data": {
      "text/latex": [
       "$\\displaystyle \\phi_{2}{\\left(- W_{Core} + x \\right)} = C_{3} e^{- \\frac{- W_{Core} + x}{L_{2}}}$"
      ],
      "text/plain": [
       "Eq(phi_2(-W_Core + x), C_3*exp(-(-W_Core + x)/L_2))"
      ]
     },
     "metadata": {},
     "output_type": "display_data"
    },
    {
     "data": {
      "text/latex": [
       "$\\displaystyle C_{1} \\sin{\\left(Bg_{1} W_{Core} \\right)} = C_{3}$"
      ],
      "text/plain": [
       "Eq(C_1*sin(Bg_1*W_Core), C_3)"
      ]
     },
     "metadata": {},
     "output_type": "display_data"
    },
    {
     "data": {
      "text/latex": [
       "$\\displaystyle - 0.16 Bg_{1} C_{1} \\cos{\\left(Bg_{1} W_{Core} \\right)} = \\frac{0.16 C_{3}}{L_{2}}$"
      ],
      "text/plain": [
       "Eq(-0.16*Bg_1*C_1*cos(Bg_1*W_Core), 0.16*C_3/L_2)"
      ]
     },
     "metadata": {},
     "output_type": "display_data"
    },
    {
     "data": {
      "text/latex": [
       "$\\displaystyle - \\frac{2.59546072003408 \\cdot 10^{-13} C_{1} \\cos{\\left(Bg_{1} W_{Core} \\right)}}{Bg_{1}} + \\frac{2.59546072003408 \\cdot 10^{-13} C_{1}}{Bg_{1}} = 25 W_{Core}$"
      ],
      "text/plain": [
       "Eq(-2.59546072003408e-13*C_1*cos(Bg_1*W_Core)/Bg_1 + 2.59546072003408e-13*C_1/Bg_1, 25*W_Core)"
      ]
     },
     "metadata": {},
     "output_type": "display_data"
    }
   ],
   "source": [
    "################################################################################\n",
    "# Substitute known values\n",
    "################################################################################\n",
    "with capture_output() as captured:\n",
    "    system = mf.compute(system, regions)\n",
    "\n",
    "# Get rid of any True expressions resulting from =zero conditions\n",
    "system_cleaned = []\n",
    "for eq in system:\n",
    "    if eq != True:\n",
    "        system_cleaned.append(eq)\n",
    "        display(eq)\n",
    "system = system_cleaned"
   ]
  },
  {
   "cell_type": "code",
   "execution_count": 6,
   "metadata": {},
   "outputs": [
    {
     "data": {
      "text/latex": [
       "$\\displaystyle \\phi_{1}{\\left(x \\right)} = C_{1} \\sin{\\left(0.05624 x \\right)}$"
      ],
      "text/plain": [
       "Eq(phi_1(x), C_1*sin(0.05624*x))"
      ]
     },
     "metadata": {},
     "output_type": "display_data"
    },
    {
     "data": {
      "text/latex": [
       "$\\displaystyle \\phi_{2}{\\left(- W_{Core} + x \\right)} = C_{3} e^{2.03099523007238 W_{Core} - 2.03099523007238 x}$"
      ],
      "text/plain": [
       "Eq(phi_2(-W_Core + x), C_3*exp(2.03099523007238*W_Core - 2.03099523007238*x))"
      ]
     },
     "metadata": {},
     "output_type": "display_data"
    },
    {
     "data": {
      "text/latex": [
       "$\\displaystyle C_{1} \\sin{\\left(0.05624 W_{Core} \\right)} = C_{3}$"
      ],
      "text/plain": [
       "Eq(C_1*sin(0.05624*W_Core), C_3)"
      ]
     },
     "metadata": {},
     "output_type": "display_data"
    },
    {
     "data": {
      "text/latex": [
       "$\\displaystyle - 0.0089984 C_{1} \\cos{\\left(0.05624 W_{Core} \\right)} = 0.324959236811581 C_{3}$"
      ],
      "text/plain": [
       "Eq(-0.0089984*C_1*cos(0.05624*W_Core), 0.324959236811581*C_3)"
      ]
     },
     "metadata": {},
     "output_type": "display_data"
    },
    {
     "data": {
      "text/latex": [
       "$\\displaystyle - 4.61497283078606 \\cdot 10^{-12} C_{1} \\cos{\\left(0.05624 W_{Core} \\right)} + 4.61497283078606 \\cdot 10^{-12} C_{1} = 25 W_{Core}$"
      ],
      "text/plain": [
       "Eq(-4.61497283078606e-12*C_1*cos(0.05624*W_Core) + 4.61497283078606e-12*C_1, 25*W_Core)"
      ]
     },
     "metadata": {},
     "output_type": "display_data"
    }
   ],
   "source": [
    "################################################################################\n",
    "# Substitute Bg in the system\n",
    "################################################################################\n",
    "Bg_1 = sp.symbols('Bg_1', positive=True)\n",
    "Bg_1_val = 0.05624\n",
    "L_2 = sp.symbols('L_2', positive=True)\n",
    "L_2_val = np.sqrt(Reflector_1.Diffusion / macro_abs_refl)\n",
    "\n",
    "for i, eq in enumerate(system):\n",
    "    eq = eq.subs(Bg_1, Bg_1_val)\n",
    "    eq = eq.subs(L_2, L_2_val)\n",
    "    system[i] = eq\n",
    "    display(eq)"
   ]
  },
  {
   "cell_type": "code",
   "execution_count": 7,
   "metadata": {},
   "outputs": [
    {
     "data": {
      "text/latex": [
       "$\\displaystyle - 111.130867709815 \\tan{\\left(0.05624 W_{core temp} \\right)} = 3.07730904901104$"
      ],
      "text/plain": [
       "Eq(-111.130867709815*tan(0.05624*W_core_temp), 3.07730904901104)"
      ]
     },
     "metadata": {},
     "output_type": "display_data"
    }
   ],
   "source": [
    "################################################################################\n",
    "# Criticality condition\n",
    "################################################################################\n",
    "eq_1 = system[2] # Condition on the flux\n",
    "eq_2 = system[3] # Condition on the current\n",
    "\n",
    "# Solve the system\n",
    "ratio = sp.Eq(eq_1.lhs / eq_2.lhs, eq_1.rhs / eq_2.rhs)\n",
    "ratio = sp.trigsimp(ratio)\n",
    "\n",
    "# Temporary variable since We have to accept negative solutions for W_core\n",
    "W_core_temp = sp.symbols('W_core_temp', real=True) \n",
    "ratio = ratio.subs(W_Core, W_core_temp)\n",
    "sol_w = sp.solve(ratio, W_core_temp)\n",
    "display(ratio)"
   ]
  },
  {
   "cell_type": "code",
   "execution_count": 8,
   "metadata": {},
   "outputs": [
    {
     "data": {
      "text/plain": [
       "'The width of the core is 55.3682231547055 cm'"
      ]
     },
     "metadata": {},
     "output_type": "display_data"
    }
   ],
   "source": [
    "################################################################################\n",
    "# Core width\n",
    "################################################################################\n",
    "# Evaluate the value in the second period of the tangent\n",
    "sol_w = [(val + sp.pi / Bg_1_val).evalf() for val in sol_w][0]\n",
    "display(f\"The width of the core is {sol_w} cm\")\n",
    "# Convert to float\n",
    "sol_w = float(sol_w)\n",
    "\n",
    "# Substitute the value in the regions\n",
    "Core_1.End = sol_w\n",
    "Reflector_1.Start = sol_w"
   ]
  },
  {
   "cell_type": "code",
   "execution_count": 9,
   "metadata": {},
   "outputs": [
    {
     "data": {
      "text/plain": [
       "{phi_1(x): 149997722032530.0*sin(0.05624*x),\n",
       " phi_2(-W_Core + x): 2.8562553970361e+61*exp(-2.03099523007238*x),\n",
       " C_3: 4151974055338.51,\n",
       " C_1: 149997722032530.}"
      ]
     },
     "metadata": {},
     "output_type": "display_data"
    }
   ],
   "source": [
    "################################################################################\n",
    "# Substitute the core width in the system\n",
    "################################################################################\n",
    "for i, eq in enumerate(system):\n",
    "    if i < 2:\n",
    "        system[i] = sp.Eq(eq.lhs, eq.rhs.subs(W_Core, sol_w)) # Not on the lhs of phi otherwise won't solve\n",
    "    else:\n",
    "        system[i] = eq.subs(W_Core, sol_w)\n",
    "\n",
    "# Get all the unkowns to compute\n",
    "all_symbols = set()\n",
    "for eq in system:\n",
    "    all_symbols.update(eq.free_symbols)\n",
    "\n",
    "x = sp.symbols('x')\n",
    "all_symbols.discard(x)\n",
    "\n",
    "unkowns = [flux.lhs for flux in fluxes]\n",
    "for i in all_symbols:\n",
    "    unkowns.append(i)\n",
    "\n",
    "system = [system[0], system[1], system[2], system[4]]\n",
    "sol = sp.solve(system, unkowns)\n",
    "display(sol)"
   ]
  },
  {
   "cell_type": "code",
   "execution_count": 10,
   "metadata": {},
   "outputs": [
    {
     "data": {
      "text/latex": [
       "$\\phi_1 = 149997722032530.0 \\sin{\\left(0.05624 x \\right)}$"
      ],
      "text/plain": [
       "<IPython.core.display.Latex object>"
      ]
     },
     "metadata": {},
     "output_type": "display_data"
    },
    {
     "data": {
      "text/latex": [
       "$\\phi_2 = 2.8562553970361 \\cdot 10^{61} e^{- 2.03099523007238 x}$"
      ],
      "text/plain": [
       "<IPython.core.display.Latex object>"
      ]
     },
     "metadata": {},
     "output_type": "display_data"
    }
   ],
   "source": [
    "################################################################################\n",
    "# Final Fluxes\n",
    "################################################################################\n",
    "phi1 = sol[fluxes[0].lhs]\n",
    "display(Latex(f\"$\\phi_1 = {sp.latex(phi1)}$\"))\n",
    "phi2 = sol[fluxes[1].lhs]\n",
    "display(Latex(f\"$\\phi_2 = {sp.latex(phi2)}$\"))"
   ]
  },
  {
   "cell_type": "code",
   "execution_count": 11,
   "metadata": {},
   "outputs": [
    {
     "data": {
      "image/png": "[encoded data removed]",
      "text/plain": [
       "<Figure size 640x480 with 1 Axes>"
      ]
     },
     "metadata": {},
     "output_type": "display_data"
    }
   ],
   "source": [
    "\n",
    "################################################################################\n",
    "# Plotting\n",
    "################################################################################\n",
    "# Space\n",
    "x_1 = np.linspace(Core_1.Start, Core_1.End, 100)\n",
    "x_2 = np.linspace(Reflector_1.Start, Reflector_1.Start+20, 100)\n",
    "\n",
    "# Evaluation\n",
    "phi1_vals = [phi1.subs(x, val).evalf() for val in x_1]\n",
    "phi2_vals = [phi2.subs(x, val).evalf() for val in x_2]\n",
    "\n",
    "# Plot\n",
    "plt.plot(x_1, phi1_vals, label='Core Flux')\n",
    "plt.plot(x_2, phi2_vals, label='Reflector Flux')\n",
    "plt.xlabel('$x$')\n",
    "plt.ylabel('$\\phi(x)$')\n",
    "plt.legend()\n",
    "plt.show()"
   ]
  }
 ],
 "metadata": {
  "kernelspec": {
   "display_name": "base",
   "language": "python",
   "name": "python3"
  },
  "language_info": {
   "codemirror_mode": {
    "name": "ipython",
    "version": 3
   },
   "file_extension": ".py",
   "mimetype": "text/x-python",
   "name": "python",
   "nbconvert_exporter": "python",
   "pygments_lexer": "ipython3",
   "version": "3.11.5"
  }
 },
 "nbformat": 4,
 "nbformat_minor": 2
}
